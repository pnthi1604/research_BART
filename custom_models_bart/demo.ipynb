{
 "cells": [
  {
   "cell_type": "code",
   "execution_count": 1,
   "metadata": {},
   "outputs": [
    {
     "name": "stderr",
     "output_type": "stream",
     "text": [
      "/home/phamngocthi/.local/lib/python3.10/site-packages/transformers/utils/generic.py:309: UserWarning: torch.utils._pytree._register_pytree_node is deprecated. Please use torch.utils._pytree.register_pytree_node instead.\n",
      "  _torch_pytree._register_pytree_node(\n"
     ]
    }
   ],
   "source": [
    "from transformers import BartForQuestionAnswering, BartConfig"
   ]
  },
  {
   "cell_type": "code",
   "execution_count": 4,
   "metadata": {},
   "outputs": [],
   "source": [
    "config = BartConfig()\n",
    "config.d_model = 10\n",
    "config.decoder_layers = 1\n",
    "config.encoder_layers = 1\n",
    "config.encoder_ffn_dim = 10\n",
    "config.decoder_ffn_dim = 10\n",
    "config.encoder_attention_heads = 2\n",
    "config.decoder_attention_heads = 2"
   ]
  },
  {
   "cell_type": "code",
   "execution_count": 5,
   "metadata": {},
   "outputs": [
    {
     "data": {
      "text/plain": [
       "BartForQuestionAnswering(\n",
       "  (model): BartModel(\n",
       "    (shared): Embedding(50265, 10, padding_idx=1)\n",
       "    (encoder): BartEncoder(\n",
       "      (embed_tokens): Embedding(50265, 10, padding_idx=1)\n",
       "      (embed_positions): BartLearnedPositionalEmbedding(1026, 10)\n",
       "      (layers): ModuleList(\n",
       "        (0): BartEncoderLayer(\n",
       "          (self_attn): BartSdpaAttention(\n",
       "            (k_proj): Linear(in_features=10, out_features=10, bias=True)\n",
       "            (v_proj): Linear(in_features=10, out_features=10, bias=True)\n",
       "            (q_proj): Linear(in_features=10, out_features=10, bias=True)\n",
       "            (out_proj): Linear(in_features=10, out_features=10, bias=True)\n",
       "          )\n",
       "          (self_attn_layer_norm): LayerNorm((10,), eps=1e-05, elementwise_affine=True)\n",
       "          (activation_fn): GELUActivation()\n",
       "          (fc1): Linear(in_features=10, out_features=10, bias=True)\n",
       "          (fc2): Linear(in_features=10, out_features=10, bias=True)\n",
       "          (final_layer_norm): LayerNorm((10,), eps=1e-05, elementwise_affine=True)\n",
       "        )\n",
       "      )\n",
       "      (layernorm_embedding): LayerNorm((10,), eps=1e-05, elementwise_affine=True)\n",
       "    )\n",
       "    (decoder): BartDecoder(\n",
       "      (embed_tokens): Embedding(50265, 10, padding_idx=1)\n",
       "      (embed_positions): BartLearnedPositionalEmbedding(1026, 10)\n",
       "      (layers): ModuleList(\n",
       "        (0): BartDecoderLayer(\n",
       "          (self_attn): BartSdpaAttention(\n",
       "            (k_proj): Linear(in_features=10, out_features=10, bias=True)\n",
       "            (v_proj): Linear(in_features=10, out_features=10, bias=True)\n",
       "            (q_proj): Linear(in_features=10, out_features=10, bias=True)\n",
       "            (out_proj): Linear(in_features=10, out_features=10, bias=True)\n",
       "          )\n",
       "          (activation_fn): GELUActivation()\n",
       "          (self_attn_layer_norm): LayerNorm((10,), eps=1e-05, elementwise_affine=True)\n",
       "          (encoder_attn): BartSdpaAttention(\n",
       "            (k_proj): Linear(in_features=10, out_features=10, bias=True)\n",
       "            (v_proj): Linear(in_features=10, out_features=10, bias=True)\n",
       "            (q_proj): Linear(in_features=10, out_features=10, bias=True)\n",
       "            (out_proj): Linear(in_features=10, out_features=10, bias=True)\n",
       "          )\n",
       "          (encoder_attn_layer_norm): LayerNorm((10,), eps=1e-05, elementwise_affine=True)\n",
       "          (fc1): Linear(in_features=10, out_features=10, bias=True)\n",
       "          (fc2): Linear(in_features=10, out_features=10, bias=True)\n",
       "          (final_layer_norm): LayerNorm((10,), eps=1e-05, elementwise_affine=True)\n",
       "        )\n",
       "      )\n",
       "      (layernorm_embedding): LayerNorm((10,), eps=1e-05, elementwise_affine=True)\n",
       "    )\n",
       "  )\n",
       "  (qa_outputs): Linear(in_features=10, out_features=2, bias=True)\n",
       ")"
      ]
     },
     "execution_count": 5,
     "metadata": {},
     "output_type": "execute_result"
    }
   ],
   "source": [
    "model = BartForQuestionAnswering(config)\n",
    "model"
   ]
  },
  {
   "cell_type": "code",
   "execution_count": 6,
   "metadata": {},
   "outputs": [],
   "source": [
    "import torch"
   ]
  },
  {
   "cell_type": "code",
   "execution_count": 18,
   "metadata": {},
   "outputs": [
    {
     "data": {
      "text/plain": [
       "(tensor([2, 3]), tensor([3, 4]))"
      ]
     },
     "execution_count": 18,
     "metadata": {},
     "output_type": "execute_result"
    }
   ],
   "source": [
    "# generate input model with size (batch, seq_len) -> (2, 10)\n",
    "input_ids = torch.randint(0, 10, (2, 10))\n",
    "attention_mask = torch.ones(2, 10)\n",
    "decoder_input_ids = torch.randint(0, 10, (2, 10))\n",
    "decoder_attention_mask = torch.ones(2, 10)\n",
    "\n",
    "# start_positions (`torch.LongTensor` of shape `(batch_size,)`, *optional*):\n",
    "\n",
    "# generate start_positions with size (batch) -> (2), end_positions with size (batch) -> (2)\n",
    "start_positions = torch.randint(0, 10, (2,))\n",
    "end_positions = start_positions + 1\n",
    "\n",
    "start_positions, end_positions"
   ]
  },
  {
   "cell_type": "code",
   "execution_count": 19,
   "metadata": {},
   "outputs": [],
   "source": [
    "output = model(\n",
    "    input_ids=input_ids,\n",
    "    attention_mask=attention_mask,\n",
    "    decoder_input_ids=decoder_input_ids,\n",
    "    decoder_attention_mask=decoder_attention_mask,\n",
    "    start_positions=start_positions,\n",
    "    end_positions=end_positions,\n",
    ")"
   ]
  },
  {
   "cell_type": "code",
   "execution_count": 20,
   "metadata": {},
   "outputs": [
    {
     "data": {
      "text/plain": [
       "(tensor(2.3740, grad_fn=<DivBackward0>),\n",
       " tensor([[-0.0234,  0.1112, -0.0530, -0.0052,  0.0133,  0.0273, -0.0557,  0.0742,\n",
       "          -0.0291, -0.0514],\n",
       "         [-0.0612, -0.0041, -0.0589, -0.0120,  0.0710, -0.0621, -0.0388, -0.0239,\n",
       "          -0.0287, -0.1010]], grad_fn=<CloneBackward0>),\n",
       " tensor([[ 0.0056, -0.0922, -0.0151, -0.1345, -0.0516,  0.0772,  0.0885,  0.0338,\n",
       "           0.0738,  0.0897],\n",
       "         [-0.0286, -0.1100, -0.0257, -0.0993, -0.1241,  0.0649, -0.0610,  0.0710,\n",
       "           0.0601,  0.0301]], grad_fn=<CloneBackward0>))"
      ]
     },
     "execution_count": 20,
     "metadata": {},
     "output_type": "execute_result"
    }
   ],
   "source": [
    "output.loss, output.start_logits, output.end_logits"
   ]
  },
  {
   "cell_type": "code",
   "execution_count": 21,
   "metadata": {},
   "outputs": [
    {
     "data": {
      "text/plain": [
       "(tensor([1, 4]), tensor([9, 7]))"
      ]
     },
     "execution_count": 21,
     "metadata": {},
     "output_type": "execute_result"
    }
   ],
   "source": [
    "pred = output.start_logits.argmax(dim=-1), output.end_logits.argmax(dim=-1)\n",
    "pred"
   ]
  },
  {
   "cell_type": "code",
   "execution_count": 34,
   "metadata": {},
   "outputs": [
    {
     "data": {
      "text/plain": [
       "torch.Size([2, 10, 2])"
      ]
     },
     "execution_count": 34,
     "metadata": {},
     "output_type": "execute_result"
    }
   ],
   "source": [
    "# test\n",
    "\n",
    "dim = 20\n",
    "num_labels = 2\n",
    "a = torch.randint(0, 10, (2, 10, dim), dtype=torch.float32)\n",
    "\n",
    "linear1 = torch.nn.Linear(dim, num_labels)\n",
    "\n",
    "b = linear1(a)\n",
    "b.shape"
   ]
  },
  {
   "cell_type": "code",
   "execution_count": null,
   "metadata": {},
   "outputs": [],
   "source": []
  },
  {
   "cell_type": "code",
   "execution_count": null,
   "metadata": {},
   "outputs": [],
   "source": []
  }
 ],
 "metadata": {
  "kernelspec": {
   "display_name": "Python 3",
   "language": "python",
   "name": "python3"
  },
  "language_info": {
   "codemirror_mode": {
    "name": "ipython",
    "version": 3
   },
   "file_extension": ".py",
   "mimetype": "text/x-python",
   "name": "python",
   "nbconvert_exporter": "python",
   "pygments_lexer": "ipython3",
   "version": "3.10.12"
  }
 },
 "nbformat": 4,
 "nbformat_minor": 2
}
