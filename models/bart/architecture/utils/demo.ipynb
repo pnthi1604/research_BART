{
 "cells": [
  {
   "cell_type": "code",
   "execution_count": 1,
   "metadata": {},
   "outputs": [],
   "source": [
    "from mask import (\n",
    "    create_decoder_atn_mask,\n",
    "    create_encoder_atn_mask,\n",
    ")\n",
    "import torch"
   ]
  },
  {
   "cell_type": "code",
   "execution_count": 2,
   "metadata": {},
   "outputs": [],
   "source": [
    "batch_size = 2\n",
    "src_len = 4\n",
    "tgt_len = 5\n",
    "num_heads = 2\n",
    "\n",
    "min_val, max_val = 0, 10"
   ]
  },
  {
   "cell_type": "code",
   "execution_count": 3,
   "metadata": {},
   "outputs": [
    {
     "data": {
      "text/plain": [
       "(torch.Size([2, 4]), torch.Size([2, 5]))"
      ]
     },
     "execution_count": 3,
     "metadata": {},
     "output_type": "execute_result"
    }
   ],
   "source": [
    "src = torch.randint(min_val, max_val, (batch_size, src_len))\n",
    "tgt = torch.randint(min_val, max_val, (batch_size, tgt_len))\n",
    "\n",
    "src.shape, tgt.shape"
   ]
  },
  {
   "cell_type": "code",
   "execution_count": 4,
   "metadata": {},
   "outputs": [],
   "source": [
    "src_mask = create_encoder_atn_mask(src).type(torch.int64)\n",
    "tgt_mask = create_decoder_atn_mask(tgt).type(torch.int64)\n",
    "src_tgt_mask = create_encoder_atn_mask(src).type(torch.int64)"
   ]
  },
  {
   "cell_type": "code",
   "execution_count": 5,
   "metadata": {},
   "outputs": [
    {
     "data": {
      "text/plain": [
       "tensor([[[[1, 4, 7, 1]]],\n",
       "\n",
       "\n",
       "        [[[6, 6, 8, 1]]]])"
      ]
     },
     "execution_count": 5,
     "metadata": {},
     "output_type": "execute_result"
    }
   ],
   "source": [
    "src_mask"
   ]
  },
  {
   "cell_type": "code",
   "execution_count": 6,
   "metadata": {},
   "outputs": [
    {
     "data": {
      "text/plain": [
       "tensor([[[[0, 0, 0, 0, 0],\n",
       "          [0, 1, 0, 0, 0],\n",
       "          [0, 1, 1, 0, 0],\n",
       "          [0, 1, 1, 1, 0],\n",
       "          [0, 1, 1, 1, 1]]],\n",
       "\n",
       "\n",
       "        [[[0, 0, 0, 0, 0],\n",
       "          [0, 1, 0, 0, 0],\n",
       "          [0, 1, 0, 0, 0],\n",
       "          [0, 1, 0, 1, 0],\n",
       "          [0, 1, 0, 1, 0]]]])"
      ]
     },
     "execution_count": 6,
     "metadata": {},
     "output_type": "execute_result"
    }
   ],
   "source": [
    "tgt_mask"
   ]
  },
  {
   "cell_type": "code",
   "execution_count": 7,
   "metadata": {},
   "outputs": [],
   "source": [
    "attn_src_weight = torch.randint(min_val, max_val, (batch_size, num_heads, src_len, src_len)).type(torch.float32)\n",
    "attn_tgt_weight = torch.randint(min_val, max_val, (batch_size, num_heads, tgt_len, tgt_len)).type(torch.float32)\n",
    "attn_src_tgt_weight = torch.randint(min_val, max_val, (batch_size, num_heads, tgt_len, src_len)).type(torch.float32)"
   ]
  },
  {
   "cell_type": "code",
   "execution_count": 8,
   "metadata": {},
   "outputs": [],
   "source": [
    "w1 = attn_src_weight.masked_fill(\n",
    "    mask=src_mask == 0,\n",
    "    value=float(\"-inf\"),\n",
    ")\n",
    "w2 = attn_tgt_weight.masked_fill(\n",
    "    mask=tgt_mask == 0,\n",
    "    value=float(\"-inf\"),\n",
    ")\n",
    "w3 = attn_src_tgt_weight.masked_fill(\n",
    "    mask=src_tgt_mask == 0,\n",
    "    value=float(\"-inf\"),\n",
    ")"
   ]
  },
  {
   "cell_type": "code",
   "execution_count": 9,
   "metadata": {},
   "outputs": [
    {
     "data": {
      "text/plain": [
       "(torch.Size([2, 2, 4, 4]), torch.Size([2, 2, 5, 5]), torch.Size([2, 2, 5, 4]))"
      ]
     },
     "execution_count": 9,
     "metadata": {},
     "output_type": "execute_result"
    }
   ],
   "source": [
    "attn_src_weight.shape, attn_tgt_weight.shape, attn_src_tgt_weight.shape"
   ]
  },
  {
   "cell_type": "code",
   "execution_count": 10,
   "metadata": {},
   "outputs": [
    {
     "data": {
      "text/plain": [
       "(torch.Size([2, 1, 1, 4]), torch.Size([2, 1, 5, 5]), torch.Size([2, 1, 1, 4]))"
      ]
     },
     "execution_count": 10,
     "metadata": {},
     "output_type": "execute_result"
    }
   ],
   "source": [
    "src_mask.shape, tgt_mask.shape, src_tgt_mask.shape"
   ]
  },
  {
   "cell_type": "code",
   "execution_count": 11,
   "metadata": {},
   "outputs": [
    {
     "data": {
      "text/plain": [
       "(torch.Size([2, 2, 4, 4]), torch.Size([2, 2, 5, 5]), torch.Size([2, 2, 5, 4]))"
      ]
     },
     "execution_count": 11,
     "metadata": {},
     "output_type": "execute_result"
    }
   ],
   "source": [
    "w1.shape, w2.shape, w3.shape"
   ]
  },
  {
   "cell_type": "code",
   "execution_count": 12,
   "metadata": {},
   "outputs": [
    {
     "data": {
      "text/plain": [
       "torch.Size([2, 2, 4, 4])"
      ]
     },
     "execution_count": 12,
     "metadata": {},
     "output_type": "execute_result"
    }
   ],
   "source": [
    "src_mask_expand = src_mask.expand(-1, -1, attn_src_weight.size(2), -1).expand(-1, attn_src_weight.size(1), -1, -1)\n",
    "src_mask_expand.shape"
   ]
  },
  {
   "cell_type": "code",
   "execution_count": 13,
   "metadata": {},
   "outputs": [
    {
     "data": {
      "text/plain": [
       "tensor([[[[1, 4, 7, 1],\n",
       "          [1, 4, 7, 1],\n",
       "          [1, 4, 7, 1],\n",
       "          [1, 4, 7, 1]],\n",
       "\n",
       "         [[1, 4, 7, 1],\n",
       "          [1, 4, 7, 1],\n",
       "          [1, 4, 7, 1],\n",
       "          [1, 4, 7, 1]]],\n",
       "\n",
       "\n",
       "        [[[6, 6, 8, 1],\n",
       "          [6, 6, 8, 1],\n",
       "          [6, 6, 8, 1],\n",
       "          [6, 6, 8, 1]],\n",
       "\n",
       "         [[6, 6, 8, 1],\n",
       "          [6, 6, 8, 1],\n",
       "          [6, 6, 8, 1],\n",
       "          [6, 6, 8, 1]]]])"
      ]
     },
     "execution_count": 13,
     "metadata": {},
     "output_type": "execute_result"
    }
   ],
   "source": [
    "src_mask_expand"
   ]
  },
  {
   "cell_type": "code",
   "execution_count": 14,
   "metadata": {},
   "outputs": [],
   "source": [
    "w1_expand = attn_src_weight.masked_fill(\n",
    "    mask=src_mask_expand == 0,\n",
    "    value=float(\"-inf\"),\n",
    ")"
   ]
  },
  {
   "cell_type": "code",
   "execution_count": 15,
   "metadata": {},
   "outputs": [
    {
     "data": {
      "text/plain": [
       "torch.Size([2, 2, 4, 4])"
      ]
     },
     "execution_count": 15,
     "metadata": {},
     "output_type": "execute_result"
    }
   ],
   "source": [
    "w1_expand.shape"
   ]
  },
  {
   "cell_type": "code",
   "execution_count": 16,
   "metadata": {},
   "outputs": [
    {
     "data": {
      "text/plain": [
       "tensor([[[[True, True, True, True],\n",
       "          [True, True, True, True],\n",
       "          [True, True, True, True],\n",
       "          [True, True, True, True]],\n",
       "\n",
       "         [[True, True, True, True],\n",
       "          [True, True, True, True],\n",
       "          [True, True, True, True],\n",
       "          [True, True, True, True]]],\n",
       "\n",
       "\n",
       "        [[[True, True, True, True],\n",
       "          [True, True, True, True],\n",
       "          [True, True, True, True],\n",
       "          [True, True, True, True]],\n",
       "\n",
       "         [[True, True, True, True],\n",
       "          [True, True, True, True],\n",
       "          [True, True, True, True],\n",
       "          [True, True, True, True]]]])"
      ]
     },
     "execution_count": 16,
     "metadata": {},
     "output_type": "execute_result"
    }
   ],
   "source": [
    "w1_expand == w1"
   ]
  },
  {
   "cell_type": "code",
   "execution_count": 17,
   "metadata": {},
   "outputs": [],
   "source": [
    "tgt_mask_expand = tgt_mask.expand(-1, attn_tgt_weight.size(1), -1, -1)"
   ]
  },
  {
   "cell_type": "code",
   "execution_count": 18,
   "metadata": {},
   "outputs": [],
   "source": [
    "w2_expand = attn_tgt_weight.masked_fill(\n",
    "    mask=tgt_mask_expand == 0,\n",
    "    value=float(\"-inf\"),\n",
    ")"
   ]
  },
  {
   "cell_type": "code",
   "execution_count": 19,
   "metadata": {},
   "outputs": [
    {
     "data": {
      "text/plain": [
       "tensor([[[[True, True, True, True, True],\n",
       "          [True, True, True, True, True],\n",
       "          [True, True, True, True, True],\n",
       "          [True, True, True, True, True],\n",
       "          [True, True, True, True, True]],\n",
       "\n",
       "         [[True, True, True, True, True],\n",
       "          [True, True, True, True, True],\n",
       "          [True, True, True, True, True],\n",
       "          [True, True, True, True, True],\n",
       "          [True, True, True, True, True]]],\n",
       "\n",
       "\n",
       "        [[[True, True, True, True, True],\n",
       "          [True, True, True, True, True],\n",
       "          [True, True, True, True, True],\n",
       "          [True, True, True, True, True],\n",
       "          [True, True, True, True, True]],\n",
       "\n",
       "         [[True, True, True, True, True],\n",
       "          [True, True, True, True, True],\n",
       "          [True, True, True, True, True],\n",
       "          [True, True, True, True, True],\n",
       "          [True, True, True, True, True]]]])"
      ]
     },
     "execution_count": 19,
     "metadata": {},
     "output_type": "execute_result"
    }
   ],
   "source": [
    "w2_expand == w2"
   ]
  },
  {
   "cell_type": "code",
   "execution_count": null,
   "metadata": {},
   "outputs": [],
   "source": []
  }
 ],
 "metadata": {
  "kernelspec": {
   "display_name": "Python 3",
   "language": "python",
   "name": "python3"
  },
  "language_info": {
   "codemirror_mode": {
    "name": "ipython",
    "version": 3
   },
   "file_extension": ".py",
   "mimetype": "text/x-python",
   "name": "python",
   "nbconvert_exporter": "python",
   "pygments_lexer": "ipython3",
   "version": "3.10.12"
  }
 },
 "nbformat": 4,
 "nbformat_minor": 2
}
