{
 "cells": [
  {
   "cell_type": "code",
   "execution_count": 1,
   "id": "61a7e6b3",
   "metadata": {
    "execution": {
     "iopub.execute_input": "2024-05-20T02:24:32.830036Z",
     "iopub.status.busy": "2024-05-20T02:24:32.829318Z",
     "iopub.status.idle": "2024-05-20T02:24:34.263022Z",
     "shell.execute_reply": "2024-05-20T02:24:34.261946Z"
    },
    "papermill": {
     "duration": 1.440018,
     "end_time": "2024-05-20T02:24:34.265450",
     "exception": false,
     "start_time": "2024-05-20T02:24:32.825432",
     "status": "completed"
    },
    "tags": []
   },
   "outputs": [
    {
     "name": "stdout",
     "output_type": "stream",
     "text": [
      "Cloning into 'vn_spelling_correction_bart_model'...\r\n",
      "remote: Enumerating objects: 473, done.\u001b[K\r\n",
      "remote: Counting objects: 100% (100/100), done.\u001b[K\r\n",
      "remote: Compressing objects: 100% (71/71), done.\u001b[K\r\n",
      "remote: Total 473 (delta 55), reused 72 (delta 29), pack-reused 373\u001b[K\r\n",
      "Receiving objects: 100% (473/473), 178.09 KiB | 4.81 MiB/s, done.\r\n",
      "Resolving deltas: 100% (287/287), done.\r\n"
     ]
    }
   ],
   "source": [
    "!git clone https://github.com/pnthi1604/vn_spelling_correction_bart_model"
   ]
  },
  {
   "cell_type": "code",
   "execution_count": 2,
   "id": "4b15731c",
   "metadata": {
    "execution": {
     "iopub.execute_input": "2024-05-20T02:24:34.274096Z",
     "iopub.status.busy": "2024-05-20T02:24:34.273282Z",
     "iopub.status.idle": "2024-05-20T02:24:44.098235Z",
     "shell.execute_reply": "2024-05-20T02:24:44.097365Z"
    },
    "papermill": {
     "duration": 9.831611,
     "end_time": "2024-05-20T02:24:44.100479",
     "exception": false,
     "start_time": "2024-05-20T02:24:34.268868",
     "status": "completed"
    },
    "tags": []
   },
   "outputs": [],
   "source": [
    "from vn_spelling_correction_bart_model import train, test, config"
   ]
  },
  {
   "cell_type": "code",
   "execution_count": 3,
   "id": "f1b22dd2",
   "metadata": {
    "execution": {
     "iopub.execute_input": "2024-05-20T02:24:44.107722Z",
     "iopub.status.busy": "2024-05-20T02:24:44.107276Z",
     "iopub.status.idle": "2024-05-20T02:24:44.162922Z",
     "shell.execute_reply": "2024-05-20T02:24:44.161919Z"
    },
    "papermill": {
     "duration": 0.061453,
     "end_time": "2024-05-20T02:24:44.164928",
     "exception": false,
     "start_time": "2024-05-20T02:24:44.103475",
     "status": "completed"
    },
    "tags": []
   },
   "outputs": [
    {
     "data": {
      "text/plain": [
       "{'base_dir': '/kaggle/working',\n",
       " 'tokenizer_tgt': '/kaggle/input/vn-spelling-correction-bart-1-ds-word-level/tokenizer/tokenizer_tgt.json',\n",
       " 'tokenizer_src': '/kaggle/input/vn-spelling-correction-bart-1-ds-word-level/tokenizer/tokenizer_src.json',\n",
       " 'use_tokenizer': 'wordlevel',\n",
       " 'special_tokens': ['<s>', '</s>', '<pad>', '<unk>', '<mask>'],\n",
       " 'vocab_size': 30000,\n",
       " 'min_frequency': 2,\n",
       " 'model_folder': '/kaggle/working/model',\n",
       " 'model_basename': 'model_',\n",
       " 'model_bart_basename': 'bart_model_',\n",
       " 'preload': 'latest',\n",
       " 'data': '/kaggle/working/data',\n",
       " 'log_dir': '/kaggle/working/log',\n",
       " 'log_files': '/kaggle/working/log/log_files',\n",
       " 'loss_train': '/kaggle/working/log/log_files/loss_train.json',\n",
       " 'loss_val': '/kaggle/working/log/log_files/loss_val.json',\n",
       " 'loss_train_step': '/kaggle/working/log/log_files/loss_train_step.json',\n",
       " 'loss_val_step': '/kaggle/working/log/log_files/loss_val_step.json',\n",
       " 'timestep_train': '/kaggle/working/log/log_files/timestep_train.json',\n",
       " 'timestep_val': '/kaggle/working/log/log_files/timestep_val.json',\n",
       " 'timestep_train_and_val': '/kaggle/working/log/log_files/timestep_train_and_val.json',\n",
       " 'lang_src': 'noise_vi',\n",
       " 'lang_tgt': 'vi',\n",
       " 'train_ds': '/kaggle/input/vn-spelling-correction-bart-1-ds-word-level/train.csv',\n",
       " 'val_ds': None,\n",
       " 'test_ds': '/kaggle/input/vn-spelling-correction-bart-1-ds-word-level/test.csv',\n",
       " 'corpus': None,\n",
       " 'max_len': 100,\n",
       " 'model_train': 'bart_with_embedding',\n",
       " 'step_train': None,\n",
       " 'pretrain': False,\n",
       " 'continue_step': False,\n",
       " 'batch_train': 32,\n",
       " 'batch_val': 32,\n",
       " 'batch_test': 1,\n",
       " 'num_steps': 15000,\n",
       " 'val_steps': 1500,\n",
       " 'd_model': 768,\n",
       " 'encoder_layers': 6,\n",
       " 'decoder_layers': 6,\n",
       " 'encoder_attention_heads': 12,\n",
       " 'decoder_attention_heads': 12,\n",
       " 'decoder_ffn_dim': 3072,\n",
       " 'encoder_ffn_dim': 3072,\n",
       " 'activation_function': 'gelu',\n",
       " 'dropout': 0.15,\n",
       " 'attention_dropout': 0.1,\n",
       " 'activation_dropout': 0.1,\n",
       " 'classifier_dropout': 0.0,\n",
       " 'max_position_embeddings': 100,\n",
       " 'init_std': 0.02,\n",
       " 'encoder_layerdrop': 0.0,\n",
       " 'decoder_layerdrop': 0.0,\n",
       " 'scale_embedding': False,\n",
       " 'num_beams': 4,\n",
       " 'checkpoint_bart_model': None,\n",
       " 'weight_decay': 0,\n",
       " 'lr': 0.5,\n",
       " 'eps': 1e-09,\n",
       " 'betas': (0.9, 0.98),\n",
       " 'label_smoothing': 0.01,\n",
       " 'warmup_steps': 4000,\n",
       " 'device': 'cuda',\n",
       " 'f_beta': 0.5,\n",
       " 'beams': [2]}"
      ]
     },
     "execution_count": 3,
     "metadata": {},
     "output_type": "execute_result"
    }
   ],
   "source": [
    "cf = config.get_config(\"/kaggle/working\")\n",
    "cf[\"tokenizer_src\"] = \"/kaggle/input/vn-spelling-correction-bart-1-ds-word-level/tokenizer/tokenizer_src.json\"\n",
    "cf[\"tokenizer_tgt\"] = \"/kaggle/input/vn-spelling-correction-bart-1-ds-word-level/tokenizer/tokenizer_tgt.json\"\n",
    "cf[\"model_train\"] = \"bart\"\n",
    "cf[\"train_ds\"] = \"/kaggle/input/vn-spelling-correction-bart-1-ds-word-level/train.csv\"\n",
    "cf[\"test_ds\"] = \"/kaggle/input/vn-spelling-correction-bart-1-ds-word-level/test.csv\"\n",
    "cf[\"model_train\"] = \"bart_with_embedding\"\n",
    "cf[\"use_tokenizer\"] = \"wordlevel\"\n",
    "cf[\"num_steps\"] = 15000\n",
    "cf[\"val_steps\"] = cf[\"num_steps\"] // 10\n",
    "cf"
   ]
  },
  {
   "cell_type": "code",
   "execution_count": 4,
   "id": "4b83fbdc",
   "metadata": {
    "execution": {
     "iopub.execute_input": "2024-05-20T02:24:44.172112Z",
     "iopub.status.busy": "2024-05-20T02:24:44.171829Z",
     "iopub.status.idle": "2024-05-20T03:58:41.460311Z",
     "shell.execute_reply": "2024-05-20T03:58:41.457828Z"
    },
    "papermill": {
     "duration": 5637.295027,
     "end_time": "2024-05-20T03:58:41.463049",
     "exception": false,
     "start_time": "2024-05-20T02:24:44.168022",
     "status": "completed"
    },
    "tags": []
   },
   "outputs": [
    {
     "name": "stdout",
     "output_type": "stream",
     "text": [
      "Created:\n",
      "/kaggle/working/model\n",
      "/kaggle/working/log\n",
      "/kaggle/working/log/log_files\n",
      "====================================\n",
      "/kaggle/input/vn-spelling-correction-bart-1-ds-word-level/tokenizer/tokenizer_src.json\n",
      "/kaggle/input/vn-spelling-correction-bart-1-ds-word-level/tokenizer/tokenizer_tgt.json\n",
      "Read tokenizer successfully\n",
      "Check tokenizer src\n",
      "25000\n",
      "Check tokenizer tgt\n",
      "25000\n",
      "====================================\n",
      "Check BART model with embedding\n",
      "CustomBartModelWithEmbedding(\n",
      "  (inputs_embeds): Embedding(25000, 768)\n",
      "  (decoder_inputs_embeds): Embedding(25000, 768)\n",
      "  (bart_model): BartModel(\n",
      "    (shared): Embedding(25000, 768, padding_idx=2)\n",
      "    (encoder): BartEncoder(\n",
      "      (embed_tokens): Embedding(25000, 768, padding_idx=2)\n",
      "      (embed_positions): BartLearnedPositionalEmbedding(102, 768)\n",
      "      (layers): ModuleList(\n",
      "        (0-5): 6 x BartEncoderLayer(\n",
      "          (self_attn): BartSdpaAttention(\n",
      "            (k_proj): Linear(in_features=768, out_features=768, bias=True)\n",
      "            (v_proj): Linear(in_features=768, out_features=768, bias=True)\n",
      "            (q_proj): Linear(in_features=768, out_features=768, bias=True)\n",
      "            (out_proj): Linear(in_features=768, out_features=768, bias=True)\n",
      "          )\n",
      "          (self_attn_layer_norm): LayerNorm((768,), eps=1e-05, elementwise_affine=True)\n",
      "          (activation_fn): GELUActivation()\n",
      "          (fc1): Linear(in_features=768, out_features=3072, bias=True)\n",
      "          (fc2): Linear(in_features=3072, out_features=768, bias=True)\n",
      "          (final_layer_norm): LayerNorm((768,), eps=1e-05, elementwise_affine=True)\n",
      "        )\n",
      "      )\n",
      "      (layernorm_embedding): LayerNorm((768,), eps=1e-05, elementwise_affine=True)\n",
      "    )\n",
      "    (decoder): BartDecoder(\n",
      "      (embed_tokens): Embedding(25000, 768, padding_idx=2)\n",
      "      (embed_positions): BartLearnedPositionalEmbedding(102, 768)\n",
      "      (layers): ModuleList(\n",
      "        (0-5): 6 x BartDecoderLayer(\n",
      "          (self_attn): BartSdpaAttention(\n",
      "            (k_proj): Linear(in_features=768, out_features=768, bias=True)\n",
      "            (v_proj): Linear(in_features=768, out_features=768, bias=True)\n",
      "            (q_proj): Linear(in_features=768, out_features=768, bias=True)\n",
      "            (out_proj): Linear(in_features=768, out_features=768, bias=True)\n",
      "          )\n",
      "          (activation_fn): GELUActivation()\n",
      "          (self_attn_layer_norm): LayerNorm((768,), eps=1e-05, elementwise_affine=True)\n",
      "          (encoder_attn): BartSdpaAttention(\n",
      "            (k_proj): Linear(in_features=768, out_features=768, bias=True)\n",
      "            (v_proj): Linear(in_features=768, out_features=768, bias=True)\n",
      "            (q_proj): Linear(in_features=768, out_features=768, bias=True)\n",
      "            (out_proj): Linear(in_features=768, out_features=768, bias=True)\n",
      "          )\n",
      "          (encoder_attn_layer_norm): LayerNorm((768,), eps=1e-05, elementwise_affine=True)\n",
      "          (fc1): Linear(in_features=768, out_features=3072, bias=True)\n",
      "          (fc2): Linear(in_features=3072, out_features=768, bias=True)\n",
      "          (final_layer_norm): LayerNorm((768,), eps=1e-05, elementwise_affine=True)\n",
      "        )\n",
      "      )\n",
      "      (layernorm_embedding): LayerNorm((768,), eps=1e-05, elementwise_affine=True)\n",
      "    )\n",
      "  )\n",
      "  (out): Linear(in_features=768, out_features=25000, bias=True)\n",
      ")\n",
      "====================================================\n",
      "/kaggle/input/vn-spelling-correction-bart-1-ds-word-level/tokenizer/tokenizer_src.json\n",
      "/kaggle/input/vn-spelling-correction-bart-1-ds-word-level/tokenizer/tokenizer_tgt.json\n",
      "Read tokenizer successfully\n",
      "Check tokenizer src\n",
      "25000\n",
      "Check tokenizer tgt\n",
      "25000\n",
      "====================================\n",
      "Read dataset successfully\n",
      "Train dataset\n",
      "                                            noise_vi  \\\n",
      "0  chúmg tôi có một dòng suy nghĩ nho nhỏ và có t...   \n",
      "1  cậu ấy sinh non 3 thág rưỡi , và đó thực sự là...   \n",
      "2  kể từ đó , bất cứ khi nào chúng tôi tậph hop n...   \n",
      "3  bây giờ , hầu như họ nghĩ rằng nhựa là nhưng t...   \n",
      "4     vâg , như vậy lẵ đang có sự thay đổi diễn ra .   \n",
      "\n",
      "                                                  vi  \n",
      "0  chúng tôi có một dòng suy nghĩ nho nhỏ và có t...  \n",
      "1  cậu ấy sinh non 3 tháng rưỡi , và đó thực sự l...  \n",
      "2  kể từ đó , bất cứ khi nào chúng tôi tập hợp nh...  \n",
      "3  bây giờ , hầu như họ nghĩ rằng nhựa là những t...  \n",
      "4    vâng , như vậy là đang có sự thay đổi diễn ra .  \n",
      "Val dataset\n",
      "                                            noise_vi  \\\n",
      "0  bạn biết rằng nếu bạn đị bộ qua một cái vúc , ...   \n",
      "1  chúmg ta không có đủ thời gian đi sâu tri tiết...   \n",
      "2  mười bốn tuần trên danh sách bán chạy nhất , t...   \n",
      "3  tôi muốn nói về lịch sử của 4 . 6 tỷ năm trong...   \n",
      "4  và duong như điều duv nất còn lại để tôi nói đ...   \n",
      "\n",
      "                                                  vi  \n",
      "0  và bạn biết rằng nếu bạn đi bộ qua một cái vực...  \n",
      "1  chúng ta không có đủ thời gian đi sâu chi tiết...  \n",
      "2  mười bốn tuần trên danh sách bán chạy nhất , t...  \n",
      "3  tôi muốn nói về lịch sử của 4 . 6 tỷ năm trong...  \n",
      "4  và dường như điều duy nhất còn lại để tôi nói ...  \n",
      "Test dataset\n",
      "                    noise_vi                        vi\n",
      "0    cái tật sạo không bỏ    cái tật xạo không bỏ\n",
      "1           chen nhau đặc vé          chen nhau đặt vé\n",
      "2        cái ông lầy nàm thơ       cái ông này làm thơ\n",
      "3  sài lu không ăn thua gì  xài lu không ăn thua gì\n",
      "4      người hiểu xẽ nhìn ra     người hiểu sẽ nhìn ra\n",
      "====================================\n",
      "Get dataloader successfully\n",
      "No model to preload, start training from scratch\n",
      "/kaggle/input/vn-spelling-correction-bart-1-ds-word-level/tokenizer/tokenizer_src.json\n",
      "/kaggle/input/vn-spelling-correction-bart-1-ds-word-level/tokenizer/tokenizer_tgt.json\n",
      "Read tokenizer successfully\n",
      "Check tokenizer src\n",
      "25000\n",
      "Check tokenizer tgt\n",
      "25000\n",
      "====================================\n",
      "Read dataset successfully\n",
      "Train dataset\n",
      "                                            noise_vi  \\\n",
      "0  chúmg tôi có một dòng suy nghĩ nho nhỏ và có t...   \n",
      "1  cậu ấy sinh non 3 thág rưỡi , và đó thực sự là...   \n",
      "2  kể từ đó , bất cứ khi nào chúng tôi tậph hop n...   \n",
      "3  bây giờ , hầu như họ nghĩ rằng nhựa là nhưng t...   \n",
      "4     vâg , như vậy lẵ đang có sự thay đổi diễn ra .   \n",
      "\n",
      "                                                  vi  \n",
      "0  chúng tôi có một dòng suy nghĩ nho nhỏ và có t...  \n",
      "1  cậu ấy sinh non 3 tháng rưỡi , và đó thực sự l...  \n",
      "2  kể từ đó , bất cứ khi nào chúng tôi tập hợp nh...  \n",
      "3  bây giờ , hầu như họ nghĩ rằng nhựa là những t...  \n",
      "4    vâng , như vậy là đang có sự thay đổi diễn ra .  \n",
      "Val dataset\n",
      "                                            noise_vi  \\\n",
      "0  bạn biết rằng nếu bạn đị bộ qua một cái vúc , ...   \n",
      "1  chúmg ta không có đủ thời gian đi sâu tri tiết...   \n",
      "2  mười bốn tuần trên danh sách bán chạy nhất , t...   \n",
      "3  tôi muốn nói về lịch sử của 4 . 6 tỷ năm trong...   \n",
      "4  và duong như điều duv nất còn lại để tôi nói đ...   \n",
      "\n",
      "                                                  vi  \n",
      "0  và bạn biết rằng nếu bạn đi bộ qua một cái vực...  \n",
      "1  chúng ta không có đủ thời gian đi sâu chi tiết...  \n",
      "2  mười bốn tuần trên danh sách bán chạy nhất , t...  \n",
      "3  tôi muốn nói về lịch sử của 4 . 6 tỷ năm trong...  \n",
      "4  và dường như điều duy nhất còn lại để tôi nói ...  \n",
      "Test dataset\n",
      "                    noise_vi                        vi\n",
      "0    cái tật sạo không bỏ    cái tật xạo không bỏ\n",
      "1           chen nhau đặc vé          chen nhau đặt vé\n",
      "2        cái ông lầy nàm thơ       cái ông này làm thơ\n",
      "3  sài lu không ăn thua gì  xài lu không ăn thua gì\n",
      "4      người hiểu xẽ nhìn ra     người hiểu sẽ nhìn ra\n",
      "====================================\n",
      "Get dataloader successfully\n"
     ]
    },
    {
     "name": "stderr",
     "output_type": "stream",
     "text": [
      "Trainning:  24%|██▍       | 1499/6257 [08:06<25:43,  3.08it/s, loss=1.472, global_step=0000001499]\n",
      "Validating: 100%|██████████| 696/696 [01:14<00:00,  9.40it/s, loss=0.885, global_step=0000001500]\n"
     ]
    },
    {
     "name": "stdout",
     "output_type": "stream",
     "text": [
      "/kaggle/input/vn-spelling-correction-bart-1-ds-word-level/tokenizer/tokenizer_src.json\n",
      "/kaggle/input/vn-spelling-correction-bart-1-ds-word-level/tokenizer/tokenizer_tgt.json\n",
      "Read tokenizer successfully\n",
      "Check tokenizer src\n",
      "25000\n",
      "Check tokenizer tgt\n",
      "25000\n",
      "====================================\n",
      "Read dataset successfully\n",
      "Train dataset\n",
      "                                            noise_vi  \\\n",
      "0  chúmg tôi có một dòng suy nghĩ nho nhỏ và có t...   \n",
      "1  cậu ấy sinh non 3 thág rưỡi , và đó thực sự là...   \n",
      "2  kể từ đó , bất cứ khi nào chúng tôi tậph hop n...   \n",
      "3  bây giờ , hầu như họ nghĩ rằng nhựa là nhưng t...   \n",
      "4     vâg , như vậy lẵ đang có sự thay đổi diễn ra .   \n",
      "\n",
      "                                                  vi  \n",
      "0  chúng tôi có một dòng suy nghĩ nho nhỏ và có t...  \n",
      "1  cậu ấy sinh non 3 tháng rưỡi , và đó thực sự l...  \n",
      "2  kể từ đó , bất cứ khi nào chúng tôi tập hợp nh...  \n",
      "3  bây giờ , hầu như họ nghĩ rằng nhựa là những t...  \n",
      "4    vâng , như vậy là đang có sự thay đổi diễn ra .  \n",
      "Val dataset\n",
      "                                            noise_vi  \\\n",
      "0  bạn biết rằng nếu bạn đị bộ qua một cái vúc , ...   \n",
      "1  chúmg ta không có đủ thời gian đi sâu tri tiết...   \n",
      "2  mười bốn tuần trên danh sách bán chạy nhất , t...   \n",
      "3  tôi muốn nói về lịch sử của 4 . 6 tỷ năm trong...   \n",
      "4  và duong như điều duv nất còn lại để tôi nói đ...   \n",
      "\n",
      "                                                  vi  \n",
      "0  và bạn biết rằng nếu bạn đi bộ qua một cái vực...  \n",
      "1  chúng ta không có đủ thời gian đi sâu chi tiết...  \n",
      "2  mười bốn tuần trên danh sách bán chạy nhất , t...  \n",
      "3  tôi muốn nói về lịch sử của 4 . 6 tỷ năm trong...  \n",
      "4  và dường như điều duy nhất còn lại để tôi nói ...  \n",
      "Test dataset\n",
      "                    noise_vi                        vi\n",
      "0    cái tật sạo không bỏ    cái tật xạo không bỏ\n",
      "1           chen nhau đặc vé          chen nhau đặt vé\n",
      "2        cái ông lầy nàm thơ       cái ông này làm thơ\n",
      "3  sài lu không ăn thua gì  xài lu không ăn thua gì\n",
      "4      người hiểu xẽ nhìn ra     người hiểu sẽ nhìn ra\n",
      "====================================\n",
      "Get dataloader successfully\n"
     ]
    },
    {
     "name": "stderr",
     "output_type": "stream",
     "text": [
      "Trainning:  24%|██▍       | 1499/6257 [08:11<25:59,  3.05it/s, loss=0.956, global_step=0000002999]\n",
      "Validating: 100%|██████████| 696/696 [01:14<00:00,  9.34it/s, loss=0.402, global_step=0000003000]\n"
     ]
    },
    {
     "name": "stdout",
     "output_type": "stream",
     "text": [
      "/kaggle/input/vn-spelling-correction-bart-1-ds-word-level/tokenizer/tokenizer_src.json\n",
      "/kaggle/input/vn-spelling-correction-bart-1-ds-word-level/tokenizer/tokenizer_tgt.json\n",
      "Read tokenizer successfully\n",
      "Check tokenizer src\n",
      "25000\n",
      "Check tokenizer tgt\n",
      "25000\n",
      "====================================\n",
      "Read dataset successfully\n",
      "Train dataset\n",
      "                                            noise_vi  \\\n",
      "0  chúmg tôi có một dòng suy nghĩ nho nhỏ và có t...   \n",
      "1  cậu ấy sinh non 3 thág rưỡi , và đó thực sự là...   \n",
      "2  kể từ đó , bất cứ khi nào chúng tôi tậph hop n...   \n",
      "3  bây giờ , hầu như họ nghĩ rằng nhựa là nhưng t...   \n",
      "4     vâg , như vậy lẵ đang có sự thay đổi diễn ra .   \n",
      "\n",
      "                                                  vi  \n",
      "0  chúng tôi có một dòng suy nghĩ nho nhỏ và có t...  \n",
      "1  cậu ấy sinh non 3 tháng rưỡi , và đó thực sự l...  \n",
      "2  kể từ đó , bất cứ khi nào chúng tôi tập hợp nh...  \n",
      "3  bây giờ , hầu như họ nghĩ rằng nhựa là những t...  \n",
      "4    vâng , như vậy là đang có sự thay đổi diễn ra .  \n",
      "Val dataset\n",
      "                                            noise_vi  \\\n",
      "0  bạn biết rằng nếu bạn đị bộ qua một cái vúc , ...   \n",
      "1  chúmg ta không có đủ thời gian đi sâu tri tiết...   \n",
      "2  mười bốn tuần trên danh sách bán chạy nhất , t...   \n",
      "3  tôi muốn nói về lịch sử của 4 . 6 tỷ năm trong...   \n",
      "4  và duong như điều duv nất còn lại để tôi nói đ...   \n",
      "\n",
      "                                                  vi  \n",
      "0  và bạn biết rằng nếu bạn đi bộ qua một cái vực...  \n",
      "1  chúng ta không có đủ thời gian đi sâu chi tiết...  \n",
      "2  mười bốn tuần trên danh sách bán chạy nhất , t...  \n",
      "3  tôi muốn nói về lịch sử của 4 . 6 tỷ năm trong...  \n",
      "4  và dường như điều duy nhất còn lại để tôi nói ...  \n",
      "Test dataset\n",
      "                    noise_vi                        vi\n",
      "0    cái tật sạo không bỏ    cái tật xạo không bỏ\n",
      "1           chen nhau đặc vé          chen nhau đặt vé\n",
      "2        cái ông lầy nàm thơ       cái ông này làm thơ\n",
      "3  sài lu không ăn thua gì  xài lu không ăn thua gì\n",
      "4      người hiểu xẽ nhìn ra     người hiểu sẽ nhìn ra\n",
      "====================================\n",
      "Get dataloader successfully\n"
     ]
    },
    {
     "name": "stderr",
     "output_type": "stream",
     "text": [
      "Trainning:  24%|██▍       | 1499/6257 [08:05<25:40,  3.09it/s, loss=0.799, global_step=0000004499]\n",
      "Validating: 100%|██████████| 696/696 [01:14<00:00,  9.31it/s, loss=0.351, global_step=0000004500]\n"
     ]
    },
    {
     "name": "stdout",
     "output_type": "stream",
     "text": [
      "/kaggle/input/vn-spelling-correction-bart-1-ds-word-level/tokenizer/tokenizer_src.json\n",
      "/kaggle/input/vn-spelling-correction-bart-1-ds-word-level/tokenizer/tokenizer_tgt.json\n",
      "Read tokenizer successfully\n",
      "Check tokenizer src\n",
      "25000\n",
      "Check tokenizer tgt\n",
      "25000\n",
      "====================================\n",
      "Read dataset successfully\n",
      "Train dataset\n",
      "                                            noise_vi  \\\n",
      "0  chúmg tôi có một dòng suy nghĩ nho nhỏ và có t...   \n",
      "1  cậu ấy sinh non 3 thág rưỡi , và đó thực sự là...   \n",
      "2  kể từ đó , bất cứ khi nào chúng tôi tậph hop n...   \n",
      "3  bây giờ , hầu như họ nghĩ rằng nhựa là nhưng t...   \n",
      "4     vâg , như vậy lẵ đang có sự thay đổi diễn ra .   \n",
      "\n",
      "                                                  vi  \n",
      "0  chúng tôi có một dòng suy nghĩ nho nhỏ và có t...  \n",
      "1  cậu ấy sinh non 3 tháng rưỡi , và đó thực sự l...  \n",
      "2  kể từ đó , bất cứ khi nào chúng tôi tập hợp nh...  \n",
      "3  bây giờ , hầu như họ nghĩ rằng nhựa là những t...  \n",
      "4    vâng , như vậy là đang có sự thay đổi diễn ra .  \n",
      "Val dataset\n",
      "                                            noise_vi  \\\n",
      "0  bạn biết rằng nếu bạn đị bộ qua một cái vúc , ...   \n",
      "1  chúmg ta không có đủ thời gian đi sâu tri tiết...   \n",
      "2  mười bốn tuần trên danh sách bán chạy nhất , t...   \n",
      "3  tôi muốn nói về lịch sử của 4 . 6 tỷ năm trong...   \n",
      "4  và duong như điều duv nất còn lại để tôi nói đ...   \n",
      "\n",
      "                                                  vi  \n",
      "0  và bạn biết rằng nếu bạn đi bộ qua một cái vực...  \n",
      "1  chúng ta không có đủ thời gian đi sâu chi tiết...  \n",
      "2  mười bốn tuần trên danh sách bán chạy nhất , t...  \n",
      "3  tôi muốn nói về lịch sử của 4 . 6 tỷ năm trong...  \n",
      "4  và dường như điều duy nhất còn lại để tôi nói ...  \n",
      "Test dataset\n",
      "                    noise_vi                        vi\n",
      "0    cái tật sạo không bỏ    cái tật xạo không bỏ\n",
      "1           chen nhau đặc vé          chen nhau đặt vé\n",
      "2        cái ông lầy nàm thơ       cái ông này làm thơ\n",
      "3  sài lu không ăn thua gì  xài lu không ăn thua gì\n",
      "4      người hiểu xẽ nhìn ra     người hiểu sẽ nhìn ra\n",
      "====================================\n",
      "Get dataloader successfully\n"
     ]
    },
    {
     "name": "stderr",
     "output_type": "stream",
     "text": [
      "Trainning:  24%|██▍       | 1499/6257 [08:05<25:39,  3.09it/s, loss=0.414, global_step=0000005999]\n",
      "Validating: 100%|██████████| 696/696 [01:14<00:00,  9.31it/s, loss=0.314, global_step=0000006000]\n"
     ]
    },
    {
     "name": "stdout",
     "output_type": "stream",
     "text": [
      "/kaggle/input/vn-spelling-correction-bart-1-ds-word-level/tokenizer/tokenizer_src.json\n",
      "/kaggle/input/vn-spelling-correction-bart-1-ds-word-level/tokenizer/tokenizer_tgt.json\n",
      "Read tokenizer successfully\n",
      "Check tokenizer src\n",
      "25000\n",
      "Check tokenizer tgt\n",
      "25000\n",
      "====================================\n",
      "Read dataset successfully\n",
      "Train dataset\n",
      "                                            noise_vi  \\\n",
      "0  chúmg tôi có một dòng suy nghĩ nho nhỏ và có t...   \n",
      "1  cậu ấy sinh non 3 thág rưỡi , và đó thực sự là...   \n",
      "2  kể từ đó , bất cứ khi nào chúng tôi tậph hop n...   \n",
      "3  bây giờ , hầu như họ nghĩ rằng nhựa là nhưng t...   \n",
      "4     vâg , như vậy lẵ đang có sự thay đổi diễn ra .   \n",
      "\n",
      "                                                  vi  \n",
      "0  chúng tôi có một dòng suy nghĩ nho nhỏ và có t...  \n",
      "1  cậu ấy sinh non 3 tháng rưỡi , và đó thực sự l...  \n",
      "2  kể từ đó , bất cứ khi nào chúng tôi tập hợp nh...  \n",
      "3  bây giờ , hầu như họ nghĩ rằng nhựa là những t...  \n",
      "4    vâng , như vậy là đang có sự thay đổi diễn ra .  \n",
      "Val dataset\n",
      "                                            noise_vi  \\\n",
      "0  bạn biết rằng nếu bạn đị bộ qua một cái vúc , ...   \n",
      "1  chúmg ta không có đủ thời gian đi sâu tri tiết...   \n",
      "2  mười bốn tuần trên danh sách bán chạy nhất , t...   \n",
      "3  tôi muốn nói về lịch sử của 4 . 6 tỷ năm trong...   \n",
      "4  và duong như điều duv nất còn lại để tôi nói đ...   \n",
      "\n",
      "                                                  vi  \n",
      "0  và bạn biết rằng nếu bạn đi bộ qua một cái vực...  \n",
      "1  chúng ta không có đủ thời gian đi sâu chi tiết...  \n",
      "2  mười bốn tuần trên danh sách bán chạy nhất , t...  \n",
      "3  tôi muốn nói về lịch sử của 4 . 6 tỷ năm trong...  \n",
      "4  và dường như điều duy nhất còn lại để tôi nói ...  \n",
      "Test dataset\n",
      "                    noise_vi                        vi\n",
      "0    cái tật sạo không bỏ    cái tật xạo không bỏ\n",
      "1           chen nhau đặc vé          chen nhau đặt vé\n",
      "2        cái ông lầy nàm thơ       cái ông này làm thơ\n",
      "3  sài lu không ăn thua gì  xài lu không ăn thua gì\n",
      "4      người hiểu xẽ nhìn ra     người hiểu sẽ nhìn ra\n",
      "====================================\n",
      "Get dataloader successfully\n"
     ]
    },
    {
     "name": "stderr",
     "output_type": "stream",
     "text": [
      "Trainning:  24%|██▍       | 1499/6257 [08:05<25:42,  3.09it/s, loss=0.533, global_step=0000007499]\n",
      "Validating: 100%|██████████| 696/696 [01:14<00:00,  9.30it/s, loss=0.288, global_step=0000007500]\n"
     ]
    },
    {
     "name": "stdout",
     "output_type": "stream",
     "text": [
      "/kaggle/input/vn-spelling-correction-bart-1-ds-word-level/tokenizer/tokenizer_src.json\n",
      "/kaggle/input/vn-spelling-correction-bart-1-ds-word-level/tokenizer/tokenizer_tgt.json\n",
      "Read tokenizer successfully\n",
      "Check tokenizer src\n",
      "25000\n",
      "Check tokenizer tgt\n",
      "25000\n",
      "====================================\n",
      "Read dataset successfully\n",
      "Train dataset\n",
      "                                            noise_vi  \\\n",
      "0  chúmg tôi có một dòng suy nghĩ nho nhỏ và có t...   \n",
      "1  cậu ấy sinh non 3 thág rưỡi , và đó thực sự là...   \n",
      "2  kể từ đó , bất cứ khi nào chúng tôi tậph hop n...   \n",
      "3  bây giờ , hầu như họ nghĩ rằng nhựa là nhưng t...   \n",
      "4     vâg , như vậy lẵ đang có sự thay đổi diễn ra .   \n",
      "\n",
      "                                                  vi  \n",
      "0  chúng tôi có một dòng suy nghĩ nho nhỏ và có t...  \n",
      "1  cậu ấy sinh non 3 tháng rưỡi , và đó thực sự l...  \n",
      "2  kể từ đó , bất cứ khi nào chúng tôi tập hợp nh...  \n",
      "3  bây giờ , hầu như họ nghĩ rằng nhựa là những t...  \n",
      "4    vâng , như vậy là đang có sự thay đổi diễn ra .  \n",
      "Val dataset\n",
      "                                            noise_vi  \\\n",
      "0  bạn biết rằng nếu bạn đị bộ qua một cái vúc , ...   \n",
      "1  chúmg ta không có đủ thời gian đi sâu tri tiết...   \n",
      "2  mười bốn tuần trên danh sách bán chạy nhất , t...   \n",
      "3  tôi muốn nói về lịch sử của 4 . 6 tỷ năm trong...   \n",
      "4  và duong như điều duv nất còn lại để tôi nói đ...   \n",
      "\n",
      "                                                  vi  \n",
      "0  và bạn biết rằng nếu bạn đi bộ qua một cái vực...  \n",
      "1  chúng ta không có đủ thời gian đi sâu chi tiết...  \n",
      "2  mười bốn tuần trên danh sách bán chạy nhất , t...  \n",
      "3  tôi muốn nói về lịch sử của 4 . 6 tỷ năm trong...  \n",
      "4  và dường như điều duy nhất còn lại để tôi nói ...  \n",
      "Test dataset\n",
      "                    noise_vi                        vi\n",
      "0    cái tật sạo không bỏ    cái tật xạo không bỏ\n",
      "1           chen nhau đặc vé          chen nhau đặt vé\n",
      "2        cái ông lầy nàm thơ       cái ông này làm thơ\n",
      "3  sài lu không ăn thua gì  xài lu không ăn thua gì\n",
      "4      người hiểu xẽ nhìn ra     người hiểu sẽ nhìn ra\n",
      "====================================\n",
      "Get dataloader successfully\n"
     ]
    },
    {
     "name": "stderr",
     "output_type": "stream",
     "text": [
      "Trainning:  24%|██▍       | 1499/6257 [08:02<25:30,  3.11it/s, loss=0.489, global_step=0000008999]\n",
      "Validating: 100%|██████████| 696/696 [01:14<00:00,  9.29it/s, loss=0.340, global_step=0000009000]\n"
     ]
    },
    {
     "name": "stdout",
     "output_type": "stream",
     "text": [
      "/kaggle/input/vn-spelling-correction-bart-1-ds-word-level/tokenizer/tokenizer_src.json\n",
      "/kaggle/input/vn-spelling-correction-bart-1-ds-word-level/tokenizer/tokenizer_tgt.json\n",
      "Read tokenizer successfully\n",
      "Check tokenizer src\n",
      "25000\n",
      "Check tokenizer tgt\n",
      "25000\n",
      "====================================\n",
      "Read dataset successfully\n",
      "Train dataset\n",
      "                                            noise_vi  \\\n",
      "0  chúmg tôi có một dòng suy nghĩ nho nhỏ và có t...   \n",
      "1  cậu ấy sinh non 3 thág rưỡi , và đó thực sự là...   \n",
      "2  kể từ đó , bất cứ khi nào chúng tôi tậph hop n...   \n",
      "3  bây giờ , hầu như họ nghĩ rằng nhựa là nhưng t...   \n",
      "4     vâg , như vậy lẵ đang có sự thay đổi diễn ra .   \n",
      "\n",
      "                                                  vi  \n",
      "0  chúng tôi có một dòng suy nghĩ nho nhỏ và có t...  \n",
      "1  cậu ấy sinh non 3 tháng rưỡi , và đó thực sự l...  \n",
      "2  kể từ đó , bất cứ khi nào chúng tôi tập hợp nh...  \n",
      "3  bây giờ , hầu như họ nghĩ rằng nhựa là những t...  \n",
      "4    vâng , như vậy là đang có sự thay đổi diễn ra .  \n",
      "Val dataset\n",
      "                                            noise_vi  \\\n",
      "0  bạn biết rằng nếu bạn đị bộ qua một cái vúc , ...   \n",
      "1  chúmg ta không có đủ thời gian đi sâu tri tiết...   \n",
      "2  mười bốn tuần trên danh sách bán chạy nhất , t...   \n",
      "3  tôi muốn nói về lịch sử của 4 . 6 tỷ năm trong...   \n",
      "4  và duong như điều duv nất còn lại để tôi nói đ...   \n",
      "\n",
      "                                                  vi  \n",
      "0  và bạn biết rằng nếu bạn đi bộ qua một cái vực...  \n",
      "1  chúng ta không có đủ thời gian đi sâu chi tiết...  \n",
      "2  mười bốn tuần trên danh sách bán chạy nhất , t...  \n",
      "3  tôi muốn nói về lịch sử của 4 . 6 tỷ năm trong...  \n",
      "4  và dường như điều duy nhất còn lại để tôi nói ...  \n",
      "Test dataset\n",
      "                    noise_vi                        vi\n",
      "0    cái tật sạo không bỏ    cái tật xạo không bỏ\n",
      "1           chen nhau đặc vé          chen nhau đặt vé\n",
      "2        cái ông lầy nàm thơ       cái ông này làm thơ\n",
      "3  sài lu không ăn thua gì  xài lu không ăn thua gì\n",
      "4      người hiểu xẽ nhìn ra     người hiểu sẽ nhìn ra\n",
      "====================================\n",
      "Get dataloader successfully\n"
     ]
    },
    {
     "name": "stderr",
     "output_type": "stream",
     "text": [
      "Trainning:  24%|██▍       | 1499/6257 [08:11<26:00,  3.05it/s, loss=0.395, global_step=0000010499]\n",
      "Validating: 100%|██████████| 696/696 [01:14<00:00,  9.30it/s, loss=0.296, global_step=0000010500]\n"
     ]
    },
    {
     "name": "stdout",
     "output_type": "stream",
     "text": [
      "/kaggle/input/vn-spelling-correction-bart-1-ds-word-level/tokenizer/tokenizer_src.json\n",
      "/kaggle/input/vn-spelling-correction-bart-1-ds-word-level/tokenizer/tokenizer_tgt.json\n",
      "Read tokenizer successfully\n",
      "Check tokenizer src\n",
      "25000\n",
      "Check tokenizer tgt\n",
      "25000\n",
      "====================================\n",
      "Read dataset successfully\n",
      "Train dataset\n",
      "                                            noise_vi  \\\n",
      "0  chúmg tôi có một dòng suy nghĩ nho nhỏ và có t...   \n",
      "1  cậu ấy sinh non 3 thág rưỡi , và đó thực sự là...   \n",
      "2  kể từ đó , bất cứ khi nào chúng tôi tậph hop n...   \n",
      "3  bây giờ , hầu như họ nghĩ rằng nhựa là nhưng t...   \n",
      "4     vâg , như vậy lẵ đang có sự thay đổi diễn ra .   \n",
      "\n",
      "                                                  vi  \n",
      "0  chúng tôi có một dòng suy nghĩ nho nhỏ và có t...  \n",
      "1  cậu ấy sinh non 3 tháng rưỡi , và đó thực sự l...  \n",
      "2  kể từ đó , bất cứ khi nào chúng tôi tập hợp nh...  \n",
      "3  bây giờ , hầu như họ nghĩ rằng nhựa là những t...  \n",
      "4    vâng , như vậy là đang có sự thay đổi diễn ra .  \n",
      "Val dataset\n",
      "                                            noise_vi  \\\n",
      "0  bạn biết rằng nếu bạn đị bộ qua một cái vúc , ...   \n",
      "1  chúmg ta không có đủ thời gian đi sâu tri tiết...   \n",
      "2  mười bốn tuần trên danh sách bán chạy nhất , t...   \n",
      "3  tôi muốn nói về lịch sử của 4 . 6 tỷ năm trong...   \n",
      "4  và duong như điều duv nất còn lại để tôi nói đ...   \n",
      "\n",
      "                                                  vi  \n",
      "0  và bạn biết rằng nếu bạn đi bộ qua một cái vực...  \n",
      "1  chúng ta không có đủ thời gian đi sâu chi tiết...  \n",
      "2  mười bốn tuần trên danh sách bán chạy nhất , t...  \n",
      "3  tôi muốn nói về lịch sử của 4 . 6 tỷ năm trong...  \n",
      "4  và dường như điều duy nhất còn lại để tôi nói ...  \n",
      "Test dataset\n",
      "                    noise_vi                        vi\n",
      "0    cái tật sạo không bỏ    cái tật xạo không bỏ\n",
      "1           chen nhau đặc vé          chen nhau đặt vé\n",
      "2        cái ông lầy nàm thơ       cái ông này làm thơ\n",
      "3  sài lu không ăn thua gì  xài lu không ăn thua gì\n",
      "4      người hiểu xẽ nhìn ra     người hiểu sẽ nhìn ra\n",
      "====================================\n",
      "Get dataloader successfully\n"
     ]
    },
    {
     "name": "stderr",
     "output_type": "stream",
     "text": [
      "Trainning:  24%|██▍       | 1499/6257 [08:06<25:43,  3.08it/s, loss=0.451, global_step=0000011999]\n",
      "Validating: 100%|██████████| 696/696 [01:14<00:00,  9.31it/s, loss=0.307, global_step=0000012000]\n"
     ]
    },
    {
     "name": "stdout",
     "output_type": "stream",
     "text": [
      "/kaggle/input/vn-spelling-correction-bart-1-ds-word-level/tokenizer/tokenizer_src.json\n",
      "/kaggle/input/vn-spelling-correction-bart-1-ds-word-level/tokenizer/tokenizer_tgt.json\n",
      "Read tokenizer successfully\n",
      "Check tokenizer src\n",
      "25000\n",
      "Check tokenizer tgt\n",
      "25000\n",
      "====================================\n",
      "Read dataset successfully\n",
      "Train dataset\n",
      "                                            noise_vi  \\\n",
      "0  chúmg tôi có một dòng suy nghĩ nho nhỏ và có t...   \n",
      "1  cậu ấy sinh non 3 thág rưỡi , và đó thực sự là...   \n",
      "2  kể từ đó , bất cứ khi nào chúng tôi tậph hop n...   \n",
      "3  bây giờ , hầu như họ nghĩ rằng nhựa là nhưng t...   \n",
      "4     vâg , như vậy lẵ đang có sự thay đổi diễn ra .   \n",
      "\n",
      "                                                  vi  \n",
      "0  chúng tôi có một dòng suy nghĩ nho nhỏ và có t...  \n",
      "1  cậu ấy sinh non 3 tháng rưỡi , và đó thực sự l...  \n",
      "2  kể từ đó , bất cứ khi nào chúng tôi tập hợp nh...  \n",
      "3  bây giờ , hầu như họ nghĩ rằng nhựa là những t...  \n",
      "4    vâng , như vậy là đang có sự thay đổi diễn ra .  \n",
      "Val dataset\n",
      "                                            noise_vi  \\\n",
      "0  bạn biết rằng nếu bạn đị bộ qua một cái vúc , ...   \n",
      "1  chúmg ta không có đủ thời gian đi sâu tri tiết...   \n",
      "2  mười bốn tuần trên danh sách bán chạy nhất , t...   \n",
      "3  tôi muốn nói về lịch sử của 4 . 6 tỷ năm trong...   \n",
      "4  và duong như điều duv nất còn lại để tôi nói đ...   \n",
      "\n",
      "                                                  vi  \n",
      "0  và bạn biết rằng nếu bạn đi bộ qua một cái vực...  \n",
      "1  chúng ta không có đủ thời gian đi sâu chi tiết...  \n",
      "2  mười bốn tuần trên danh sách bán chạy nhất , t...  \n",
      "3  tôi muốn nói về lịch sử của 4 . 6 tỷ năm trong...  \n",
      "4  và dường như điều duy nhất còn lại để tôi nói ...  \n",
      "Test dataset\n",
      "                    noise_vi                        vi\n",
      "0    cái tật sạo không bỏ    cái tật xạo không bỏ\n",
      "1           chen nhau đặc vé          chen nhau đặt vé\n",
      "2        cái ông lầy nàm thơ       cái ông này làm thơ\n",
      "3  sài lu không ăn thua gì  xài lu không ăn thua gì\n",
      "4      người hiểu xẽ nhìn ra     người hiểu sẽ nhìn ra\n",
      "====================================\n",
      "Get dataloader successfully\n"
     ]
    },
    {
     "name": "stderr",
     "output_type": "stream",
     "text": [
      "Trainning:  24%|██▍       | 1499/6257 [08:06<25:44,  3.08it/s, loss=0.462, global_step=0000013499]\n",
      "Validating: 100%|██████████| 696/696 [01:14<00:00,  9.29it/s, loss=0.304, global_step=0000013500]\n"
     ]
    },
    {
     "name": "stdout",
     "output_type": "stream",
     "text": [
      "/kaggle/input/vn-spelling-correction-bart-1-ds-word-level/tokenizer/tokenizer_src.json\n",
      "/kaggle/input/vn-spelling-correction-bart-1-ds-word-level/tokenizer/tokenizer_tgt.json\n",
      "Read tokenizer successfully\n",
      "Check tokenizer src\n",
      "25000\n",
      "Check tokenizer tgt\n",
      "25000\n",
      "====================================\n",
      "Read dataset successfully\n",
      "Train dataset\n",
      "                                            noise_vi  \\\n",
      "0  chúmg tôi có một dòng suy nghĩ nho nhỏ và có t...   \n",
      "1  cậu ấy sinh non 3 thág rưỡi , và đó thực sự là...   \n",
      "2  kể từ đó , bất cứ khi nào chúng tôi tậph hop n...   \n",
      "3  bây giờ , hầu như họ nghĩ rằng nhựa là nhưng t...   \n",
      "4     vâg , như vậy lẵ đang có sự thay đổi diễn ra .   \n",
      "\n",
      "                                                  vi  \n",
      "0  chúng tôi có một dòng suy nghĩ nho nhỏ và có t...  \n",
      "1  cậu ấy sinh non 3 tháng rưỡi , và đó thực sự l...  \n",
      "2  kể từ đó , bất cứ khi nào chúng tôi tập hợp nh...  \n",
      "3  bây giờ , hầu như họ nghĩ rằng nhựa là những t...  \n",
      "4    vâng , như vậy là đang có sự thay đổi diễn ra .  \n",
      "Val dataset\n",
      "                                            noise_vi  \\\n",
      "0  bạn biết rằng nếu bạn đị bộ qua một cái vúc , ...   \n",
      "1  chúmg ta không có đủ thời gian đi sâu tri tiết...   \n",
      "2  mười bốn tuần trên danh sách bán chạy nhất , t...   \n",
      "3  tôi muốn nói về lịch sử của 4 . 6 tỷ năm trong...   \n",
      "4  và duong như điều duv nất còn lại để tôi nói đ...   \n",
      "\n",
      "                                                  vi  \n",
      "0  và bạn biết rằng nếu bạn đi bộ qua một cái vực...  \n",
      "1  chúng ta không có đủ thời gian đi sâu chi tiết...  \n",
      "2  mười bốn tuần trên danh sách bán chạy nhất , t...  \n",
      "3  tôi muốn nói về lịch sử của 4 . 6 tỷ năm trong...  \n",
      "4  và dường như điều duy nhất còn lại để tôi nói ...  \n",
      "Test dataset\n",
      "                    noise_vi                        vi\n",
      "0    cái tật sạo không bỏ    cái tật xạo không bỏ\n",
      "1           chen nhau đặc vé          chen nhau đặt vé\n",
      "2        cái ông lầy nàm thơ       cái ông này làm thơ\n",
      "3  sài lu không ăn thua gì  xài lu không ăn thua gì\n",
      "4      người hiểu xẽ nhìn ra     người hiểu sẽ nhìn ra\n",
      "====================================\n",
      "Get dataloader successfully\n"
     ]
    },
    {
     "name": "stderr",
     "output_type": "stream",
     "text": [
      "Trainning:  24%|██▍       | 1499/6257 [08:01<25:29,  3.11it/s, loss=0.420, global_step=0000014999]\n",
      "Validating: 100%|██████████| 696/696 [01:14<00:00,  9.30it/s, loss=0.330, global_step=0000015000]\n"
     ]
    },
    {
     "name": "stdout",
     "output_type": "stream",
     "text": [
      "Saved model at /kaggle/working/model/model_0000015000.pt\n",
      "Saved config at /kaggle/working/model/config_0000015000.json\n"
     ]
    },
    {
     "data": {
      "image/png": "[encoded data removed]",
      "text/plain": [
       "<Figure size 640x480 with 1 Axes>"
      ]
     },
     "metadata": {},
     "output_type": "display_data"
    },
    {
     "data": {
      "image/png": "[encoded data removed]",
      "text/plain": [
       "<Figure size 640x480 with 1 Axes>"
      ]
     },
     "metadata": {},
     "output_type": "display_data"
    },
    {
     "data": {
      "image/png": "[encoded data removed]",
      "text/plain": [
       "<Figure size 640x480 with 1 Axes>"
      ]
     },
     "metadata": {},
     "output_type": "display_data"
    }
   ],
   "source": [
    "train.train(cf)"
   ]
  },
  {
   "cell_type": "code",
   "execution_count": 5,
   "id": "eb4621d9",
   "metadata": {
    "execution": {
     "iopub.execute_input": "2024-05-20T03:58:48.309331Z",
     "iopub.status.busy": "2024-05-20T03:58:48.308576Z",
     "iopub.status.idle": "2024-05-20T04:06:37.143352Z",
     "shell.execute_reply": "2024-05-20T04:06:37.142377Z"
    },
    "papermill": {
     "duration": 475.873008,
     "end_time": "2024-05-20T04:06:40.756315",
     "exception": false,
     "start_time": "2024-05-20T03:58:44.883307",
     "status": "completed"
    },
    "tags": []
   },
   "outputs": [
    {
     "name": "stdout",
     "output_type": "stream",
     "text": [
      "/kaggle/input/vn-spelling-correction-bart-1-ds-word-level/tokenizer/tokenizer_src.json\n",
      "/kaggle/input/vn-spelling-correction-bart-1-ds-word-level/tokenizer/tokenizer_tgt.json\n",
      "Read tokenizer successfully\n",
      "Check tokenizer src\n",
      "25000\n",
      "Check tokenizer tgt\n",
      "25000\n",
      "====================================\n",
      "/kaggle/input/vn-spelling-correction-bart-1-ds-word-level/tokenizer/tokenizer_src.json\n",
      "/kaggle/input/vn-spelling-correction-bart-1-ds-word-level/tokenizer/tokenizer_tgt.json\n",
      "Read tokenizer successfully\n",
      "Check tokenizer src\n",
      "25000\n",
      "Check tokenizer tgt\n",
      "25000\n",
      "====================================\n",
      "Read dataset successfully\n",
      "Train dataset\n",
      "                                            noise_vi  \\\n",
      "0  chúmg tôi có một dòng suy nghĩ nho nhỏ và có t...   \n",
      "1  cậu ấy sinh non 3 thág rưỡi , và đó thực sự là...   \n",
      "2  kể từ đó , bất cứ khi nào chúng tôi tậph hop n...   \n",
      "3  bây giờ , hầu như họ nghĩ rằng nhựa là nhưng t...   \n",
      "4     vâg , như vậy lẵ đang có sự thay đổi diễn ra .   \n",
      "\n",
      "                                                  vi  \n",
      "0  chúng tôi có một dòng suy nghĩ nho nhỏ và có t...  \n",
      "1  cậu ấy sinh non 3 tháng rưỡi , và đó thực sự l...  \n",
      "2  kể từ đó , bất cứ khi nào chúng tôi tập hợp nh...  \n",
      "3  bây giờ , hầu như họ nghĩ rằng nhựa là những t...  \n",
      "4    vâng , như vậy là đang có sự thay đổi diễn ra .  \n",
      "Val dataset\n",
      "                                            noise_vi  \\\n",
      "0  bạn biết rằng nếu bạn đị bộ qua một cái vúc , ...   \n",
      "1  chúmg ta không có đủ thời gian đi sâu tri tiết...   \n",
      "2  mười bốn tuần trên danh sách bán chạy nhất , t...   \n",
      "3  tôi muốn nói về lịch sử của 4 . 6 tỷ năm trong...   \n",
      "4  và duong như điều duv nất còn lại để tôi nói đ...   \n",
      "\n",
      "                                                  vi  \n",
      "0  và bạn biết rằng nếu bạn đi bộ qua một cái vực...  \n",
      "1  chúng ta không có đủ thời gian đi sâu chi tiết...  \n",
      "2  mười bốn tuần trên danh sách bán chạy nhất , t...  \n",
      "3  tôi muốn nói về lịch sử của 4 . 6 tỷ năm trong...  \n",
      "4  và dường như điều duy nhất còn lại để tôi nói ...  \n",
      "Test dataset\n",
      "                    noise_vi                        vi\n",
      "0    cái tật sạo không bỏ    cái tật xạo không bỏ\n",
      "1           chen nhau đặc vé          chen nhau đặt vé\n",
      "2        cái ông lầy nàm thơ       cái ông này làm thơ\n",
      "3  sài lu không ăn thua gì  xài lu không ăn thua gì\n",
      "4      người hiểu xẽ nhìn ra     người hiểu sẽ nhìn ra\n",
      "====================================\n",
      "Get dataloader successfully\n",
      "Check BART model with embedding\n",
      "CustomBartModelWithEmbedding(\n",
      "  (inputs_embeds): Embedding(25000, 768)\n",
      "  (decoder_inputs_embeds): Embedding(25000, 768)\n",
      "  (bart_model): BartModel(\n",
      "    (shared): Embedding(25000, 768, padding_idx=2)\n",
      "    (encoder): BartEncoder(\n",
      "      (embed_tokens): Embedding(25000, 768, padding_idx=2)\n",
      "      (embed_positions): BartLearnedPositionalEmbedding(102, 768)\n",
      "      (layers): ModuleList(\n",
      "        (0-5): 6 x BartEncoderLayer(\n",
      "          (self_attn): BartSdpaAttention(\n",
      "            (k_proj): Linear(in_features=768, out_features=768, bias=True)\n",
      "            (v_proj): Linear(in_features=768, out_features=768, bias=True)\n",
      "            (q_proj): Linear(in_features=768, out_features=768, bias=True)\n",
      "            (out_proj): Linear(in_features=768, out_features=768, bias=True)\n",
      "          )\n",
      "          (self_attn_layer_norm): LayerNorm((768,), eps=1e-05, elementwise_affine=True)\n",
      "          (activation_fn): GELUActivation()\n",
      "          (fc1): Linear(in_features=768, out_features=3072, bias=True)\n",
      "          (fc2): Linear(in_features=3072, out_features=768, bias=True)\n",
      "          (final_layer_norm): LayerNorm((768,), eps=1e-05, elementwise_affine=True)\n",
      "        )\n",
      "      )\n",
      "      (layernorm_embedding): LayerNorm((768,), eps=1e-05, elementwise_affine=True)\n",
      "    )\n",
      "    (decoder): BartDecoder(\n",
      "      (embed_tokens): Embedding(25000, 768, padding_idx=2)\n",
      "      (embed_positions): BartLearnedPositionalEmbedding(102, 768)\n",
      "      (layers): ModuleList(\n",
      "        (0-5): 6 x BartDecoderLayer(\n",
      "          (self_attn): BartSdpaAttention(\n",
      "            (k_proj): Linear(in_features=768, out_features=768, bias=True)\n",
      "            (v_proj): Linear(in_features=768, out_features=768, bias=True)\n",
      "            (q_proj): Linear(in_features=768, out_features=768, bias=True)\n",
      "            (out_proj): Linear(in_features=768, out_features=768, bias=True)\n",
      "          )\n",
      "          (activation_fn): GELUActivation()\n",
      "          (self_attn_layer_norm): LayerNorm((768,), eps=1e-05, elementwise_affine=True)\n",
      "          (encoder_attn): BartSdpaAttention(\n",
      "            (k_proj): Linear(in_features=768, out_features=768, bias=True)\n",
      "            (v_proj): Linear(in_features=768, out_features=768, bias=True)\n",
      "            (q_proj): Linear(in_features=768, out_features=768, bias=True)\n",
      "            (out_proj): Linear(in_features=768, out_features=768, bias=True)\n",
      "          )\n",
      "          (encoder_attn_layer_norm): LayerNorm((768,), eps=1e-05, elementwise_affine=True)\n",
      "          (fc1): Linear(in_features=768, out_features=3072, bias=True)\n",
      "          (fc2): Linear(in_features=3072, out_features=768, bias=True)\n",
      "          (final_layer_norm): LayerNorm((768,), eps=1e-05, elementwise_affine=True)\n",
      "        )\n",
      "      )\n",
      "      (layernorm_embedding): LayerNorm((768,), eps=1e-05, elementwise_affine=True)\n",
      "    )\n",
      "  )\n",
      "  (out): Linear(in_features=768, out_features=25000, bias=True)\n",
      ")\n",
      "====================================================\n",
      "Length val_dataloader:  3217\n",
      "/kaggle/input/vn-spelling-correction-bart-1-ds-word-level/tokenizer/tokenizer_src.json\n",
      "/kaggle/input/vn-spelling-correction-bart-1-ds-word-level/tokenizer/tokenizer_tgt.json\n",
      "Read tokenizer successfully\n",
      "Check tokenizer src\n",
      "25000\n",
      "Check tokenizer tgt\n",
      "25000\n",
      "====================================\n",
      "Vocab size:  25000\n"
     ]
    },
    {
     "name": "stderr",
     "output_type": "stream",
     "text": [
      "Testing model...:   5%|▍         | 159/3217 [00:15<04:46, 10.68it/s]"
     ]
    },
    {
     "name": "stdout",
     "output_type": "stream",
     "text": [
      "\n",
      "    SOURCE: sức mạnh đânh thắng kẻ xâm lược\n",
      "    TARGET: sức mạnh đánh thắng kẻ xâm lược\n",
      " PREDICTED: sức mạnh mẽ thắng kẻ xâm lược\n",
      "TOKENS TARGET: [['sức', 'mạnh', 'đánh', 'thắng', 'kẻ', 'xâm', 'lược']]\n",
      "TOKENS PREDICTED: ['sức', 'mạnh', 'mẽ', 'thắng', 'kẻ', 'xâm', 'lược']\n",
      "BLEU OF SENTENCE 160\n",
      "BLEU_1: 0.8571428656578064\n",
      "BLEU_2: 0.7559289932250977\n",
      "BLEU_3: 0.6114214062690735\n",
      "BLEU_4: 0.488923043012619\n",
      "label_ids = tensor([ 333,  355,  423, 1005,  659, 1652, 1349], device='cuda:0')\n",
      "pred_ids = tensor([ 333,  355, 1025, 1005,  659, 1652, 1349], device='cuda:0')\n"
     ]
    },
    {
     "name": "stderr",
     "output_type": "stream",
     "text": [
      "Testing model...:   5%|▌         | 161/3217 [00:16<07:04,  7.19it/s]"
     ]
    },
    {
     "name": "stdout",
     "output_type": "stream",
     "text": [
      "recall = 0.8571428656578064\n",
      "precision = 0.8571428656578064\n",
      "f_05 = 0.8571428656578064\n"
     ]
    },
    {
     "name": "stderr",
     "output_type": "stream",
     "text": [
      "Testing model...:  10%|▉         | 319/3217 [00:31<04:16, 11.31it/s]"
     ]
    },
    {
     "name": "stdout",
     "output_type": "stream",
     "text": [
      "\n",
      "    SOURCE: ngài xẻ đầu tư xản suất mái bai , tầu dũ chụ\n",
      "    TARGET: ngài sẽ đầu tư sản xuất máy bay , tàu vũ trụ\n",
      " PREDICTED: ngài xẻ đầu tư sản xuất máy bay , nga vũ trụ\n",
      "TOKENS TARGET: [['ngài', 'sẽ', 'đầu', 'tư', 'sản', 'xuất', 'máy', 'bay', ',', 'tàu', 'vũ', 'trụ']]\n",
      "TOKENS PREDICTED: ['ngài', 'xẻ', 'đầu', 'tư', 'sản', 'xuất', 'máy', 'bay', ',', 'nga', 'vũ', 'trụ']\n",
      "BLEU OF SENTENCE 320\n",
      "BLEU_1: 0.8333333134651184\n",
      "BLEU_2: 0.7282190918922424\n",
      "BLEU_3: 0.6424382328987122\n",
      "BLEU_4: 0.585905909538269\n",
      "label_ids = tensor([1294,   38,   65,  363,  307,  295,  182,  434,    6,  842,  478,  593],\n",
      "       device='cuda:0')\n",
      "pred_ids = tensor([1294, 2647,   65,  363,  307,  295,  182,  434,    6, 1811,  478,  593],\n",
      "       device='cuda:0')\n",
      "recall = 0.8333333730697632\n",
      "precision = 0.8333333730697632\n",
      "f_05 = 0.8333333730697632\n"
     ]
    },
    {
     "name": "stderr",
     "output_type": "stream",
     "text": [
      "Testing model...:  15%|█▍        | 480/3217 [00:49<07:48,  5.85it/s]"
     ]
    },
    {
     "name": "stdout",
     "output_type": "stream",
     "text": [
      "\n",
      "    SOURCE: thì trường có bán nên mình cũng ko có chế\n",
      "    TARGET: thị trường có bán nên mình cũng không có chế\n",
      " PREDICTED: thì trường có bán lên mình cũng ko có chế\n",
      "TOKENS TARGET: [['thị', 'trường', 'có', 'bán', 'nên', 'mình', 'cũng', 'không', 'có', 'chế']]\n",
      "TOKENS PREDICTED: ['thì', 'trường', 'có', 'bán', 'lên', 'mình', 'cũng', 'ko', 'có', 'chế']\n",
      "BLEU OF SENTENCE 480\n",
      "BLEU_1: 0.699999988079071\n",
      "BLEU_2: 0.5577733516693115\n",
      "BLEU_3: 0.33879876136779785\n",
      "BLEU_4: 0.0\n",
      "label_ids = tensor([411, 168,  10, 626,  84,  94,  81,  15,  10, 401], device='cuda:0')\n",
      "pred_ids = tensor([ 115,  168,   10,  626,  139,   94,   81, 1370,   10,  401],\n",
      "       device='cuda:0')\n",
      "recall = 0.7000000476837158\n",
      "precision = 0.7000000476837158\n",
      "f_05 = 0.7000000476837158\n"
     ]
    },
    {
     "name": "stderr",
     "output_type": "stream",
     "text": [
      "Testing model...:  20%|█▉        | 640/3217 [01:12<07:24,  5.80it/s]"
     ]
    },
    {
     "name": "stdout",
     "output_type": "stream",
     "text": [
      "\n",
      "    SOURCE: mấy pác lanh quá . chắc cũng một đống người thích cỗ đặt gạch\n",
      "    TARGET: mấy bác lanh quá . chắc cũng một đống người thích cổ đặt gạch\n",
      " PREDICTED: mấy phác lạnh quá . chắc cũng một đống người thích có đặt gạch\n",
      "TOKENS TARGET: [['mấy', 'bác', 'lanh', 'quá', '.', 'chắc', 'cũng', 'một', 'đống', 'người', 'thích', 'cổ', 'đặt', 'gạch']]\n",
      "TOKENS PREDICTED: ['mấy', 'phác', 'lạnh', 'quá', '.', 'chắc', 'cũng', 'một', 'đống', 'người', 'thích', 'có', 'đặt', 'gạch']\n",
      "BLEU OF SENTENCE 640\n",
      "BLEU_1: 0.7857142686843872\n",
      "BLEU_2: 0.6953535079956055\n",
      "BLEU_3: 0.6229603886604309\n",
      "BLEU_4: 0.5757575631141663\n",
      "label_ids = tensor([ 969,  638, 2887,  210,    5,  424,   81,   11, 1358,   19,  200,  715,\n",
      "         292, 2846], device='cuda:0')\n",
      "pred_ids = tensor([ 969, 2422, 1039,  210,    5,  424,   81,   11, 1358,   19,  200,   10,\n",
      "         292, 2846], device='cuda:0')\n",
      "recall = 0.785714328289032\n",
      "precision = 0.785714328289032\n",
      "f_05 = 0.785714328289032\n"
     ]
    },
    {
     "name": "stderr",
     "output_type": "stream",
     "text": [
      "Testing model...:  25%|██▍       | 800/3217 [01:36<09:01,  4.46it/s]"
     ]
    },
    {
     "name": "stdout",
     "output_type": "stream",
     "text": [
      "\n",
      "    SOURCE: sao những lời nói khí nghe cứ xuất phát từ x nghe phát ói\n",
      "    TARGET: sao những lời nói khi nghe cứ xuất phát từ x nghe phát ói\n",
      " PREDICTED: sao những lời nói khi nghe cứ xuất phát từ x nghe phát triển\n",
      "TOKENS TARGET: [['sao', 'những', 'lời', 'nói', 'khi', 'nghe', 'cứ', 'xuất', 'phát', 'từ', 'x', 'nghe', 'phát', 'ói']]\n",
      "TOKENS PREDICTED: ['sao', 'những', 'lời', 'nói', 'khi', 'nghe', 'cứ', 'xuất', 'phát', 'từ', 'x', 'nghe', 'phát', 'triển']\n",
      "BLEU OF SENTENCE 800\n",
      "BLEU_1: 0.9285714030265808\n",
      "BLEU_2: 0.9258201122283936\n",
      "BLEU_3: 0.9227588176727295\n",
      "BLEU_4: 0.9193227291107178\n",
      "label_ids = tensor([  131,    13,   276,    45,    42,   245,   305,   295,   153,    54,\n",
      "         1249,   245,   153, 15723], device='cuda:0')\n",
      "pred_ids = tensor([ 131,   13,  276,   45,   42,  245,  305,  295,  153,   54, 1249,  245,\n",
      "         153,  253], device='cuda:0')\n",
      "recall = 0.9285714626312256\n",
      "precision = 0.9285714626312256\n",
      "f_05 = 0.9285714626312256\n"
     ]
    },
    {
     "name": "stderr",
     "output_type": "stream",
     "text": [
      "Testing model...:  30%|██▉       | 960/3217 [01:55<05:34,  6.76it/s]"
     ]
    },
    {
     "name": "stdout",
     "output_type": "stream",
     "text": [
      "\n",
      "    SOURCE: còn gặp ông sài nhớt nhật của xe bãi từ 94 đến 2000 mới thay\n",
      "    TARGET: còn gặp ông xài nhớt nhật của xe bãi từ 94 đến 2000 mới thay\n",
      " PREDICTED: còn gặp ông sai rụng nhật của xe bãi từ 94 đến 2000 mới thay\n",
      "TOKENS TARGET: [['còn', 'gặp', 'ông', 'xài', 'nhớt', 'nhật', 'của', 'xe', 'bãi', 'từ', '94', 'đến', '2000', 'mới', 'thay']]\n",
      "TOKENS PREDICTED: ['còn', 'gặp', 'ông', 'sai', 'rụng', 'nhật', 'của', 'xe', 'bãi', 'từ', '94', 'đến', '2000', 'mới', 'thay']\n",
      "BLEU OF SENTENCE 960\n",
      "BLEU_1: 0.8666666746139526\n",
      "BLEU_2: 0.8251983523368835\n",
      "BLEU_3: 0.7782849669456482\n",
      "BLEU_4: 0.7241577506065369\n",
      "label_ids = tensor([  119,   447,   108,  3716, 15285,   908,    14,   296,  1497,    54,\n",
      "         5126,    48,  1817,   161,   138], device='cuda:0')\n",
      "pred_ids = tensor([ 119,  447,  108,  531, 4569,  908,   14,  296, 1497,   54, 5126,   48,\n",
      "        1817,  161,  138], device='cuda:0')\n",
      "recall = 0.8666667938232422\n",
      "precision = 0.8666667938232422\n",
      "f_05 = 0.8666667938232422\n"
     ]
    },
    {
     "name": "stderr",
     "output_type": "stream",
     "text": [
      "Testing model...:  35%|███▍      | 1120/3217 [02:18<05:53,  5.93it/s]"
     ]
    },
    {
     "name": "stdout",
     "output_type": "stream",
     "text": [
      "\n",
      "    SOURCE: dở 12 cửa ngục trong vườn dú sữa\n",
      "    TARGET: dỡ 12 cửa ngục trong vườn vú sữa\n",
      " PREDICTED: dở 12 cửa ngục trong vườn dự sữa\n",
      "TOKENS TARGET: [['dỡ', '12', 'cửa', 'ngục', 'trong', 'vườn', 'vú', 'sữa']]\n",
      "TOKENS PREDICTED: ['dở', '12', 'cửa', 'ngục', 'trong', 'vườn', 'dự', 'sữa']\n",
      "BLEU OF SENTENCE 1120\n",
      "BLEU_1: 0.75\n",
      "BLEU_2: 0.6546536684036255\n",
      "BLEU_3: 0.5984084606170654\n",
      "BLEU_4: 0.5410822629928589\n",
      "label_ids = tensor([2838, 1048,  596, 3252,   20, 1563, 1348, 1876], device='cuda:0')\n",
      "pred_ids = tensor([2329, 1048,  596, 3252,   20, 1563,  346, 1876], device='cuda:0')\n",
      "recall = 0.75\n",
      "precision = 0.75\n",
      "f_05 = 0.75\n"
     ]
    },
    {
     "name": "stderr",
     "output_type": "stream",
     "text": [
      "Testing model...:  40%|███▉      | 1280/3217 [02:39<07:37,  4.23it/s]"
     ]
    },
    {
     "name": "stdout",
     "output_type": "stream",
     "text": [
      "\n",
      "    SOURCE: nói xây mấy trăm căn nhà mà không xây căn nhà mẩu thì bán cho ai\n",
      "    TARGET: nói xây mấy trăm căn nhà mà không xây căn nhà mẫu thì bán cho ai\n",
      " PREDICTED: xây dựng căn trăm căn hộ không xây căn phòng cho ai\n",
      "TOKENS TARGET: [['<unk>', 'xây', '<unk>', 'trăm', 'căn', '<unk>', '<unk>', 'không', 'xây', 'căn', '<unk>', 'mẫu', '<unk>', '<unk>', 'cho', 'ai']]\n",
      "TOKENS PREDICTED: ['xây', 'dựng', 'căn', 'trăm', 'căn', 'hộ', 'không', 'xây', 'căn', 'phòng', 'cho', 'ai']\n",
      "BLEU OF SENTENCE 1280\n",
      "BLEU_1: 0.47768755461872425\n",
      "BLEU_2: 0.3527956666627773\n",
      "BLEU_3: 0.20737698195587523\n",
      "BLEU_4: 0.0\n",
      "label_ids = tensor([  3, 384,   3, 520, 556,   3,   3,  15, 384, 556,   3, 563,   3,   3,\n",
      "         28, 180], device='cuda:0')\n",
      "pred_ids = tensor([384, 388, 556, 520, 556, 724,  15, 384, 556, 290,  28, 180,   2,   2,\n",
      "          2,   2], device='cuda:0')\n",
      "recall = 0.125\n",
      "precision = 0.1041666716337204\n",
      "f_05 = 0.1071428582072258\n"
     ]
    },
    {
     "name": "stderr",
     "output_type": "stream",
     "text": [
      "Testing model...:  45%|████▍     | 1440/3217 [03:02<03:49,  7.74it/s]"
     ]
    },
    {
     "name": "stdout",
     "output_type": "stream",
     "text": [
      "\n",
      "    SOURCE: xe nào chạy võ lớp cũng mòn ko điều đâu\n",
      "    TARGET: xe nào chạy vỏ lốp cũng mòn không đều đâu\n",
      " PREDICTED: xe nào chạy võ lớp cũng mòn ko điều đâu\n",
      "TOKENS TARGET: [['xe', 'nào', 'chạy', 'vỏ', 'lốp', 'cũng', 'mòn', 'không', 'đều', 'đâu']]\n",
      "TOKENS PREDICTED: ['xe', 'nào', 'chạy', 'võ', 'lớp', 'cũng', 'mòn', 'ko', 'điều', 'đâu']\n",
      "BLEU OF SENTENCE 1440\n",
      "BLEU_1: 0.6000000238418579\n",
      "BLEU_2: 0.4472135901451111\n",
      "BLEU_3: 0.2924017906188965\n",
      "BLEU_4: 0.0\n",
      "label_ids = tensor([ 296,   72,  595, 1261, 6305,   81, 2341,   15,  205,  368],\n",
      "       device='cuda:0')\n",
      "pred_ids = tensor([ 296,   72,  595, 4439,  594,   81, 2341, 1370,   34,  368],\n",
      "       device='cuda:0')\n",
      "recall = 0.6000000238418579\n",
      "precision = 0.6000000238418579\n",
      "f_05 = 0.6000000238418579\n"
     ]
    },
    {
     "name": "stderr",
     "output_type": "stream",
     "text": [
      "Testing model...:  50%|████▉     | 1600/3217 [03:24<04:14,  6.36it/s]"
     ]
    },
    {
     "name": "stdout",
     "output_type": "stream",
     "text": [
      "\n",
      "    SOURCE: đả trốn đi vươt biên gần chục lần\n",
      "    TARGET: đã trốn đi vượt biên gần chục lần\n",
      " PREDICTED: đã trốn đi vượt biên gần chục lần\n",
      "TOKENS TARGET: [['đã', 'trốn', 'đi', 'vượt', 'biên', 'gần', 'chục', 'lần']]\n",
      "TOKENS PREDICTED: ['đã', 'trốn', 'đi', 'vượt', 'biên', 'gần', 'chục', 'lần']\n",
      "BLEU OF SENTENCE 1600\n",
      "BLEU_1: 1.0\n",
      "BLEU_2: 1.0\n",
      "BLEU_3: 1.0\n",
      "BLEU_4: 1.0\n",
      "label_ids = tensor([  25, 1725,   80,  731, 1219,  317, 2077,  214], device='cuda:0')\n",
      "pred_ids = tensor([  25, 1725,   80,  731, 1219,  317, 2077,  214], device='cuda:0')\n",
      "recall = 1.0\n",
      "precision = 1.0\n",
      "f_05 = 1.0\n"
     ]
    },
    {
     "name": "stderr",
     "output_type": "stream",
     "text": [
      "Testing model...:  55%|█████▍    | 1760/3217 [03:45<04:48,  5.06it/s]"
     ]
    },
    {
     "name": "stdout",
     "output_type": "stream",
     "text": [
      "\n",
      "    SOURCE: bửa nay anh phát biểu ý nghĩa ghê\n",
      "    TARGET: bữa nay anh phát biểu ý nghĩa ghê\n",
      " PREDICTED: hôm nay anh phát biểu ý nghĩa ghê\n",
      "TOKENS TARGET: [['bữa', 'nay', 'anh', 'phát', 'biểu', 'ý', 'nghĩa', 'ghê']]\n",
      "TOKENS PREDICTED: ['hôm', 'nay', 'anh', 'phát', 'biểu', 'ý', 'nghĩa', 'ghê']\n",
      "BLEU OF SENTENCE 1760\n",
      "BLEU_1: 0.875\n",
      "BLEU_2: 0.8660253882408142\n",
      "BLEU_3: 0.8549879789352417\n",
      "BLEU_4: 0.8408964276313782\n",
      "label_ids = tensor([1133,  189,   97,  153,  497,  114,  221, 2752], device='cuda:0')\n",
      "pred_ids = tensor([ 422,  189,   97,  153,  497,  114,  221, 2752], device='cuda:0')\n",
      "recall = 0.875\n",
      "precision = 0.875\n",
      "f_05 = 0.875\n"
     ]
    },
    {
     "name": "stderr",
     "output_type": "stream",
     "text": [
      "Testing model...:  60%|█████▉    | 1920/3217 [04:06<02:57,  7.30it/s]"
     ]
    },
    {
     "name": "stdout",
     "output_type": "stream",
     "text": [
      "\n",
      "    SOURCE: a em siu tầm thì múc nhé\n",
      "    TARGET: anh em sưu tầm thì múc nhé\n",
      " PREDICTED: a em siêu tầm thì mục nhé\n",
      "TOKENS TARGET: [['anh', 'em', 'sưu', 'tầm', 'thì', 'múc', 'nhé']]\n",
      "TOKENS PREDICTED: ['a', 'em', 'siêu', 'tầm', 'thì', 'mục', 'nhé']\n",
      "BLEU OF SENTENCE 1920\n",
      "BLEU_1: 0.5714285969734192\n",
      "BLEU_2: 0.30860671401023865\n",
      "BLEU_3: 0.0\n",
      "BLEU_4: 0.0\n",
      "label_ids = tensor([  97,  261, 2012,  717,  115, 5888, 1217], device='cuda:0')\n",
      "pred_ids = tensor([1327,  261,  910,  717,  115,  513, 1217], device='cuda:0')\n",
      "recall = 0.5714285969734192\n",
      "precision = 0.5714285969734192\n",
      "f_05 = 0.5714285969734192\n"
     ]
    },
    {
     "name": "stderr",
     "output_type": "stream",
     "text": [
      "Testing model...:  65%|██████▍   | 2080/3217 [04:26<02:13,  8.51it/s]"
     ]
    },
    {
     "name": "stdout",
     "output_type": "stream",
     "text": [
      "\n",
      "    SOURCE: đưa râu muống vượt đại dương\n",
      "    TARGET: đưa rau muống vượt đại dương\n",
      " PREDICTED: đưa râu râu vượt đại dương\n",
      "TOKENS TARGET: [['đưa', 'rau', '<unk>', 'vượt', 'đại', 'dương']]\n",
      "TOKENS PREDICTED: ['đưa', 'râu', 'râu', 'vượt', 'đại', 'dương']\n",
      "BLEU OF SENTENCE 2080\n",
      "BLEU_1: 0.6666666865348816\n",
      "BLEU_2: 0.5163977742195129\n",
      "BLEU_3: 0.40548014640808105\n",
      "BLEU_4: 0.0\n",
      "label_ids = tensor([ 229, 1895,    3,  731,  238,  765], device='cuda:0')\n",
      "pred_ids = tensor([ 229, 3279, 3279,  731,  238,  765], device='cuda:0')\n",
      "recall = 0.6666666865348816\n",
      "precision = 0.6666666865348816\n",
      "f_05 = 0.6666666865348816\n"
     ]
    },
    {
     "name": "stderr",
     "output_type": "stream",
     "text": [
      "Testing model...:  70%|██████▉   | 2240/3217 [04:47<02:45,  5.92it/s]"
     ]
    },
    {
     "name": "stdout",
     "output_type": "stream",
     "text": [
      "\n",
      "    SOURCE: thật là tài tình kiệt suất\n",
      "    TARGET: thật là tài tình kiệt xuất\n",
      " PREDICTED: thật là tài tình kiệt xuất\n",
      "TOKENS TARGET: [['thật', 'là', 'tài', 'tình', 'kiệt', 'xuất']]\n",
      "TOKENS PREDICTED: ['thật', 'là', 'tài', 'tình', 'kiệt', 'xuất']\n",
      "BLEU OF SENTENCE 2240\n",
      "BLEU_1: 1.0\n",
      "BLEU_2: 1.0\n",
      "BLEU_3: 1.0\n",
      "BLEU_4: 1.0\n",
      "label_ids = tensor([ 106,    9,  364,  280, 2220,  295], device='cuda:0')\n",
      "pred_ids = tensor([ 106,    9,  364,  280, 2220,  295], device='cuda:0')\n",
      "recall = 1.0\n",
      "precision = 1.0\n",
      "f_05 = 1.0\n"
     ]
    },
    {
     "name": "stderr",
     "output_type": "stream",
     "text": [
      "Testing model...:  75%|███████▍  | 2400/3217 [05:09<03:15,  4.18it/s]"
     ]
    },
    {
     "name": "stdout",
     "output_type": "stream",
     "text": [
      "\n",
      "    SOURCE: tôi thích nhất nữ cảnh sát phát lên bộ đồ mào sanh với bộ mào vàng như thế đẹp nhất\n",
      "    TARGET: tôi thích nhất nữ cảnh sát khoác lên bộ đồ màu xanh với bộ màu vàng như thế đẹp nhất\n",
      " PREDICTED: tôi thích nhất nữ cảnh sát phát lên bộ đồ nào sang với bộ não vàng như thế đẹp nhất\n",
      "TOKENS TARGET: [['tôi', 'thích', 'nhất', 'nữ', 'cảnh', 'sát', 'khoác', 'lên', 'bộ', 'đồ', 'màu', 'xanh', 'với', 'bộ', 'màu', 'vàng', 'như', 'thế', 'đẹp', 'nhất']]\n",
      "TOKENS PREDICTED: ['tôi', 'thích', 'nhất', 'nữ', 'cảnh', 'sát', 'phát', 'lên', 'bộ', 'đồ', 'nào', 'sang', 'với', 'bộ', 'não', 'vàng', 'như', 'thế', 'đẹp', 'nhất']\n",
      "BLEU OF SENTENCE 2400\n",
      "BLEU_1: 0.800000011920929\n",
      "BLEU_2: 0.7108186483383179\n",
      "BLEU_3: 0.6078247427940369\n",
      "BLEU_4: 0.5069487690925598\n",
      "label_ids = tensor([   8,  200,   95,  281,  472,  493, 3864,  139,  133,  334,  393,  683,\n",
      "          27,  133,  393, 1130,   39,   37,  479,   95], device='cuda:0')\n",
      "pred_ids = tensor([   8,  200,   95,  281,  472,  493,  153,  139,  133,  334,   72,  721,\n",
      "          27,  133,  285, 1130,   39,   37,  479,   95], device='cuda:0')\n",
      "recall = 0.800000011920929\n",
      "precision = 0.800000011920929\n",
      "f_05 = 0.800000011920929\n"
     ]
    },
    {
     "name": "stderr",
     "output_type": "stream",
     "text": [
      "Testing model...:  80%|███████▉  | 2560/3217 [05:34<02:20,  4.69it/s]"
     ]
    },
    {
     "name": "stdout",
     "output_type": "stream",
     "text": [
      "\n",
      "    SOURCE: đấy là cái cớ để sai thải nhân viên cắt giảm biên chế thôi\n",
      "    TARGET: đấy là cái cớ để sa thải nhân viên cắt giảm biên chế thôi\n",
      " PREDICTED: đấy là cái cớ để sai thải nhân viên cắt giảm biên chế thôi\n",
      "TOKENS TARGET: [['đấy', 'là', 'cái', 'cớ', 'để', 'sa', 'thải', 'nhân', 'viên', 'cắt', 'giảm', 'biên', 'chế', 'thôi']]\n",
      "TOKENS PREDICTED: ['đấy', 'là', 'cái', 'cớ', 'để', 'sai', 'thải', 'nhân', 'viên', 'cắt', 'giảm', 'biên', 'chế', 'thôi']\n",
      "BLEU OF SENTENCE 2560\n",
      "BLEU_1: 0.9285714030265808\n",
      "BLEU_2: 0.8864052891731262\n",
      "BLEU_3: 0.8383820652961731\n",
      "BLEU_4: 0.7825422883033752\n",
      "label_ids = tensor([ 349,    9,   66, 1728,   33, 1400,  978,  142,  234,  809,  495, 1219,\n",
      "         401,  507], device='cuda:0')\n",
      "pred_ids = tensor([ 349,    9,   66, 1728,   33,  531,  978,  142,  234,  809,  495, 1219,\n",
      "         401,  507], device='cuda:0')\n",
      "recall = 0.9285714626312256\n",
      "precision = 0.9285714626312256\n",
      "f_05 = 0.9285714626312256\n"
     ]
    },
    {
     "name": "stderr",
     "output_type": "stream",
     "text": [
      "Testing model...:  85%|████████▍ | 2720/3217 [06:00<01:09,  7.11it/s]"
     ]
    },
    {
     "name": "stdout",
     "output_type": "stream",
     "text": [
      "\n",
      "    SOURCE: đi buôn de chai , đồng lát\n",
      "    TARGET: đi buôn ve chai , đồng nát\n",
      " PREDICTED: đi buôn de chai , đồng lát\n",
      "TOKENS TARGET: [['đi', 'buôn', 've', 'chai', ',', 'đồng', 'nát']]\n",
      "TOKENS PREDICTED: ['đi', 'buôn', 'de', 'chai', ',', 'đồng', 'lát']\n",
      "BLEU OF SENTENCE 2720\n",
      "BLEU_1: 0.7142857313156128\n",
      "BLEU_2: 0.5976142883300781\n",
      "BLEU_3: 0.41491323709487915\n",
      "BLEU_4: 0.0\n",
      "label_ids = tensor([  80, 1987, 1004, 1535,    6,  208, 2315], device='cuda:0')\n",
      "pred_ids = tensor([  80, 1987,  803, 1535,    6,  208, 1991], device='cuda:0')\n",
      "recall = 0.7142857313156128\n",
      "precision = 0.7142857313156128\n",
      "f_05 = 0.7142857313156128\n"
     ]
    },
    {
     "name": "stderr",
     "output_type": "stream",
     "text": [
      "Testing model...:  90%|████████▉ | 2880/3217 [06:28<01:16,  4.43it/s]"
     ]
    },
    {
     "name": "stdout",
     "output_type": "stream",
     "text": [
      "\n",
      "    SOURCE: em cũng còn thắt mắc là kiểm định chất lượng giáo dục ai được hưởng lợi nhiều nhất ạ\n",
      "    TARGET: em cũng còn thắc mắc là kiểm định chất lượng giáo dục ai được hưởng lợi nhiều nhất ạ\n",
      " PREDICTED: em cũng còn thắt mắc là kiểm định chất lượng giáo dục ai được hưởng lợi nhiều nhất ạ\n",
      "TOKENS TARGET: [['em', 'cũng', 'còn', 'thắc', 'mắc', 'là', 'kiểm', 'định', 'chất', 'lượng', 'giáo', 'dục', 'ai', 'được', 'hưởng', 'lợi', 'nhiều', 'nhất', 'ạ']]\n",
      "TOKENS PREDICTED: ['em', 'cũng', 'còn', 'thắt', 'mắc', 'là', 'kiểm', 'định', 'chất', 'lượng', 'giáo', 'dục', 'ai', 'được', 'hưởng', 'lợi', 'nhiều', 'nhất', 'ạ']\n",
      "BLEU OF SENTENCE 2880\n",
      "BLEU_1: 0.9473684430122375\n",
      "BLEU_2: 0.9176629781723022\n",
      "BLEU_3: 0.8851464986801147\n",
      "BLEU_4: 0.8492326736450195\n",
      "label_ids = tensor([ 261,   81,  119, 2181,  820,    9,  487,  160,  267,  206,  271,  516,\n",
      "         180,   24,  480,  504,   62,   95, 1501], device='cuda:0')\n",
      "pred_ids = tensor([ 261,   81,  119, 2436,  820,    9,  487,  160,  267,  206,  271,  516,\n",
      "         180,   24,  480,  504,   62,   95, 1501], device='cuda:0')\n",
      "recall = 0.9473684430122375\n",
      "precision = 0.9473684430122375\n",
      "f_05 = 0.9473684430122375\n"
     ]
    },
    {
     "name": "stderr",
     "output_type": "stream",
     "text": [
      "Testing model...:  94%|█████████▍| 3040/3217 [06:58<00:34,  5.13it/s]"
     ]
    },
    {
     "name": "stdout",
     "output_type": "stream",
     "text": [
      "\n",
      "    SOURCE: thây luôn thằng đánh máy\n",
      "    TARGET: thay luôn thằng đánh máy\n",
      " PREDICTED: thây luôn thằng đánh máy\n",
      "TOKENS TARGET: [['thay', 'luôn', 'thằng', 'đánh', 'máy']]\n",
      "TOKENS PREDICTED: ['thây', 'luôn', 'thằng', 'đánh', 'máy']\n",
      "BLEU OF SENTENCE 3040\n",
      "BLEU_1: 0.800000011920929\n",
      "BLEU_2: 0.7745966911315918\n",
      "BLEU_3: 0.736806333065033\n",
      "BLEU_4: 0.6687402725219727\n",
      "label_ids = tensor([ 138,  359, 2203,  423,  182], device='cuda:0')\n",
      "pred_ids = tensor([5607,  359, 2203,  423,  182], device='cuda:0')\n",
      "recall = 0.800000011920929\n",
      "precision = 0.800000011920929\n",
      "f_05 = 0.800000011920929\n"
     ]
    },
    {
     "name": "stderr",
     "output_type": "stream",
     "text": [
      "Testing model...:  99%|█████████▉| 3200/3217 [07:33<00:02,  5.78it/s]"
     ]
    },
    {
     "name": "stdout",
     "output_type": "stream",
     "text": [
      "\n",
      "    SOURCE: đi viện gây tê song lắn chứ lắn kiểu này đau kinh khủng\n",
      "    TARGET: đi viện gây tê xong nắn , chứ nắn kiểu này đau kinh khủng\n",
      " PREDICTED: đi viện gây tê song lắm chứ lần kiểu này đau kinh khủng\n",
      "TOKENS TARGET: [['đi', 'viện', 'gây', 'tê', 'xong', 'nắn', ',', 'chứ', 'nắn', 'kiểu', 'này', 'đau', 'kinh', 'khủng']]\n",
      "TOKENS PREDICTED: ['đi', 'viện', 'gây', 'tê', 'song', 'lắm', 'chứ', 'lần', 'kiểu', 'này', 'đau', 'kinh', 'khủng']\n",
      "BLEU OF SENTENCE 3200\n",
      "BLEU_1: 0.7122777655383002\n",
      "BLEU_2: 0.6202681013389307\n",
      "BLEU_3: 0.5450583681061274\n",
      "BLEU_4: 0.4605329858668774\n",
      "label_ids = tensor([  80,  656,  469, 2152, 1512, 3895,    6,  654, 3895,  621,   23,  681,\n",
      "         179,  682], device='cuda:0')\n",
      "pred_ids = tensor([  80,  656,  469, 2152, 1139,  853,  654,  214,  621,   23,  681,  179,\n",
      "         682,    2], device='cuda:0')\n",
      "recall = 0.2857142984867096\n",
      "precision = 0.2857142984867096\n",
      "f_05 = 0.2857142984867096\n"
     ]
    },
    {
     "name": "stderr",
     "output_type": "stream",
     "text": [
      "Testing model...: 100%|██████████| 3217/3217 [07:38<00:00,  7.02it/s]\n"
     ]
    },
    {
     "name": "stdout",
     "output_type": "stream",
     "text": [
      "recall = 0.7149646282196045\n",
      "precision = 0.7385784387588501\n",
      "f_05 = 0.7248176336288452\n",
      "     bleu_1    bleu_2    bleu_3    bleu_4    recall  precision      f_05\n",
      "0  0.804125  0.728959  0.662792  0.604916  0.714965   0.738578  0.724818\n"
     ]
    }
   ],
   "source": [
    "test.test(cf)"
   ]
  }
 ],
 "metadata": {
  "kaggle": {
   "accelerator": "gpu",
   "dataSources": [
    {
     "datasetId": 5041650,
     "sourceId": 8458429,
     "sourceType": "datasetVersion"
    }
   ],
   "dockerImageVersionId": 30699,
   "isGpuEnabled": true,
   "isInternetEnabled": true,
   "language": "python",
   "sourceType": "notebook"
  },
  "kernelspec": {
   "display_name": "Python 3",
   "language": "python",
   "name": "python3"
  },
  "language_info": {
   "codemirror_mode": {
    "name": "ipython",
    "version": 3
   },
   "file_extension": ".py",
   "mimetype": "text/x-python",
   "name": "python",
   "nbconvert_exporter": "python",
   "pygments_lexer": "ipython3",
   "version": "3.10.13"
  },
  "papermill": {
   "default_parameters": {},
   "duration": 6136.526082,
   "end_time": "2024-05-20T04:06:46.661594",
   "environment_variables": {},
   "exception": null,
   "input_path": "__notebook__.ipynb",
   "output_path": "__notebook__.ipynb",
   "parameters": {},
   "start_time": "2024-05-20T02:24:30.135512",
   "version": "2.5.0"
  }
 },
 "nbformat": 4,
 "nbformat_minor": 5
}
