{
 "cells": [
  {
   "cell_type": "code",
   "execution_count": 1,
   "id": "acab7cea",
   "metadata": {
    "_cell_guid": "b1076dfc-b9ad-4769-8c92-a6c4dae69d19",
    "_uuid": "8f2839f25d086af736a60e9eeb907d3b93b6e0e5",
    "execution": {
     "iopub.execute_input": "2024-05-25T09:15:28.763186Z",
     "iopub.status.busy": "2024-05-25T09:15:28.762810Z",
     "iopub.status.idle": "2024-05-25T09:15:31.001206Z",
     "shell.execute_reply": "2024-05-25T09:15:31.000014Z"
    },
    "papermill": {
     "duration": 2.246076,
     "end_time": "2024-05-25T09:15:31.003969",
     "exception": false,
     "start_time": "2024-05-25T09:15:28.757893",
     "status": "completed"
    },
    "tags": []
   },
   "outputs": [
    {
     "name": "stdout",
     "output_type": "stream",
     "text": [
      "Cloning into 'vn_spelling_correction_bart_model'...\r\n",
      "remote: Enumerating objects: 706, done.\u001b[K\r\n",
      "remote: Counting objects: 100% (126/126), done.\u001b[K\r\n",
      "remote: Compressing objects: 100% (80/80), done.\u001b[K\r\n",
      "remote: Total 706 (delta 79), reused 89 (delta 46), pack-reused 580\u001b[K\r\n",
      "Receiving objects: 100% (706/706), 437.83 KiB | 2.29 MiB/s, done.\r\n",
      "Resolving deltas: 100% (446/446), done.\r\n"
     ]
    }
   ],
   "source": [
    "!git clone https://github.com/pnthi1604/vn_spelling_correction_bart_model"
   ]
  },
  {
   "cell_type": "code",
   "execution_count": 2,
   "id": "7318dac1",
   "metadata": {
    "execution": {
     "iopub.execute_input": "2024-05-25T09:15:31.013885Z",
     "iopub.status.busy": "2024-05-25T09:15:31.013593Z",
     "iopub.status.idle": "2024-05-25T09:15:45.188102Z",
     "shell.execute_reply": "2024-05-25T09:15:45.186946Z"
    },
    "papermill": {
     "duration": 14.182004,
     "end_time": "2024-05-25T09:15:45.190546",
     "exception": false,
     "start_time": "2024-05-25T09:15:31.008542",
     "status": "completed"
    },
    "tags": []
   },
   "outputs": [
    {
     "name": "stdout",
     "output_type": "stream",
     "text": [
      "Collecting torcheval\r\n",
      "  Downloading torcheval-0.0.7-py3-none-any.whl.metadata (8.6 kB)\r\n",
      "Requirement already satisfied: typing-extensions in /opt/conda/lib/python3.10/site-packages (from torcheval) (4.9.0)\r\n",
      "Downloading torcheval-0.0.7-py3-none-any.whl (179 kB)\r\n",
      "\u001b[2K   \u001b[90m━━━━━━━━━━━━━━━━━━━━━━━━━━━━━━━━━━━━━━━━\u001b[0m \u001b[32m179.2/179.2 kB\u001b[0m \u001b[31m4.0 MB/s\u001b[0m eta \u001b[36m0:00:00\u001b[0m\r\n",
      "\u001b[?25hInstalling collected packages: torcheval\r\n",
      "Successfully installed torcheval-0.0.7\r\n"
     ]
    }
   ],
   "source": [
    "!pip install torcheval"
   ]
  },
  {
   "cell_type": "code",
   "execution_count": 3,
   "id": "4fc9ff08",
   "metadata": {
    "execution": {
     "iopub.execute_input": "2024-05-25T09:15:45.201239Z",
     "iopub.status.busy": "2024-05-25T09:15:45.200910Z",
     "iopub.status.idle": "2024-05-25T09:15:56.366071Z",
     "shell.execute_reply": "2024-05-25T09:15:56.365073Z"
    },
    "papermill": {
     "duration": 11.173312,
     "end_time": "2024-05-25T09:15:56.368712",
     "exception": false,
     "start_time": "2024-05-25T09:15:45.195400",
     "status": "completed"
    },
    "tags": []
   },
   "outputs": [],
   "source": [
    "from vn_spelling_correction_bart_model import train, test, config"
   ]
  },
  {
   "cell_type": "code",
   "execution_count": 4,
   "id": "4421b992",
   "metadata": {
    "execution": {
     "iopub.execute_input": "2024-05-25T09:15:56.380492Z",
     "iopub.status.busy": "2024-05-25T09:15:56.379911Z",
     "iopub.status.idle": "2024-05-25T09:15:56.445115Z",
     "shell.execute_reply": "2024-05-25T09:15:56.444066Z"
    },
    "papermill": {
     "duration": 0.073429,
     "end_time": "2024-05-25T09:15:56.447223",
     "exception": false,
     "start_time": "2024-05-25T09:15:56.373794",
     "status": "completed"
    },
    "tags": []
   },
   "outputs": [
    {
     "data": {
      "text/plain": [
       "{'base_dir': '/kaggle/working',\n",
       " 'tokenizer_tgt': '/kaggle/input/1m-mask-vi-and-vi-ds/tokenizer/tokenizer_tgt.json',\n",
       " 'tokenizer_src': '/kaggle/input/1m-mask-vi-and-vi-ds/tokenizer/tokenizer_src.json',\n",
       " 'use_tokenizer': 'huggingface',\n",
       " 'special_tokens': ['<s>', '</s>', '<pad>', '<unk>', '<mask>'],\n",
       " 'vocab_size': 30000,\n",
       " 'min_frequency': 2,\n",
       " 'model_folder': '/kaggle/working/model',\n",
       " 'model_basename': 'model_',\n",
       " 'model_bart_basename': 'bart_model_',\n",
       " 'model_inputs_embeds': 'inputs_embeds_',\n",
       " 'model_decoder_inputs_embeds': 'decoder_inputs_embeds_',\n",
       " 'model_out': 'out_',\n",
       " 'preload': 'latest',\n",
       " 'data': '/kaggle/working/data',\n",
       " 'log_dir': '/kaggle/working/log',\n",
       " 'log_files': '/kaggle/working/log/log_files',\n",
       " 'loss_train': '/kaggle/working/log/log_files/loss_train.json',\n",
       " 'loss_val': '/kaggle/working/log/log_files/loss_val.json',\n",
       " 'loss_train_step': '/kaggle/working/log/log_files/loss_train_step.json',\n",
       " 'loss_val_step': '/kaggle/working/log/log_files/loss_val_step.json',\n",
       " 'timestep_train': '/kaggle/working/log/log_files/timestep_train.json',\n",
       " 'timestep_val': '/kaggle/working/log/log_files/timestep_val.json',\n",
       " 'timestep_train_and_val': '/kaggle/working/log/log_files/timestep_train_and_val.json',\n",
       " 'lang_src': 'noise_vi',\n",
       " 'lang_tgt': 'vi',\n",
       " 'train_ds': '/kaggle/input/1m-mask-vi-and-vi-ds/train.csv',\n",
       " 'val_ds': None,\n",
       " 'test_ds': None,\n",
       " 'corpus': None,\n",
       " 'max_len': 100,\n",
       " 'model_train': 'bart_with_embedding',\n",
       " 'step_train': None,\n",
       " 'pretrain': False,\n",
       " 'continue_step': False,\n",
       " 'batch_train': 32,\n",
       " 'batch_val': 32,\n",
       " 'batch_test': 1,\n",
       " 'num_steps': 90000,\n",
       " 'val_steps': 3000,\n",
       " 'd_model': 768,\n",
       " 'encoder_layers': 6,\n",
       " 'decoder_layers': 6,\n",
       " 'encoder_attention_heads': 12,\n",
       " 'decoder_attention_heads': 12,\n",
       " 'decoder_ffn_dim': 3072,\n",
       " 'encoder_ffn_dim': 3072,\n",
       " 'activation_function': 'gelu',\n",
       " 'dropout': 0.15,\n",
       " 'attention_dropout': 0.1,\n",
       " 'activation_dropout': 0.1,\n",
       " 'classifier_dropout': 0.0,\n",
       " 'max_position_embeddings': 100,\n",
       " 'init_std': 0.02,\n",
       " 'encoder_layerdrop': 0.0,\n",
       " 'decoder_layerdrop': 0.0,\n",
       " 'scale_embedding': False,\n",
       " 'num_beams': 4,\n",
       " 'init_type': 'xavier',\n",
       " 'checkpoint_inputs_embeds': None,\n",
       " 'checkpoint_decoder_inputs_embeds': None,\n",
       " 'checkpoint_bart_model': None,\n",
       " 'checkpoint_out': None,\n",
       " 'share_tgt_emb_and_out': False,\n",
       " 'weight_decay': 0.0002,\n",
       " 'lr': 0.3,\n",
       " 'eps': 1e-09,\n",
       " 'betas': (0.9, 0.98),\n",
       " 'label_smoothing': 0.01,\n",
       " 'warmup_steps': 4000,\n",
       " 'device': 'cuda',\n",
       " 'f_beta': 0.5,\n",
       " 'beams': [2],\n",
       " 'use_pytorch_metric': True,\n",
       " 'petrain': True}"
      ]
     },
     "execution_count": 4,
     "metadata": {},
     "output_type": "execute_result"
    }
   ],
   "source": [
    "BART = \"bart\"\n",
    "BART_WITH_EMBEDDING = \"bart_with_embedding\"\n",
    "BART_SEQ2SEQ = \"bart_seq2seq\"\n",
    "\n",
    "cf = config.get_config(\"/kaggle/working\")\n",
    "cf[\"tokenizer_src\"] = \"/kaggle/input/1m-mask-vi-and-vi-ds/tokenizer/tokenizer_src.json\"\n",
    "cf[\"tokenizer_tgt\"] = \"/kaggle/input/1m-mask-vi-and-vi-ds/tokenizer/tokenizer_tgt.json\"\n",
    "cf[\"train_ds\"] = \"/kaggle/input/1m-mask-vi-and-vi-ds/train.csv\"\n",
    "cf[\"batch_train\"] = 32\n",
    "cf[\"batch_val\"] = 32\n",
    "cf[\"model_train\"] = BART_WITH_EMBEDDING\n",
    "cf[\"num_steps\"] = 90000\n",
    "cf[\"val_steps\"] = 3000\n",
    "cf[\"max_len\"] = 100\n",
    "cf[\"lr\"] = 0.3\n",
    "cf[\"dropout\"] = 0.15\n",
    "cf[\"weight_decay\"] = 2e-4\n",
    "cf[\"init_type\"] = \"xavier\" \n",
    "cf[\"use_pytorch_metric\"] = True\n",
    "cf[\"petrain\"] = True\n",
    "cf"
   ]
  },
  {
   "cell_type": "code",
   "execution_count": 5,
   "id": "e9b0c22c",
   "metadata": {
    "execution": {
     "iopub.execute_input": "2024-05-25T09:15:56.457986Z",
     "iopub.status.busy": "2024-05-25T09:15:56.457695Z",
     "iopub.status.idle": "2024-05-25T09:16:15.572423Z",
     "shell.execute_reply": "2024-05-25T09:16:15.570939Z"
    },
    "papermill": {
     "duration": 19.122745,
     "end_time": "2024-05-25T09:16:15.574871",
     "exception": false,
     "start_time": "2024-05-25T09:15:56.452126",
     "status": "completed"
    },
    "tags": []
   },
   "outputs": [],
   "source": [
    "%cp -r /kaggle/input/pretrained-dataset-60k-step/60k_step/* /kaggle/working"
   ]
  },
  {
   "cell_type": "code",
   "execution_count": 6,
   "id": "df3900d6",
   "metadata": {
    "execution": {
     "iopub.execute_input": "2024-05-25T09:16:15.587072Z",
     "iopub.status.busy": "2024-05-25T09:16:15.586535Z",
     "iopub.status.idle": "2024-05-25T13:15:35.308092Z",
     "shell.execute_reply": "2024-05-25T13:15:35.307071Z"
    },
    "papermill": {
     "duration": 14359.730378,
     "end_time": "2024-05-25T13:15:35.310541",
     "exception": false,
     "start_time": "2024-05-25T09:16:15.580163",
     "status": "completed"
    },
    "tags": []
   },
   "outputs": [
    {
     "name": "stdout",
     "output_type": "stream",
     "text": [
      "Created:\n",
      "/kaggle/working/model\n",
      "/kaggle/working/log\n",
      "/kaggle/working/log/log_files\n",
      "====================================\n",
      "/kaggle/input/1m-mask-vi-and-vi-ds/tokenizer/tokenizer_src.json\n",
      "/kaggle/input/1m-mask-vi-and-vi-ds/tokenizer/tokenizer_tgt.json\n",
      "Read tokenizer successfully\n",
      "Vocab size src:  40000\n",
      "Vocab size tgt:  50000\n",
      "====================================\n",
      "/kaggle/input/1m-mask-vi-and-vi-ds/tokenizer/tokenizer_src.json\n",
      "/kaggle/input/1m-mask-vi-and-vi-ds/tokenizer/tokenizer_tgt.json\n",
      "Read tokenizer successfully\n",
      "Vocab size src:  40000\n",
      "Vocab size tgt:  50000\n",
      "====================================\n",
      "Read dataset successfully\n",
      "Length train dataset:  964000\n",
      "Length val dataset:  30000\n",
      "Length test dataset:  6000\n",
      "====================================\n",
      "Get dataloader successfully\n",
      "Loaded model from /kaggle/working/model/model_0000060000.pt\n",
      "/kaggle/input/1m-mask-vi-and-vi-ds/tokenizer/tokenizer_src.json\n",
      "/kaggle/input/1m-mask-vi-and-vi-ds/tokenizer/tokenizer_tgt.json\n",
      "Read tokenizer successfully\n",
      "Vocab size src:  40000\n",
      "Vocab size tgt:  50000\n",
      "====================================\n",
      "Read dataset successfully\n",
      "Length train dataset:  964000\n",
      "Length val dataset:  30000\n",
      "Length test dataset:  6000\n",
      "====================================\n",
      "Get dataloader successfully\n"
     ]
    },
    {
     "name": "stderr",
     "output_type": "stream",
     "text": [
      "Trainning: 100%|█████████▉| 29999/30125 [3:58:27<01:00,  2.10it/s, loss=0.612, global_step=0000089999]\n"
     ]
    },
    {
     "name": "stdout",
     "output_type": "stream",
     "text": [
      "Saved model at /kaggle/working/model/model_0000090000.pt\n",
      "Saved config at /kaggle/working/model/config_0000090000.json\n"
     ]
    },
    {
     "data": {
      "image/png": "[encoded data removed]",
      "text/plain": [
       "<Figure size 640x480 with 1 Axes>"
      ]
     },
     "metadata": {},
     "output_type": "display_data"
    },
    {
     "data": {
      "image/png": "[encoded data removed]",
      "text/plain": [
       "<Figure size 640x480 with 1 Axes>"
      ]
     },
     "metadata": {},
     "output_type": "display_data"
    },
    {
     "data": {
      "image/png": "[encoded data removed]",
      "text/plain": [
       "<Figure size 640x480 with 1 Axes>"
      ]
     },
     "metadata": {},
     "output_type": "display_data"
    }
   ],
   "source": [
    "train.train(cf)"
   ]
  },
  {
   "cell_type": "code",
   "execution_count": 7,
   "id": "700d1b16",
   "metadata": {
    "execution": {
     "iopub.execute_input": "2024-05-25T13:15:45.318172Z",
     "iopub.status.busy": "2024-05-25T13:15:45.317797Z",
     "iopub.status.idle": "2024-05-25T13:15:46.753518Z",
     "shell.execute_reply": "2024-05-25T13:15:46.752238Z"
    },
    "papermill": {
     "duration": 6.461589,
     "end_time": "2024-05-25T13:15:46.755941",
     "exception": false,
     "start_time": "2024-05-25T13:15:40.294352",
     "status": "completed"
    },
    "tags": []
   },
   "outputs": [],
   "source": [
    "%rm -r /kaggle/working/model/config_0000060000.json /kaggle/working/model/model_0000060000.pt"
   ]
  },
  {
   "cell_type": "code",
   "execution_count": 8,
   "id": "022b97d8",
   "metadata": {
    "execution": {
     "iopub.execute_input": "2024-05-25T13:15:56.654470Z",
     "iopub.status.busy": "2024-05-25T13:15:56.654098Z",
     "iopub.status.idle": "2024-05-25T14:55:44.858333Z",
     "shell.execute_reply": "2024-05-25T14:55:44.857449Z"
    },
    "papermill": {
     "duration": 5998.65856,
     "end_time": "2024-05-25T14:55:50.285970",
     "exception": false,
     "start_time": "2024-05-25T13:15:51.627410",
     "status": "completed"
    },
    "tags": []
   },
   "outputs": [
    {
     "name": "stdout",
     "output_type": "stream",
     "text": [
      "/kaggle/input/1m-mask-vi-and-vi-ds/tokenizer/tokenizer_src.json\n",
      "/kaggle/input/1m-mask-vi-and-vi-ds/tokenizer/tokenizer_tgt.json\n",
      "Read tokenizer successfully\n",
      "Vocab size src:  40000\n",
      "Vocab size tgt:  50000\n",
      "====================================\n",
      "/kaggle/input/1m-mask-vi-and-vi-ds/tokenizer/tokenizer_src.json\n",
      "/kaggle/input/1m-mask-vi-and-vi-ds/tokenizer/tokenizer_tgt.json\n",
      "Read tokenizer successfully\n",
      "Vocab size src:  40000\n",
      "Vocab size tgt:  50000\n",
      "====================================\n",
      "Read dataset successfully\n",
      "Length train dataset:  964000\n",
      "Length val dataset:  30000\n",
      "Length test dataset:  6000\n",
      "====================================\n",
      "Get dataloader successfully\n",
      "Length val_dataloader:  6000\n",
      "/kaggle/input/1m-mask-vi-and-vi-ds/tokenizer/tokenizer_src.json\n",
      "/kaggle/input/1m-mask-vi-and-vi-ds/tokenizer/tokenizer_tgt.json\n",
      "Read tokenizer successfully\n",
      "Vocab size src:  40000\n",
      "Vocab size tgt:  50000\n",
      "====================================\n",
      "Vocab size:  50000\n"
     ]
    },
    {
     "name": "stderr",
     "output_type": "stream",
     "text": [
      "Testing model...:   5%|▌         | 300/6000 [04:56<1:42:58,  1.08s/it]"
     ]
    },
    {
     "name": "stdout",
     "output_type": "stream",
     "text": [
      "\n",
      "    SOURCE: <mask> thể , ông tứ bị tuyên phạt 30 tháng tù , nguyễn tiến học - cựu <mask> <mask> đốc 30 tháng ; phạm thị kim <mask> - cựu <mask> phòng đăng ký <mask> doanh 4 năm 6 tháng <mask> phạm <mask> thu hường - cựu chánh văn phòng 42 tháng cùng tội \"vi phạm quy định về đấu <mask> <mask> <mask> <mask> nghiêm <mask> .\n",
      "    TARGET: cụ thể , ông tứ bị tuyên phạt 30 tháng tù , nguyễn tiến học - cựu phó giám đốc 30 tháng ; phạm thị kim tuyến - cựu trưởng phòng đăng ký kinh doanh 4 năm 6 tháng ; phạm thị thu hường - cựu chánh văn phòng 42 tháng cùng tội \"vi phạm quy định về đấu thầu gây hậu quả nghiêm trọng\" .\n",
      " PREDICTED: cụ thể , ông tứ bị tuyên phạt 30 tháng tù , nguyễn tiến học - cựu tổng giám đốc 30 tháng ; phạm thị kim anh - cựu trưởng phòng đăng ký kinh doanh 4 năm 6 tháng ; phạm thị thu hường - cựu chánh văn phòng 42 tháng cùng tội \" vi phạm quy định về đấu thầu gây hậu quả nghiêm trọng \" .\n",
      "BLEU OF SENTENCE 300\n",
      "BLEU_1: 0.970588207244873\n",
      "BLEU_2: 0.955323338508606\n",
      "BLEU_3: 0.9396570324897766\n",
      "BLEU_4: 0.9235648512840271\n",
      "label_ids = tensor([ 446,   57,    5,   55, 2084,   58,  577,  672,  453,  136, 1184,    5,\n",
      "         188,  324,   29,   11, 1269,  329,  350,  459,  453,  136,  118,  230,\n",
      "         130,  721,  419,   11, 1269,  221,   99,  504,  417,  175,  180,  145,\n",
      "          37,  190,  136,  118,  230,  130,  212, 2919,   11, 1269, 1322,  131,\n",
      "          99, 1509,  136,  178,  661,   63,  289,  230,  157,   47,   35,  768,\n",
      "        1113,  373,  735,  187,  582,  295,   63,    6], device='cuda:0')\n",
      "pred_ids = tensor([ 446,   57,    5,   55, 2084,   58,  577,  672,  453,  136, 1184,    5,\n",
      "         188,  324,   29,   11, 1269,  149,  350,  459,  453,  136,  118,  230,\n",
      "         130,  721,  165,   11, 1269,  221,   99,  504,  417,  175,  180,  145,\n",
      "          37,  190,  136,  118,  230,  130,  212, 2919,   11, 1269, 1322,  131,\n",
      "          99, 1509,  136,  178,  661,   63,  289,  230,  157,   47,   35,  768,\n",
      "        1113,  373,  735,  187,  582,  295,   63,    6], device='cuda:0')\n",
      "recall = 0.970588207244873\n",
      "precision = 0.970588207244873\n",
      "f_05 = 0.9705881476402283\n"
     ]
    },
    {
     "name": "stderr",
     "output_type": "stream",
     "text": [
      "Testing model...:  10%|█         | 600/6000 [09:48<1:29:06,  1.01it/s]"
     ]
    },
    {
     "name": "stdout",
     "output_type": "stream",
     "text": [
      "\n",
      "    SOURCE: bị cáo <mask> thành <mask> một lần nữa khẳng định <mask> bao giờ có cuộc gặp mặt ông kim cùng với tề trí dũng tại nhà nên <mask> nghị hđxx triệu tập <mask> kim <mask> tòa <mask> <mask> đối <mask> làm rõ những lời <mask> này . liên quan đến lời đề nghị này , luật sư <mask> chữa cho bị cáo <mask> đề nghị tương tự <mask>\n",
      "    TARGET: bị cáo tất thành cang một lần nữa khẳng định chưa bao giờ có cuộc gặp mặt ông kim cùng với tề trí dũng tại nhà nên đề nghị hđxx triệu tập ông kim đến tòa để cùng đối chất làm rõ những lời khai này . liên quan đến lời đề nghị này , luật sư bào chữa cho bị cáo cũng đề nghị tương tự .\n",
      " PREDICTED: bị cáo kim thành đã một lần nữa khẳng định chưa bao giờ có cuộc gặp mặt ông kim cùng với tề trí dũng tại nhà nên đề nghị hđxx triệu tập nguyễn kim tại tòa để các đối tượng làm rõ những lời khai này . liên quan đến lời đề nghị này , luật sư bào chữa cho bị cáo dũng đề nghị tương tự .\n",
      "BLEU OF SENTENCE 600\n",
      "BLEU_1: 0.8970588445663452\n",
      "BLEU_2: 0.8423857092857361\n",
      "BLEU_3: 0.8021208047866821\n",
      "BLEU_4: 0.7731337547302246\n",
      "label_ids = tensor([  58,  257,  501,   60, 3534,   31,  315,  759,  802,   47,  248,  518,\n",
      "         376,    8,  290,  618,  302,   55,  721,  178,   17, 5476,  472,  990,\n",
      "          23,   54,  200,  156,  244, 1983,  195,  216,   55,  721,   26,  833,\n",
      "          27,  178,  102,  250,   62,  468,   52,  499,  226,   46,    6,  161,\n",
      "          59,   26,  499,  156,  244,   46,    5,  249,  683, 1159,  772,   14,\n",
      "          58,  257,   71,  156,  244,  544,  265,    6], device='cuda:0')\n",
      "pred_ids = tensor([  58,  257,  721,   60,   18,   31,  315,  759,  802,   47,  248,  518,\n",
      "         376,    8,  290,  618,  302,   55,  721,  178,   17, 5476,  472,  990,\n",
      "          23,   54,  200,  156,  244, 1983,  195,  216,  188,  721,   23,  833,\n",
      "          27,    9,  102,  310,   62,  468,   52,  499,  226,   46,    6,  161,\n",
      "          59,   26,  499,  156,  244,   46,    5,  249,  683, 1159,  772,   14,\n",
      "          58,  257,  990,  156,  244,  544,  265,    6], device='cuda:0')\n",
      "recall = 0.8970588445663452\n",
      "precision = 0.8970588445663452\n",
      "f_05 = 0.8970587849617004\n"
     ]
    },
    {
     "name": "stderr",
     "output_type": "stream",
     "text": [
      "Testing model...:  15%|█▌        | 900/6000 [14:44<1:32:52,  1.09s/it]"
     ]
    },
    {
     "name": "stdout",
     "output_type": "stream",
     "text": [
      "\n",
      "    SOURCE: <mask> học <mask> ngữ , đại học quốc gia hà nội: <mask> <mask> chuyển sang hình thức học tập <mask> tuyến trong <mask> 29 . 1 . đồng thời , trường cũng hoãn các kỳ <mask> diễn ra trong ngày này . đại học kinh <mask> , <mask> học quốc gia hà nội: toàn bộ sinh viên nghỉ học <mask> <mask> 29 . 1 đến hết ngày <mask> . <mask> <mask>\n",
      "    TARGET: đại học ngoại ngữ , đại học quốc gia hà nội: sinh viên chuyển sang hình thức học tập trực tuyến trong ngày 29 . 1 . đồng thời , trường cũng hoãn các kỳ thi diễn ra trong ngày này . đại học kinh tế , đại học quốc gia hà nội: toàn bộ sinh viên nghỉ học từ ngày 29 . 1 đến hết ngày 31 . 1 .\n",
      " PREDICTED: đại học ngoại ngữ , đại học quốc gia hà nội : thời gian chuyển sang hình thức học tập trực tuyến trong ngày 29 . 1 . đồng thời , trường cũng hoãn các kỳ thi diễn ra trong ngày này . đại học kinh tế , đại học quốc gia hà nội : toàn bộ sinh viên nghỉ học từ ngày 29 . 1 đến hết ngày 28 . 1 .\n",
      "BLEU OF SENTENCE 900\n",
      "BLEU_1: 0.9589040875434875\n",
      "BLEU_2: 0.9446234703063965\n",
      "BLEU_3: 0.9299930334091187\n",
      "BLEU_4: 0.9149928689002991\n",
      "label_ids = tensor([ 123,   29,  563,  892,    5,  123,   29,   73,   74,  116,  117,   49,\n",
      "          51,   80,  267,  644,  184,  256,   29,  216,  312,  419,   12,   21,\n",
      "         763,    6,   53,    6,   25,   76,    5,   36,   71, 1748,    9,  236,\n",
      "         142,  441,   48,   12,   21,   46,    6,  123,   29,  175,   85,    5,\n",
      "         123,   29,   73,   74,  116,  117,   49,  152,   45,   51,   80,  426,\n",
      "          29,   28,   21,  763,    6,   53,   26,  418,   21,  801,    6,   53,\n",
      "           6], device='cuda:0')\n",
      "pred_ids = tensor([ 123,   29,  563,  892,    5,  123,   29,   73,   74,  116,  117,   49,\n",
      "          76,  209,  267,  644,  184,  256,   29,  216,  312,  419,   12,   21,\n",
      "         763,    6,   53,    6,   25,   76,    5,   36,   71, 1748,    9,  236,\n",
      "         142,  441,   48,   12,   21,   46,    6,  123,   29,  175,   85,    5,\n",
      "         123,   29,   73,   74,  116,  117,   49,  152,   45,   51,   80,  426,\n",
      "          29,   28,   21,  763,    6,   53,   26,  418,   21,  716,    6,   53,\n",
      "           6], device='cuda:0')\n",
      "recall = 0.9589040875434875\n",
      "precision = 0.9589040875434875\n",
      "f_05 = 0.9589040279388428\n"
     ]
    },
    {
     "name": "stderr",
     "output_type": "stream",
     "text": [
      "Testing model...:  20%|██        | 1200/6000 [19:40<1:17:31,  1.03it/s]"
     ]
    },
    {
     "name": "stdout",
     "output_type": "stream",
     "text": [
      "\n",
      "    SOURCE: những bức tường , ngôi nhà và nền gạch xung quanh vẫn được bảo quản tốt . các nhà khảo cổ cũng khai quật được một tấm bia đá trong sân vườn . theo dòng chữ khắc trên tấm bia , sân trong là địa điểm đặt một ngôi đền có tên là cung điện hàm linh .\n",
      "    TARGET: những bức tường , ngôi nhà và nền gạch xung quanh vẫn được bảo quản tốt . các nhà khảo cổ cũng khai quật được một tấm bia đá trong sân vườn . theo dòng chữ khắc trên tấm bia , sân trong là địa điểm đặt một ngôi đền có tên là cung điện hàm linh .\n",
      " PREDICTED: những bức tường , ngôi nhà và nền gạch xung quanh vẫn được bảo quản tốt . các nhà khảo cổ cũng khai quật được một tấm bia đá trong sân vườn . theo dòng chữ khắc trên tấm bia , sân trong là địa điểm đặt một ngôi đền có tên là cung điện hàm linh .\n",
      "BLEU OF SENTENCE 1200\n",
      "BLEU_1: 1.0\n",
      "BLEU_2: 1.0\n",
      "BLEU_3: 1.0\n",
      "BLEU_4: 1.0\n",
      "label_ids = tensor([  52, 1015, 1506,    5, 1179,   54,    7,  778, 2392, 1132, 1006,  264,\n",
      "          15,  146,  330,  328,    6,    9,   54,  914,  452,   71,  226, 2880,\n",
      "          15,   31, 1037, 1626,  857,   12,  890, 1492,    6,   32, 1099, 1302,\n",
      "         932,   41, 1037, 1626,    5,  890,   12,   16,  134,   93,  574,   31,\n",
      "        1179, 1875,    8,  612,   16,  511,  246, 1280,  807,    6],\n",
      "       device='cuda:0')\n",
      "pred_ids = tensor([  52, 1015, 1506,    5, 1179,   54,    7,  778, 2392, 1132, 1006,  264,\n",
      "          15,  146,  330,  328,    6,    9,   54,  914,  452,   71,  226, 2880,\n",
      "          15,   31, 1037, 1626,  857,   12,  890, 1492,    6,   32, 1099, 1302,\n",
      "         932,   41, 1037, 1626,    5,  890,   12,   16,  134,   93,  574,   31,\n",
      "        1179, 1875,    8,  612,   16,  511,  246, 1280,  807,    6],\n",
      "       device='cuda:0')\n",
      "recall = 1.0\n",
      "precision = 1.0\n",
      "f_05 = 0.9999999403953552\n"
     ]
    },
    {
     "name": "stderr",
     "output_type": "stream",
     "text": [
      "Testing model...:  25%|██▌       | 1500/6000 [24:41<1:14:35,  1.01it/s]"
     ]
    },
    {
     "name": "stdout",
     "output_type": "stream",
     "text": [
      "\n",
      "    SOURCE: trường <mask> quá cảnh , chuyển <mask> thì phải đáp ứng điều kiện quá cảnh , <mask> tải theo quy <mask> <mask> hiệp định cptpp , <mask> thể: a- hàng hóa được vận chuyển tới việt nam vẫn được giữ nguyên xuất xứ nếu không quá cảnh , chuyển <mask> qua lãnh <mask> của nước không phải <mask> <mask> của hiệp định <mask> <mask>\n",
      "    TARGET: trường hợp quá cảnh , chuyển tải thì phải đáp ứng điều kiện quá cảnh , chuyển tải theo quy định của hiệp định cptpp , cụ thể: a- hàng hóa được vận chuyển tới việt nam vẫn được giữ nguyên xuất xứ nếu không quá cảnh , chuyển tải qua lãnh thổ của nước không phải thành viên của hiệp định cptpp .\n",
      " PREDICTED: trường hợp quá cảnh , chuyển đổi thì phải đáp ứng điều kiện quá cảnh , quá tải theo quy định của hiệp định cptpp , cụ thể : a - hàng hóa được vận chuyển tới việt nam vẫn được giữ nguyên xuất xứ nếu không quá cảnh , chuyển tiền qua lãnh thổ của nước không phải là tiền của hiệp định cptpp .\n",
      "BLEU OF SENTENCE 1500\n",
      "BLEU_1: 0.9242424368858337\n",
      "BLEU_2: 0.892339825630188\n",
      "BLEU_3: 0.8593107461929321\n",
      "BLEU_4: 0.8250248432159424\n",
      "label_ids = tensor([  36,   79,  333,  253,    5,  267,  569,  182,  100,  737,  318,   70,\n",
      "         437,  333,  253,    5,  267,  569,   32,  157,   47,   10,  867,   47,\n",
      "        3192,    5,  446,   57,   49,  879,   11,   84,  261,   15,  424,  267,\n",
      "         239,  127,   69,  264,   15,  406,  271,  163, 1863,  326,   20,  333,\n",
      "         253,    5,  267,  569,  133,  429, 1198,   10,   81,   20,  100,   60,\n",
      "          80,   10,  867,   47, 3192,    6], device='cuda:0')\n",
      "pred_ids = tensor([  36,   79,  333,  253,    5,  267,  278,  182,  100,  737,  318,   70,\n",
      "         437,  333,  253,    5,  333,  569,   32,  157,   47,   10,  867,   47,\n",
      "        3192,    5,  446,   57,   49,  879,   11,   84,  261,   15,  424,  267,\n",
      "         239,  127,   69,  264,   15,  406,  271,  163, 1863,  326,   20,  333,\n",
      "         253,    5,  267,  168,  133,  429, 1198,   10,   81,   20,  100,   16,\n",
      "         168,   10,  867,   47, 3192,    6], device='cuda:0')\n",
      "recall = 0.9242424368858337\n",
      "precision = 0.9242424368858337\n",
      "f_05 = 0.924242377281189\n"
     ]
    },
    {
     "name": "stderr",
     "output_type": "stream",
     "text": [
      "Testing model...:  30%|███       | 1800/6000 [29:35<1:08:47,  1.02it/s]"
     ]
    },
    {
     "name": "stdout",
     "output_type": "stream",
     "text": [
      "\n",
      "    SOURCE: theo ông shu , đội nhân viên của ông đã chuẩn bị cho những trận tuyết rơi dày và nhiệt độ thấp được dự báo sẽ diễn ra vào giữa thế vận hội . \"theo dự báo thời tiết , sẽ có một cơn bão tuyết xảy ra trong vài ngày tới và chúng tôi đã sẵn sàng để đối phó với nó .\n",
      "    TARGET: theo ông shu , đội nhân viên của ông đã chuẩn bị cho những trận tuyết rơi dày và nhiệt độ thấp được dự báo sẽ diễn ra vào giữa thế vận hội . \"theo dự báo thời tiết , sẽ có một cơn bão tuyết xảy ra trong vài ngày tới và chúng tôi đã sẵn sàng để đối phó với nó .\n",
      " PREDICTED: theo ông nghiêm , đội nhân viên của ông đã chuẩn bị cho những trận tuyết rơi dày và nhiệt độ thấp được dự báo sẽ diễn ra vào giữa thế vận hội . \" theo dự báo thời tiết , sẽ có một cơn bão tuyết xảy ra trong vài ngày tới và chúng tôi đã sẵn sàng để đối phó với nó .\n",
      "BLEU OF SENTENCE 1800\n",
      "BLEU_1: 0.9846153855323792\n",
      "BLEU_2: 0.9766504764556885\n",
      "BLEU_3: 0.9684926867485046\n",
      "BLEU_4: 0.9642449021339417\n",
      "label_ids = tensor([   32,    55, 18776,     5,   534,    42,    80,    10,    55,    18,\n",
      "          448,    58,    14,    52,  1102,  1803,  1162,  1490,     7,   423,\n",
      "          113,   455,    15,   143,   110,    68,   441,    48,    44,   512,\n",
      "          235,   424,    94,     6,    63,    32,   143,   110,    76,   516,\n",
      "            5,    68,     8,    31,  1003,   733,  1803,   390,    48,    12,\n",
      "          674,    21,   239,     7,   245,   173,    18,   983,   893,    27,\n",
      "          102,   329,    17,   820,     6], device='cuda:0')\n",
      "pred_ids = tensor([  32,   55,  582,    5,  534,   42,   80,   10,   55,   18,  448,   58,\n",
      "          14,   52, 1102, 1803, 1162, 1490,    7,  423,  113,  455,   15,  143,\n",
      "         110,   68,  441,   48,   44,  512,  235,  424,   94,    6,   63,   32,\n",
      "         143,  110,   76,  516,    5,   68,    8,   31, 1003,  733, 1803,  390,\n",
      "          48,   12,  674,   21,  239,    7,  245,  173,   18,  983,  893,   27,\n",
      "         102,  329,   17,  820,    6], device='cuda:0')\n",
      "recall = 0.9846153855323792\n",
      "precision = 0.9846153855323792\n",
      "f_05 = 0.9846153259277344\n"
     ]
    },
    {
     "name": "stderr",
     "output_type": "stream",
     "text": [
      "Testing model...:  35%|███▌      | 2100/6000 [34:29<1:10:27,  1.08s/it]"
     ]
    },
    {
     "name": "stdout",
     "output_type": "stream",
     "text": [
      "\n",
      "    SOURCE: với <mask> đại biểu có mặt tham gia biểu quyết tán thành <mask> quốc hội đã <mask> qua nghị <mask> bầu <mask> tịch nước . ngay <mask> khi được <mask> , chủ tịch nước nguyễn xuân phúc đã thực hiện <mask> thức tuyên thệ . lễ tuyên thệ của chủ tịch <mask> <mask> xuân phúc đã diễn <mask> trang trọng <mask> hội trường <mask> hồng .\n",
      "    TARGET: với 100% đại biểu có mặt tham gia biểu quyết tán thành , quốc hội đã thông qua nghị quyết bầu chủ tịch nước . ngay sau khi được bầu , chủ tịch nước nguyễn xuân phúc đã thực hiện nghi thức tuyên thệ . lễ tuyên thệ của chủ tịch nước nguyễn xuân phúc đã diễn ra trang trọng tại hội trường diên hồng .\n",
      " PREDICTED: với các đại biểu có mặt tham gia biểu quyết tán thành , quốc hội đã thông qua nghị quyết bầu chủ tịch nước . ngay sau khi được bầu , chủ tịch nước nguyễn xuân phúc đã thực hiện nghi thức tuyên thệ . lễ tuyên thệ của chủ tịch nước nguyễn xuân phúc đã diễn ra trang trọng tại hội trường sơn hồng .\n",
      "BLEU OF SENTENCE 2100\n",
      "BLEU_1: 0.9551153657012442\n",
      "BLEU_2: 0.9396065566513908\n",
      "BLEU_3: 0.9289549243417455\n",
      "BLEU_4: 0.9233636583763147\n",
      "label_ids = tensor([  17,  665,  148,  123,  450,    8,  302,  301,   74,  450,  206, 1401,\n",
      "          60,    5,   73,   94,   18,   65,  133,  244,  206,  781,  103,  281,\n",
      "          81,    6,  422,   86,   43,   15,  781,    5,  103,  281,   81,  188,\n",
      "         590,  681,   18,   83,   33,  788,  256,  577, 4621,    6,  696,  577,\n",
      "        4621,   10,  103,  281,   81,  188,  590,  681,   18,  441,   48,  413,\n",
      "         295,   23,   94,   36, 3233,  762,    6], device='cuda:0')\n",
      "pred_ids = tensor([  17,    9,  123,  450,    8,  302,  301,   74,  450,  206, 1401,   60,\n",
      "           5,   73,   94,   18,   65,  133,  244,  206,  781,  103,  281,   81,\n",
      "           6,  422,   86,   43,   15,  781,    5,  103,  281,   81,  188,  590,\n",
      "         681,   18,   83,   33,  788,  256,  577, 4621,    6,  696,  577, 4621,\n",
      "          10,  103,  281,   81,  188,  590,  681,   18,  441,   48,  413,  295,\n",
      "          23,   94,   36,  420,  762,    6,    2], device='cuda:0')\n",
      "recall = 0.014925372786819935\n",
      "precision = 0.014925372786819935\n",
      "f_05 = 0.014925292693078518\n"
     ]
    },
    {
     "name": "stderr",
     "output_type": "stream",
     "text": [
      "Testing model...:  40%|████      | 2400/6000 [39:23<1:01:28,  1.02s/it]"
     ]
    },
    {
     "name": "stdout",
     "output_type": "stream",
     "text": [
      "\n",
      "    SOURCE: <mask> bệnh <mask> tháng tuổi , có tiếp xúc gần <mask> . các tỉnh có <mask> <mask> <mask> . hcm <mask> ; khánh hòa ( <mask> ; thanh hóa ( <mask> điều trị khỏi: 15 trường hợp <mask> du học sinh trở về từ vùng dịch ở hàn quốc <mask> ly chiều 24 .\n",
      "    TARGET: - 1 bệnh nhi 3 tháng tuổi , có tiếp xúc gần với bệnh nhân covid-19 . các tỉnh có người mắc covid-19: vĩnh phúc ( 11 ) ; tp . hcm ( 3 ) ; khánh hòa ( 1 ) ; thanh hóa ( 1 ) . điều trị khỏi: 15 trường hợp . 1 du học sinh trở về từ vùng dịch ở hàn quốc chủ động đề nghị cách ly chiều 24 .\n",
      " PREDICTED: - bệnh nhân nữ , 24 tháng tuổi , có tiếp xúc gần với bệnh nhân nữ . các tỉnh có tiếp xúc gần với bệnh nhân tại tp . hcm , đà nẵng ; khánh hòa ( quảng ninh ) ; thanh hóa ( cách ly ) ; điều trị khỏi : 15 trường hợp có tiếp xúc với du học sinh trở về từ vùng dịch ở hàn quốc , sau đó cách ly chiều 24 .\n",
      "BLEU OF SENTENCE 2400\n",
      "BLEU_1: 0.6458870810619154\n",
      "BLEU_2: 0.5786414599084738\n",
      "BLEU_3: 0.5169517778004459\n",
      "BLEU_4: 0.45734724413225225\n",
      "label_ids = tensor([  11,   53,   56, 1180,   88,  136,  284,    5,    8,  109,  648,  292,\n",
      "          17,   56,   42,  196,   11,  151,    6,    9,   67,    8,   19,  537,\n",
      "         196,   11,  151,   49,  844,  681,   24,  358,   22,  118,  240,    6,\n",
      "        1221,   24,   88,   22,  118,  835,  443,   24,   53,   22,  118,  207,\n",
      "         261,   24,   53,   22,    6,   70,  201,  642,   49,  478,   36,   79,\n",
      "           6,   53,  541,   29,   51,  303,   35,   28,  348,   77,   39,  984,\n",
      "          73,  103,   30,  156,  244,  153,  410,  365,  613,    6],\n",
      "       device='cuda:0')\n",
      "pred_ids = tensor([  11,   56,   42,  506,    5,  613,  136,  284,    5,    8,  109,  648,\n",
      "         292,   17,   56,   42,  506,    6,    9,   67,    8,  109,  648,  292,\n",
      "          17,   56,   42,   23,  240,    6, 1221,    5,  543,  636,  118,  835,\n",
      "         443,   24,  407,  400,   22,  118,  207,  261,   24,  153,  410,   22,\n",
      "         118,   70,  201,  642,   49,  478,   36,   79,    8,  109,  648,   17,\n",
      "         541,   29,   51,  303,   35,   28,  348,   77,   39,  984,   73,    5,\n",
      "          86,   40,  153,  410,  365,  613,    6,    2,    2,    2],\n",
      "       device='cuda:0')\n",
      "recall = 0.024390242993831635\n",
      "precision = 0.024390242993831635\n",
      "f_05 = 0.024390162900090218\n"
     ]
    },
    {
     "name": "stderr",
     "output_type": "stream",
     "text": [
      "Testing model...:  45%|████▌     | 2700/6000 [44:20<55:49,  1.01s/it]"
     ]
    },
    {
     "name": "stdout",
     "output_type": "stream",
     "text": [
      "\n",
      "    SOURCE: nhân dịp <mask> ukhnaa <mask> được bầu làm thủ tướng mông cổ , <mask> 5 . 10 , thủ tướng chính phủ nguyễn <mask> phúc đã gửi điện <mask> . <mask> 4 . 4 <mask> quốc hội mông cổ xác nhận ngài <mask> khurelsukh được bầu <mask> thủ tướng thứ 30 của <mask> này <mask> tân thủ tướng mông cổ từng <mask> phó thủ <mask> <mask> thuộc đảng nhân dân <mask> cổ ( mpp ) .\n",
      "    TARGET: nhân dịp ngài ukhnaa khurelsukh được bầu làm thủ tướng mông cổ , ngày 5 . 10 , thủ tướng chính phủ nguyễn xuân phúc đã gửi điện mừng . ngày 4 . 4 , quốc hội mông cổ xác nhận ngài ukhnaa khurelsukh được bầu là thủ tướng thứ 30 của nước này . tân thủ tướng mông cổ từng là phó thủ tướng , thuộc đảng nhân dân mông cổ ( mpp ) .\n",
      " PREDICTED: nhân dịp năm , được bầu làm thủ tướng mông cổ , ngày 5 . 10 , thủ tướng chính phủ nguyễn xuân phúc đã gửi điện thoại . ngày 4 . 4 , quốc hội mông cổ xác nhận ngài . được bầu làm thủ tướng thứ 30 của nước này . tân thủ tướng mông cổ từng là phó thủ tướng trực thuộc đảng nhân dân tỉnh cổ ( dài ) .\n",
      "BLEU OF SENTENCE 2700\n",
      "BLEU_1: 0.8812627081193081\n",
      "BLEU_2: 0.8255367661658666\n",
      "BLEU_3: 0.7723086142083164\n",
      "BLEU_4: 0.7341480175153854\n",
      "label_ids = tensor([   42,   921,  3375, 43796, 40923,    15,   781,    62,   238,   462,\n",
      "         2424,   452,     5,    21,   132,     6,   194,     5,   238,   462,\n",
      "           72,   395,   188,   590,   681,    18,   560,   246,  1187,     6,\n",
      "           21,   145,     6,   145,     5,    73,    94,  2424,   452,   336,\n",
      "          112,  3375, 43796, 40923,    15,   781,    16,   238,   462,   316,\n",
      "          453,    10,    81,    46,     6,   564,   238,   462,  2424,   452,\n",
      "          567,    16,   329,   238,   462,     5,   402,   496,    42,    95,\n",
      "         2424,   452,    24, 20516,    22,     6], device='cuda:0')\n",
      "pred_ids = tensor([  42,  921,   37,    5,   15,  781,   62,  238,  462, 2424,  452,    5,\n",
      "          21,  132,    6,  194,    5,  238,  462,   72,  395,  188,  590,  681,\n",
      "          18,  560,  246,  708,    6,   21,  145,    6,  145,    5,   73,   94,\n",
      "        2424,  452,  336,  112, 3375,    6,   15,  781,   62,  238,  462,  316,\n",
      "         453,   10,   81,   46,    6,  564,  238,  462, 2424,  452,  567,   16,\n",
      "         329,  238,  462,  312,  402,  496,   42,   95,   67,  452,   24,  542,\n",
      "          22,    6,    2,    2], device='cuda:0')\n",
      "recall = 0.02631578966975212\n",
      "precision = 0.02631578966975212\n",
      "f_05 = 0.026315709576010704\n"
     ]
    },
    {
     "name": "stderr",
     "output_type": "stream",
     "text": [
      "Testing model...:  50%|█████     | 3000/6000 [49:15<48:48,  1.02it/s]"
     ]
    },
    {
     "name": "stdout",
     "output_type": "stream",
     "text": [
      "\n",
      "    SOURCE: <mask> đoàn flc trịnh văn quyết ngày <mask> khởi tố và bị bắt với cáo buộc <mask> \"che <mask> . cùng ngày , <mask> quyết đã ủy quyền việc điều <mask> hải <mask> tập đoàn .\n",
      "    TARGET: chủ tịch tập đoàn flc trịnh văn quyết ngày 29 . 3 bị khởi tố và bị bắt với cáo buộc \"thao túng\" và \"che giấu thông tin chứng khoán\" . cùng ngày , ông trịnh văn quyết đã ủy quyền việc điều hành cho bà vũ đặng hải yến , phó tổng giám đốc tập đoàn .\n",
      " PREDICTED: trước đó , tập đoàn flc trịnh văn quyết ngày 20 . 12 đã bị khởi tố và bị bắt với cáo buộc \" che giấu \" quyền lực của mình . cùng ngày , ông trịnh văn quyết đã ủy quyền việc điều tra bổ nhiệm ông trịnh văn quyết tại tập đoàn .\n",
      "BLEU OF SENTENCE 3000\n",
      "BLEU_1: 0.6083409644053003\n",
      "BLEU_2: 0.5545242798896193\n",
      "BLEU_3: 0.5102169812389651\n",
      "BLEU_4: 0.466177968029642\n",
      "label_ids = tensor([ 103,  281,  216,  155, 2530, 1606,  131,  206,   21,  763,    6,   88,\n",
      "          58,  700,  540,    7,   58,  349,   17,  257,  812,   63, 1237, 2660,\n",
      "          63,    7,   63, 1808, 1782,   65,  139,  359, 1026,   63,    6,  178,\n",
      "          21,    5,   55, 1606,  131,  206,   18,  445,  352,   34,   70,   96,\n",
      "          14,  268,  583, 1410,  361, 1726,    5,  329,  149,  350,  459,  216,\n",
      "         155,    6], device='cuda:0')\n",
      "pred_ids = tensor([ 121,   40,    5,  216,  155, 2530, 1606,  131,  206,   21,  433,    6,\n",
      "         308,   18,   58,  700,  540,    7,   58,  349,   17,  257,  812,   63,\n",
      "        1808, 1782,   63,  352,  172,   10,  397,    6,  178,   21,    5,   55,\n",
      "        1606,  131,  206,   18,  445,  352,   34,   70,  174,  652,  276,   55,\n",
      "        1606,  131,  206,   23,  216,  155,    6,    2,    2,    2,    2,    2,\n",
      "           2,    2], device='cuda:0')\n",
      "recall = 0.016129031777381897\n",
      "precision = 0.016129031777381897\n",
      "f_05 = 0.01612895168364048\n"
     ]
    },
    {
     "name": "stderr",
     "output_type": "stream",
     "text": [
      "Testing model...:  55%|█████▌    | 3300/6000 [54:08<43:36,  1.03it/s]"
     ]
    },
    {
     "name": "stdout",
     "output_type": "stream",
     "text": [
      "\n",
      "    SOURCE: \"chúng tôi <mask> về các <mask> astana <mask> <mask> yahya al-aridi tiết <mask> <mask> ông yahya al-aridi <mask> được thỏa thuận với sự ủng hộ của tất cả các bên tại astana sẽ <mask> các cuộc <mask> quan trọng trong cuộc họp sắp tới tại geneva .\n",
      "    TARGET: \"chúng tôi lạc quan thận trọng về các cuộc hội đàm astana lần thứ 6\" , ông yahya al-aridi tiết lộ với arab news . theo ông yahya al-aridi việc đạt được thỏa thuận với sự ủng hộ của tất cả các bên tại astana sẽ mở đường cho các cuộc hội đàm chính trị quan trọng trong cuộc họp sắp tới tại geneva .\n",
      " PREDICTED: \" chúng tôi sẽ thảo luận về các cuộc đàm phán với xã hội ” - ông nghiêm xuân thành nói . ông lễ hội nhà trắng ( ) đã được thỏa thuận với sự ủng hộ của tất cả các bên tại hoãn sẽ có các cuộc đàm phán quan trọng trong cuộc họp sắp tới tại geneva .\n",
      "BLEU OF SENTENCE 3300\n",
      "BLEU_1: 0.5688685885926156\n",
      "BLEU_2: 0.4568317900329076\n",
      "BLEU_3: 0.3977050258463951\n",
      "BLEU_4: 0.35351608300325266\n",
      "label_ids = tensor([   63,   245,   173,  1020,    59,  1176,   295,    35,     9,   290,\n",
      "           94,  1181, 11282,   315,   316,   190,    63,     5,    55, 18128,\n",
      "         1981,    11, 28639,   516,   787,    17,  3435,  2109,     6,    32,\n",
      "           55, 18128,  1981,    11, 28639,    34,   351,    15,  1046,   479,\n",
      "           17,    92,   877,   399,    10,   501,   186,     9,   387,    23,\n",
      "        11282,    68,   508,   176,    14,     9,   290,    94,  1181,    72,\n",
      "          201,    59,   295,    12,   290,   669,  1109,   239,    23,  4778,\n",
      "            6], device='cuda:0')\n",
      "pred_ids = tensor([  63,  245,  173,   68,  755,  585,   35,    9,  290, 1181, 1247,   17,\n",
      "         126,   94,  106,   11,   55,  582,  590,   60,  243,    6,   55,  696,\n",
      "          94,   54,  994,   24,   22,   18,   15, 1046,  479,   17,   92,  877,\n",
      "         399,   10,  501,  186,    9,  387,   23, 1748,   68,    8,    9,  290,\n",
      "        1181, 1247,   59,  295,   12,  290,  669, 1109,  239,   23, 4778,    6,\n",
      "           2,    2,    2,    2,    2,    2,    2,    2,    2,    2,    2],\n",
      "       device='cuda:0')\n",
      "recall = 0.0422535203397274\n",
      "precision = 0.0422535203397274\n",
      "f_05 = 0.042253442108631134\n"
     ]
    },
    {
     "name": "stderr",
     "output_type": "stream",
     "text": [
      "Testing model...:  60%|██████    | 3600/6000 [58:59<41:17,  1.03s/it]"
     ]
    },
    {
     "name": "stdout",
     "output_type": "stream",
     "text": [
      "\n",
      "    SOURCE: bs <mask> trọng dũng , ca bệnh hy hữu nữa là cách đây hơn 1 <mask> , một <mask> <mask> nhập viện cấp <mask> <mask> <mask> phải thuốc cai nghiện của bố mẹ ( methadone ) và bị hôn mê <mask> đối <mask> loại <mask> độc này , nếu có thuốc giải độc tố đặc hiệu <mask> mới cứu được <mask>\n",
      "    TARGET: bs nguyễn trọng dũng , ca bệnh hy hữu nữa là cách đây hơn 1 tháng , một bệnh nhi nhập viện cấp cứu do uống phải thuốc cai nghiện của bố mẹ ( methadone ) và bị hôn mê . đối với loại ngộ độc này , nếu có thuốc giải độc tố đặc hiệu thì mới cứu được .\n",
      " PREDICTED: bs nguyễn trọng dũng , ca bệnh hy hữu nữa là cách đây hơn 1 năm , một năm sau nhập viện cấp cứu , không phải thuốc cai nghiện của bố mẹ ( kiện ) và bị hôn mê . đối với loại thuốc độc này , nếu có thuốc giải độc tố đặc hiệu thì mới cứu được .\n",
      "BLEU OF SENTENCE 3600\n",
      "BLEU_1: 0.8852459192276001\n",
      "BLEU_2: 0.8415442705154419\n",
      "BLEU_3: 0.7958851456642151\n",
      "BLEU_4: 0.7530628442764282\n",
      "label_ids = tensor([1661,  188,  295,  990,    5,  282,   56, 1152,  715,  759,   16,  153,\n",
      "         181,  111,   53,  136,    5,   31,   56, 1180,  338,  210,   98,  309,\n",
      "         125,  767,  100,  609, 1336, 2041,   10,  343,  664,   24, 9226,   22,\n",
      "           7,   58, 1507, 1483,    6,  102,   17,  388, 1834,  851,   46,    5,\n",
      "         326,    8,  609,  251,  851,  540,  353,  275,  182,  160,  309,   15,\n",
      "           6], device='cuda:0')\n",
      "pred_ids = tensor([1661,  188,  295,  990,    5,  282,   56, 1152,  715,  759,   16,  153,\n",
      "         181,  111,   53,   37,    5,   31,   37,   86,  338,  210,   98,  309,\n",
      "           5,   20,  100,  609, 1336, 2041,   10,  343,  664,   24,  437,   22,\n",
      "           7,   58, 1507, 1483,    6,  102,   17,  388,  609,  851,   46,    5,\n",
      "         326,    8,  609,  251,  851,  540,  353,  275,  182,  160,  309,   15,\n",
      "           6], device='cuda:0')\n",
      "recall = 0.8852459192276001\n",
      "precision = 0.8852459192276001\n",
      "f_05 = 0.8852458596229553\n"
     ]
    },
    {
     "name": "stderr",
     "output_type": "stream",
     "text": [
      "Testing model...:  65%|██████▌   | 3900/6000 [1:03:58<33:03,  1.06it/s]"
     ]
    },
    {
     "name": "stdout",
     "output_type": "stream",
     "text": [
      "\n",
      "    SOURCE: thụy điển có triển khai những hạn chế sau khi dịch bệnh bùng phát như cấm tập trung hơn 50 người , người dân được thông báo tránh di chuyển không cần thiết và tránh tiếp xúc với người cao tuổi . nhưng người dân nước này vẫn được phép đến các nhà hàng , bar , quán cà phê và hộp đêm .\n",
      "    TARGET: thụy điển có triển khai những hạn chế sau khi dịch bệnh bùng phát như cấm tập trung hơn 50 người , người dân được thông báo tránh di chuyển không cần thiết và tránh tiếp xúc với người cao tuổi . nhưng người dân nước này vẫn được phép đến các nhà hàng , bar , quán cà phê và hộp đêm .\n",
      " PREDICTED: thụy điển có triển khai những hạn chế sau khi dịch bệnh bùng phát như cấm tập trung hơn 50 người , người dân được thông báo tránh di chuyển không cần thiết và tránh tiếp xúc với người cao tuổi . nhưng người dân nước này vẫn được phép đến các nhà hàng , bar , quán cà phê và hộp đêm .\n",
      "BLEU OF SENTENCE 3900\n",
      "BLEU_1: 1.0\n",
      "BLEU_2: 1.0\n",
      "BLEU_3: 1.0\n",
      "BLEU_4: 1.0\n",
      "label_ids = tensor([1716, 1548,    8,  198,  226,   52,  412,  307,   86,   43,   77,   56,\n",
      "        1223,   97,  101, 1172,  216,   75,  111,  717,   19,    5,   19,   95,\n",
      "          15,   65,  110,  813,  637,  267,   20,  205,  404,    7,  813,  109,\n",
      "         648,   17,   19,  104,  284,    6,  179,   19,   95,   81,   46,  264,\n",
      "          15,  539,   26,    9,   54,   84,    5, 2229,    5,  785,  966,  864,\n",
      "           7, 1595,  588,    6], device='cuda:0')\n",
      "pred_ids = tensor([1716, 1548,    8,  198,  226,   52,  412,  307,   86,   43,   77,   56,\n",
      "        1223,   97,  101, 1172,  216,   75,  111,  717,   19,    5,   19,   95,\n",
      "          15,   65,  110,  813,  637,  267,   20,  205,  404,    7,  813,  109,\n",
      "         648,   17,   19,  104,  284,    6,  179,   19,   95,   81,   46,  264,\n",
      "          15,  539,   26,    9,   54,   84,    5, 2229,    5,  785,  966,  864,\n",
      "           7, 1595,  588,    6], device='cuda:0')\n",
      "recall = 1.0\n",
      "precision = 1.0\n",
      "f_05 = 0.9999999403953552\n"
     ]
    },
    {
     "name": "stderr",
     "output_type": "stream",
     "text": [
      "Testing model...:  70%|███████   | 4200/6000 [1:08:55<30:55,  1.03s/it]"
     ]
    },
    {
     "name": "stdout",
     "output_type": "stream",
     "text": [
      "\n",
      "    SOURCE: đồng thời , phải có <mask> nhất <mask> năm trực tiếp <mask> <mask> hoặc nghiên cứu <mask> <mask> môn phù hợp với môn học <mask> hoạt <mask> <mask> dục có sách giáo khoa được biên soạn ; là <mask> dân <mask> nam <mask> có phẩm chất <mask> đức , tư tưởng tốt . thời gian đào tạo trung cấp , <mask> đẳng tối đa là 4 <mask> 5 năm kể từ ngày 15 . 5 .\n",
      "    TARGET: đồng thời , phải có ít nhất ba năm trực tiếp giảng dạy hoặc nghiên cứu về chuyên môn phù hợp với môn học , hoạt động giáo dục có sách giáo khoa được biên soạn ; là công dân việt nam , có phẩm chất đạo đức , tư tưởng tốt . thời gian đào tạo trung cấp , cao đẳng tối đa là 4 , 5 năm kể từ ngày 15 . 5 .\n",
      " PREDICTED: đồng thời , phải có ít nhất 2 năm trực tiếp thực hiện hoặc nghiên cứu kỹ chuyên môn phù hợp với môn học , hoạt động giáo dục có sách giáo khoa được biên soạn ; là công dân việt nam phải có phẩm chất đạo đức , tư tưởng tốt . thời gian đào tạo trung cấp , cao đẳng tối đa là 4 , 5 năm kể từ ngày 15 . 5 .\n",
      "BLEU OF SENTENCE 4200\n",
      "BLEU_1: 0.9342105388641357\n",
      "BLEU_2: 0.9067001938819885\n",
      "BLEU_3: 0.8783653378486633\n",
      "BLEU_4: 0.8491270542144775\n",
      "label_ids = tensor([  25,   76,    5,  100,    8,  625,  115,  676,   37,  312,  109,  997,\n",
      "         688,  322,  595,  309,   35,  382,  485,  722,   79,   17,  485,   29,\n",
      "           5,  220,   30,  167,  364,    8,  347,  167,  372,   15,  529, 2003,\n",
      "         118,   16,   13,   95,  127,   69,    5,    8,  369,  250,  218,  483,\n",
      "           5,  162,  940,  328,    6,   76,  209,  519,  247,   75,   98,    5,\n",
      "         104, 1351,  470,  527,   16,  145,    5,  132,   37,  581,   28,   21,\n",
      "         478,    6,  132,    6], device='cuda:0')\n",
      "pred_ids = tensor([  25,   76,    5,  100,    8,  625,  115,   50,   37,  312,  109,   83,\n",
      "          33,  322,  595,  309,  662,  382,  485,  722,   79,   17,  485,   29,\n",
      "           5,  220,   30,  167,  364,    8,  347,  167,  372,   15,  529, 2003,\n",
      "         118,   16,   13,   95,  127,   69,  100,    8,  369,  250,  218,  483,\n",
      "           5,  162,  940,  328,    6,   76,  209,  519,  247,   75,   98,    5,\n",
      "         104, 1351,  470,  527,   16,  145,    5,  132,   37,  581,   28,   21,\n",
      "         478,    6,  132,    6], device='cuda:0')\n",
      "recall = 0.9342105388641357\n",
      "precision = 0.9342105388641357\n",
      "f_05 = 0.934210479259491\n"
     ]
    },
    {
     "name": "stderr",
     "output_type": "stream",
     "text": [
      "Testing model...:  75%|███████▌  | 4500/6000 [1:13:52<25:47,  1.03s/it]"
     ]
    },
    {
     "name": "stdout",
     "output_type": "stream",
     "text": [
      "\n",
      "    SOURCE: sau 5 năm không xuất hiện , al-baghdadi bất ngờ tái xuất vào tháng 4 năm nay , khi cảnh quay hắn ta thảo luận về thánh chiến với tay chân được tung ra . đoạn video cho thấy al-baghdadi tuyên bố rằng các vụ đánh bom trong lễ phục sinh ở sri lanka là cuộc trả thù cho những trận chiến đã mất ở syria .\n",
      "    TARGET: sau 5 năm không xuất hiện , al-baghdadi bất ngờ tái xuất vào tháng 4 năm nay , khi cảnh quay hắn ta thảo luận về thánh chiến với tay chân được tung ra . đoạn video cho thấy al-baghdadi tuyên bố rằng các vụ đánh bom trong lễ phục sinh ở sri lanka là cuộc trả thù cho những trận chiến đã mất ở syria .\n",
      " PREDICTED: sau 5 năm không xuất hiện , al - baghdadi bất ngờ tái xuất vào tháng 4 năm nay , khi cảnh quay hắn ta thảo luận về thánh chiến với tay chân được tung ra . đoạn video cho thấy al - baghdadi tuyên bố rằng các vụ đánh bom trong lễ phục sinh ở sri lanka là cuộc trả thù cho những trận chiến đã mất ở syria .\n",
      "BLEU OF SENTENCE 4500\n",
      "BLEU_1: 1.0\n",
      "BLEU_2: 1.0\n",
      "BLEU_3: 1.0\n",
      "BLEU_4: 1.0\n",
      "label_ids = tensor([  86,  132,   37,   20,  163,   33,    5, 1981,   11, 5190,  431,  915,\n",
      "        1002,  163,   44,  136,  145,   37,  166,    5,   43,  253,  991, 3458,\n",
      "         526,  755,  585,   35, 2434,  440,   17,  597,  854,   15, 1998,   48,\n",
      "           6,  495, 1435,   14,  331, 1981,   11, 5190,  577,  343,  279,    9,\n",
      "          90,  383, 1756,   12,  696,  416,   51,   39, 4576, 4787,   16,  290,\n",
      "         444, 1550,   14,   52, 1102,  440,   18,  587,   39, 1363,    6],\n",
      "       device='cuda:0')\n",
      "pred_ids = tensor([  86,  132,   37,   20,  163,   33,    5, 1981,   11, 5190,  431,  915,\n",
      "        1002,  163,   44,  136,  145,   37,  166,    5,   43,  253,  991, 3458,\n",
      "         526,  755,  585,   35, 2434,  440,   17,  597,  854,   15, 1998,   48,\n",
      "           6,  495, 1435,   14,  331, 1981,   11, 5190,  577,  343,  279,    9,\n",
      "          90,  383, 1756,   12,  696,  416,   51,   39, 4576, 4787,   16,  290,\n",
      "         444, 1550,   14,   52, 1102,  440,   18,  587,   39, 1363,    6],\n",
      "       device='cuda:0')\n",
      "recall = 1.0\n",
      "precision = 1.0\n",
      "f_05 = 0.9999999403953552\n"
     ]
    },
    {
     "name": "stderr",
     "output_type": "stream",
     "text": [
      "Testing model...:  80%|████████  | 4800/6000 [1:18:50<18:10,  1.10it/s]"
     ]
    },
    {
     "name": "stdout",
     "output_type": "stream",
     "text": [
      "\n",
      "    SOURCE: chị <mask> thị ánh tuyết ( <mask> bà nguyễn thị minh - <mask> <mask> 8 người tử vong trong <mask> tai biến từ tháng 5 . <mask> ) cho biết: chị và một số gia đình nạn nhân đã nhận được giấy <mask> triệu tập của tòa đến <mask> xét <mask> vụ <mask> .\n",
      "    TARGET: chị nguyễn thị ánh tuyết ( con bà nguyễn thị minh - 1 trong 8 người tử vong trong vụ tai biến từ tháng 5 . 2017 ) cho biết: chị và một số gia đình nạn nhân đã nhận được giấy mời triệu tập của tòa đến dự xét xử vụ án .\n",
      " PREDICTED: chị nguyễn thị ánh tuyết ( chồng bà nguyễn thị minh - sinh viên 8 người tử vong trong vụ tai biến từ tháng 5 . 2019 ) cho biết : chị và một số gia đình nạn nhân đã nhận được giấy tờ triệu tập của tòa đến xem xét nhiệm vụ án .\n",
      "BLEU OF SENTENCE 4800\n",
      "BLEU_1: 0.8727272748947144\n",
      "BLEU_2: 0.8140186071395874\n",
      "BLEU_3: 0.7591955065727234\n",
      "BLEU_4: 0.7028520107269287\n",
      "label_ids = tensor([ 342,  188,  130,  882, 1803,   24,  193,  268,  188,  130,  273,   11,\n",
      "          53,   12,  227,   19,  403,  659,   12,   90,  666,  377,   28,  136,\n",
      "         132,    6,  705,   22,   14,  108,   49,  342,    7,   31,   38,   74,\n",
      "         286,  456,   42,   18,  112,   15,  621, 1294,  195,  216,   10,  833,\n",
      "          26,  143,  228,  339,   90,  170,    6], device='cuda:0')\n",
      "pred_ids = tensor([ 342,  188,  130,  882, 1803,   24,  799,  268,  188,  130,  273,   11,\n",
      "          51,   80,  227,   19,  403,  659,   12,   90,  666,  377,   28,  136,\n",
      "         132,    6,  562,   22,   14,  108,   49,  342,    7,   31,   38,   74,\n",
      "         286,  456,   42,   18,  112,   15,  621,  891,  195,  216,   10,  833,\n",
      "          26,  514,  228,  276,   90,  170,    6], device='cuda:0')\n",
      "recall = 0.8727272748947144\n",
      "precision = 0.8727272748947144\n",
      "f_05 = 0.8727272152900696\n"
     ]
    },
    {
     "name": "stderr",
     "output_type": "stream",
     "text": [
      "Testing model...:  85%|████████▌ | 5100/6000 [1:23:47<15:42,  1.05s/it]"
     ]
    },
    {
     "name": "stdout",
     "output_type": "stream",
     "text": [
      "\n",
      "    SOURCE: <mask> ra , trung đoàn 720 còn <mask> tư gần 7 tỉ <mask> xây dựng đường nội vùng ở các thôn bản <mask> đắk ngo , đường vào khu sản xuất . để <mask> đẹp <mask> thôn , bản , trung đoàn 720 đã <mask> tư <mask> dựng 20km đường <mask> <mask> vụ chiếu sáng tại các khu dân <mask> <mask> bản si át , <mask> <mask> , sín chải .\n",
      "    TARGET: ngoài ra , trung đoàn 720 còn đầu tư gần 7 tỉ đồng xây dựng đường nội vùng ở các thôn bản xã đắk ngo , đường vào khu sản xuất . để làm đẹp cho thôn , bản , trung đoàn 720 đã đầu tư xây dựng 20km đường điện phục vụ chiếu sáng tại các khu dân cư thuộc bản si át , giang châu , sín chải .\n",
      " PREDICTED: ngoài ra , trung đoàn 720 còn đầu tư gần 7 tỉ đồng đa dựng đường nội vùng ở các nhau bản na đắk cư , đường vào khu sản xuất . để làm đẹp tại ứng , bản , trung đoàn 720 đã được tư xây dựng 20km đường để phục vụ chiếu sáng tại các khu dân , các bản si , xã , , chốt , chốt , chốt .\n",
      "BLEU OF SENTENCE 5100\n",
      "BLEU_1: 0.767123281955719\n",
      "BLEU_2: 0.668945848941803\n",
      "BLEU_3: 0.6042228937149048\n",
      "BLEU_4: 0.549822986125946\n",
      "label_ids = tensor([  254,    48,     5,    75,   155,  4240,   150,    66,  6463,   292,\n",
      "          211,   234,    25,  8631,   341,  7398,  1298,   348,    39,     9,\n",
      "        14972,   252,   126,   981,  8421,     5,  7398,    44,   159,   158,\n",
      "          163,     6,    27,    62,  1085,    14, 14972,     5,   252,     5,\n",
      "           75,   155,  4240,    18,    66,  6463,  8631,   341,  3047,  7398,\n",
      "         2602,   416,    90,  1395,   287,    23,     9,   159,  3464, 13009,\n",
      "         8079,   252,  5103,     3,     5,   531,  6165,     5, 13152,  3072,\n",
      "            6,     2,     2], device='cuda:0')\n",
      "pred_ids = tensor([ 254,   48,    5,   75,  155, 4240,  150,   66, 6463,  292,  211,  234,\n",
      "          25,  527,  341, 7398, 1298,  348,   39,    9,  601,  252, 2171,  981,\n",
      "         707,    5, 7398,   44,  159,  158,  163,    6,   27,   62, 1085,   23,\n",
      "         318,    5,  252,    5,   75,  155, 4240,   18,   15, 6463,  323,  341,\n",
      "        3047, 7398,   27,  416,   90, 1395,  287,   23,    9,  159, 3464,    5,\n",
      "           9,  252, 5103,    5,  126,    5,    5,  937,    5,  937,    5,  937,\n",
      "           6], device='cuda:0')\n",
      "recall = 0.7123287916183472\n",
      "precision = 0.7123287916183472\n",
      "f_05 = 0.7123287320137024\n"
     ]
    },
    {
     "name": "stderr",
     "output_type": "stream",
     "text": [
      "Testing model...:  90%|█████████ | 5400/6000 [1:28:43<09:58,  1.00it/s]"
     ]
    },
    {
     "name": "stdout",
     "output_type": "stream",
     "text": [
      "\n",
      "    SOURCE: các em nhận khen thưởng đều được lđlđ thành phố xét chọn nhằm ghi nhận những nỗ lực và phần nào chia sẻ , động viên các em cố gắng nhiều hơn nữa trong học tập , cuộc sống . tại buổi lễ , lđlđ thành phố đã trao quà , giấy chứng nhận và học bổng trị giá 1 . 000 .\n",
      "    TARGET: các em nhận khen thưởng đều được lđlđ thành phố xét chọn nhằm ghi nhận những nỗ lực và phần nào chia sẻ , động viên các em cố gắng nhiều hơn nữa trong học tập , cuộc sống . tại buổi lễ , lđlđ thành phố đã trao quà , giấy chứng nhận và học bổng trị giá 1 . 000 .\n",
      " PREDICTED: các em nhận khen thưởng đều được lđlđ thành phố xét chọn nhằm ghi nhận những nỗ lực và phần nào chia sẻ , động viên các em cố gắng nhiều hơn nữa trong học tập , cuộc sống . tại buổi lễ , lđlđ thành phố đã trao quà , giấy chứng nhận và học bổng trị giá 1 . 000 .\n",
      "BLEU OF SENTENCE 5400\n",
      "BLEU_1: 1.0\n",
      "BLEU_2: 1.0\n",
      "BLEU_3: 1.0\n",
      "BLEU_4: 1.0\n",
      "label_ids = tensor([   9,  325,  112, 1438,  814,  409,   15,  697,   60,  229,  228,  623,\n",
      "         641,  477,  112,   52,  967,  172,    7,  266,  421,  449,  538,    5,\n",
      "          30,   80,    9,  325,  607, 1248,   64,  111,  759,   12,   29,  216,\n",
      "           5,  290,  414,    6,   23,  719,  696,    5,  697,   60,  229,   18,\n",
      "         551,  947,    5,  621,  359,  112,    7,   29, 2150,  201,   87,   53,\n",
      "           6,  203,    6], device='cuda:0')\n",
      "pred_ids = tensor([   9,  325,  112, 1438,  814,  409,   15,  697,   60,  229,  228,  623,\n",
      "         641,  477,  112,   52,  967,  172,    7,  266,  421,  449,  538,    5,\n",
      "          30,   80,    9,  325,  607, 1248,   64,  111,  759,   12,   29,  216,\n",
      "           5,  290,  414,    6,   23,  719,  696,    5,  697,   60,  229,   18,\n",
      "         551,  947,    5,  621,  359,  112,    7,   29, 2150,  201,   87,   53,\n",
      "           6,  203,    6], device='cuda:0')\n",
      "recall = 1.0\n",
      "precision = 1.0\n",
      "f_05 = 0.9999999403953552\n"
     ]
    },
    {
     "name": "stderr",
     "output_type": "stream",
     "text": [
      "Testing model...:  95%|█████████▌| 5700/6000 [1:33:43<05:02,  1.01s/it]"
     ]
    },
    {
     "name": "stdout",
     "output_type": "stream",
     "text": [
      "\n",
      "    SOURCE: phần <mask> gian còn <mask> hướng về các <mask> <mask> sinh <mask> trao học bổng cho các học sinh giỏi , học <mask> <mask> hoàn cảnh <mask> <mask> , đặc biệt các em thuộc <mask> tộc ít người , <mask> dương những giáo viên dạy giỏi , văn nghệ chào mừng năm học mới .\n",
      "    TARGET: phần thời gian còn lại hướng về các em học sinh như: trao học bổng cho các học sinh giỏi , học sinh có hoàn cảnh khó khăn , đặc biệt các em thuộc dân tộc ít người , tuyên dương những giáo viên dạy giỏi , văn nghệ chào mừng năm học mới .\n",
      " PREDICTED: phần thời gian còn lại hướng về các em học sinh được trao học bổng cho các học sinh giỏi , học tập trong hoàn cảnh khó khăn , đặc biệt các em thuộc dân tộc ít người , biểu dương những giáo viên dạy giỏi , văn nghệ chào mừng năm học mới .\n",
      "BLEU OF SENTENCE 5700\n",
      "BLEU_1: 0.9105655762462919\n",
      "BLEU_2: 0.8821847341695035\n",
      "BLEU_3: 0.852717386401769\n",
      "BLEU_4: 0.8220440717506509\n",
      "label_ids = tensor([ 266,   76,  209,  150,  107,  344,   35,    9,  325,   29,   51,  101,\n",
      "          49,  551,   29, 2150,   14,    9,   29,   51, 1333,    5,   29,   51,\n",
      "           8,  280,  253,  311,  430,    5,  353,  385,    9,  325,  402,   95,\n",
      "        1216,  625,   19,    5,  577,  345,   52,  167,   80,  688, 1333,    5,\n",
      "         131,  451, 1470, 1187,   37,   29,  160,    6], device='cuda:0')\n",
      "pred_ids = tensor([ 266,   76,  209,  150,  107,  344,   35,    9,  325,   29,   51,   15,\n",
      "         551,   29, 2150,   14,    9,   29,   51, 1333,    5,   29,  216,   12,\n",
      "         280,  253,  311,  430,    5,  353,  385,    9,  325,  402,   95, 1216,\n",
      "         625,   19,    5,  450,  345,   52,  167,   80,  688, 1333,    5,  131,\n",
      "         451, 1470, 1187,   37,   29,  160,    6,    2], device='cuda:0')\n",
      "recall = 0.1964285671710968\n",
      "precision = 0.1964285671710968\n",
      "f_05 = 0.19642849266529083\n"
     ]
    },
    {
     "name": "stderr",
     "output_type": "stream",
     "text": [
      "Testing model...: 100%|██████████| 6000/6000 [1:38:43<00:00,  1.01it/s]"
     ]
    },
    {
     "name": "stdout",
     "output_type": "stream",
     "text": [
      "\n",
      "    SOURCE: <mask> <mask> xe tấp nập , <mask> <mask> bà thư với <mask> <mask> nhanh thoăn <mask> chỉ rẽ <mask> , rẽ phải <mask> người đi đường đầy <mask> nghiệp , giờ đây đã trở <mask> quen thuộc . nhiều người cho <mask> , hôm nào không thấy bà thư đứng “làm <mask> vụ” thì hôm đó <mask> phương tiện qua đoạn cổng viện gần như “giậm chân tại chỗ” .\n",
      "    TARGET: giữa dòng xe tấp nập , hình ảnh bà thư với cử chỉ nhanh thoăn thoắt chỉ rẽ trái , rẽ phải cho người đi đường đầy chuyên nghiệp , giờ đây đã trở nên quen thuộc . nhiều người cho biết , hôm nào không thấy bà thư đứng “làm nhiệm vụ” thì hôm đó các phương tiện qua đoạn cổng viện gần như “giậm chân tại chỗ” .\n",
      " PREDICTED: khi đi xe tấp nập , người nhà bà thư với tốc độ nhanh hiểm , chỉ rẽ phải , rẽ phải là người đi đường đầy chuyên nghiệp , giờ đây đã trở thành quen thuộc . nhiều người cho biết , hôm nào không thấy bà thư đứng “ làm nhiệm vụ ” thì hôm đó , phương tiện qua đoạn cổng viện gần như “ mưa chân tại chỗ ” .\n",
      "BLEU OF SENTENCE 6000\n",
      "BLEU_1: 0.8243243098258972\n",
      "BLEU_2: 0.7662832140922546\n",
      "BLEU_3: 0.7106125950813293\n",
      "BLEU_4: 0.657598078250885\n",
      "label_ids = tensor([  512,  1099,   164,  3220,  4059,     5,   184,   366,   268,   521,\n",
      "           17,   602,    78,   497, 10026,  8818,    78,  2820,   573,     5,\n",
      "         2820,   100,    14,    19,   138,   176,   783,   382,   128,     5,\n",
      "          376,   181,    18,   303,   200,  1208,   402,     6,    64,    19,\n",
      "           14,   108,     5,   535,   421,    20,   331,   268,   521,   793,\n",
      "           89,    62,   276,    90,   106,   182,   535,    40,     9,   144,\n",
      "          670,   133,   495,  1303,   210,   292,   101,    89, 12379,   854,\n",
      "           23,   840,   106,     6], device='cuda:0')\n",
      "pred_ids = tensor([  43,  138,  164, 3220, 4059,    5,   19,   54,  268,  521,   17,  797,\n",
      "         113,  497,  617,    5,   78, 2820,  100,    5, 2820,  100,   16,   19,\n",
      "         138,  176,  783,  382,  128,    5,  376,  181,   18,  303,   60, 1208,\n",
      "         402,    6,   64,   19,   14,  108,    5,  535,  421,   20,  331,  268,\n",
      "         521,  793,   89,   62,  276,   90,  106,  182,  535,   40,    5,  144,\n",
      "         670,  133,  495, 1303,  210,  292,  101,   89,  317,  854,   23,  840,\n",
      "         106,    6], device='cuda:0')\n",
      "recall = 0.8243243098258972\n",
      "precision = 0.8243243098258972\n",
      "f_05 = 0.8243242502212524\n",
      "Check labels.shape:  torch.Size([397909])\n",
      "Check preds.shape:  torch.Size([397909])\n"
     ]
    },
    {
     "name": "stderr",
     "output_type": "stream",
     "text": [
      "\n"
     ]
    },
    {
     "name": "stdout",
     "output_type": "stream",
     "text": [
      "recall = 0.6826837062835693\n",
      "precision = 0.6826837062835693\n",
      "f_05 = 0.6826836466789246\n",
      "     bleu_1    bleu_2    bleu_3   bleu_4    recall  precision      f_05\n",
      "0  0.883356  0.846227  0.813981  0.78448  0.682684   0.682684  0.682684\n"
     ]
    }
   ],
   "source": [
    "test.test(cf)"
   ]
  }
 ],
 "metadata": {
  "kaggle": {
   "accelerator": "gpu",
   "dataSources": [
    {
     "datasetId": 5066762,
     "sourceId": 8492354,
     "sourceType": "datasetVersion"
    },
    {
     "datasetId": 5066781,
     "sourceId": 8492376,
     "sourceType": "datasetVersion"
    },
    {
     "datasetId": 5071651,
     "sourceId": 8498896,
     "sourceType": "datasetVersion"
    },
    {
     "datasetId": 5078420,
     "sourceId": 8507838,
     "sourceType": "datasetVersion"
    },
    {
     "datasetId": 5080539,
     "sourceId": 8511049,
     "sourceType": "datasetVersion"
    },
    {
     "datasetId": 5081760,
     "sourceId": 8512646,
     "sourceType": "datasetVersion"
    }
   ],
   "dockerImageVersionId": 30699,
   "isGpuEnabled": true,
   "isInternetEnabled": true,
   "language": "python",
   "sourceType": "notebook"
  },
  "kernelspec": {
   "display_name": "Python 3",
   "language": "python",
   "name": "python3"
  },
  "language_info": {
   "codemirror_mode": {
    "name": "ipython",
    "version": 3
   },
   "file_extension": ".py",
   "mimetype": "text/x-python",
   "name": "python",
   "nbconvert_exporter": "python",
   "pygments_lexer": "ipython3",
   "version": "3.10.13"
  },
  "papermill": {
   "default_parameters": {},
   "duration": 20432.401854,
   "end_time": "2024-05-25T14:55:58.347560",
   "environment_variables": {},
   "exception": null,
   "input_path": "__notebook__.ipynb",
   "output_path": "__notebook__.ipynb",
   "parameters": {},
   "start_time": "2024-05-25T09:15:25.945706",
   "version": "2.5.0"
  }
 },
 "nbformat": 4,
 "nbformat_minor": 5
}
