{
 "cells": [
  {
   "cell_type": "code",
   "execution_count": 1,
   "id": "2aeac9bd",
   "metadata": {
    "_cell_guid": "b1076dfc-b9ad-4769-8c92-a6c4dae69d19",
    "_uuid": "8f2839f25d086af736a60e9eeb907d3b93b6e0e5",
    "execution": {
     "iopub.execute_input": "2024-05-26T07:13:29.530295Z",
     "iopub.status.busy": "2024-05-26T07:13:29.529999Z",
     "iopub.status.idle": "2024-05-26T07:13:44.704008Z",
     "shell.execute_reply": "2024-05-26T07:13:44.703078Z"
    },
    "papermill": {
     "duration": 15.180909,
     "end_time": "2024-05-26T07:13:44.706366",
     "exception": false,
     "start_time": "2024-05-26T07:13:29.525457",
     "status": "completed"
    },
    "tags": []
   },
   "outputs": [
    {
     "name": "stdout",
     "output_type": "stream",
     "text": [
      "Cloning into 'research_BART'...\r\n",
      "remote: Enumerating objects: 801, done.\u001b[K\r\n",
      "remote: Counting objects: 100% (221/221), done.\u001b[K\r\n",
      "remote: Compressing objects: 100% (143/143), done.\u001b[K\r\n",
      "remote: Total 801 (delta 146), reused 150 (delta 78), pack-reused 580\u001b[K\r\n",
      "Receiving objects: 100% (801/801), 452.21 KiB | 14.13 MiB/s, done.\r\n",
      "Resolving deltas: 100% (513/513), done.\r\n",
      "Collecting torcheval\r\n",
      "  Downloading torcheval-0.0.7-py3-none-any.whl.metadata (8.6 kB)\r\n",
      "Requirement already satisfied: typing-extensions in /opt/conda/lib/python3.10/site-packages (from torcheval) (4.9.0)\r\n",
      "Downloading torcheval-0.0.7-py3-none-any.whl (179 kB)\r\n",
      "\u001b[2K   \u001b[90m━━━━━━━━━━━━━━━━━━━━━━━━━━━━━━━━━━━━━━━━\u001b[0m \u001b[32m179.2/179.2 kB\u001b[0m \u001b[31m4.5 MB/s\u001b[0m eta \u001b[36m0:00:00\u001b[0m\r\n",
      "\u001b[?25hInstalling collected packages: torcheval\r\n",
      "Successfully installed torcheval-0.0.7\r\n"
     ]
    }
   ],
   "source": [
    "!git clone https://github.com/pnthi1604/research_BART\n",
    "!pip install torcheval"
   ]
  },
  {
   "cell_type": "code",
   "execution_count": 2,
   "id": "386f9243",
   "metadata": {
    "execution": {
     "iopub.execute_input": "2024-05-26T07:13:44.715847Z",
     "iopub.status.busy": "2024-05-26T07:13:44.715550Z",
     "iopub.status.idle": "2024-05-26T07:13:55.950078Z",
     "shell.execute_reply": "2024-05-26T07:13:55.949320Z"
    },
    "papermill": {
     "duration": 11.241711,
     "end_time": "2024-05-26T07:13:55.952277",
     "exception": false,
     "start_time": "2024-05-26T07:13:44.710566",
     "status": "completed"
    },
    "tags": []
   },
   "outputs": [],
   "source": [
    "from research_BART import train, test, config"
   ]
  },
  {
   "cell_type": "code",
   "execution_count": 3,
   "id": "86e3fbca",
   "metadata": {
    "execution": {
     "iopub.execute_input": "2024-05-26T07:13:55.961339Z",
     "iopub.status.busy": "2024-05-26T07:13:55.960898Z",
     "iopub.status.idle": "2024-05-26T07:13:55.965287Z",
     "shell.execute_reply": "2024-05-26T07:13:55.964449Z"
    },
    "papermill": {
     "duration": 0.01088,
     "end_time": "2024-05-26T07:13:55.967132",
     "exception": false,
     "start_time": "2024-05-26T07:13:55.956252",
     "status": "completed"
    },
    "tags": []
   },
   "outputs": [],
   "source": [
    "# const\n",
    "BART = \"bart\"\n",
    "BART_WITH_EMBEDDING = \"bart_with_embedding\"\n",
    "FINE_TUNE_BART_WITH_RANDOM_ENCODER = \"fine_tune_bart_with_random_encoder\"\n",
    "FIRST_STEP = \"FIRST\"\n",
    "SECOND_STEP = \"SECOND\""
   ]
  },
  {
   "cell_type": "code",
   "execution_count": 4,
   "id": "277c7539",
   "metadata": {
    "execution": {
     "iopub.execute_input": "2024-05-26T07:13:55.975629Z",
     "iopub.status.busy": "2024-05-26T07:13:55.975345Z",
     "iopub.status.idle": "2024-05-26T07:13:56.034160Z",
     "shell.execute_reply": "2024-05-26T07:13:56.033348Z"
    },
    "papermill": {
     "duration": 0.065019,
     "end_time": "2024-05-26T07:13:56.035945",
     "exception": false,
     "start_time": "2024-05-26T07:13:55.970926",
     "status": "completed"
    },
    "tags": []
   },
   "outputs": [
    {
     "data": {
      "text/plain": [
       "{'base_dir': '/kaggle/working',\n",
       " 'tokenizer_tgt': '/kaggle/input/1m-mask-vi-and-vi-ds/tokenizer/tokenizer_tgt.json',\n",
       " 'tokenizer_src': '/kaggle/input/8-dataset/tokenizer/tokenizer_src.json',\n",
       " 'use_tokenizer': 'huggingface',\n",
       " 'special_tokens': ['<s>', '</s>', '<pad>', '<unk>', '<mask>'],\n",
       " 'vocab_size': 30000,\n",
       " 'min_frequency': 2,\n",
       " 'model_folder': '/kaggle/working/model',\n",
       " 'model_basename': 'model_',\n",
       " 'model_bart_basename': 'bart_model_',\n",
       " 'model_inputs_embeds': 'inputs_embeds_',\n",
       " 'model_decoder_inputs_embeds': 'decoder_inputs_embeds_',\n",
       " 'model_out': 'out_',\n",
       " 'preload': 'latest',\n",
       " 'data': '/kaggle/working/data',\n",
       " 'log_dir': '/kaggle/working/log',\n",
       " 'log_files': '/kaggle/working/log/log_files',\n",
       " 'loss_train': '/kaggle/working/log/log_files/loss_train.json',\n",
       " 'loss_val': '/kaggle/working/log/log_files/loss_val.json',\n",
       " 'loss_train_step': '/kaggle/working/log/log_files/loss_train_step.json',\n",
       " 'loss_val_step': '/kaggle/working/log/log_files/loss_val_step.json',\n",
       " 'learning_rate_step': '/kaggle/working/log/log_files/learning_rate_step.json',\n",
       " 'timestep_train': '/kaggle/working/log/log_files/timestep_train.json',\n",
       " 'timestep_val': '/kaggle/working/log/log_files/timestep_val.json',\n",
       " 'timestep_train_and_val': '/kaggle/working/log/log_files/timestep_train_and_val.json',\n",
       " 'timestep_lr': '/kaggle/working/log/log_files/timestep_lr.json',\n",
       " 'lang_src': 'noise_vi',\n",
       " 'lang_tgt': 'vi',\n",
       " 'train_ds': '/kaggle/input/8-dataset/train.csv',\n",
       " 'val_ds': None,\n",
       " 'test_ds': '/kaggle/input/8-dataset/test.csv',\n",
       " 'corpus': None,\n",
       " 'max_len': 100,\n",
       " 'model_train': 'fine_tune_bart_with_random_encoder',\n",
       " 'step_train': 'FIRST',\n",
       " 'pretrain': False,\n",
       " 'continue_step': False,\n",
       " 'batch_train': 32,\n",
       " 'batch_val': 32,\n",
       " 'batch_test': 1,\n",
       " 'num_steps': 10000,\n",
       " 'val_steps': 1000,\n",
       " 'd_model': 768,\n",
       " 'encoder_layers': 6,\n",
       " 'decoder_layers': 6,\n",
       " 'encoder_attention_heads': 12,\n",
       " 'decoder_attention_heads': 12,\n",
       " 'decoder_ffn_dim': 3072,\n",
       " 'encoder_ffn_dim': 3072,\n",
       " 'activation_function': 'gelu',\n",
       " 'dropout': 0.1,\n",
       " 'attention_dropout': 0.1,\n",
       " 'activation_dropout': 0.1,\n",
       " 'classifier_dropout': 0.0,\n",
       " 'max_position_embeddings': 100,\n",
       " 'init_std': 0.02,\n",
       " 'encoder_layerdrop': 0.0,\n",
       " 'decoder_layerdrop': 0.0,\n",
       " 'scale_embedding': False,\n",
       " 'num_beams': 4,\n",
       " 'init_type': 'xavier',\n",
       " 'share_tgt_emb_and_out': False,\n",
       " 'checkpoint': '/kaggle/input/pretrained-dataset-150k-step/150k_step/model/model_0000150000.pt',\n",
       " 'weight_decay': 0.0,\n",
       " 'lr': 0.3,\n",
       " 'eps': 1e-09,\n",
       " 'betas': (0.9, 0.98),\n",
       " 'label_smoothing': 0.01,\n",
       " 'warmup_steps': 4000,\n",
       " 'device': 'cuda',\n",
       " 'f_beta': 0.5,\n",
       " 'beams': [2],\n",
       " 'use_pytorch_metric': True}"
      ]
     },
     "execution_count": 4,
     "metadata": {},
     "output_type": "execute_result"
    }
   ],
   "source": [
    "cf = config.get_config(\"/kaggle/working\")\n",
    "cf[\"tokenizer_src\"] = \"/kaggle/input/8-dataset/tokenizer/tokenizer_src.json\"\n",
    "cf[\"tokenizer_tgt\"] = \"/kaggle/input/1m-mask-vi-and-vi-ds/tokenizer/tokenizer_tgt.json\"\n",
    "cf[\"train_ds\"] = \"/kaggle/input/8-dataset/train.csv\"\n",
    "cf[\"test_ds\"] = \"/kaggle/input/8-dataset/test.csv\"\n",
    "cf[\"batch_train\"] = cf[\"batch_val\"] = 32\n",
    "cf[\"model_train\"] = FINE_TUNE_BART_WITH_RANDOM_ENCODER\n",
    "cf[\"use_pytorch_metric\"] = True\n",
    "cf[\"step_train\"] = FIRST_STEP\n",
    "cf[\"num_steps\"] = 10000\n",
    "cf[\"val_steps\"] = 1000\n",
    "cf[\"lr\"] = 0.3\n",
    "cf[\"dropout\"] = 0.1\n",
    "cf[\"init_type\"] = \"xavier\"\n",
    "cf[\"checkpoint\"] = \"/kaggle/input/pretrained-dataset-150k-step/150k_step/model/model_0000150000.pt\"\n",
    "cf"
   ]
  },
  {
   "cell_type": "code",
   "execution_count": 5,
   "id": "f1a13f80",
   "metadata": {
    "execution": {
     "iopub.execute_input": "2024-05-26T07:13:56.044884Z",
     "iopub.status.busy": "2024-05-26T07:13:56.044618Z",
     "iopub.status.idle": "2024-05-26T10:09:15.869490Z",
     "shell.execute_reply": "2024-05-26T10:09:15.868362Z"
    },
    "papermill": {
     "duration": 10519.835144,
     "end_time": "2024-05-26T10:09:15.875052",
     "exception": false,
     "start_time": "2024-05-26T07:13:56.039908",
     "status": "completed"
    },
    "tags": []
   },
   "outputs": [
    {
     "name": "stdout",
     "output_type": "stream",
     "text": [
      "Created:\n",
      "/kaggle/working/model\n",
      "/kaggle/working/log\n",
      "/kaggle/working/log/log_files\n",
      "====================================\n",
      "/kaggle/input/8-dataset/tokenizer/tokenizer_src.json\n",
      "/kaggle/input/1m-mask-vi-and-vi-ds/tokenizer/tokenizer_tgt.json\n",
      "Read tokenizer successfully\n",
      "Vocab size src:  25000\n",
      "Vocab size tgt:  50000\n",
      "====================================\n",
      "inputs_embeds.weight\n",
      "random_encoder.embed_tokens.weight\n",
      "random_encoder.embed_positions.weight\n",
      "random_encoder.layers.0.self_attn.k_proj.weight\n",
      "random_encoder.layers.0.self_attn.k_proj.bias\n",
      "random_encoder.layers.0.self_attn.v_proj.weight\n",
      "random_encoder.layers.0.self_attn.v_proj.bias\n",
      "random_encoder.layers.0.self_attn.q_proj.weight\n",
      "random_encoder.layers.0.self_attn.q_proj.bias\n",
      "random_encoder.layers.0.self_attn.out_proj.weight\n",
      "random_encoder.layers.0.self_attn.out_proj.bias\n",
      "random_encoder.layers.0.self_attn_layer_norm.weight\n",
      "random_encoder.layers.0.self_attn_layer_norm.bias\n",
      "random_encoder.layers.0.fc1.weight\n",
      "random_encoder.layers.0.fc1.bias\n",
      "random_encoder.layers.0.fc2.weight\n",
      "random_encoder.layers.0.fc2.bias\n",
      "random_encoder.layers.0.final_layer_norm.weight\n",
      "random_encoder.layers.0.final_layer_norm.bias\n",
      "random_encoder.layers.1.self_attn.k_proj.weight\n",
      "random_encoder.layers.1.self_attn.k_proj.bias\n",
      "random_encoder.layers.1.self_attn.v_proj.weight\n",
      "random_encoder.layers.1.self_attn.v_proj.bias\n",
      "random_encoder.layers.1.self_attn.q_proj.weight\n",
      "random_encoder.layers.1.self_attn.q_proj.bias\n",
      "random_encoder.layers.1.self_attn.out_proj.weight\n",
      "random_encoder.layers.1.self_attn.out_proj.bias\n",
      "random_encoder.layers.1.self_attn_layer_norm.weight\n",
      "random_encoder.layers.1.self_attn_layer_norm.bias\n",
      "random_encoder.layers.1.fc1.weight\n",
      "random_encoder.layers.1.fc1.bias\n",
      "random_encoder.layers.1.fc2.weight\n",
      "random_encoder.layers.1.fc2.bias\n",
      "random_encoder.layers.1.final_layer_norm.weight\n",
      "random_encoder.layers.1.final_layer_norm.bias\n",
      "random_encoder.layers.2.self_attn.k_proj.weight\n",
      "random_encoder.layers.2.self_attn.k_proj.bias\n",
      "random_encoder.layers.2.self_attn.v_proj.weight\n",
      "random_encoder.layers.2.self_attn.v_proj.bias\n",
      "random_encoder.layers.2.self_attn.q_proj.weight\n",
      "random_encoder.layers.2.self_attn.q_proj.bias\n",
      "random_encoder.layers.2.self_attn.out_proj.weight\n",
      "random_encoder.layers.2.self_attn.out_proj.bias\n",
      "random_encoder.layers.2.self_attn_layer_norm.weight\n",
      "random_encoder.layers.2.self_attn_layer_norm.bias\n",
      "random_encoder.layers.2.fc1.weight\n",
      "random_encoder.layers.2.fc1.bias\n",
      "random_encoder.layers.2.fc2.weight\n",
      "random_encoder.layers.2.fc2.bias\n",
      "random_encoder.layers.2.final_layer_norm.weight\n",
      "random_encoder.layers.2.final_layer_norm.bias\n",
      "random_encoder.layers.3.self_attn.k_proj.weight\n",
      "random_encoder.layers.3.self_attn.k_proj.bias\n",
      "random_encoder.layers.3.self_attn.v_proj.weight\n",
      "random_encoder.layers.3.self_attn.v_proj.bias\n",
      "random_encoder.layers.3.self_attn.q_proj.weight\n",
      "random_encoder.layers.3.self_attn.q_proj.bias\n",
      "random_encoder.layers.3.self_attn.out_proj.weight\n",
      "random_encoder.layers.3.self_attn.out_proj.bias\n",
      "random_encoder.layers.3.self_attn_layer_norm.weight\n",
      "random_encoder.layers.3.self_attn_layer_norm.bias\n",
      "random_encoder.layers.3.fc1.weight\n",
      "random_encoder.layers.3.fc1.bias\n",
      "random_encoder.layers.3.fc2.weight\n",
      "random_encoder.layers.3.fc2.bias\n",
      "random_encoder.layers.3.final_layer_norm.weight\n",
      "random_encoder.layers.3.final_layer_norm.bias\n",
      "random_encoder.layers.4.self_attn.k_proj.weight\n",
      "random_encoder.layers.4.self_attn.k_proj.bias\n",
      "random_encoder.layers.4.self_attn.v_proj.weight\n",
      "random_encoder.layers.4.self_attn.v_proj.bias\n",
      "random_encoder.layers.4.self_attn.q_proj.weight\n",
      "random_encoder.layers.4.self_attn.q_proj.bias\n",
      "random_encoder.layers.4.self_attn.out_proj.weight\n",
      "random_encoder.layers.4.self_attn.out_proj.bias\n",
      "random_encoder.layers.4.self_attn_layer_norm.weight\n",
      "random_encoder.layers.4.self_attn_layer_norm.bias\n",
      "random_encoder.layers.4.fc1.weight\n",
      "random_encoder.layers.4.fc1.bias\n",
      "random_encoder.layers.4.fc2.weight\n",
      "random_encoder.layers.4.fc2.bias\n",
      "random_encoder.layers.4.final_layer_norm.weight\n",
      "random_encoder.layers.4.final_layer_norm.bias\n",
      "random_encoder.layers.5.self_attn.k_proj.weight\n",
      "random_encoder.layers.5.self_attn.k_proj.bias\n",
      "random_encoder.layers.5.self_attn.v_proj.weight\n",
      "random_encoder.layers.5.self_attn.v_proj.bias\n",
      "random_encoder.layers.5.self_attn.q_proj.weight\n",
      "random_encoder.layers.5.self_attn.q_proj.bias\n",
      "random_encoder.layers.5.self_attn.out_proj.weight\n",
      "random_encoder.layers.5.self_attn.out_proj.bias\n",
      "random_encoder.layers.5.self_attn_layer_norm.weight\n",
      "random_encoder.layers.5.self_attn_layer_norm.bias\n",
      "random_encoder.layers.5.fc1.weight\n",
      "random_encoder.layers.5.fc1.bias\n",
      "random_encoder.layers.5.fc2.weight\n",
      "random_encoder.layers.5.fc2.bias\n",
      "random_encoder.layers.5.final_layer_norm.weight\n",
      "random_encoder.layers.5.final_layer_norm.bias\n",
      "random_encoder.layernorm_embedding.weight\n",
      "random_encoder.layernorm_embedding.bias\n",
      "bart_model.encoder.embed_positions.weight\n",
      "bart_model.encoder.layers.0.self_attn.k_proj.weight\n",
      "bart_model.encoder.layers.0.self_attn.k_proj.bias\n",
      "bart_model.encoder.layers.0.self_attn.v_proj.weight\n",
      "bart_model.encoder.layers.0.self_attn.v_proj.bias\n",
      "bart_model.encoder.layers.0.self_attn.q_proj.weight\n",
      "bart_model.encoder.layers.0.self_attn.q_proj.bias\n",
      "bart_model.encoder.layers.0.self_attn.out_proj.weight\n",
      "bart_model.encoder.layers.0.self_attn.out_proj.bias\n",
      "weight\n",
      "embed_tokens.weight\n",
      "embed_positions.weight\n",
      "layers.0.self_attn.k_proj.weight\n",
      "layers.0.self_attn.k_proj.bias\n",
      "layers.0.self_attn.v_proj.weight\n",
      "layers.0.self_attn.v_proj.bias\n",
      "layers.0.self_attn.q_proj.weight\n",
      "layers.0.self_attn.q_proj.bias\n",
      "layers.0.self_attn.out_proj.weight\n",
      "layers.0.self_attn.out_proj.bias\n",
      "layers.0.self_attn_layer_norm.weight\n",
      "layers.0.self_attn_layer_norm.bias\n",
      "layers.0.fc1.weight\n",
      "layers.0.fc1.bias\n",
      "layers.0.fc2.weight\n",
      "layers.0.fc2.bias\n",
      "layers.0.final_layer_norm.weight\n",
      "layers.0.final_layer_norm.bias\n",
      "layers.1.self_attn.k_proj.weight\n",
      "layers.1.self_attn.k_proj.bias\n",
      "layers.1.self_attn.v_proj.weight\n",
      "layers.1.self_attn.v_proj.bias\n",
      "layers.1.self_attn.q_proj.weight\n",
      "layers.1.self_attn.q_proj.bias\n",
      "layers.1.self_attn.out_proj.weight\n",
      "layers.1.self_attn.out_proj.bias\n",
      "layers.1.self_attn_layer_norm.weight\n",
      "layers.1.self_attn_layer_norm.bias\n",
      "layers.1.fc1.weight\n",
      "layers.1.fc1.bias\n",
      "layers.1.fc2.weight\n",
      "layers.1.fc2.bias\n",
      "layers.1.final_layer_norm.weight\n",
      "layers.1.final_layer_norm.bias\n",
      "layers.2.self_attn.k_proj.weight\n",
      "layers.2.self_attn.k_proj.bias\n",
      "layers.2.self_attn.v_proj.weight\n",
      "layers.2.self_attn.v_proj.bias\n",
      "layers.2.self_attn.q_proj.weight\n",
      "layers.2.self_attn.q_proj.bias\n",
      "layers.2.self_attn.out_proj.weight\n",
      "layers.2.self_attn.out_proj.bias\n",
      "layers.2.self_attn_layer_norm.weight\n",
      "layers.2.self_attn_layer_norm.bias\n",
      "layers.2.fc1.weight\n",
      "layers.2.fc1.bias\n",
      "layers.2.fc2.weight\n",
      "layers.2.fc2.bias\n",
      "layers.2.final_layer_norm.weight\n",
      "layers.2.final_layer_norm.bias\n",
      "layers.3.self_attn.k_proj.weight\n",
      "layers.3.self_attn.k_proj.bias\n",
      "layers.3.self_attn.v_proj.weight\n",
      "layers.3.self_attn.v_proj.bias\n",
      "layers.3.self_attn.q_proj.weight\n",
      "layers.3.self_attn.q_proj.bias\n",
      "layers.3.self_attn.out_proj.weight\n",
      "layers.3.self_attn.out_proj.bias\n",
      "layers.3.self_attn_layer_norm.weight\n",
      "layers.3.self_attn_layer_norm.bias\n",
      "layers.3.fc1.weight\n",
      "layers.3.fc1.bias\n",
      "layers.3.fc2.weight\n",
      "layers.3.fc2.bias\n",
      "layers.3.final_layer_norm.weight\n",
      "layers.3.final_layer_norm.bias\n",
      "layers.4.self_attn.k_proj.weight\n",
      "layers.4.self_attn.k_proj.bias\n",
      "layers.4.self_attn.v_proj.weight\n",
      "layers.4.self_attn.v_proj.bias\n",
      "layers.4.self_attn.q_proj.weight\n",
      "layers.4.self_attn.q_proj.bias\n",
      "layers.4.self_attn.out_proj.weight\n",
      "layers.4.self_attn.out_proj.bias\n",
      "layers.4.self_attn_layer_norm.weight\n",
      "layers.4.self_attn_layer_norm.bias\n",
      "layers.4.fc1.weight\n",
      "layers.4.fc1.bias\n",
      "layers.4.fc2.weight\n",
      "layers.4.fc2.bias\n",
      "layers.4.final_layer_norm.weight\n",
      "layers.4.final_layer_norm.bias\n",
      "layers.5.self_attn.k_proj.weight\n",
      "layers.5.self_attn.k_proj.bias\n",
      "layers.5.self_attn.v_proj.weight\n",
      "layers.5.self_attn.v_proj.bias\n",
      "layers.5.self_attn.q_proj.weight\n",
      "layers.5.self_attn.q_proj.bias\n",
      "layers.5.self_attn.out_proj.weight\n",
      "layers.5.self_attn.out_proj.bias\n",
      "layers.5.self_attn_layer_norm.weight\n",
      "layers.5.self_attn_layer_norm.bias\n",
      "layers.5.fc1.weight\n",
      "layers.5.fc1.bias\n",
      "layers.5.fc2.weight\n",
      "layers.5.fc2.bias\n",
      "layers.5.final_layer_norm.weight\n",
      "layers.5.final_layer_norm.bias\n",
      "layernorm_embedding.weight\n",
      "layernorm_embedding.bias\n",
      "weight\n",
      "weight\n",
      "0.self_attn.k_proj.weight\n",
      "0.self_attn.k_proj.bias\n",
      "0.self_attn.v_proj.weight\n",
      "0.self_attn.v_proj.bias\n",
      "0.self_attn.q_proj.weight\n",
      "0.self_attn.q_proj.bias\n",
      "0.self_attn.out_proj.weight\n",
      "0.self_attn.out_proj.bias\n",
      "0.self_attn_layer_norm.weight\n",
      "0.self_attn_layer_norm.bias\n",
      "0.fc1.weight\n",
      "0.fc1.bias\n",
      "0.fc2.weight\n",
      "0.fc2.bias\n",
      "0.final_layer_norm.weight\n",
      "0.final_layer_norm.bias\n",
      "1.self_attn.k_proj.weight\n",
      "1.self_attn.k_proj.bias\n",
      "1.self_attn.v_proj.weight\n",
      "1.self_attn.v_proj.bias\n",
      "1.self_attn.q_proj.weight\n",
      "1.self_attn.q_proj.bias\n",
      "1.self_attn.out_proj.weight\n",
      "1.self_attn.out_proj.bias\n",
      "1.self_attn_layer_norm.weight\n",
      "1.self_attn_layer_norm.bias\n",
      "1.fc1.weight\n",
      "1.fc1.bias\n",
      "1.fc2.weight\n",
      "1.fc2.bias\n",
      "1.final_layer_norm.weight\n",
      "1.final_layer_norm.bias\n",
      "2.self_attn.k_proj.weight\n",
      "2.self_attn.k_proj.bias\n",
      "2.self_attn.v_proj.weight\n",
      "2.self_attn.v_proj.bias\n",
      "2.self_attn.q_proj.weight\n",
      "2.self_attn.q_proj.bias\n",
      "2.self_attn.out_proj.weight\n",
      "2.self_attn.out_proj.bias\n",
      "2.self_attn_layer_norm.weight\n",
      "2.self_attn_layer_norm.bias\n",
      "2.fc1.weight\n",
      "2.fc1.bias\n",
      "2.fc2.weight\n",
      "2.fc2.bias\n",
      "2.final_layer_norm.weight\n",
      "2.final_layer_norm.bias\n",
      "3.self_attn.k_proj.weight\n",
      "3.self_attn.k_proj.bias\n",
      "3.self_attn.v_proj.weight\n",
      "3.self_attn.v_proj.bias\n",
      "3.self_attn.q_proj.weight\n",
      "3.self_attn.q_proj.bias\n",
      "3.self_attn.out_proj.weight\n",
      "3.self_attn.out_proj.bias\n",
      "3.self_attn_layer_norm.weight\n",
      "3.self_attn_layer_norm.bias\n",
      "3.fc1.weight\n",
      "3.fc1.bias\n",
      "3.fc2.weight\n",
      "3.fc2.bias\n",
      "3.final_layer_norm.weight\n",
      "3.final_layer_norm.bias\n",
      "4.self_attn.k_proj.weight\n",
      "4.self_attn.k_proj.bias\n",
      "4.self_attn.v_proj.weight\n",
      "4.self_attn.v_proj.bias\n",
      "4.self_attn.q_proj.weight\n",
      "4.self_attn.q_proj.bias\n",
      "4.self_attn.out_proj.weight\n",
      "4.self_attn.out_proj.bias\n",
      "4.self_attn_layer_norm.weight\n",
      "4.self_attn_layer_norm.bias\n",
      "4.fc1.weight\n",
      "4.fc1.bias\n",
      "4.fc2.weight\n",
      "4.fc2.bias\n",
      "4.final_layer_norm.weight\n",
      "4.final_layer_norm.bias\n",
      "5.self_attn.k_proj.weight\n",
      "5.self_attn.k_proj.bias\n",
      "5.self_attn.v_proj.weight\n",
      "5.self_attn.v_proj.bias\n",
      "5.self_attn.q_proj.weight\n",
      "5.self_attn.q_proj.bias\n",
      "5.self_attn.out_proj.weight\n",
      "5.self_attn.out_proj.bias\n",
      "5.self_attn_layer_norm.weight\n",
      "5.self_attn_layer_norm.bias\n",
      "5.fc1.weight\n",
      "5.fc1.bias\n",
      "5.fc2.weight\n",
      "5.fc2.bias\n",
      "5.final_layer_norm.weight\n",
      "5.final_layer_norm.bias\n",
      "self_attn.k_proj.weight\n",
      "self_attn.k_proj.bias\n",
      "self_attn.v_proj.weight\n",
      "self_attn.v_proj.bias\n",
      "self_attn.q_proj.weight\n",
      "self_attn.q_proj.bias\n",
      "self_attn.out_proj.weight\n",
      "self_attn.out_proj.bias\n",
      "self_attn_layer_norm.weight\n",
      "self_attn_layer_norm.bias\n",
      "fc1.weight\n",
      "fc1.bias\n",
      "fc2.weight\n",
      "fc2.bias\n",
      "final_layer_norm.weight\n",
      "final_layer_norm.bias\n",
      "k_proj.weight\n",
      "k_proj.bias\n",
      "v_proj.weight\n",
      "v_proj.bias\n",
      "q_proj.weight\n",
      "q_proj.bias\n",
      "out_proj.weight\n",
      "out_proj.bias\n",
      "weight\n",
      "bias\n",
      "weight\n",
      "bias\n",
      "weight\n",
      "bias\n",
      "weight\n",
      "bias\n",
      "weight\n",
      "bias\n",
      "weight\n",
      "bias\n",
      "weight\n",
      "bias\n",
      "weight\n",
      "bias\n",
      "self_attn.k_proj.weight\n",
      "self_attn.k_proj.bias\n",
      "self_attn.v_proj.weight\n",
      "self_attn.v_proj.bias\n",
      "self_attn.q_proj.weight\n",
      "self_attn.q_proj.bias\n",
      "self_attn.out_proj.weight\n",
      "self_attn.out_proj.bias\n",
      "self_attn_layer_norm.weight\n",
      "self_attn_layer_norm.bias\n",
      "fc1.weight\n",
      "fc1.bias\n",
      "fc2.weight\n",
      "fc2.bias\n",
      "final_layer_norm.weight\n",
      "final_layer_norm.bias\n",
      "k_proj.weight\n",
      "k_proj.bias\n",
      "v_proj.weight\n",
      "v_proj.bias\n",
      "q_proj.weight\n",
      "q_proj.bias\n",
      "out_proj.weight\n",
      "out_proj.bias\n",
      "weight\n",
      "bias\n",
      "weight\n",
      "bias\n",
      "weight\n",
      "bias\n",
      "weight\n",
      "bias\n",
      "weight\n",
      "bias\n",
      "weight\n",
      "bias\n",
      "weight\n",
      "bias\n",
      "weight\n",
      "bias\n",
      "self_attn.k_proj.weight\n",
      "self_attn.k_proj.bias\n",
      "self_attn.v_proj.weight\n",
      "self_attn.v_proj.bias\n",
      "self_attn.q_proj.weight\n",
      "self_attn.q_proj.bias\n",
      "self_attn.out_proj.weight\n",
      "self_attn.out_proj.bias\n",
      "self_attn_layer_norm.weight\n",
      "self_attn_layer_norm.bias\n",
      "fc1.weight\n",
      "fc1.bias\n",
      "fc2.weight\n",
      "fc2.bias\n",
      "final_layer_norm.weight\n",
      "final_layer_norm.bias\n",
      "k_proj.weight\n",
      "k_proj.bias\n",
      "v_proj.weight\n",
      "v_proj.bias\n",
      "q_proj.weight\n",
      "q_proj.bias\n",
      "out_proj.weight\n",
      "out_proj.bias\n",
      "weight\n",
      "bias\n",
      "weight\n",
      "bias\n",
      "weight\n",
      "bias\n",
      "weight\n",
      "bias\n",
      "weight\n",
      "bias\n",
      "weight\n",
      "bias\n",
      "weight\n",
      "bias\n",
      "weight\n",
      "bias\n",
      "self_attn.k_proj.weight\n",
      "self_attn.k_proj.bias\n",
      "self_attn.v_proj.weight\n",
      "self_attn.v_proj.bias\n",
      "self_attn.q_proj.weight\n",
      "self_attn.q_proj.bias\n",
      "self_attn.out_proj.weight\n",
      "self_attn.out_proj.bias\n",
      "self_attn_layer_norm.weight\n",
      "self_attn_layer_norm.bias\n",
      "fc1.weight\n",
      "fc1.bias\n",
      "fc2.weight\n",
      "fc2.bias\n",
      "final_layer_norm.weight\n",
      "final_layer_norm.bias\n",
      "k_proj.weight\n",
      "k_proj.bias\n",
      "v_proj.weight\n",
      "v_proj.bias\n",
      "q_proj.weight\n",
      "q_proj.bias\n",
      "out_proj.weight\n",
      "out_proj.bias\n",
      "weight\n",
      "bias\n",
      "weight\n",
      "bias\n",
      "weight\n",
      "bias\n",
      "weight\n",
      "bias\n",
      "weight\n",
      "bias\n",
      "weight\n",
      "bias\n",
      "weight\n",
      "bias\n",
      "weight\n",
      "bias\n",
      "self_attn.k_proj.weight\n",
      "self_attn.k_proj.bias\n",
      "self_attn.v_proj.weight\n",
      "self_attn.v_proj.bias\n",
      "self_attn.q_proj.weight\n",
      "self_attn.q_proj.bias\n",
      "self_attn.out_proj.weight\n",
      "self_attn.out_proj.bias\n",
      "self_attn_layer_norm.weight\n",
      "self_attn_layer_norm.bias\n",
      "fc1.weight\n",
      "fc1.bias\n",
      "fc2.weight\n",
      "fc2.bias\n",
      "final_layer_norm.weight\n",
      "final_layer_norm.bias\n",
      "k_proj.weight\n",
      "k_proj.bias\n",
      "v_proj.weight\n",
      "v_proj.bias\n",
      "q_proj.weight\n",
      "q_proj.bias\n",
      "out_proj.weight\n",
      "out_proj.bias\n",
      "weight\n",
      "bias\n",
      "weight\n",
      "bias\n",
      "weight\n",
      "bias\n",
      "weight\n",
      "bias\n",
      "weight\n",
      "bias\n",
      "weight\n",
      "bias\n",
      "weight\n",
      "bias\n",
      "weight\n",
      "bias\n",
      "self_attn.k_proj.weight\n",
      "self_attn.k_proj.bias\n",
      "self_attn.v_proj.weight\n",
      "self_attn.v_proj.bias\n",
      "self_attn.q_proj.weight\n",
      "self_attn.q_proj.bias\n",
      "self_attn.out_proj.weight\n",
      "self_attn.out_proj.bias\n",
      "self_attn_layer_norm.weight\n",
      "self_attn_layer_norm.bias\n",
      "fc1.weight\n",
      "fc1.bias\n",
      "fc2.weight\n",
      "fc2.bias\n",
      "final_layer_norm.weight\n",
      "final_layer_norm.bias\n",
      "k_proj.weight\n",
      "k_proj.bias\n",
      "v_proj.weight\n",
      "v_proj.bias\n",
      "q_proj.weight\n",
      "q_proj.bias\n",
      "out_proj.weight\n",
      "out_proj.bias\n",
      "weight\n",
      "bias\n",
      "weight\n",
      "bias\n",
      "weight\n",
      "bias\n",
      "weight\n",
      "bias\n",
      "weight\n",
      "bias\n",
      "weight\n",
      "bias\n",
      "weight\n",
      "bias\n",
      "weight\n",
      "bias\n",
      "weight\n",
      "bias\n",
      "encoder.embed_positions.weight\n",
      "encoder.layers.0.self_attn.k_proj.weight\n",
      "encoder.layers.0.self_attn.k_proj.bias\n",
      "encoder.layers.0.self_attn.v_proj.weight\n",
      "encoder.layers.0.self_attn.v_proj.bias\n",
      "encoder.layers.0.self_attn.q_proj.weight\n",
      "encoder.layers.0.self_attn.q_proj.bias\n",
      "encoder.layers.0.self_attn.out_proj.weight\n",
      "encoder.layers.0.self_attn.out_proj.bias\n",
      "embed_positions.weight\n",
      "layers.0.self_attn.k_proj.weight\n",
      "layers.0.self_attn.k_proj.bias\n",
      "layers.0.self_attn.v_proj.weight\n",
      "layers.0.self_attn.v_proj.bias\n",
      "layers.0.self_attn.q_proj.weight\n",
      "layers.0.self_attn.q_proj.bias\n",
      "layers.0.self_attn.out_proj.weight\n",
      "layers.0.self_attn.out_proj.bias\n",
      "weight\n",
      "0.self_attn.k_proj.weight\n",
      "0.self_attn.k_proj.bias\n",
      "0.self_attn.v_proj.weight\n",
      "0.self_attn.v_proj.bias\n",
      "0.self_attn.q_proj.weight\n",
      "0.self_attn.q_proj.bias\n",
      "0.self_attn.out_proj.weight\n",
      "0.self_attn.out_proj.bias\n",
      "self_attn.k_proj.weight\n",
      "self_attn.k_proj.bias\n",
      "self_attn.v_proj.weight\n",
      "self_attn.v_proj.bias\n",
      "self_attn.q_proj.weight\n",
      "self_attn.q_proj.bias\n",
      "self_attn.out_proj.weight\n",
      "self_attn.out_proj.bias\n",
      "k_proj.weight\n",
      "k_proj.bias\n",
      "v_proj.weight\n",
      "v_proj.bias\n",
      "q_proj.weight\n",
      "q_proj.bias\n",
      "out_proj.weight\n",
      "out_proj.bias\n",
      "weight\n",
      "bias\n",
      "weight\n",
      "bias\n",
      "weight\n",
      "bias\n",
      "weight\n",
      "bias\n",
      "/kaggle/input/8-dataset/tokenizer/tokenizer_src.json\n",
      "/kaggle/input/1m-mask-vi-and-vi-ds/tokenizer/tokenizer_tgt.json\n",
      "Read tokenizer successfully\n",
      "Vocab size src:  25000\n",
      "Vocab size tgt:  50000\n",
      "====================================\n",
      "Read dataset successfully\n",
      "Length train dataset:  225000\n",
      "Length val dataset:  25000\n",
      "Length test dataset:  3131\n",
      "====================================\n",
      "Get dataloader successfully\n",
      "No model to preload, start training from scratch\n",
      "/kaggle/input/8-dataset/tokenizer/tokenizer_src.json\n",
      "/kaggle/input/1m-mask-vi-and-vi-ds/tokenizer/tokenizer_tgt.json\n",
      "Read tokenizer successfully\n",
      "Vocab size src:  25000\n",
      "Vocab size tgt:  50000\n",
      "====================================\n",
      "Read dataset successfully\n",
      "Length train dataset:  225000\n",
      "Length val dataset:  25000\n",
      "Length test dataset:  3131\n",
      "====================================\n",
      "Get dataloader successfully\n"
     ]
    },
    {
     "name": "stderr",
     "output_type": "stream",
     "text": [
      "Trainning: 100%|██████████| 7032/7032 [1:10:45<00:00,  1.66it/s, loss=0.634, global_step=0000007031]\n"
     ]
    },
    {
     "name": "stdout",
     "output_type": "stream",
     "text": [
      "/kaggle/input/8-dataset/tokenizer/tokenizer_src.json\n",
      "/kaggle/input/1m-mask-vi-and-vi-ds/tokenizer/tokenizer_tgt.json\n",
      "Read tokenizer successfully\n",
      "Vocab size src:  25000\n",
      "Vocab size tgt:  50000\n",
      "====================================\n",
      "Read dataset successfully\n",
      "Length train dataset:  225000\n",
      "Length val dataset:  25000\n",
      "Length test dataset:  3131\n",
      "====================================\n",
      "Get dataloader successfully\n"
     ]
    },
    {
     "name": "stderr",
     "output_type": "stream",
     "text": [
      "Trainning:  42%|████▏     | 2967/7032 [30:20<41:33,  1.63it/s, loss=0.301, global_step=0000009999]\n"
     ]
    },
    {
     "name": "stdout",
     "output_type": "stream",
     "text": [
      "Saved model at /kaggle/working/model/model_0000010000.pt\n",
      "Saved config at /kaggle/working/model/config_0000010000.json\n"
     ]
    },
    {
     "data": {
      "image/png": "[encoded data removed]",
      "text/plain": [
       "<Figure size 640x480 with 1 Axes>"
      ]
     },
     "metadata": {},
     "output_type": "display_data"
    },
    {
     "data": {
      "image/png": "[encoded data removed]",
      "text/plain": [
       "<Figure size 640x480 with 1 Axes>"
      ]
     },
     "metadata": {},
     "output_type": "display_data"
    },
    {
     "data": {
      "image/png": "[encoded data removed]",
      "text/plain": [
       "<Figure size 640x480 with 1 Axes>"
      ]
     },
     "metadata": {},
     "output_type": "display_data"
    },
    {
     "data": {
      "image/png": "[encoded data removed]",
      "text/plain": [
       "<Figure size 640x480 with 1 Axes>"
      ]
     },
     "metadata": {},
     "output_type": "display_data"
    },
    {
     "name": "stdout",
     "output_type": "stream",
     "text": [
      "/kaggle/input/8-dataset/tokenizer/tokenizer_src.json\n",
      "/kaggle/input/1m-mask-vi-and-vi-ds/tokenizer/tokenizer_tgt.json\n",
      "Read tokenizer successfully\n",
      "Vocab size src:  25000\n",
      "Vocab size tgt:  50000\n",
      "====================================\n",
      "/kaggle/input/8-dataset/tokenizer/tokenizer_src.json\n",
      "/kaggle/input/1m-mask-vi-and-vi-ds/tokenizer/tokenizer_tgt.json\n",
      "Read tokenizer successfully\n",
      "Vocab size src:  25000\n",
      "Vocab size tgt:  50000\n",
      "====================================\n",
      "Read dataset successfully\n",
      "Length train dataset:  225000\n",
      "Length val dataset:  25000\n",
      "Length test dataset:  3131\n",
      "====================================\n",
      "Get dataloader successfully\n",
      "inputs_embeds.weight\n",
      "random_encoder.embed_tokens.weight\n",
      "random_encoder.embed_positions.weight\n",
      "random_encoder.layers.0.self_attn.k_proj.weight\n",
      "random_encoder.layers.0.self_attn.k_proj.bias\n",
      "random_encoder.layers.0.self_attn.v_proj.weight\n",
      "random_encoder.layers.0.self_attn.v_proj.bias\n",
      "random_encoder.layers.0.self_attn.q_proj.weight\n",
      "random_encoder.layers.0.self_attn.q_proj.bias\n",
      "random_encoder.layers.0.self_attn.out_proj.weight\n",
      "random_encoder.layers.0.self_attn.out_proj.bias\n",
      "random_encoder.layers.0.self_attn_layer_norm.weight\n",
      "random_encoder.layers.0.self_attn_layer_norm.bias\n",
      "random_encoder.layers.0.fc1.weight\n",
      "random_encoder.layers.0.fc1.bias\n",
      "random_encoder.layers.0.fc2.weight\n",
      "random_encoder.layers.0.fc2.bias\n",
      "random_encoder.layers.0.final_layer_norm.weight\n",
      "random_encoder.layers.0.final_layer_norm.bias\n",
      "random_encoder.layers.1.self_attn.k_proj.weight\n",
      "random_encoder.layers.1.self_attn.k_proj.bias\n",
      "random_encoder.layers.1.self_attn.v_proj.weight\n",
      "random_encoder.layers.1.self_attn.v_proj.bias\n",
      "random_encoder.layers.1.self_attn.q_proj.weight\n",
      "random_encoder.layers.1.self_attn.q_proj.bias\n",
      "random_encoder.layers.1.self_attn.out_proj.weight\n",
      "random_encoder.layers.1.self_attn.out_proj.bias\n",
      "random_encoder.layers.1.self_attn_layer_norm.weight\n",
      "random_encoder.layers.1.self_attn_layer_norm.bias\n",
      "random_encoder.layers.1.fc1.weight\n",
      "random_encoder.layers.1.fc1.bias\n",
      "random_encoder.layers.1.fc2.weight\n",
      "random_encoder.layers.1.fc2.bias\n",
      "random_encoder.layers.1.final_layer_norm.weight\n",
      "random_encoder.layers.1.final_layer_norm.bias\n",
      "random_encoder.layers.2.self_attn.k_proj.weight\n",
      "random_encoder.layers.2.self_attn.k_proj.bias\n",
      "random_encoder.layers.2.self_attn.v_proj.weight\n",
      "random_encoder.layers.2.self_attn.v_proj.bias\n",
      "random_encoder.layers.2.self_attn.q_proj.weight\n",
      "random_encoder.layers.2.self_attn.q_proj.bias\n",
      "random_encoder.layers.2.self_attn.out_proj.weight\n",
      "random_encoder.layers.2.self_attn.out_proj.bias\n",
      "random_encoder.layers.2.self_attn_layer_norm.weight\n",
      "random_encoder.layers.2.self_attn_layer_norm.bias\n",
      "random_encoder.layers.2.fc1.weight\n",
      "random_encoder.layers.2.fc1.bias\n",
      "random_encoder.layers.2.fc2.weight\n",
      "random_encoder.layers.2.fc2.bias\n",
      "random_encoder.layers.2.final_layer_norm.weight\n",
      "random_encoder.layers.2.final_layer_norm.bias\n",
      "random_encoder.layers.3.self_attn.k_proj.weight\n",
      "random_encoder.layers.3.self_attn.k_proj.bias\n",
      "random_encoder.layers.3.self_attn.v_proj.weight\n",
      "random_encoder.layers.3.self_attn.v_proj.bias\n",
      "random_encoder.layers.3.self_attn.q_proj.weight\n",
      "random_encoder.layers.3.self_attn.q_proj.bias\n",
      "random_encoder.layers.3.self_attn.out_proj.weight\n",
      "random_encoder.layers.3.self_attn.out_proj.bias\n",
      "random_encoder.layers.3.self_attn_layer_norm.weight\n",
      "random_encoder.layers.3.self_attn_layer_norm.bias\n",
      "random_encoder.layers.3.fc1.weight\n",
      "random_encoder.layers.3.fc1.bias\n",
      "random_encoder.layers.3.fc2.weight\n",
      "random_encoder.layers.3.fc2.bias\n",
      "random_encoder.layers.3.final_layer_norm.weight\n",
      "random_encoder.layers.3.final_layer_norm.bias\n",
      "random_encoder.layers.4.self_attn.k_proj.weight\n",
      "random_encoder.layers.4.self_attn.k_proj.bias\n",
      "random_encoder.layers.4.self_attn.v_proj.weight\n",
      "random_encoder.layers.4.self_attn.v_proj.bias\n",
      "random_encoder.layers.4.self_attn.q_proj.weight\n",
      "random_encoder.layers.4.self_attn.q_proj.bias\n",
      "random_encoder.layers.4.self_attn.out_proj.weight\n",
      "random_encoder.layers.4.self_attn.out_proj.bias\n",
      "random_encoder.layers.4.self_attn_layer_norm.weight\n",
      "random_encoder.layers.4.self_attn_layer_norm.bias\n",
      "random_encoder.layers.4.fc1.weight\n",
      "random_encoder.layers.4.fc1.bias\n",
      "random_encoder.layers.4.fc2.weight\n",
      "random_encoder.layers.4.fc2.bias\n",
      "random_encoder.layers.4.final_layer_norm.weight\n",
      "random_encoder.layers.4.final_layer_norm.bias\n",
      "random_encoder.layers.5.self_attn.k_proj.weight\n",
      "random_encoder.layers.5.self_attn.k_proj.bias\n",
      "random_encoder.layers.5.self_attn.v_proj.weight\n",
      "random_encoder.layers.5.self_attn.v_proj.bias\n",
      "random_encoder.layers.5.self_attn.q_proj.weight\n",
      "random_encoder.layers.5.self_attn.q_proj.bias\n",
      "random_encoder.layers.5.self_attn.out_proj.weight\n",
      "random_encoder.layers.5.self_attn.out_proj.bias\n",
      "random_encoder.layers.5.self_attn_layer_norm.weight\n",
      "random_encoder.layers.5.self_attn_layer_norm.bias\n",
      "random_encoder.layers.5.fc1.weight\n",
      "random_encoder.layers.5.fc1.bias\n",
      "random_encoder.layers.5.fc2.weight\n",
      "random_encoder.layers.5.fc2.bias\n",
      "random_encoder.layers.5.final_layer_norm.weight\n",
      "random_encoder.layers.5.final_layer_norm.bias\n",
      "random_encoder.layernorm_embedding.weight\n",
      "random_encoder.layernorm_embedding.bias\n",
      "bart_model.encoder.embed_positions.weight\n",
      "bart_model.encoder.layers.0.self_attn.k_proj.weight\n",
      "bart_model.encoder.layers.0.self_attn.k_proj.bias\n",
      "bart_model.encoder.layers.0.self_attn.v_proj.weight\n",
      "bart_model.encoder.layers.0.self_attn.v_proj.bias\n",
      "bart_model.encoder.layers.0.self_attn.q_proj.weight\n",
      "bart_model.encoder.layers.0.self_attn.q_proj.bias\n",
      "bart_model.encoder.layers.0.self_attn.out_proj.weight\n",
      "bart_model.encoder.layers.0.self_attn.out_proj.bias\n",
      "weight\n",
      "embed_tokens.weight\n",
      "embed_positions.weight\n",
      "layers.0.self_attn.k_proj.weight\n",
      "layers.0.self_attn.k_proj.bias\n",
      "layers.0.self_attn.v_proj.weight\n",
      "layers.0.self_attn.v_proj.bias\n",
      "layers.0.self_attn.q_proj.weight\n",
      "layers.0.self_attn.q_proj.bias\n",
      "layers.0.self_attn.out_proj.weight\n",
      "layers.0.self_attn.out_proj.bias\n",
      "layers.0.self_attn_layer_norm.weight\n",
      "layers.0.self_attn_layer_norm.bias\n",
      "layers.0.fc1.weight\n",
      "layers.0.fc1.bias\n",
      "layers.0.fc2.weight\n",
      "layers.0.fc2.bias\n",
      "layers.0.final_layer_norm.weight\n",
      "layers.0.final_layer_norm.bias\n",
      "layers.1.self_attn.k_proj.weight\n",
      "layers.1.self_attn.k_proj.bias\n",
      "layers.1.self_attn.v_proj.weight\n",
      "layers.1.self_attn.v_proj.bias\n",
      "layers.1.self_attn.q_proj.weight\n",
      "layers.1.self_attn.q_proj.bias\n",
      "layers.1.self_attn.out_proj.weight\n",
      "layers.1.self_attn.out_proj.bias\n",
      "layers.1.self_attn_layer_norm.weight\n",
      "layers.1.self_attn_layer_norm.bias\n",
      "layers.1.fc1.weight\n",
      "layers.1.fc1.bias\n",
      "layers.1.fc2.weight\n",
      "layers.1.fc2.bias\n",
      "layers.1.final_layer_norm.weight\n",
      "layers.1.final_layer_norm.bias\n",
      "layers.2.self_attn.k_proj.weight\n",
      "layers.2.self_attn.k_proj.bias\n",
      "layers.2.self_attn.v_proj.weight\n",
      "layers.2.self_attn.v_proj.bias\n",
      "layers.2.self_attn.q_proj.weight\n",
      "layers.2.self_attn.q_proj.bias\n",
      "layers.2.self_attn.out_proj.weight\n",
      "layers.2.self_attn.out_proj.bias\n",
      "layers.2.self_attn_layer_norm.weight\n",
      "layers.2.self_attn_layer_norm.bias\n",
      "layers.2.fc1.weight\n",
      "layers.2.fc1.bias\n",
      "layers.2.fc2.weight\n",
      "layers.2.fc2.bias\n",
      "layers.2.final_layer_norm.weight\n",
      "layers.2.final_layer_norm.bias\n",
      "layers.3.self_attn.k_proj.weight\n",
      "layers.3.self_attn.k_proj.bias\n",
      "layers.3.self_attn.v_proj.weight\n",
      "layers.3.self_attn.v_proj.bias\n",
      "layers.3.self_attn.q_proj.weight\n",
      "layers.3.self_attn.q_proj.bias\n",
      "layers.3.self_attn.out_proj.weight\n",
      "layers.3.self_attn.out_proj.bias\n",
      "layers.3.self_attn_layer_norm.weight\n",
      "layers.3.self_attn_layer_norm.bias\n",
      "layers.3.fc1.weight\n",
      "layers.3.fc1.bias\n",
      "layers.3.fc2.weight\n",
      "layers.3.fc2.bias\n",
      "layers.3.final_layer_norm.weight\n",
      "layers.3.final_layer_norm.bias\n",
      "layers.4.self_attn.k_proj.weight\n",
      "layers.4.self_attn.k_proj.bias\n",
      "layers.4.self_attn.v_proj.weight\n",
      "layers.4.self_attn.v_proj.bias\n",
      "layers.4.self_attn.q_proj.weight\n",
      "layers.4.self_attn.q_proj.bias\n",
      "layers.4.self_attn.out_proj.weight\n",
      "layers.4.self_attn.out_proj.bias\n",
      "layers.4.self_attn_layer_norm.weight\n",
      "layers.4.self_attn_layer_norm.bias\n",
      "layers.4.fc1.weight\n",
      "layers.4.fc1.bias\n",
      "layers.4.fc2.weight\n",
      "layers.4.fc2.bias\n",
      "layers.4.final_layer_norm.weight\n",
      "layers.4.final_layer_norm.bias\n",
      "layers.5.self_attn.k_proj.weight\n",
      "layers.5.self_attn.k_proj.bias\n",
      "layers.5.self_attn.v_proj.weight\n",
      "layers.5.self_attn.v_proj.bias\n",
      "layers.5.self_attn.q_proj.weight\n",
      "layers.5.self_attn.q_proj.bias\n",
      "layers.5.self_attn.out_proj.weight\n",
      "layers.5.self_attn.out_proj.bias\n",
      "layers.5.self_attn_layer_norm.weight\n",
      "layers.5.self_attn_layer_norm.bias\n",
      "layers.5.fc1.weight\n",
      "layers.5.fc1.bias\n",
      "layers.5.fc2.weight\n",
      "layers.5.fc2.bias\n",
      "layers.5.final_layer_norm.weight\n",
      "layers.5.final_layer_norm.bias\n",
      "layernorm_embedding.weight\n",
      "layernorm_embedding.bias\n",
      "weight\n",
      "weight\n",
      "0.self_attn.k_proj.weight\n",
      "0.self_attn.k_proj.bias\n",
      "0.self_attn.v_proj.weight\n",
      "0.self_attn.v_proj.bias\n",
      "0.self_attn.q_proj.weight\n",
      "0.self_attn.q_proj.bias\n",
      "0.self_attn.out_proj.weight\n",
      "0.self_attn.out_proj.bias\n",
      "0.self_attn_layer_norm.weight\n",
      "0.self_attn_layer_norm.bias\n",
      "0.fc1.weight\n",
      "0.fc1.bias\n",
      "0.fc2.weight\n",
      "0.fc2.bias\n",
      "0.final_layer_norm.weight\n",
      "0.final_layer_norm.bias\n",
      "1.self_attn.k_proj.weight\n",
      "1.self_attn.k_proj.bias\n",
      "1.self_attn.v_proj.weight\n",
      "1.self_attn.v_proj.bias\n",
      "1.self_attn.q_proj.weight\n",
      "1.self_attn.q_proj.bias\n",
      "1.self_attn.out_proj.weight\n",
      "1.self_attn.out_proj.bias\n",
      "1.self_attn_layer_norm.weight\n",
      "1.self_attn_layer_norm.bias\n",
      "1.fc1.weight\n",
      "1.fc1.bias\n",
      "1.fc2.weight\n",
      "1.fc2.bias\n",
      "1.final_layer_norm.weight\n",
      "1.final_layer_norm.bias\n",
      "2.self_attn.k_proj.weight\n",
      "2.self_attn.k_proj.bias\n",
      "2.self_attn.v_proj.weight\n",
      "2.self_attn.v_proj.bias\n",
      "2.self_attn.q_proj.weight\n",
      "2.self_attn.q_proj.bias\n",
      "2.self_attn.out_proj.weight\n",
      "2.self_attn.out_proj.bias\n",
      "2.self_attn_layer_norm.weight\n",
      "2.self_attn_layer_norm.bias\n",
      "2.fc1.weight\n",
      "2.fc1.bias\n",
      "2.fc2.weight\n",
      "2.fc2.bias\n",
      "2.final_layer_norm.weight\n",
      "2.final_layer_norm.bias\n",
      "3.self_attn.k_proj.weight\n",
      "3.self_attn.k_proj.bias\n",
      "3.self_attn.v_proj.weight\n",
      "3.self_attn.v_proj.bias\n",
      "3.self_attn.q_proj.weight\n",
      "3.self_attn.q_proj.bias\n",
      "3.self_attn.out_proj.weight\n",
      "3.self_attn.out_proj.bias\n",
      "3.self_attn_layer_norm.weight\n",
      "3.self_attn_layer_norm.bias\n",
      "3.fc1.weight\n",
      "3.fc1.bias\n",
      "3.fc2.weight\n",
      "3.fc2.bias\n",
      "3.final_layer_norm.weight\n",
      "3.final_layer_norm.bias\n",
      "4.self_attn.k_proj.weight\n",
      "4.self_attn.k_proj.bias\n",
      "4.self_attn.v_proj.weight\n",
      "4.self_attn.v_proj.bias\n",
      "4.self_attn.q_proj.weight\n",
      "4.self_attn.q_proj.bias\n",
      "4.self_attn.out_proj.weight\n",
      "4.self_attn.out_proj.bias\n",
      "4.self_attn_layer_norm.weight\n",
      "4.self_attn_layer_norm.bias\n",
      "4.fc1.weight\n",
      "4.fc1.bias\n",
      "4.fc2.weight\n",
      "4.fc2.bias\n",
      "4.final_layer_norm.weight\n",
      "4.final_layer_norm.bias\n",
      "5.self_attn.k_proj.weight\n",
      "5.self_attn.k_proj.bias\n",
      "5.self_attn.v_proj.weight\n",
      "5.self_attn.v_proj.bias\n",
      "5.self_attn.q_proj.weight\n",
      "5.self_attn.q_proj.bias\n",
      "5.self_attn.out_proj.weight\n",
      "5.self_attn.out_proj.bias\n",
      "5.self_attn_layer_norm.weight\n",
      "5.self_attn_layer_norm.bias\n",
      "5.fc1.weight\n",
      "5.fc1.bias\n",
      "5.fc2.weight\n",
      "5.fc2.bias\n",
      "5.final_layer_norm.weight\n",
      "5.final_layer_norm.bias\n",
      "self_attn.k_proj.weight\n",
      "self_attn.k_proj.bias\n",
      "self_attn.v_proj.weight\n",
      "self_attn.v_proj.bias\n",
      "self_attn.q_proj.weight\n",
      "self_attn.q_proj.bias\n",
      "self_attn.out_proj.weight\n",
      "self_attn.out_proj.bias\n",
      "self_attn_layer_norm.weight\n",
      "self_attn_layer_norm.bias\n",
      "fc1.weight\n",
      "fc1.bias\n",
      "fc2.weight\n",
      "fc2.bias\n",
      "final_layer_norm.weight\n",
      "final_layer_norm.bias\n",
      "k_proj.weight\n",
      "k_proj.bias\n",
      "v_proj.weight\n",
      "v_proj.bias\n",
      "q_proj.weight\n",
      "q_proj.bias\n",
      "out_proj.weight\n",
      "out_proj.bias\n",
      "weight\n",
      "bias\n",
      "weight\n",
      "bias\n",
      "weight\n",
      "bias\n",
      "weight\n",
      "bias\n",
      "weight\n",
      "bias\n",
      "weight\n",
      "bias\n",
      "weight\n",
      "bias\n",
      "weight\n",
      "bias\n",
      "self_attn.k_proj.weight\n",
      "self_attn.k_proj.bias\n",
      "self_attn.v_proj.weight\n",
      "self_attn.v_proj.bias\n",
      "self_attn.q_proj.weight\n",
      "self_attn.q_proj.bias\n",
      "self_attn.out_proj.weight\n",
      "self_attn.out_proj.bias\n",
      "self_attn_layer_norm.weight\n",
      "self_attn_layer_norm.bias\n",
      "fc1.weight\n",
      "fc1.bias\n",
      "fc2.weight\n",
      "fc2.bias\n",
      "final_layer_norm.weight\n",
      "final_layer_norm.bias\n",
      "k_proj.weight\n",
      "k_proj.bias\n",
      "v_proj.weight\n",
      "v_proj.bias\n",
      "q_proj.weight\n",
      "q_proj.bias\n",
      "out_proj.weight\n",
      "out_proj.bias\n",
      "weight\n",
      "bias\n",
      "weight\n",
      "bias\n",
      "weight\n",
      "bias\n",
      "weight\n",
      "bias\n",
      "weight\n",
      "bias\n",
      "weight\n",
      "bias\n",
      "weight\n",
      "bias\n",
      "weight\n",
      "bias\n",
      "self_attn.k_proj.weight\n",
      "self_attn.k_proj.bias\n",
      "self_attn.v_proj.weight\n",
      "self_attn.v_proj.bias\n",
      "self_attn.q_proj.weight\n",
      "self_attn.q_proj.bias\n",
      "self_attn.out_proj.weight\n",
      "self_attn.out_proj.bias\n",
      "self_attn_layer_norm.weight\n",
      "self_attn_layer_norm.bias\n",
      "fc1.weight\n",
      "fc1.bias\n",
      "fc2.weight\n",
      "fc2.bias\n",
      "final_layer_norm.weight\n",
      "final_layer_norm.bias\n",
      "k_proj.weight\n",
      "k_proj.bias\n",
      "v_proj.weight\n",
      "v_proj.bias\n",
      "q_proj.weight\n",
      "q_proj.bias\n",
      "out_proj.weight\n",
      "out_proj.bias\n",
      "weight\n",
      "bias\n",
      "weight\n",
      "bias\n",
      "weight\n",
      "bias\n",
      "weight\n",
      "bias\n",
      "weight\n",
      "bias\n",
      "weight\n",
      "bias\n",
      "weight\n",
      "bias\n",
      "weight\n",
      "bias\n",
      "self_attn.k_proj.weight\n",
      "self_attn.k_proj.bias\n",
      "self_attn.v_proj.weight\n",
      "self_attn.v_proj.bias\n",
      "self_attn.q_proj.weight\n",
      "self_attn.q_proj.bias\n",
      "self_attn.out_proj.weight\n",
      "self_attn.out_proj.bias\n",
      "self_attn_layer_norm.weight\n",
      "self_attn_layer_norm.bias\n",
      "fc1.weight\n",
      "fc1.bias\n",
      "fc2.weight\n",
      "fc2.bias\n",
      "final_layer_norm.weight\n",
      "final_layer_norm.bias\n",
      "k_proj.weight\n",
      "k_proj.bias\n",
      "v_proj.weight\n",
      "v_proj.bias\n",
      "q_proj.weight\n",
      "q_proj.bias\n",
      "out_proj.weight\n",
      "out_proj.bias\n",
      "weight\n",
      "bias\n",
      "weight\n",
      "bias\n",
      "weight\n",
      "bias\n",
      "weight\n",
      "bias\n",
      "weight\n",
      "bias\n",
      "weight\n",
      "bias\n",
      "weight\n",
      "bias\n",
      "weight\n",
      "bias\n",
      "self_attn.k_proj.weight\n",
      "self_attn.k_proj.bias\n",
      "self_attn.v_proj.weight\n",
      "self_attn.v_proj.bias\n",
      "self_attn.q_proj.weight\n",
      "self_attn.q_proj.bias\n",
      "self_attn.out_proj.weight\n",
      "self_attn.out_proj.bias\n",
      "self_attn_layer_norm.weight\n",
      "self_attn_layer_norm.bias\n",
      "fc1.weight\n",
      "fc1.bias\n",
      "fc2.weight\n",
      "fc2.bias\n",
      "final_layer_norm.weight\n",
      "final_layer_norm.bias\n",
      "k_proj.weight\n",
      "k_proj.bias\n",
      "v_proj.weight\n",
      "v_proj.bias\n",
      "q_proj.weight\n",
      "q_proj.bias\n",
      "out_proj.weight\n",
      "out_proj.bias\n",
      "weight\n",
      "bias\n",
      "weight\n",
      "bias\n",
      "weight\n",
      "bias\n",
      "weight\n",
      "bias\n",
      "weight\n",
      "bias\n",
      "weight\n",
      "bias\n",
      "weight\n",
      "bias\n",
      "weight\n",
      "bias\n",
      "self_attn.k_proj.weight\n",
      "self_attn.k_proj.bias\n",
      "self_attn.v_proj.weight\n",
      "self_attn.v_proj.bias\n",
      "self_attn.q_proj.weight\n",
      "self_attn.q_proj.bias\n",
      "self_attn.out_proj.weight\n",
      "self_attn.out_proj.bias\n",
      "self_attn_layer_norm.weight\n",
      "self_attn_layer_norm.bias\n",
      "fc1.weight\n",
      "fc1.bias\n",
      "fc2.weight\n",
      "fc2.bias\n",
      "final_layer_norm.weight\n",
      "final_layer_norm.bias\n",
      "k_proj.weight\n",
      "k_proj.bias\n",
      "v_proj.weight\n",
      "v_proj.bias\n",
      "q_proj.weight\n",
      "q_proj.bias\n",
      "out_proj.weight\n",
      "out_proj.bias\n",
      "weight\n",
      "bias\n",
      "weight\n",
      "bias\n",
      "weight\n",
      "bias\n",
      "weight\n",
      "bias\n",
      "weight\n",
      "bias\n",
      "weight\n",
      "bias\n",
      "weight\n",
      "bias\n",
      "weight\n",
      "bias\n",
      "weight\n",
      "bias\n",
      "encoder.embed_positions.weight\n",
      "encoder.layers.0.self_attn.k_proj.weight\n",
      "encoder.layers.0.self_attn.k_proj.bias\n",
      "encoder.layers.0.self_attn.v_proj.weight\n",
      "encoder.layers.0.self_attn.v_proj.bias\n",
      "encoder.layers.0.self_attn.q_proj.weight\n",
      "encoder.layers.0.self_attn.q_proj.bias\n",
      "encoder.layers.0.self_attn.out_proj.weight\n",
      "encoder.layers.0.self_attn.out_proj.bias\n",
      "embed_positions.weight\n",
      "layers.0.self_attn.k_proj.weight\n",
      "layers.0.self_attn.k_proj.bias\n",
      "layers.0.self_attn.v_proj.weight\n",
      "layers.0.self_attn.v_proj.bias\n",
      "layers.0.self_attn.q_proj.weight\n",
      "layers.0.self_attn.q_proj.bias\n",
      "layers.0.self_attn.out_proj.weight\n",
      "layers.0.self_attn.out_proj.bias\n",
      "weight\n",
      "0.self_attn.k_proj.weight\n",
      "0.self_attn.k_proj.bias\n",
      "0.self_attn.v_proj.weight\n",
      "0.self_attn.v_proj.bias\n",
      "0.self_attn.q_proj.weight\n",
      "0.self_attn.q_proj.bias\n",
      "0.self_attn.out_proj.weight\n",
      "0.self_attn.out_proj.bias\n",
      "self_attn.k_proj.weight\n",
      "self_attn.k_proj.bias\n",
      "self_attn.v_proj.weight\n",
      "self_attn.v_proj.bias\n",
      "self_attn.q_proj.weight\n",
      "self_attn.q_proj.bias\n",
      "self_attn.out_proj.weight\n",
      "self_attn.out_proj.bias\n",
      "k_proj.weight\n",
      "k_proj.bias\n",
      "v_proj.weight\n",
      "v_proj.bias\n",
      "q_proj.weight\n",
      "q_proj.bias\n",
      "out_proj.weight\n",
      "out_proj.bias\n",
      "weight\n",
      "bias\n",
      "weight\n",
      "bias\n",
      "weight\n",
      "bias\n",
      "weight\n",
      "bias\n",
      "/kaggle/input/8-dataset/tokenizer/tokenizer_src.json\n",
      "/kaggle/input/1m-mask-vi-and-vi-ds/tokenizer/tokenizer_tgt.json\n",
      "Read tokenizer successfully\n",
      "Vocab size src:  25000\n",
      "Vocab size tgt:  50000\n",
      "====================================\n"
     ]
    },
    {
     "name": "stderr",
     "output_type": "stream",
     "text": [
      "Testing model...:   5%|▍         | 156/3131 [03:35<1:04:58,  1.31s/it]"
     ]
    },
    {
     "name": "stdout",
     "output_type": "stream",
     "text": [
      "\n",
      "    SOURCE: cựu tổng thống donna trump\n",
      "    TARGET: cựu tổng thống donald trump\n",
      " PREDICTED: cựu tổng tổng trump\n",
      "BLEU OF SENTENCE 156\n",
      "BLEU_1: 0.5841005873035536\n",
      "BLEU_2: 0.38940039153570244\n",
      "BLEU_3: 0.0\n",
      "BLEU_4: 0.0\n",
      "recall = 0.4000000059604645\n",
      "precision = 0.4000000059604645\n",
      "f_05 = 0.3999999165534973\n"
     ]
    },
    {
     "name": "stderr",
     "output_type": "stream",
     "text": [
      "Testing model...:  10%|▉         | 312/3131 [07:04<1:02:45,  1.34s/it]"
     ]
    },
    {
     "name": "stdout",
     "output_type": "stream",
     "text": [
      "\n",
      "    SOURCE: chúng nó đóng kiệt thôi\n",
      "    TARGET: chúng nó đóng kịch thôi\n",
      " PREDICTED: chúng nó phải kiệt thôi thôi thôi nó phải thuộc thôi thôi thôi thôi kiệt mặc phải hoàn đóng thôi thôi thôi . . . . . . từ đóng , thôi thôi nghèo không thôi . . . . thiết đóng đóng đóng đóng đóng thôi đóng đóng thôi thôi . . . thiết đóng đóng đóng hoàn đóng đóng đóng thôi thôi . . . . . . . . đóng . đóng đóng nghèo đóng đóng . . . . . . , đóng đóng . thôi .\n",
      "BLEU OF SENTENCE 312\n",
      "BLEU_1: 0.04395604506134987\n",
      "BLEU_2: 0.022099783644080162\n",
      "BLEU_3: 0.0\n",
      "BLEU_4: 0.0\n",
      "recall = 0.032967034727334976\n",
      "precision = 0.032967034727334976\n",
      "f_05 = 0.03296695649623871\n"
     ]
    },
    {
     "name": "stderr",
     "output_type": "stream",
     "text": [
      "Testing model...:  15%|█▍        | 468/3131 [10:39<1:00:46,  1.37s/it]"
     ]
    },
    {
     "name": "stdout",
     "output_type": "stream",
     "text": [
      "\n",
      "    SOURCE: cách dớt đế nồi xe tay ga , sài lâu bị mòn\n",
      "    TARGET: cách vớt đế nồi xe tay ga , xài lâu bị mòn\n",
      " PREDICTED: cách kim để ngồi xe tay ga , đến lâu bị xe , tay ra ra ra ra , bị bị ngồi xe ở ở , tay cao để ở : xe tay xe tay xe tay ga , cao để , xe ga tay xe xe tay xe , tay ra ra , , , , ngồi xe cao xe tay ngồi , , tay xe , tay để , , , , xe tay để xe tay xe xe\n",
      "BLEU OF SENTENCE 468\n",
      "BLEU_1: 0.08641975373029709\n",
      "BLEU_2: 0.06573422253131866\n",
      "BLEU_3: 0.04782576858997345\n",
      "BLEU_4: 0.034413017332553864\n",
      "recall = 0.08641975373029709\n",
      "precision = 0.08641975373029709\n",
      "f_05 = 0.08641967177391052\n"
     ]
    },
    {
     "name": "stderr",
     "output_type": "stream",
     "text": [
      "Testing model...:  20%|█▉        | 624/3131 [14:15<1:01:17,  1.47s/it]"
     ]
    },
    {
     "name": "stdout",
     "output_type": "stream",
     "text": [
      "\n",
      "    SOURCE: chứ x mà đầu tư mỡ cơ sở lắp ráp\n",
      "    TARGET: chứ x mà đầu tư mở cơ sở lắp ráp\n",
      " PREDICTED: thứ x mà đầu đầu mỡ cơ cơ lắp và đầu từ từ từ cơ và cơ và lắp . và đầu tư mỡ có , có tự , , đầu đầu đầu đầu đầu đầu đầu từ có tự cơ với lắp và , từ từ từ đầu từ từ cơ , cơ lắp và lắp lắp và lắp lắp . . . . - , . từ , . từ . . . . . . . . . . . . . . . . . . . . . . . . . đóng .\n",
      "BLEU OF SENTENCE 624\n",
      "BLEU_1: 0.060606054961681366\n",
      "BLEU_2: 0.04307304322719574\n",
      "BLEU_3: 0.02674318291246891\n",
      "BLEU_4: 0.0\n",
      "recall = 0.05050504952669144\n",
      "precision = 0.05050504952669144\n",
      "f_05 = 0.05050497129559517\n"
     ]
    },
    {
     "name": "stderr",
     "output_type": "stream",
     "text": [
      "Testing model...:  25%|██▍       | 780/3131 [17:57<57:44,  1.47s/it]"
     ]
    },
    {
     "name": "stdout",
     "output_type": "stream",
     "text": [
      "\n",
      "    SOURCE: không có tính điềm tỉnh\n",
      "    TARGET: không có tính điềm tĩnh\n",
      " PREDICTED: không không tính ca tỉnh tỉnh tỉnh tỉnh tỉnh tỉnh tỉnh tỉnh tỉnh tỉnh tỉnh không không có - tỉnh tỉnh tỉnh tỉnh tỉnh tỉnh . này có có là tỉnh tỉnh tỉnh tỉnh tỉnh tỉnh tỉnh . này có có có có tỉnh tỉnh tỉnh tỉnh tỉnh tỉnh tỉnh tỉnh tỉnh . có có . , là đạt có đạt . phong tỉnh tỉnh tỉnh tỉnh tỉnh tỉnh . . không có . . . . tỉnh . . . . . . . . . tỉnh . tỉnh tỉnh tỉnh .\n",
      "BLEU OF SENTENCE 780\n",
      "BLEU_1: 0.03225806728005409\n",
      "BLEU_2: 0.01872514747083187\n",
      "BLEU_3: 0.0\n",
      "BLEU_4: 0.0\n",
      "recall = 0.02150537632405758\n",
      "precision = 0.02150537632405758\n",
      "f_05 = 0.021505296230316162\n"
     ]
    },
    {
     "name": "stderr",
     "output_type": "stream",
     "text": [
      "Testing model...:  30%|██▉       | 936/3131 [21:31<52:44,  1.44s/it]"
     ]
    },
    {
     "name": "stdout",
     "output_type": "stream",
     "text": [
      "\n",
      "    SOURCE: chài đối đáp thơ hay quá xá\n",
      "    TARGET: chà , đối đáp thơ hay quá xá\n",
      " PREDICTED: bà đối đáp thơ hay hay xá cho - hay hay hay hay hay qua . . . . hay hay được hay hay hai . . . . . hay hay được hay hay hay hay hay thuộc hay khám đáp đáp đáp đáp hay hay thơ hay hay hay hay hay thuộc . . . . . và đáp . hay hay hay hay hay hay hay . . . . . . . . . . . . . . . . và đáp đáp . . hay hay hay . . . . hay hay\n",
      "BLEU OF SENTENCE 936\n",
      "BLEU_1: 0.05050504580140114\n",
      "BLEU_2: 0.03932012990117073\n",
      "BLEU_3: 0.03170754760503769\n",
      "BLEU_4: 0.024005137383937836\n",
      "recall = 0.010101010091602802\n",
      "precision = 0.010101010091602802\n",
      "f_05 = 0.010100929997861385\n"
     ]
    },
    {
     "name": "stderr",
     "output_type": "stream",
     "text": [
      "Testing model...:  35%|███▍      | 1092/3131 [25:10<48:19,  1.42s/it]"
     ]
    },
    {
     "name": "stdout",
     "output_type": "stream",
     "text": [
      "\n",
      "    SOURCE: họ đi nhận đồ từ thiện đợt rầm hay mùng một\n",
      "    TARGET: họ đi nhận đồ từ thiện đợt rằm hay mùng một\n",
      " PREDICTED: họ đi nhận đồ từ đợt đợt rầm hai hai một một . ba một hay đợt rầm một . một . ba . đợt trưng đợt rầm . ở một . một và trả từ chợ đợt rầm hay hay hay hai hay một đóng một từ đóng đồ từ vài đợt đợt trưng & một hay hai hay đóng một . . và . tiền . riêng . hay\n",
      "BLEU OF SENTENCE 1092\n",
      "BLEU_1: 0.11267606168985367\n",
      "BLEU_2: 0.08024108409881592\n",
      "BLEU_3: 0.06541669368743896\n",
      "BLEU_4: 0.05356692895293236\n",
      "recall = 0.09859155118465424\n",
      "precision = 0.09859155118465424\n",
      "f_05 = 0.09859146922826767\n"
     ]
    },
    {
     "name": "stderr",
     "output_type": "stream",
     "text": [
      "Testing model...:  40%|███▉      | 1248/3131 [28:51<45:35,  1.45s/it]"
     ]
    },
    {
     "name": "stdout",
     "output_type": "stream",
     "text": [
      "\n",
      "    SOURCE: tác giã phân luận về 2 tiếng chuông quá chỉnh\n",
      "    TARGET: tác giả phân luận về 2 tiếng chuông quá chỉnh\n",
      " PREDICTED: tác gia phân luận về 2 và quá quá , luận luận về quá và quá tác phân thuộc luận - luận về 2 2 và , và và phân phân luận thuộc về 2 2 2 2 2 2 quá quá tương quá kết luận phản mẫu về 2 2 2 sau quá quá . kinh quá . quá . . . . giả phân thuộc . kinh chuyên . kinh này . . . . . . . giả . tạo . . phân phân phân . chuyên về 2 2 . . . . tiêu phân\n",
      "BLEU OF SENTENCE 1248\n",
      "BLEU_1: 0.07070706784725189\n",
      "BLEU_2: 0.05372152104973793\n",
      "BLEU_3: 0.039040759205818176\n",
      "BLEU_4: 0.028058914467692375\n",
      "recall = 0.06060606241226196\n",
      "precision = 0.06060606241226196\n",
      "f_05 = 0.060605984181165695\n"
     ]
    },
    {
     "name": "stderr",
     "output_type": "stream",
     "text": [
      "Testing model...:  45%|████▍     | 1404/3131 [32:33<42:45,  1.49s/it]"
     ]
    },
    {
     "name": "stdout",
     "output_type": "stream",
     "text": [
      "\n",
      "    SOURCE: do sên cam nó cọ sát thôi\n",
      "    TARGET: do sên cam nó cọ xát thôi\n",
      " PREDICTED: do trầm cam nó có sát thôi , hoặc thôi có có có mà có thôi thôi tay bị có tự , có - , thôi sát bản vì nó có tự có lại sát thôi , thôi thôi thôi tội , bị không có có có có lại sát thôi thôi thôi thôi . thôi . rời , bị không - có có có , . thôi . . . . , , tay , , . . . . , , bị có . . . . . . . , hay nó\n",
      "BLEU OF SENTENCE 1404\n",
      "BLEU_1: 0.04210526496171951\n",
      "BLEU_2: 0.021164316684007645\n",
      "BLEU_3: 0.0\n",
      "BLEU_4: 0.0\n",
      "recall = 0.04210526496171951\n",
      "precision = 0.04210526496171951\n",
      "f_05 = 0.042105186730623245\n"
     ]
    },
    {
     "name": "stderr",
     "output_type": "stream",
     "text": [
      "Testing model...:  50%|████▉     | 1560/3131 [36:12<34:12,  1.31s/it]"
     ]
    },
    {
     "name": "stdout",
     "output_type": "stream",
     "text": [
      "\n",
      "    SOURCE: không đã kích cá nhân\n",
      "    TARGET: không đả kích cá nhân\n",
      " PREDICTED: không không kích cá nhân cá không không không cá cá cá cá cá . , , bị cá cá cá cá cá cá . . cá cá đánh cá cá cá cá cá cá cá . . . , , , là cá kích cá không cá cá cá cá . . , . , , , , là kích cá , cá , cá kích cá . cá . tự . cá cá cá cá cá cá cá cá . . . cá đánh kích cá cá cá . . .\n",
      "BLEU OF SENTENCE 1560\n",
      "BLEU_1: 0.04301075637340546\n",
      "BLEU_2: 0.030578037723898888\n",
      "BLEU_3: 0.021739985793828964\n",
      "BLEU_4: 0.0\n",
      "recall = 0.04301075264811516\n",
      "precision = 0.04301075264811516\n",
      "f_05 = 0.04301067441701889\n"
     ]
    },
    {
     "name": "stderr",
     "output_type": "stream",
     "text": [
      "Testing model...:  55%|█████▍    | 1716/3131 [39:48<34:50,  1.48s/it]"
     ]
    },
    {
     "name": "stdout",
     "output_type": "stream",
     "text": [
      "\n",
      "    SOURCE: cháu tôi bị đụng xe chết mà đòi mỗ tử thi xét nghiệm\n",
      "    TARGET: cháu tôi bị đụng xe chết mà đòi mổ tử thi xét nghiệm\n",
      " PREDICTED: cháu tôi bị xung xe con mà bị mở tử thì xét xét xét xét thí . - thuộc lấy xét xét mẫu xe . - mà là tay xe chiếc xe hay bị xe - mà - mà - , , bị kế bị thì mẫu xe hay bị , . mà là , từng tử , đội bị bị bị bị bị bị bị sau . . , . - . . - . . . . . . . , . , . , xe . . xe hay chết . . , hay xe\n",
      "BLEU OF SENTENCE 1716\n",
      "BLEU_1: 0.08163264393806458\n",
      "BLEU_2: 0.04102618247270584\n",
      "BLEU_3: 0.025978662073612213\n",
      "BLEU_4: 0.0\n",
      "recall = 0.0714285746216774\n",
      "precision = 0.0714285746216774\n",
      "f_05 = 0.07142849266529083\n"
     ]
    },
    {
     "name": "stderr",
     "output_type": "stream",
     "text": [
      "Testing model...:  60%|█████▉    | 1872/3131 [43:16<29:10,  1.39s/it]"
     ]
    },
    {
     "name": "stdout",
     "output_type": "stream",
     "text": [
      "\n",
      "    SOURCE: đài của x có khác nhĩ ?\n",
      "    TARGET: đài của x có khác nhỉ ?\n",
      " PREDICTED: đài đài x có khác nhĩ ? ? ? ? ? hay nhĩ ? ? ? ? ? có ? có hay của ? ? ? ? ? ? ? ? có hay có hay ? ? ? ? ? ? ? ? có hay có hay của có ? ? ? ? ? ? ? ? ? . có của có hay có , có , ? khác ? ? . . . . . có . , . . . . . . , có . có . khác khác . . . . . hoặc khác\n",
      "BLEU OF SENTENCE 1872\n",
      "BLEU_1: 0.060606054961681366\n",
      "BLEU_2: 0.03516899421811104\n",
      "BLEU_3: 0.02336231805384159\n",
      "BLEU_4: 0.0\n",
      "recall = 0.05050504952669144\n",
      "precision = 0.05050504952669144\n",
      "f_05 = 0.05050497129559517\n"
     ]
    },
    {
     "name": "stderr",
     "output_type": "stream",
     "text": [
      "Testing model...:  65%|██████▍   | 2028/3131 [46:51<26:50,  1.46s/it]"
     ]
    },
    {
     "name": "stdout",
     "output_type": "stream",
     "text": [
      "\n",
      "    SOURCE: vẫn giữ được mùi vị đặc chưng của yến\n",
      "    TARGET: vẫn giữ được mùi vị đặc trưng của yến\n",
      " PREDICTED: vẫn giữ được mùi vị đặc nam của yến . và có vị đặc đặt , , . . . hương mùi hương hương hương , . và . . , vị vị vị vị vị vị , , . cho . . . hương mùi , vị có vị đặc hương đặc hay . và . . . . . . . , , , , hương hương hương . . . . . . . . . . . . . . . . . . vị . mùi . hay . . . . , .\n",
      "BLEU OF SENTENCE 2028\n",
      "BLEU_1: 0.08080807328224182\n",
      "BLEU_2: 0.07033798843622208\n",
      "BLEU_3: 0.058869365602731705\n",
      "BLEU_4: 0.050249241292476654\n",
      "recall = 0.08080808073282242\n",
      "precision = 0.08080808073282242\n",
      "f_05 = 0.08080799877643585\n"
     ]
    },
    {
     "name": "stderr",
     "output_type": "stream",
     "text": [
      "Testing model...:  70%|██████▉   | 2184/3131 [50:20<16:56,  1.07s/it]"
     ]
    },
    {
     "name": "stdout",
     "output_type": "stream",
     "text": [
      "\n",
      "    SOURCE: bạn đọc hướng dẫn mà vẩn không biết cách dùng có thể nhắn\n",
      "    TARGET: bạn đọc hướng dẫn mà vẫn không biết cách dùng có thể nhắn\n",
      " PREDICTED: bạn đọc hướng dẫn mà vẫn không biết cách dùng không đơn vận và không không nói không không không không đơn vận vận vận hay vận và về và mà mà mà mà mà không vận nhưng nhưng nhưng nhưng nhưng nhưng không không không không không không vận không không không không không không không không không cách hướng hướng dẫn dẫn hướng hướng vận không không . cho không . . . và . . . . . . . . . . hướng mà mà dẫn mà mà . . . . hướng là dẫn\n",
      "BLEU OF SENTENCE 2184\n",
      "BLEU_1: 0.10101009160280228\n",
      "BLEU_2: 0.09631425887346268\n",
      "BLEU_3: 0.09146039187908173\n",
      "BLEU_4: 0.08642344176769257\n",
      "recall = 0.10101009905338287\n",
      "precision = 0.10101009905338287\n",
      "f_05 = 0.10101001709699631\n"
     ]
    },
    {
     "name": "stderr",
     "output_type": "stream",
     "text": [
      "Testing model...:  75%|███████▍  | 2340/3131 [53:59<19:45,  1.50s/it]"
     ]
    },
    {
     "name": "stdout",
     "output_type": "stream",
     "text": [
      "\n",
      "    SOURCE: được hôm bố chở đi choáy phố\n",
      "    TARGET: được hôm bố chở đi cháy phố\n",
      " PREDICTED: được hôm tay chở đi ở phố phố phố tay đi chở đi đi ở hôm ở chở chở chở chở đi đi ở từ đi chở chở chở đi chở đi chở đi đi ở ở từ hôm chở chở chở đi chở đi đi đi . ở từ hôm ngoại đi , đi đi chở chở chở chở đi đi đi . đi đi đi đi chở . đi chở chở chở đi đi đi đi chở chở chở đi đi đi đi đi chở chở đi đi\n",
      "BLEU OF SENTENCE 2340\n",
      "BLEU_1: 0.0555555522441864\n",
      "BLEU_2: 0.03533326834440231\n",
      "BLEU_3: 0.0\n",
      "BLEU_4: 0.0\n",
      "recall = 0.0555555559694767\n",
      "precision = 0.0555555559694767\n",
      "f_05 = 0.05555547773838043\n"
     ]
    },
    {
     "name": "stderr",
     "output_type": "stream",
     "text": [
      "Testing model...:  80%|███████▉  | 2496/3131 [57:46<15:38,  1.48s/it]"
     ]
    },
    {
     "name": "stdout",
     "output_type": "stream",
     "text": [
      "\n",
      "    SOURCE: nếu giải được bài này thì bạn cũm đỉnh đấy\n",
      "    TARGET: nếu giải được bài này thì bạn cũng đỉnh đấy\n",
      " PREDICTED: nếu giải được bài này bài bài bài chương bài bài bài bài bài bài bài bài . bài bài bài bài bài bài bài bài bài . bài bài bài bài bài bài bài bài bài bài . này đỉnh . giá bài . bài bài bài bài bài bài này nhận này đỉnh . giá thêm . giá . . . . bài bài bài bài này này . . . . . . . . . . . . . . . . bài bài bài bài bài . này . . . bài . bài\n",
      "BLEU OF SENTENCE 2496\n",
      "BLEU_1: 0.060606054961681366\n",
      "BLEU_2: 0.04973646625876427\n",
      "BLEU_3: 0.04245215654373169\n",
      "BLEU_4: 0.03553158789873123\n",
      "recall = 0.05050504952669144\n",
      "precision = 0.05050504952669144\n",
      "f_05 = 0.05050497129559517\n"
     ]
    },
    {
     "name": "stderr",
     "output_type": "stream",
     "text": [
      "Testing model...:  85%|████████▍ | 2652/3131 [1:01:31<09:08,  1.14s/it]"
     ]
    },
    {
     "name": "stdout",
     "output_type": "stream",
     "text": [
      "\n",
      "    SOURCE: như trưa từng được ăn\n",
      "    TARGET: như chưa từng được ăn\n",
      " PREDICTED: như chưa từng được từng từng chưa từng từng từng từng từng hay từng chưa chưa chưa từng từng từng từng chưa từng . nhiều có từng chưa từng chưa từng từng từng từng từng từng . . chưa chưa chưa chưa từng từng từng từng từng từng từng từng từng từng . chưa từng chưa từng chưa từng từng từng từng từng từng từng từng từng từng . . . . từng . . từng . . , . . . . . . , từng từng từng từng từng . . . . . được có từng\n",
      "BLEU OF SENTENCE 2652\n",
      "BLEU_1: 0.04040403664112091\n",
      "BLEU_2: 0.03516899421811104\n",
      "BLEU_3: 0.029434675350785255\n",
      "BLEU_4: 0.022702656686306\n",
      "recall = 0.04040404036641121\n",
      "precision = 0.04040404036641121\n",
      "f_05 = 0.04040396213531494\n"
     ]
    },
    {
     "name": "stderr",
     "output_type": "stream",
     "text": [
      "Testing model...:  90%|████████▉ | 2808/3131 [1:05:16<08:07,  1.51s/it]"
     ]
    },
    {
     "name": "stdout",
     "output_type": "stream",
     "text": [
      "\n",
      "    SOURCE: từ một thợ lấp ráp điện đóm , tới kỹ sư hoặc luật sư\n",
      "    TARGET: từ một thợ lắp ráp điện đóm , tới kỹ sư hoặc luật sư\n",
      " PREDICTED: từ một thợ lấp ráp điện , , tới kỹ có điện sư về tới thuật , hay thân sư kỹ , , điện và điện và , , , , , và đóng điện , điện điện , điện , cho tới kỹ vừa kỹ , điện và điện , điện , , , , từng hoa kỹ , hay sư hay sư hay sư , cơ và điện , . . , , hay . . , . . , . . , , . bồi . lắp điện , điện , , . , hay trực\n",
      "BLEU OF SENTENCE 2808\n",
      "BLEU_1: 0.1111111044883728\n",
      "BLEU_2: 0.07529231905937195\n",
      "BLEU_3: 0.04889373481273651\n",
      "BLEU_4: 0.0\n",
      "recall = 0.08080808073282242\n",
      "precision = 0.08080808073282242\n",
      "f_05 = 0.08080799877643585\n"
     ]
    },
    {
     "name": "stderr",
     "output_type": "stream",
     "text": [
      "Testing model...:  95%|█████████▍| 2964/3131 [1:08:58<03:40,  1.32s/it]"
     ]
    },
    {
     "name": "stdout",
     "output_type": "stream",
     "text": [
      "\n",
      "    SOURCE: khi trở về năm 2007 gặp lại sun được ít hôm thì cả hai cùng phải chết đuổi trong tàu ngầm\n",
      "    TARGET: khi trở về năm 2007 gặp lại sun được ít hôm thì cả hai cùng phải chết đuối trong tàu ngầm\n",
      " PREDICTED: khi trở về năm năm gặp lại và được từ ở thì thì thì thì thì và bị do hay thì thì thì và . phải gặp và , và . ở . hôm năm dẫn lại lại lại nhận lại được từ từ từ ở thì thì thì rồi . ở , gặp lại may lại mất được , hôm ở hôm thì thì thì thì . ở , bị cùng đi , , hôm ở . hôm . hôm vào . , . - . . . năm năm . . . lại . . hôm về\n",
      "BLEU OF SENTENCE 2964\n",
      "BLEU_1: 0.1111111044883728\n",
      "BLEU_2: 0.07529231905937195\n",
      "BLEU_3: 0.04889373481273651\n",
      "BLEU_4: 0.0332178920507431\n",
      "recall = 0.08080808073282242\n",
      "precision = 0.08080808073282242\n",
      "f_05 = 0.08080799877643585\n"
     ]
    },
    {
     "name": "stderr",
     "output_type": "stream",
     "text": [
      "Testing model...: 100%|█████████▉| 3120/3131 [1:12:49<00:16,  1.50s/it]"
     ]
    },
    {
     "name": "stdout",
     "output_type": "stream",
     "text": [
      "\n",
      "    SOURCE: đang tín mua xe củ về lm lại nghe xong khỏi mua lun\n",
      "    TARGET: đang tính mua xe cũ về làm lại nghe xong khỏi mua luôn\n",
      " PREDICTED: đang tiến mua xe chủ về lại lại lại lại về lại lại mua xong xe xe mua mua mang về chiều mang xe xe mua mang vận xe về về lại lại lại lại hỏi tính xe mua mua lấy về về về lại lại lại lại lại lại lại lại hết tín lấy xe xe xe mua về . cho , . cho từ xe ( chiếc . . . cho xe xe mẫu . . . về về về về . về về\n",
      "BLEU OF SENTENCE 3120\n",
      "BLEU_1: 0.09302324801683426\n",
      "BLEU_2: 0.03308157995343208\n",
      "BLEU_3: 0.0\n",
      "BLEU_4: 0.0\n",
      "recall = 0.058139536529779434\n",
      "precision = 0.058139536529779434\n",
      "f_05 = 0.058139458298683167\n"
     ]
    },
    {
     "name": "stderr",
     "output_type": "stream",
     "text": [
      "Testing model...: 100%|██████████| 3131/3131 [1:13:03<00:00,  1.40s/it]\n"
     ]
    },
    {
     "name": "stdout",
     "output_type": "stream",
     "text": [
      "recall = 0.060397177934646606\n",
      "precision = 0.060397177934646606\n",
      "f_05 = 0.06039709970355034\n",
      "     bleu_1    bleu_2    bleu_3    bleu_4    recall  precision      f_05\n",
      "0  0.077717  0.055849  0.039731  0.028521  0.060397   0.060397  0.060397\n"
     ]
    }
   ],
   "source": [
    "train.train(cf)\n",
    "test.test(cf)"
   ]
  },
  {
   "cell_type": "code",
   "execution_count": 6,
   "id": "207df2d3",
   "metadata": {
    "execution": {
     "iopub.execute_input": "2024-05-26T10:09:19.677055Z",
     "iopub.status.busy": "2024-05-26T10:09:19.676408Z",
     "iopub.status.idle": "2024-05-26T10:27:44.595367Z",
     "shell.execute_reply": "2024-05-26T10:27:44.594472Z"
    },
    "papermill": {
     "duration": 1106.878331,
     "end_time": "2024-05-26T10:27:44.597889",
     "exception": false,
     "start_time": "2024-05-26T10:09:17.719558",
     "status": "completed"
    },
    "tags": []
   },
   "outputs": [
    {
     "name": "stdout",
     "output_type": "stream",
     "text": [
      "Created:\n",
      "/kaggle/working/model\n",
      "/kaggle/working/log\n",
      "/kaggle/working/log/log_files\n",
      "====================================\n",
      "/kaggle/input/8-dataset/tokenizer/tokenizer_src.json\n",
      "/kaggle/input/1m-mask-vi-and-vi-ds/tokenizer/tokenizer_tgt.json\n",
      "Read tokenizer successfully\n",
      "Vocab size src:  25000\n",
      "Vocab size tgt:  50000\n",
      "====================================\n",
      "/kaggle/input/8-dataset/tokenizer/tokenizer_src.json\n",
      "/kaggle/input/1m-mask-vi-and-vi-ds/tokenizer/tokenizer_tgt.json\n",
      "Read tokenizer successfully\n",
      "Vocab size src:  25000\n",
      "Vocab size tgt:  50000\n",
      "====================================\n",
      "Read dataset successfully\n",
      "Length train dataset:  225000\n",
      "Length val dataset:  25000\n",
      "Length test dataset:  3131\n",
      "====================================\n",
      "Get dataloader successfully\n",
      "Loaded model from /kaggle/working/model/model_0000010000.pt\n",
      "/kaggle/input/8-dataset/tokenizer/tokenizer_src.json\n",
      "/kaggle/input/1m-mask-vi-and-vi-ds/tokenizer/tokenizer_tgt.json\n",
      "Read tokenizer successfully\n",
      "Vocab size src:  25000\n",
      "Vocab size tgt:  50000\n",
      "====================================\n",
      "Read dataset successfully\n",
      "Length train dataset:  225000\n",
      "Length val dataset:  25000\n",
      "Length test dataset:  3131\n",
      "====================================\n",
      "Get dataloader successfully\n"
     ]
    },
    {
     "name": "stderr",
     "output_type": "stream",
     "text": [
      "Trainning:   7%|▋         | 499/7032 [05:01<1:05:48,  1.65it/s, loss=0.373, global_step=0000010499]\n"
     ]
    },
    {
     "name": "stdout",
     "output_type": "stream",
     "text": [
      "Saved model at /kaggle/working/model/model_0000010500.pt\n",
      "Saved config at /kaggle/working/model/config_0000010500.json\n"
     ]
    },
    {
     "data": {
      "image/png": "[encoded data removed]",
      "text/plain": [
       "<Figure size 640x480 with 1 Axes>"
      ]
     },
     "metadata": {},
     "output_type": "display_data"
    },
    {
     "data": {
      "image/png": "[encoded data removed]",
      "text/plain": [
       "<Figure size 640x480 with 1 Axes>"
      ]
     },
     "metadata": {},
     "output_type": "display_data"
    },
    {
     "data": {
      "image/png": "[encoded data removed]",
      "text/plain": [
       "<Figure size 640x480 with 1 Axes>"
      ]
     },
     "metadata": {},
     "output_type": "display_data"
    },
    {
     "name": "stdout",
     "output_type": "stream",
     "text": [
      "x and y must have same first dimension, but have shapes (10500,) and (500,)\n",
      "/kaggle/input/8-dataset/tokenizer/tokenizer_src.json\n",
      "/kaggle/input/1m-mask-vi-and-vi-ds/tokenizer/tokenizer_tgt.json\n",
      "Read tokenizer successfully\n",
      "Vocab size src:  25000\n",
      "Vocab size tgt:  50000\n",
      "====================================\n",
      "/kaggle/input/8-dataset/tokenizer/tokenizer_src.json\n",
      "/kaggle/input/1m-mask-vi-and-vi-ds/tokenizer/tokenizer_tgt.json\n",
      "Read tokenizer successfully\n",
      "Vocab size src:  25000\n",
      "Vocab size tgt:  50000\n",
      "====================================\n",
      "Read dataset successfully\n",
      "Length train dataset:  225000\n",
      "Length val dataset:  25000\n",
      "Length test dataset:  3131\n",
      "====================================\n",
      "Get dataloader successfully\n",
      "/kaggle/input/8-dataset/tokenizer/tokenizer_src.json\n",
      "/kaggle/input/1m-mask-vi-and-vi-ds/tokenizer/tokenizer_tgt.json\n",
      "Read tokenizer successfully\n",
      "Vocab size src:  25000\n",
      "Vocab size tgt:  50000\n",
      "====================================\n"
     ]
    },
    {
     "name": "stderr",
     "output_type": "stream",
     "text": [
      "Testing model...:   5%|▌         | 157/3131 [00:22<08:01,  6.18it/s]"
     ]
    },
    {
     "name": "stdout",
     "output_type": "stream",
     "text": [
      "\n",
      "    SOURCE: cựu tổng thống donna trump\n",
      "    TARGET: cựu tổng thống donald trump\n",
      " PREDICTED: cựu tổng thống trump\n",
      "BLEU OF SENTENCE 156\n",
      "BLEU_1: 0.7788007830714049\n",
      "BLEU_2: 0.6358881997427323\n",
      "BLEU_3: 0.5399903096445087\n",
      "BLEU_4: 0.0\n",
      "recall = 0.6000000238418579\n",
      "precision = 0.6000000238418579\n",
      "f_05 = 0.5999999642372131\n"
     ]
    },
    {
     "name": "stderr",
     "output_type": "stream",
     "text": [
      "Testing model...:  10%|█         | 314/3131 [00:45<04:50,  9.68it/s]"
     ]
    },
    {
     "name": "stdout",
     "output_type": "stream",
     "text": [
      "\n",
      "    SOURCE: chúng nó đóng kiệt thôi\n",
      "    TARGET: chúng nó đóng kịch thôi\n",
      " PREDICTED: chúng nó đóng kiệt thôi\n",
      "BLEU OF SENTENCE 312\n",
      "BLEU_1: 0.800000011920929\n",
      "BLEU_2: 0.6324555277824402\n",
      "BLEU_3: 0.5108729600906372\n",
      "BLEU_4: 0.0\n",
      "recall = 0.800000011920929\n",
      "precision = 0.800000011920929\n",
      "f_05 = 0.7999999523162842\n"
     ]
    },
    {
     "name": "stderr",
     "output_type": "stream",
     "text": [
      "Testing model...:  15%|█▍        | 469/3131 [01:11<07:08,  6.21it/s]"
     ]
    },
    {
     "name": "stdout",
     "output_type": "stream",
     "text": [
      "\n",
      "    SOURCE: cách dớt đế nồi xe tay ga , sài lâu bị mòn\n",
      "    TARGET: cách vớt đế nồi xe tay ga , xài lâu bị mòn\n",
      " PREDICTED: cách để ngồi xe tay ga , sài lâu bị mòn\n",
      "BLEU OF SENTENCE 468\n",
      "BLEU_1: 0.6640732679962068\n",
      "BLEU_2: 0.5506204543624957\n",
      "BLEU_3: 0.45189135668840946\n",
      "BLEU_4: 0.32035587666451387\n",
      "recall = 0.0833333358168602\n",
      "precision = 0.0833333358168602\n",
      "f_05 = 0.08333325386047363\n"
     ]
    },
    {
     "name": "stderr",
     "output_type": "stream",
     "text": [
      "Testing model...:  20%|█▉        | 625/3131 [01:46<05:36,  7.44it/s]"
     ]
    },
    {
     "name": "stdout",
     "output_type": "stream",
     "text": [
      "\n",
      "    SOURCE: chứ x mà đầu tư mỡ cơ sở lắp ráp\n",
      "    TARGET: chứ x mà đầu tư mở cơ sở lắp ráp\n",
      " PREDICTED: chứ x mà đầu tư mỡ cơ sở lắp ráp\n",
      "BLEU OF SENTENCE 624\n",
      "BLEU_1: 0.8999999761581421\n",
      "BLEU_2: 0.8366600275039673\n",
      "BLEU_3: 0.7591472268104553\n",
      "BLEU_4: 0.658037006855011\n",
      "recall = 0.8999999761581421\n",
      "precision = 0.8999999761581421\n",
      "f_05 = 0.8999999165534973\n"
     ]
    },
    {
     "name": "stderr",
     "output_type": "stream",
     "text": [
      "Testing model...:  25%|██▍       | 781/3131 [02:22<05:20,  7.33it/s]"
     ]
    },
    {
     "name": "stdout",
     "output_type": "stream",
     "text": [
      "\n",
      "    SOURCE: không có tính điềm tỉnh\n",
      "    TARGET: không có tính điềm tĩnh\n",
      " PREDICTED: không có tính đạt tỉnh\n",
      "BLEU OF SENTENCE 780\n",
      "BLEU_1: 0.6000000238418579\n",
      "BLEU_2: 0.547722578048706\n",
      "BLEU_3: 0.4641588628292084\n",
      "BLEU_4: 0.0\n",
      "recall = 0.6000000238418579\n",
      "precision = 0.6000000238418579\n",
      "f_05 = 0.5999999642372131\n"
     ]
    },
    {
     "name": "stderr",
     "output_type": "stream",
     "text": [
      "Testing model...:  30%|██▉       | 936/3131 [02:54<06:07,  5.98it/s]"
     ]
    },
    {
     "name": "stdout",
     "output_type": "stream",
     "text": [
      "\n",
      "    SOURCE: chài đối đáp thơ hay quá xá\n",
      "    TARGET: chà , đối đáp thơ hay quá xá\n",
      " PREDICTED: đối đáp thơ hay quá xá\n",
      "BLEU OF SENTENCE 936\n",
      "BLEU_1: 0.7165313105737893\n",
      "BLEU_2: 0.7165313105737893\n",
      "BLEU_3: 0.7165313105737893\n",
      "BLEU_4: 0.7165313105737893\n",
      "recall = 0.0\n",
      "precision = 0.0\n",
      "f_05 = 0.0\n"
     ]
    },
    {
     "name": "stderr",
     "output_type": "stream",
     "text": [
      "Testing model...:  35%|███▍      | 1093/3131 [03:34<04:36,  7.37it/s]"
     ]
    },
    {
     "name": "stdout",
     "output_type": "stream",
     "text": [
      "\n",
      "    SOURCE: họ đi nhận đồ từ thiện đợt rầm hay mùng một\n",
      "    TARGET: họ đi nhận đồ từ thiện đợt rằm hay mùng một\n",
      " PREDICTED: họ đi nhận đồ từ thiện đợt rao hay mùng một\n",
      "BLEU OF SENTENCE 1092\n",
      "BLEU_1: 0.9090909361839294\n",
      "BLEU_2: 0.8528028726577759\n",
      "BLEU_3: 0.785601019859314\n",
      "BLEU_4: 0.7016879916191101\n",
      "recall = 0.9090909361839294\n",
      "precision = 0.9090909361839294\n",
      "f_05 = 0.9090908765792847\n"
     ]
    },
    {
     "name": "stderr",
     "output_type": "stream",
     "text": [
      "Testing model...:  40%|███▉      | 1248/3131 [04:13<06:11,  5.07it/s]"
     ]
    },
    {
     "name": "stdout",
     "output_type": "stream",
     "text": [
      "\n",
      "    SOURCE: tác giã phân luận về 2 tiếng chuông quá chỉnh\n",
      "    TARGET: tác giả phân luận về 2 tiếng chuông quá chỉnh\n",
      " PREDICTED: tác giả phân luận về 2 tiếng chuông quá chính chính chính quá\n",
      "BLEU OF SENTENCE 1248\n",
      "BLEU_1: 0.692307710647583\n",
      "BLEU_2: 0.6793662309646606\n",
      "BLEU_3: 0.664718508720398\n",
      "BLEU_4: 0.6479121446609497\n",
      "recall = 0.692307710647583\n",
      "precision = 0.692307710647583\n",
      "f_05 = 0.6923076510429382\n"
     ]
    },
    {
     "name": "stderr",
     "output_type": "stream",
     "text": [
      "Testing model...:  45%|████▍     | 1404/3131 [04:48<04:55,  5.84it/s]"
     ]
    },
    {
     "name": "stdout",
     "output_type": "stream",
     "text": [
      "\n",
      "    SOURCE: do sên cam nó cọ sát thôi\n",
      "    TARGET: do sên cam nó cọ xát thôi\n",
      " PREDICTED: do nó nó có sát thôi\n",
      "BLEU OF SENTENCE 1404\n",
      "BLEU_1: 0.423240862445307\n",
      "BLEU_2: 0.0\n",
      "BLEU_3: 0.0\n",
      "BLEU_4: 0.0\n",
      "recall = 0.1428571492433548\n",
      "precision = 0.1428571492433548\n",
      "f_05 = 0.14285707473754883\n"
     ]
    },
    {
     "name": "stderr",
     "output_type": "stream",
     "text": [
      "Testing model...:  50%|████▉     | 1561/3131 [05:19<03:05,  8.48it/s]"
     ]
    },
    {
     "name": "stdout",
     "output_type": "stream",
     "text": [
      "\n",
      "    SOURCE: không đã kích cá nhân\n",
      "    TARGET: không đả kích cá nhân\n",
      " PREDICTED: không đã kích cá nhân\n",
      "BLEU OF SENTENCE 1560\n",
      "BLEU_1: 0.800000011920929\n",
      "BLEU_2: 0.6324555277824402\n",
      "BLEU_3: 0.5108729600906372\n",
      "BLEU_4: 0.0\n",
      "recall = 0.800000011920929\n",
      "precision = 0.800000011920929\n",
      "f_05 = 0.7999999523162842\n"
     ]
    },
    {
     "name": "stderr",
     "output_type": "stream",
     "text": [
      "Testing model...:  55%|█████▍    | 1717/3131 [05:53<03:50,  6.14it/s]"
     ]
    },
    {
     "name": "stdout",
     "output_type": "stream",
     "text": [
      "\n",
      "    SOURCE: cháu tôi bị đụng xe chết mà đòi mỗ tử thi xét nghiệm\n",
      "    TARGET: cháu tôi bị đụng xe chết mà đòi mổ tử thi xét nghiệm\n",
      " PREDICTED: cháu tôi bị đụng xe chết mà đòi dây tử thi xét nghiệm\n",
      "BLEU OF SENTENCE 1716\n",
      "BLEU_1: 0.9230769276618958\n",
      "BLEU_2: 0.8770580291748047\n",
      "BLEU_3: 0.8239824771881104\n",
      "BLEU_4: 0.7611606121063232\n",
      "recall = 0.9230769276618958\n",
      "precision = 0.9230769276618958\n",
      "f_05 = 0.923076868057251\n"
     ]
    },
    {
     "name": "stderr",
     "output_type": "stream",
     "text": [
      "Testing model...:  60%|█████▉    | 1873/3131 [06:28<02:52,  7.28it/s]"
     ]
    },
    {
     "name": "stdout",
     "output_type": "stream",
     "text": [
      "\n",
      "    SOURCE: đài của x có khác nhĩ ?\n",
      "    TARGET: đài của x có khác nhỉ ?\n",
      " PREDICTED: đài của x có khách nhĩ ?\n",
      "BLEU OF SENTENCE 1872\n",
      "BLEU_1: 0.7142857313156128\n",
      "BLEU_2: 0.5976142883300781\n",
      "BLEU_3: 0.5227579474449158\n",
      "BLEU_4: 0.43472087383270264\n",
      "recall = 0.7142857313156128\n",
      "precision = 0.7142857313156128\n",
      "f_05 = 0.714285671710968\n"
     ]
    },
    {
     "name": "stderr",
     "output_type": "stream",
     "text": [
      "Testing model...:  65%|██████▍   | 2029/3131 [07:03<02:48,  6.55it/s]"
     ]
    },
    {
     "name": "stdout",
     "output_type": "stream",
     "text": [
      "\n",
      "    SOURCE: vẫn giữ được mùi vị đặc chưng của yến\n",
      "    TARGET: vẫn giữ được mùi vị đặc trưng của yến\n",
      " PREDICTED: vẫn giữ giữ mùi vị đặc hộ của yến\n",
      "BLEU OF SENTENCE 2028\n",
      "BLEU_1: 0.7777777910232544\n",
      "BLEU_2: 0.6236095428466797\n",
      "BLEU_3: 0.3815714120864868\n",
      "BLEU_4: 0.0\n",
      "recall = 0.7777777910232544\n",
      "precision = 0.7777777910232544\n",
      "f_05 = 0.7777777314186096\n"
     ]
    },
    {
     "name": "stderr",
     "output_type": "stream",
     "text": [
      "Testing model...:  70%|██████▉   | 2184/3131 [07:34<02:49,  5.59it/s]"
     ]
    },
    {
     "name": "stdout",
     "output_type": "stream",
     "text": [
      "\n",
      "    SOURCE: bạn đọc hướng dẫn mà vẩn không biết cách dùng có thể nhắn\n",
      "    TARGET: bạn đọc hướng dẫn mà vẫn không biết cách dùng có thể nhắn\n",
      " PREDICTED: bạn đọc hướng hướng mà văn không biết cách dùng có thể nhắn\n",
      "BLEU OF SENTENCE 2184\n",
      "BLEU_1: 0.8461538553237915\n",
      "BLEU_2: 0.7510676383972168\n",
      "BLEU_3: 0.675106406211853\n",
      "BLEU_4: 0.5923033356666565\n",
      "recall = 0.8461538553237915\n",
      "precision = 0.8461538553237915\n",
      "f_05 = 0.8461537957191467\n"
     ]
    },
    {
     "name": "stderr",
     "output_type": "stream",
     "text": [
      "Testing model...:  75%|███████▍  | 2341/3131 [08:13<02:33,  5.14it/s]"
     ]
    },
    {
     "name": "stdout",
     "output_type": "stream",
     "text": [
      "\n",
      "    SOURCE: được hôm bố chở đi choáy phố\n",
      "    TARGET: được hôm bố chở đi cháy phố\n",
      " PREDICTED: được hôm bố chở đi phố\n",
      "BLEU OF SENTENCE 2340\n",
      "BLEU_1: 0.846481724890614\n",
      "BLEU_2: 0.7571162623611155\n",
      "BLEU_3: 0.713950336989274\n",
      "BLEU_4: 0.6731821485847562\n",
      "recall = 0.7142857313156128\n",
      "precision = 0.7142857313156128\n",
      "f_05 = 0.714285671710968\n"
     ]
    },
    {
     "name": "stderr",
     "output_type": "stream",
     "text": [
      "Testing model...:  80%|███████▉  | 2497/3131 [09:03<03:08,  3.36it/s]"
     ]
    },
    {
     "name": "stdout",
     "output_type": "stream",
     "text": [
      "\n",
      "    SOURCE: nếu giải được bài này thì bạn cũm đỉnh đấy\n",
      "    TARGET: nếu giải được bài này thì bạn cũng đỉnh đấy\n",
      " PREDICTED: nếu giải được bài này thì bạn đỉnh đỉnh đấy\n",
      "BLEU OF SENTENCE 2496\n",
      "BLEU_1: 0.8999999761581421\n",
      "BLEU_2: 0.8366600275039673\n",
      "BLEU_3: 0.7591472268104553\n",
      "BLEU_4: 0.7071067690849304\n",
      "recall = 0.8999999761581421\n",
      "precision = 0.8999999761581421\n",
      "f_05 = 0.8999999165534973\n"
     ]
    },
    {
     "name": "stderr",
     "output_type": "stream",
     "text": [
      "Testing model...:  85%|████████▍ | 2653/3131 [09:45<01:04,  7.43it/s]"
     ]
    },
    {
     "name": "stdout",
     "output_type": "stream",
     "text": [
      "\n",
      "    SOURCE: như trưa từng được ăn\n",
      "    TARGET: như chưa từng được ăn\n",
      " PREDICTED: như chưa từng được ăn\n",
      "BLEU OF SENTENCE 2652\n",
      "BLEU_1: 1.0\n",
      "BLEU_2: 1.0\n",
      "BLEU_3: 1.0\n",
      "BLEU_4: 1.0\n",
      "recall = 1.0\n",
      "precision = 1.0\n",
      "f_05 = 0.9999999403953552\n"
     ]
    },
    {
     "name": "stderr",
     "output_type": "stream",
     "text": [
      "Testing model...:  90%|████████▉ | 2809/3131 [10:39<01:05,  4.88it/s]"
     ]
    },
    {
     "name": "stdout",
     "output_type": "stream",
     "text": [
      "\n",
      "    SOURCE: từ một thợ lấp ráp điện đóm , tới kỹ sư hoặc luật sư\n",
      "    TARGET: từ một thợ lắp ráp điện đóm , tới kỹ sư hoặc luật sư\n",
      " PREDICTED: từ một bồi lấp ráp điện đón , tới kỹ sư hoặc luật sư .\n",
      "BLEU OF SENTENCE 2808\n",
      "BLEU_1: 0.7333333492279053\n",
      "BLEU_2: 0.6473389267921448\n",
      "BLEU_3: 0.5442060232162476\n",
      "BLEU_4: 0.4814400374889374\n",
      "recall = 0.7333333492279053\n",
      "precision = 0.7333333492279053\n",
      "f_05 = 0.7333332896232605\n"
     ]
    },
    {
     "name": "stderr",
     "output_type": "stream",
     "text": [
      "Testing model...:  95%|█████████▍| 2964/3131 [11:28<00:37,  4.42it/s]"
     ]
    },
    {
     "name": "stdout",
     "output_type": "stream",
     "text": [
      "\n",
      "    SOURCE: khi trở về năm 2007 gặp lại sun được ít hôm thì cả hai cùng phải chết đuổi trong tàu ngầm\n",
      "    TARGET: khi trở về năm 2007 gặp lại sun được ít hôm thì cả hai cùng phải chết đuối trong tàu ngầm\n",
      " PREDICTED: khi trở về năm 2007 gặp lại sun được ít hôm thì cả hai cùng phải chết đuổi trong tàu ngầm\n",
      "BLEU OF SENTENCE 2964\n",
      "BLEU_1: 0.9523809552192688\n",
      "BLEU_2: 0.9258201122283936\n",
      "BLEU_3: 0.8970291018486023\n",
      "BLEU_4: 0.8656030893325806\n",
      "recall = 0.9523809552192688\n",
      "precision = 0.9523809552192688\n",
      "f_05 = 0.952380895614624\n"
     ]
    },
    {
     "name": "stderr",
     "output_type": "stream",
     "text": [
      "Testing model...: 100%|█████████▉| 3120/3131 [12:29<00:04,  2.52it/s]"
     ]
    },
    {
     "name": "stdout",
     "output_type": "stream",
     "text": [
      "\n",
      "    SOURCE: đang tín mua xe củ về lm lại nghe xong khỏi mua lun\n",
      "    TARGET: đang tính mua xe cũ về làm lại nghe xong khỏi mua luôn\n",
      " PREDICTED: đang tín mua xe củ về lại nghe xong khỏi mua 71830\n",
      "BLEU OF SENTENCE 3120\n",
      "BLEU_1: 0.6900333109719925\n",
      "BLEU_2: 0.5371902201244408\n",
      "BLEU_3: 0.4302577799788852\n",
      "BLEU_4: 0.35722810404713035\n",
      "recall = 0.3076923191547394\n",
      "precision = 0.3076923191547394\n",
      "f_05 = 0.3076922297477722\n"
     ]
    },
    {
     "name": "stderr",
     "output_type": "stream",
     "text": [
      "Testing model...: 100%|██████████| 3131/3131 [12:34<00:00,  4.15it/s]\n"
     ]
    },
    {
     "name": "stdout",
     "output_type": "stream",
     "text": [
      "recall = 0.47172781825065613\n",
      "precision = 0.47172781825065613\n",
      "f_05 = 0.47172772884368896\n",
      "     bleu_1    bleu_2    bleu_3    bleu_4    recall  precision      f_05\n",
      "0  0.571406  0.500501  0.438924  0.385989  0.471728   0.471728  0.471728\n"
     ]
    },
    {
     "data": {
      "image/png": "[encoded data removed]",
      "text/plain": [
       "<Figure size 640x480 with 1 Axes>"
      ]
     },
     "metadata": {},
     "output_type": "display_data"
    }
   ],
   "source": [
    "cf[\"continue_step\"] = True\n",
    "cf[\"step_train\"] = SECOND_STEP\n",
    "cf[\"num_steps\"] += 500\n",
    "train.train(cf)\n",
    "test.test(cf)"
   ]
  },
  {
   "cell_type": "code",
   "execution_count": 7,
   "id": "0e18ce6d",
   "metadata": {
    "execution": {
     "iopub.execute_input": "2024-05-26T10:27:49.009801Z",
     "iopub.status.busy": "2024-05-26T10:27:49.009429Z",
     "iopub.status.idle": "2024-05-26T11:13:46.920381Z",
     "shell.execute_reply": "2024-05-26T11:13:46.919373Z"
    },
    "papermill": {
     "duration": 2760.13588,
     "end_time": "2024-05-26T11:13:46.922539",
     "exception": false,
     "start_time": "2024-05-26T10:27:46.786659",
     "status": "completed"
    },
    "tags": []
   },
   "outputs": [
    {
     "name": "stdout",
     "output_type": "stream",
     "text": [
      "Created:\n",
      "/kaggle/working/model\n",
      "/kaggle/working/log\n",
      "/kaggle/working/log/log_files\n",
      "====================================\n",
      "/kaggle/input/8-dataset/tokenizer/tokenizer_src.json\n",
      "/kaggle/input/1m-mask-vi-and-vi-ds/tokenizer/tokenizer_tgt.json\n",
      "Read tokenizer successfully\n",
      "Vocab size src:  25000\n",
      "Vocab size tgt:  50000\n",
      "====================================\n",
      "/kaggle/input/8-dataset/tokenizer/tokenizer_src.json\n",
      "/kaggle/input/1m-mask-vi-and-vi-ds/tokenizer/tokenizer_tgt.json\n",
      "Read tokenizer successfully\n",
      "Vocab size src:  25000\n",
      "Vocab size tgt:  50000\n",
      "====================================\n",
      "Read dataset successfully\n",
      "Length train dataset:  225000\n",
      "Length val dataset:  25000\n",
      "Length test dataset:  3131\n",
      "====================================\n",
      "Get dataloader successfully\n",
      "Loaded model from /kaggle/working/model/model_0000010500.pt\n",
      "/kaggle/input/8-dataset/tokenizer/tokenizer_src.json\n",
      "/kaggle/input/1m-mask-vi-and-vi-ds/tokenizer/tokenizer_tgt.json\n",
      "Read tokenizer successfully\n",
      "Vocab size src:  25000\n",
      "Vocab size tgt:  50000\n",
      "====================================\n",
      "Read dataset successfully\n",
      "Length train dataset:  225000\n",
      "Length val dataset:  25000\n",
      "Length test dataset:  3131\n",
      "====================================\n",
      "Get dataloader successfully\n"
     ]
    },
    {
     "name": "stderr",
     "output_type": "stream",
     "text": [
      "Trainning:  21%|██▏       | 1499/7032 [20:00<1:13:50,  1.25it/s, loss=0.300, global_step=0000011999]\n"
     ]
    },
    {
     "name": "stdout",
     "output_type": "stream",
     "text": [
      "Saved model at /kaggle/working/model/model_0000012000.pt\n",
      "Saved config at /kaggle/working/model/config_0000012000.json\n"
     ]
    },
    {
     "data": {
      "image/png": "[encoded data removed]",
      "text/plain": [
       "<Figure size 640x480 with 1 Axes>"
      ]
     },
     "metadata": {},
     "output_type": "display_data"
    },
    {
     "data": {
      "image/png": "[encoded data removed]",
      "text/plain": [
       "<Figure size 640x480 with 1 Axes>"
      ]
     },
     "metadata": {},
     "output_type": "display_data"
    },
    {
     "data": {
      "image/png": "[encoded data removed]",
      "text/plain": [
       "<Figure size 640x480 with 1 Axes>"
      ]
     },
     "metadata": {},
     "output_type": "display_data"
    },
    {
     "name": "stdout",
     "output_type": "stream",
     "text": [
      "x and y must have same first dimension, but have shapes (12000,) and (1500,)\n",
      "/kaggle/input/8-dataset/tokenizer/tokenizer_src.json\n",
      "/kaggle/input/1m-mask-vi-and-vi-ds/tokenizer/tokenizer_tgt.json\n",
      "Read tokenizer successfully\n",
      "Vocab size src:  25000\n",
      "Vocab size tgt:  50000\n",
      "====================================\n",
      "/kaggle/input/8-dataset/tokenizer/tokenizer_src.json\n",
      "/kaggle/input/1m-mask-vi-and-vi-ds/tokenizer/tokenizer_tgt.json\n",
      "Read tokenizer successfully\n",
      "Vocab size src:  25000\n",
      "Vocab size tgt:  50000\n",
      "====================================\n",
      "Read dataset successfully\n",
      "Length train dataset:  225000\n",
      "Length val dataset:  25000\n",
      "Length test dataset:  3131\n",
      "====================================\n",
      "Get dataloader successfully\n",
      "/kaggle/input/8-dataset/tokenizer/tokenizer_src.json\n",
      "/kaggle/input/1m-mask-vi-and-vi-ds/tokenizer/tokenizer_tgt.json\n",
      "Read tokenizer successfully\n",
      "Vocab size src:  25000\n",
      "Vocab size tgt:  50000\n",
      "====================================\n"
     ]
    },
    {
     "name": "stderr",
     "output_type": "stream",
     "text": [
      "Testing model...:   5%|▌         | 157/3131 [00:41<06:50,  7.24it/s]"
     ]
    },
    {
     "name": "stdout",
     "output_type": "stream",
     "text": [
      "\n",
      "    SOURCE: cựu tổng thống donna trump\n",
      "    TARGET: cựu tổng thống donald trump\n",
      " PREDICTED: cựu tổng thống trump\n",
      "BLEU OF SENTENCE 156\n",
      "BLEU_1: 0.7788007830714049\n",
      "BLEU_2: 0.6358881997427323\n",
      "BLEU_3: 0.5399903096445087\n",
      "BLEU_4: 0.0\n",
      "recall = 0.6000000238418579\n",
      "precision = 0.6000000238418579\n",
      "f_05 = 0.5999999642372131\n"
     ]
    },
    {
     "name": "stderr",
     "output_type": "stream",
     "text": [
      "Testing model...:  10%|▉         | 312/3131 [01:17<11:43,  4.01it/s]"
     ]
    },
    {
     "name": "stdout",
     "output_type": "stream",
     "text": [
      "\n",
      "    SOURCE: chúng nó đóng kiệt thôi\n",
      "    TARGET: chúng nó đóng kịch thôi\n",
      " PREDICTED: chúng nó quý kiệt thôi\n",
      "BLEU OF SENTENCE 312\n",
      "BLEU_1: 0.6000000238418579\n",
      "BLEU_2: 0.3872983455657959\n",
      "BLEU_3: 0.0\n",
      "BLEU_4: 0.0\n",
      "recall = 0.6000000238418579\n",
      "precision = 0.6000000238418579\n",
      "f_05 = 0.5999999642372131\n"
     ]
    },
    {
     "name": "stderr",
     "output_type": "stream",
     "text": [
      "Testing model...:  15%|█▍        | 469/3131 [02:22<24:44,  1.79it/s]"
     ]
    },
    {
     "name": "stdout",
     "output_type": "stream",
     "text": [
      "\n",
      "    SOURCE: cách dớt đế nồi xe tay ga , sài lâu bị mòn\n",
      "    TARGET: cách vớt đế nồi xe tay ga , xài lâu bị mòn\n",
      " PREDICTED: cách không nồi xe tay ga , sài lâu bị mòn . không ra ga , lâu sài khiến bí mòn long cây xe mòn lâu sài lâu ngăn xe mòn long để xe ga , lâu ga lâu sài lâu lâu không cho xe\n",
      "BLEU OF SENTENCE 468\n",
      "BLEU_1: 0.19999998807907104\n",
      "BLEU_2: 0.16514456272125244\n",
      "BLEU_3: 0.13638710975646973\n",
      "BLEU_4: 0.10483955591917038\n",
      "recall = 0.02222222276031971\n",
      "precision = 0.02222222276031971\n",
      "f_05 = 0.022222142666578293\n"
     ]
    },
    {
     "name": "stderr",
     "output_type": "stream",
     "text": [
      "Testing model...:  20%|█▉        | 625/3131 [03:41<19:08,  2.18it/s]"
     ]
    },
    {
     "name": "stdout",
     "output_type": "stream",
     "text": [
      "\n",
      "    SOURCE: chứ x mà đầu tư mỡ cơ sở lắp ráp\n",
      "    TARGET: chứ x mà đầu tư mở cơ sở lắp ráp\n",
      " PREDICTED: thứ x mà đầu từ mỡ cơ sở lắp ráp cơ sở mỡ mỡ có cơ sở cơ lắp ráp từ x mỡ mỡ mỡ sở má sở cơ lắp ráp ráp ráp mỡ mỡ mỡ cơ cơ sở cơ x ráp ráp ráp ráp ráp ráp mà mỡ ráp cơ x x cơ cơ sở . . ráp ráp . . 3 x x . hạn . cổ sở , cơ sở ráp . ráp . ánh\n",
      "BLEU OF SENTENCE 624\n",
      "BLEU_1: 0.08974359929561615\n",
      "BLEU_2: 0.07633809745311737\n",
      "BLEU_3: 0.061272189021110535\n",
      "BLEU_4: 0.04184873774647713\n",
      "recall = 0.08974359184503555\n",
      "precision = 0.08974359184503555\n",
      "f_05 = 0.08974350988864899\n"
     ]
    },
    {
     "name": "stderr",
     "output_type": "stream",
     "text": [
      "Testing model...:  25%|██▍       | 780/3131 [05:00<19:32,  2.01it/s]"
     ]
    },
    {
     "name": "stdout",
     "output_type": "stream",
     "text": [
      "\n",
      "    SOURCE: không có tính điềm tỉnh\n",
      "    TARGET: không có tính điềm tĩnh\n",
      " PREDICTED: không có thuộc điềm tỉnh tính tỉnh có không không không tỉnh tỉnh . không không không không là chọn tỉnh có có được hạ tỉnh không không không không ly tỉnh tỉnh có có đạt điểm tỉnh không không có có trọng điềm trung thầy có có tai tỉnh tỉnh\n",
      "BLEU OF SENTENCE 780\n",
      "BLEU_1: 0.0784313753247261\n",
      "BLEU_2: 0.03960590064525604\n",
      "BLEU_3: 0.0\n",
      "BLEU_4: 0.0\n",
      "recall = 0.05882352963089943\n",
      "precision = 0.05882352963089943\n",
      "f_05 = 0.05882345139980316\n"
     ]
    },
    {
     "name": "stderr",
     "output_type": "stream",
     "text": [
      "Testing model...:  30%|██▉       | 936/3131 [06:11<14:41,  2.49it/s]"
     ]
    },
    {
     "name": "stdout",
     "output_type": "stream",
     "text": [
      "\n",
      "    SOURCE: chài đối đáp thơ hay quá xá\n",
      "    TARGET: chà , đối đáp thơ hay quá xá\n",
      " PREDICTED: dù đối đáp thơ hay quá .\n",
      "BLEU OF SENTENCE 936\n",
      "BLEU_1: 0.619198514584401\n",
      "BLEU_2: 0.5982025857050335\n",
      "BLEU_3: 0.5709550579925416\n",
      "BLEU_4: 0.5329462816138187\n",
      "recall = 0.0\n",
      "precision = 0.0\n",
      "f_05 = 0.0\n"
     ]
    },
    {
     "name": "stderr",
     "output_type": "stream",
     "text": [
      "Testing model...:  35%|███▍      | 1093/3131 [07:21<08:48,  3.85it/s]"
     ]
    },
    {
     "name": "stdout",
     "output_type": "stream",
     "text": [
      "\n",
      "    SOURCE: họ đi nhận đồ từ thiện đợt rầm hay mùng một\n",
      "    TARGET: họ đi nhận đồ từ thiện đợt rằm hay mùng một\n",
      " PREDICTED: họ đi nhận đồ từ thiện đợt thường hai mùng một\n",
      "BLEU OF SENTENCE 1092\n",
      "BLEU_1: 0.8181818127632141\n",
      "BLEU_2: 0.7567874789237976\n",
      "BLEU_3: 0.6826924681663513\n",
      "BLEU_4: 0.6315552592277527\n",
      "recall = 0.8181818127632141\n",
      "precision = 0.8181818127632141\n",
      "f_05 = 0.8181817531585693\n"
     ]
    },
    {
     "name": "stderr",
     "output_type": "stream",
     "text": [
      "Testing model...:  40%|███▉      | 1248/3131 [08:36<13:55,  2.25it/s]"
     ]
    },
    {
     "name": "stdout",
     "output_type": "stream",
     "text": [
      "\n",
      "    SOURCE: tác giã phân luận về 2 tiếng chuông quá chỉnh\n",
      "    TARGET: tác giả phân luận về 2 tiếng chuông quá chỉnh\n",
      " PREDICTED: tác gia phân luận về 2 tiếng chuông quá chỉnh quá\n",
      "BLEU OF SENTENCE 1248\n",
      "BLEU_1: 0.8181818127632141\n",
      "BLEU_2: 0.7567874789237976\n",
      "BLEU_3: 0.7254689931869507\n",
      "BLEU_4: 0.6989307403564453\n",
      "recall = 0.8181818127632141\n",
      "precision = 0.8181818127632141\n",
      "f_05 = 0.8181817531585693\n"
     ]
    },
    {
     "name": "stderr",
     "output_type": "stream",
     "text": [
      "Testing model...:  45%|████▍     | 1404/3131 [09:53<10:57,  2.63it/s]"
     ]
    },
    {
     "name": "stdout",
     "output_type": "stream",
     "text": [
      "\n",
      "    SOURCE: do sên cam nó cọ sát thôi\n",
      "    TARGET: do sên cam nó cọ xát thôi\n",
      " PREDICTED: do luôn chẳng nó có sát thôi\n",
      "BLEU OF SENTENCE 1404\n",
      "BLEU_1: 0.4285714328289032\n",
      "BLEU_2: 0.0\n",
      "BLEU_3: 0.0\n",
      "BLEU_4: 0.0\n",
      "recall = 0.4285714328289032\n",
      "precision = 0.4285714328289032\n",
      "f_05 = 0.42857134342193604\n"
     ]
    },
    {
     "name": "stderr",
     "output_type": "stream",
     "text": [
      "Testing model...:  50%|████▉     | 1560/3131 [11:11<08:07,  3.22it/s]"
     ]
    },
    {
     "name": "stdout",
     "output_type": "stream",
     "text": [
      "\n",
      "    SOURCE: không đã kích cá nhân\n",
      "    TARGET: không đả kích cá nhân\n",
      " PREDICTED: không không kích cá nhân\n",
      "BLEU OF SENTENCE 1560\n",
      "BLEU_1: 0.800000011920929\n",
      "BLEU_2: 0.6324555277824402\n",
      "BLEU_3: 0.5108729600906372\n",
      "BLEU_4: 0.0\n",
      "recall = 0.800000011920929\n",
      "precision = 0.800000011920929\n",
      "f_05 = 0.7999999523162842\n"
     ]
    },
    {
     "name": "stderr",
     "output_type": "stream",
     "text": [
      "Testing model...:  55%|█████▍    | 1716/3131 [12:24<18:58,  1.24it/s]"
     ]
    },
    {
     "name": "stdout",
     "output_type": "stream",
     "text": [
      "\n",
      "    SOURCE: cháu tôi bị đụng xe chết mà đòi mỗ tử thi xét nghiệm\n",
      "    TARGET: cháu tôi bị đụng xe chết mà đòi mổ tử thi xét nghiệm\n",
      " PREDICTED: cháu tôi bị đụng xe chết mà đòi mở tử thì xét nghiệm . mà trông mà tôi tử thì thì nghiệm nghiệm mà sắc thì thì khiến tôi đòi kín diện xe nghiệm nghiệm xe mặt mà mà mà đòi mở đòi mở tử xét nghiệm bị được xe . . . mà mà mô được mở mở mở báo xét nghiệm nghiệm .\n",
      "BLEU OF SENTENCE 1716\n",
      "BLEU_1: 0.16923077404499054\n",
      "BLEU_2: 0.1454436033964157\n",
      "BLEU_3: 0.12629902362823486\n",
      "BLEU_4: 0.11290017515420914\n",
      "recall = 0.16923077404499054\n",
      "precision = 0.16923077404499054\n",
      "f_05 = 0.16923069953918457\n"
     ]
    },
    {
     "name": "stderr",
     "output_type": "stream",
     "text": [
      "Testing model...:  60%|█████▉    | 1873/3131 [13:39<05:54,  3.55it/s]"
     ]
    },
    {
     "name": "stdout",
     "output_type": "stream",
     "text": [
      "\n",
      "    SOURCE: đài của x có khác nhĩ ?\n",
      "    TARGET: đài của x có khác nhỉ ?\n",
      " PREDICTED: đài của x có khách nhĩ ? ? ? ? ? ? không ? ? ? ? .\n",
      "BLEU OF SENTENCE 1872\n",
      "BLEU_1: 0.277777761220932\n",
      "BLEU_2: 0.22140371799468994\n",
      "BLEU_3: 0.1829896867275238\n",
      "BLEU_4: 0.14216645061969757\n",
      "recall = 0.2777777910232544\n",
      "precision = 0.2777777910232544\n",
      "f_05 = 0.27777770161628723\n"
     ]
    },
    {
     "name": "stderr",
     "output_type": "stream",
     "text": [
      "Testing model...:  65%|██████▍   | 2029/3131 [14:47<04:45,  3.86it/s]"
     ]
    },
    {
     "name": "stdout",
     "output_type": "stream",
     "text": [
      "\n",
      "    SOURCE: vẫn giữ được mùi vị đặc chưng của yến\n",
      "    TARGET: vẫn giữ được mùi vị đặc trưng của yến\n",
      " PREDICTED: vẫn giữ được mùi vị đặc nói của yến\n",
      "BLEU OF SENTENCE 2028\n",
      "BLEU_1: 0.8888888955116272\n",
      "BLEU_2: 0.8164965510368347\n",
      "BLEU_3: 0.7249202728271484\n",
      "BLEU_4: 0.660632848739624\n",
      "recall = 0.8888888955116272\n",
      "precision = 0.8888888955116272\n",
      "f_05 = 0.8888888359069824\n"
     ]
    },
    {
     "name": "stderr",
     "output_type": "stream",
     "text": [
      "Testing model...:  70%|██████▉   | 2184/3131 [15:51<02:45,  5.72it/s]"
     ]
    },
    {
     "name": "stdout",
     "output_type": "stream",
     "text": [
      "\n",
      "    SOURCE: bạn đọc hướng dẫn mà vẩn không biết cách dùng có thể nhắn\n",
      "    TARGET: bạn đọc hướng dẫn mà vẫn không biết cách dùng có thể nhắn\n",
      " PREDICTED: bạn đọc hướng dẫn mà vân không biết cách dùng có thể vẫn\n",
      "BLEU OF SENTENCE 2184\n",
      "BLEU_1: 0.9230769276618958\n",
      "BLEU_2: 0.8320503234863281\n",
      "BLEU_3: 0.7609127163887024\n",
      "BLEU_4: 0.6850836873054504\n",
      "recall = 0.8461538553237915\n",
      "precision = 0.8461538553237915\n",
      "f_05 = 0.8461537957191467\n"
     ]
    },
    {
     "name": "stderr",
     "output_type": "stream",
     "text": [
      "Testing model...:  75%|███████▍  | 2340/3131 [17:09<11:20,  1.16it/s]"
     ]
    },
    {
     "name": "stdout",
     "output_type": "stream",
     "text": [
      "\n",
      "    SOURCE: được hôm bố chở đi choáy phố\n",
      "    TARGET: được hôm bố chở đi cháy phố\n",
      " PREDICTED: được hôm bố thở đi phố phố phố phố phố đi đi phố phố phố hôm hôm cho đi hôm phố đi hôm hôm hôm bố chở hôm đi phố phố phố phố . hôm hôm bố phố . hôm đi ở hôm đi ở nói phố .\n",
      "BLEU OF SENTENCE 2340\n",
      "BLEU_1: 0.125\n",
      "BLEU_2: 0.08932369202375412\n",
      "BLEU_3: 0.07026436924934387\n",
      "BLEU_4: 0.0\n",
      "recall = 0.1041666641831398\n",
      "precision = 0.1041666641831398\n",
      "f_05 = 0.10416658222675323\n"
     ]
    },
    {
     "name": "stderr",
     "output_type": "stream",
     "text": [
      "Testing model...:  80%|███████▉  | 2497/3131 [18:41<04:39,  2.27it/s]"
     ]
    },
    {
     "name": "stdout",
     "output_type": "stream",
     "text": [
      "\n",
      "    SOURCE: nếu giải được bài này thì bạn cũm đỉnh đấy\n",
      "    TARGET: nếu giải được bài này thì bạn cũng đỉnh đấy\n",
      " PREDICTED: nếu giải được đỉnh này thì bạn đỉnh đỉnh đấy\n",
      "BLEU OF SENTENCE 2496\n",
      "BLEU_1: 0.800000011920929\n",
      "BLEU_2: 0.6666666865348816\n",
      "BLEU_3: 0.48074987530708313\n",
      "BLEU_4: 0.0\n",
      "recall = 0.800000011920929\n",
      "precision = 0.800000011920929\n",
      "f_05 = 0.7999999523162842\n"
     ]
    },
    {
     "name": "stderr",
     "output_type": "stream",
     "text": [
      "Testing model...:  85%|████████▍ | 2652/3131 [20:04<01:44,  4.59it/s]"
     ]
    },
    {
     "name": "stdout",
     "output_type": "stream",
     "text": [
      "\n",
      "    SOURCE: như trưa từng được ăn\n",
      "    TARGET: như chưa từng được ăn\n",
      " PREDICTED: như chưa từng được ăn\n",
      "BLEU OF SENTENCE 2652\n",
      "BLEU_1: 1.0\n",
      "BLEU_2: 1.0\n",
      "BLEU_3: 1.0\n",
      "BLEU_4: 1.0\n",
      "recall = 1.0\n",
      "precision = 1.0\n",
      "f_05 = 0.9999999403953552\n"
     ]
    },
    {
     "name": "stderr",
     "output_type": "stream",
     "text": [
      "Testing model...:  90%|████████▉ | 2809/3131 [21:36<02:40,  2.01it/s]"
     ]
    },
    {
     "name": "stdout",
     "output_type": "stream",
     "text": [
      "\n",
      "    SOURCE: từ một thợ lấp ráp điện đóm , tới kỹ sư hoặc luật sư\n",
      "    TARGET: từ một thợ lắp ráp điện đóm , tới kỹ sư hoặc luật sư\n",
      " PREDICTED: từ một thợ lấp ráp điện đón , tới kỹ sư hoặc luật sư đón\n",
      "BLEU OF SENTENCE 2808\n",
      "BLEU_1: 0.800000011920929\n",
      "BLEU_2: 0.7171371579170227\n",
      "BLEU_3: 0.6191617250442505\n",
      "BLEU_4: 0.5303624868392944\n",
      "recall = 0.800000011920929\n",
      "precision = 0.800000011920929\n",
      "f_05 = 0.7999999523162842\n"
     ]
    },
    {
     "name": "stderr",
     "output_type": "stream",
     "text": [
      "Testing model...:  95%|█████████▍| 2964/3131 [23:06<01:10,  2.37it/s]"
     ]
    },
    {
     "name": "stdout",
     "output_type": "stream",
     "text": [
      "\n",
      "    SOURCE: khi trở về năm 2007 gặp lại sun được ít hôm thì cả hai cùng phải chết đuổi trong tàu ngầm\n",
      "    TARGET: khi trở về năm 2007 gặp lại sun được ít hôm thì cả hai cùng phải chết đuối trong tàu ngầm\n",
      " PREDICTED: khi trở về năm hôm gặp lại sung được ít hôm thì cả hai cùng phải chết đuổi trong tàu ngầm\n",
      "BLEU OF SENTENCE 2964\n",
      "BLEU_1: 0.8571428656578064\n",
      "BLEU_2: 0.7745966911315918\n",
      "BLEU_3: 0.6809771656990051\n",
      "BLEU_4: 0.5919783115386963\n",
      "recall = 0.8571428656578064\n",
      "precision = 0.8571428656578064\n",
      "f_05 = 0.8571428060531616\n"
     ]
    },
    {
     "name": "stderr",
     "output_type": "stream",
     "text": [
      "Testing model...: 100%|█████████▉| 3120/3131 [24:59<00:06,  1.64it/s]"
     ]
    },
    {
     "name": "stdout",
     "output_type": "stream",
     "text": [
      "\n",
      "    SOURCE: đang tín mua xe củ về lm lại nghe xong khỏi mua lun\n",
      "    TARGET: đang tính mua xe cũ về làm lại nghe xong khỏi mua luôn\n",
      " PREDICTED: đang tín mua xe chủ về lại nghe xong khỏi mua quý\n",
      "BLEU OF SENTENCE 3120\n",
      "BLEU_1: 0.6900333109719925\n",
      "BLEU_2: 0.5371902201244408\n",
      "BLEU_3: 0.4302577799788852\n",
      "BLEU_4: 0.35722810404713035\n",
      "recall = 0.3076923191547394\n",
      "precision = 0.3076923191547394\n",
      "f_05 = 0.3076922297477722\n"
     ]
    },
    {
     "name": "stderr",
     "output_type": "stream",
     "text": [
      "Testing model...: 100%|██████████| 3131/3131 [25:05<00:00,  2.08it/s]\n"
     ]
    },
    {
     "name": "stdout",
     "output_type": "stream",
     "text": [
      "recall = 0.27163419127464294\n",
      "precision = 0.27163419127464294\n",
      "f_05 = 0.2716341018676758\n",
      "   bleu_1    bleu_2    bleu_3    bleu_4    recall  precision      f_05\n",
      "0   0.309  0.262959  0.223917  0.190817  0.271634   0.271634  0.271634\n"
     ]
    },
    {
     "data": {
      "image/png": "[encoded data removed]",
      "text/plain": [
       "<Figure size 640x480 with 1 Axes>"
      ]
     },
     "metadata": {},
     "output_type": "display_data"
    }
   ],
   "source": [
    "cf[\"step_train\"] = SECOND_STEP\n",
    "cf[\"num_steps\"] += 1500\n",
    "train.train(cf)\n",
    "test.test(cf)"
   ]
  }
 ],
 "metadata": {
  "kaggle": {
   "accelerator": "gpu",
   "dataSources": [
    {
     "datasetId": 5084570,
     "sourceId": 8516409,
     "sourceType": "datasetVersion"
    },
    {
     "datasetId": 5084608,
     "sourceId": 8516456,
     "sourceType": "datasetVersion"
    },
    {
     "datasetId": 5084638,
     "sourceId": 8516492,
     "sourceType": "datasetVersion"
    },
    {
     "datasetId": 5086579,
     "sourceId": 8519405,
     "sourceType": "datasetVersion"
    },
    {
     "datasetId": 5086667,
     "sourceId": 8519514,
     "sourceType": "datasetVersion"
    }
   ],
   "dockerImageVersionId": 30699,
   "isGpuEnabled": true,
   "isInternetEnabled": true,
   "language": "python",
   "sourceType": "notebook"
  },
  "kernelspec": {
   "display_name": "Python 3",
   "language": "python",
   "name": "python3"
  },
  "language_info": {
   "codemirror_mode": {
    "name": "ipython",
    "version": 3
   },
   "file_extension": ".py",
   "mimetype": "text/x-python",
   "name": "python",
   "nbconvert_exporter": "python",
   "pygments_lexer": "ipython3",
   "version": "3.10.13"
  },
  "papermill": {
   "default_parameters": {},
   "duration": 14425.756909,
   "end_time": "2024-05-26T11:13:52.500056",
   "environment_variables": {},
   "exception": null,
   "input_path": "__notebook__.ipynb",
   "output_path": "__notebook__.ipynb",
   "parameters": {},
   "start_time": "2024-05-26T07:13:26.743147",
   "version": "2.5.0"
  }
 },
 "nbformat": 4,
 "nbformat_minor": 5
}
