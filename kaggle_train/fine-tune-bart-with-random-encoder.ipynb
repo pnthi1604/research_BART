{
 "cells": [
  {
   "cell_type": "code",
   "execution_count": 1,
   "id": "5f0fc6a3",
   "metadata": {
    "_cell_guid": "b1076dfc-b9ad-4769-8c92-a6c4dae69d19",
    "_uuid": "8f2839f25d086af736a60e9eeb907d3b93b6e0e5",
    "execution": {
     "iopub.execute_input": "2024-05-27T02:49:51.918719Z",
     "iopub.status.busy": "2024-05-27T02:49:51.918037Z",
     "iopub.status.idle": "2024-05-27T02:49:53.792668Z",
     "shell.execute_reply": "2024-05-27T02:49:53.791420Z"
    },
    "papermill": {
     "duration": 1.881521,
     "end_time": "2024-05-27T02:49:53.795177",
     "exception": false,
     "start_time": "2024-05-27T02:49:51.913656",
     "status": "completed"
    },
    "tags": []
   },
   "outputs": [],
   "source": [
    "%mkdir /kaggle/working/tmp\n",
    "%rm -r /kaggle/working/*"
   ]
  },
  {
   "cell_type": "code",
   "execution_count": 2,
   "id": "31b7b412",
   "metadata": {
    "execution": {
     "iopub.execute_input": "2024-05-27T02:49:53.802929Z",
     "iopub.status.busy": "2024-05-27T02:49:53.802599Z",
     "iopub.status.idle": "2024-05-27T02:50:08.955013Z",
     "shell.execute_reply": "2024-05-27T02:50:08.953814Z"
    },
    "papermill": {
     "duration": 15.158778,
     "end_time": "2024-05-27T02:50:08.957404",
     "exception": false,
     "start_time": "2024-05-27T02:49:53.798626",
     "status": "completed"
    },
    "tags": []
   },
   "outputs": [
    {
     "name": "stdout",
     "output_type": "stream",
     "text": [
      "Cloning into 'research_BART'...\r\n",
      "remote: Enumerating objects: 878, done.\u001b[K\r\n",
      "remote: Counting objects: 100% (51/51), done.\u001b[K\r\n",
      "remote: Compressing objects: 100% (36/36), done.\u001b[K\r\n",
      "remote: Total 878 (delta 25), reused 33 (delta 15), pack-reused 827\u001b[K\r\n",
      "Receiving objects: 100% (878/878), 811.88 KiB | 16.91 MiB/s, done.\r\n",
      "Resolving deltas: 100% (566/566), done.\r\n",
      "Collecting torcheval\r\n",
      "  Downloading torcheval-0.0.7-py3-none-any.whl.metadata (8.6 kB)\r\n",
      "Requirement already satisfied: typing-extensions in /opt/conda/lib/python3.10/site-packages (from torcheval) (4.9.0)\r\n",
      "Downloading torcheval-0.0.7-py3-none-any.whl (179 kB)\r\n",
      "\u001b[2K   \u001b[90m━━━━━━━━━━━━━━━━━━━━━━━━━━━━━━━━━━━━━━━━\u001b[0m \u001b[32m179.2/179.2 kB\u001b[0m \u001b[31m5.4 MB/s\u001b[0m eta \u001b[36m0:00:00\u001b[0m\r\n",
      "\u001b[?25hInstalling collected packages: torcheval\r\n",
      "Successfully installed torcheval-0.0.7\r\n"
     ]
    }
   ],
   "source": [
    "!git clone https://github.com/pnthi1604/research_BART\n",
    "!pip install torcheval"
   ]
  },
  {
   "cell_type": "code",
   "execution_count": 3,
   "id": "401b591f",
   "metadata": {
    "execution": {
     "iopub.execute_input": "2024-05-27T02:50:08.966702Z",
     "iopub.status.busy": "2024-05-27T02:50:08.966386Z",
     "iopub.status.idle": "2024-05-27T02:50:20.091340Z",
     "shell.execute_reply": "2024-05-27T02:50:20.090424Z"
    },
    "papermill": {
     "duration": 11.132242,
     "end_time": "2024-05-27T02:50:20.093752",
     "exception": false,
     "start_time": "2024-05-27T02:50:08.961510",
     "status": "completed"
    },
    "tags": []
   },
   "outputs": [],
   "source": [
    "from research_BART import train, test, config"
   ]
  },
  {
   "cell_type": "code",
   "execution_count": 4,
   "id": "94813672",
   "metadata": {
    "execution": {
     "iopub.execute_input": "2024-05-27T02:50:20.103174Z",
     "iopub.status.busy": "2024-05-27T02:50:20.102700Z",
     "iopub.status.idle": "2024-05-27T02:50:20.107162Z",
     "shell.execute_reply": "2024-05-27T02:50:20.106307Z"
    },
    "papermill": {
     "duration": 0.01125,
     "end_time": "2024-05-27T02:50:20.109089",
     "exception": false,
     "start_time": "2024-05-27T02:50:20.097839",
     "status": "completed"
    },
    "tags": []
   },
   "outputs": [],
   "source": [
    "# const\n",
    "BART = \"bart\"\n",
    "BART_WITH_EMBEDDING = \"bart_with_embedding\"\n",
    "FINE_TUNE_BART_WITH_RANDOM_ENCODER = \"fine_tune_bart_with_random_encoder\"\n",
    "FIRST_STEP = \"FIRST\"\n",
    "SECOND_STEP = \"SECOND\""
   ]
  },
  {
   "cell_type": "code",
   "execution_count": 5,
   "id": "2da9bcc0",
   "metadata": {
    "execution": {
     "iopub.execute_input": "2024-05-27T02:50:20.118036Z",
     "iopub.status.busy": "2024-05-27T02:50:20.117762Z",
     "iopub.status.idle": "2024-05-27T02:50:20.179526Z",
     "shell.execute_reply": "2024-05-27T02:50:20.178657Z"
    },
    "papermill": {
     "duration": 0.068481,
     "end_time": "2024-05-27T02:50:20.181516",
     "exception": false,
     "start_time": "2024-05-27T02:50:20.113035",
     "status": "completed"
    },
    "tags": []
   },
   "outputs": [
    {
     "data": {
      "text/plain": [
       "{'base_dir': '/kaggle/working',\n",
       " 'tokenizer_tgt': '/kaggle/input/1m-mask-vi-and-vi-ds-wordlevel/tokenizer/tokenizer_tgt.json',\n",
       " 'tokenizer_src': '/kaggle/input/8-dataset/tokenizer/tokenizer_src.json',\n",
       " 'use_tokenizer': 'huggingface',\n",
       " 'special_tokens': ['<s>', '</s>', '<pad>', '<unk>', '<mask>'],\n",
       " 'vocab_size': 30000,\n",
       " 'min_frequency': 2,\n",
       " 'model_folder': '/kaggle/working/model',\n",
       " 'model_basename': 'model_',\n",
       " 'model_bart_basename': 'bart_model_',\n",
       " 'model_inputs_embeds': 'inputs_embeds_',\n",
       " 'model_decoder_inputs_embeds': 'decoder_inputs_embeds_',\n",
       " 'model_out': 'out_',\n",
       " 'preload': 'latest',\n",
       " 'data': '/kaggle/working/data',\n",
       " 'log_dir': '/kaggle/working/log',\n",
       " 'log_files': '/kaggle/working/log/log_files',\n",
       " 'loss_train': '/kaggle/working/log/log_files/loss_train.json',\n",
       " 'loss_val': '/kaggle/working/log/log_files/loss_val.json',\n",
       " 'loss_train_step': '/kaggle/working/log/log_files/loss_train_step.json',\n",
       " 'loss_val_step': '/kaggle/working/log/log_files/loss_val_step.json',\n",
       " 'learning_rate_step': '/kaggle/working/log/log_files/learning_rate_step.json',\n",
       " 'timestep_train': '/kaggle/working/log/log_files/timestep_train.json',\n",
       " 'timestep_val': '/kaggle/working/log/log_files/timestep_val.json',\n",
       " 'timestep_train_and_val': '/kaggle/working/log/log_files/timestep_train_and_val.json',\n",
       " 'timestep_lr': '/kaggle/working/log/log_files/timestep_lr.json',\n",
       " 'lang_src': 'noise_vi',\n",
       " 'lang_tgt': 'vi',\n",
       " 'train_ds': '/kaggle/input/8-dataset/train.csv',\n",
       " 'val_ds': None,\n",
       " 'test_ds': '/kaggle/input/8-dataset/test.csv',\n",
       " 'max_num_test': 10000,\n",
       " 'max_num_val': 30000,\n",
       " 'corpus': None,\n",
       " 'max_len': 100,\n",
       " 'vocab_size_encoder_bart': 30000,\n",
       " 'model_train': 'fine_tune_bart_with_random_encoder',\n",
       " 'step_train': 'FIRST',\n",
       " 'pretrain': False,\n",
       " 'continue_step': False,\n",
       " 'batch_train': 32,\n",
       " 'batch_val': 32,\n",
       " 'batch_test': 1,\n",
       " 'num_steps': 10000,\n",
       " 'val_steps': 1000,\n",
       " 'd_model': 768,\n",
       " 'encoder_layers': 6,\n",
       " 'decoder_layers': 6,\n",
       " 'encoder_attention_heads': 12,\n",
       " 'decoder_attention_heads': 12,\n",
       " 'decoder_ffn_dim': 3072,\n",
       " 'encoder_ffn_dim': 3072,\n",
       " 'activation_function': 'gelu',\n",
       " 'dropout': 0.1,\n",
       " 'attention_dropout': 0.1,\n",
       " 'activation_dropout': 0.1,\n",
       " 'classifier_dropout': 0.0,\n",
       " 'max_position_embeddings': 100,\n",
       " 'init_std': 0.02,\n",
       " 'encoder_layerdrop': 0.0,\n",
       " 'decoder_layerdrop': 0.0,\n",
       " 'scale_embedding': False,\n",
       " 'num_beams': 1,\n",
       " 'init_type': 'normal',\n",
       " 'share_tgt_emb_and_out': False,\n",
       " 'checkpoint': '/kaggle/input/pretrained-dataset-90k-step/90k_step/model/model_0000090000.pt',\n",
       " 'weight_decay': 0.0,\n",
       " 'lr': 0.3,\n",
       " 'eps': 1e-09,\n",
       " 'betas': (0.9, 0.98),\n",
       " 'label_smoothing': 0.01,\n",
       " 'warmup_steps': 4000,\n",
       " 'device': 'cuda',\n",
       " 'f_beta': 0.5,\n",
       " 'beams': [1],\n",
       " 'use_pytorch_metric': False}"
      ]
     },
     "execution_count": 5,
     "metadata": {},
     "output_type": "execute_result"
    }
   ],
   "source": [
    "cf = config.get_config(\"/kaggle/working\")\n",
    "cf[\"tokenizer_src\"] = \"/kaggle/input/8-dataset/tokenizer/tokenizer_src.json\"\n",
    "cf[\"tokenizer_tgt\"] = \"/kaggle/input/1m-mask-vi-and-vi-ds-wordlevel/tokenizer/tokenizer_tgt.json\"\n",
    "cf[\"train_ds\"] = \"/kaggle/input/8-dataset/train.csv\"\n",
    "cf[\"test_ds\"] = \"/kaggle/input/8-dataset/test.csv\"\n",
    "cf[\"batch_train\"] = cf[\"batch_val\"] = 32\n",
    "cf[\"model_train\"] = FINE_TUNE_BART_WITH_RANDOM_ENCODER\n",
    "cf[\"step_train\"] = FIRST_STEP\n",
    "cf[\"num_steps\"] = 10000\n",
    "cf[\"val_steps\"] = 1000\n",
    "cf[\"lr\"] = 0.3\n",
    "cf[\"dropout\"] = 0.1\n",
    "cf[\"vocab_size_encoder_bart\"] = 30000\n",
    "cf[\"init_type\"] = \"normal\"\n",
    "cf[\"checkpoint\"] = \"/kaggle/input/pretrained-dataset-90k-step/90k_step/model/model_0000090000.pt\"\n",
    "cf"
   ]
  },
  {
   "cell_type": "code",
   "execution_count": 6,
   "id": "0c221a3b",
   "metadata": {
    "execution": {
     "iopub.execute_input": "2024-05-27T02:50:20.191310Z",
     "iopub.status.busy": "2024-05-27T02:50:20.191031Z",
     "iopub.status.idle": "2024-05-27T04:22:29.222477Z",
     "shell.execute_reply": "2024-05-27T04:22:29.221539Z"
    },
    "papermill": {
     "duration": 5529.038798,
     "end_time": "2024-05-27T04:22:29.224686",
     "exception": false,
     "start_time": "2024-05-27T02:50:20.185888",
     "status": "completed"
    },
    "tags": []
   },
   "outputs": [
    {
     "name": "stdout",
     "output_type": "stream",
     "text": [
      "Created:\n",
      "/kaggle/working/model\n",
      "/kaggle/working/log\n",
      "/kaggle/working/log/log_files\n",
      "====================================\n",
      "/kaggle/input/8-dataset/tokenizer/tokenizer_src.json\n",
      "/kaggle/input/1m-mask-vi-and-vi-ds-wordlevel/tokenizer/tokenizer_tgt.json\n",
      "Read tokenizer successfully\n",
      "Vocab size src:  25000\n",
      "Vocab size tgt:  30000\n",
      "====================================\n",
      "inputs_embeds.weight\n",
      "random_encoder.embed_tokens.weight\n",
      "random_encoder.embed_positions.weight\n",
      "random_encoder.layers.0.self_attn.k_proj.weight\n",
      "random_encoder.layers.0.self_attn.k_proj.bias\n",
      "random_encoder.layers.0.self_attn.v_proj.weight\n",
      "random_encoder.layers.0.self_attn.v_proj.bias\n",
      "random_encoder.layers.0.self_attn.q_proj.weight\n",
      "random_encoder.layers.0.self_attn.q_proj.bias\n",
      "random_encoder.layers.0.self_attn.out_proj.weight\n",
      "random_encoder.layers.0.self_attn.out_proj.bias\n",
      "random_encoder.layers.0.self_attn_layer_norm.weight\n",
      "random_encoder.layers.0.self_attn_layer_norm.bias\n",
      "random_encoder.layers.0.fc1.weight\n",
      "random_encoder.layers.0.fc1.bias\n",
      "random_encoder.layers.0.fc2.weight\n",
      "random_encoder.layers.0.fc2.bias\n",
      "random_encoder.layers.0.final_layer_norm.weight\n",
      "random_encoder.layers.0.final_layer_norm.bias\n",
      "random_encoder.layers.1.self_attn.k_proj.weight\n",
      "random_encoder.layers.1.self_attn.k_proj.bias\n",
      "random_encoder.layers.1.self_attn.v_proj.weight\n",
      "random_encoder.layers.1.self_attn.v_proj.bias\n",
      "random_encoder.layers.1.self_attn.q_proj.weight\n",
      "random_encoder.layers.1.self_attn.q_proj.bias\n",
      "random_encoder.layers.1.self_attn.out_proj.weight\n",
      "random_encoder.layers.1.self_attn.out_proj.bias\n",
      "random_encoder.layers.1.self_attn_layer_norm.weight\n",
      "random_encoder.layers.1.self_attn_layer_norm.bias\n",
      "random_encoder.layers.1.fc1.weight\n",
      "random_encoder.layers.1.fc1.bias\n",
      "random_encoder.layers.1.fc2.weight\n",
      "random_encoder.layers.1.fc2.bias\n",
      "random_encoder.layers.1.final_layer_norm.weight\n",
      "random_encoder.layers.1.final_layer_norm.bias\n",
      "random_encoder.layers.2.self_attn.k_proj.weight\n",
      "random_encoder.layers.2.self_attn.k_proj.bias\n",
      "random_encoder.layers.2.self_attn.v_proj.weight\n",
      "random_encoder.layers.2.self_attn.v_proj.bias\n",
      "random_encoder.layers.2.self_attn.q_proj.weight\n",
      "random_encoder.layers.2.self_attn.q_proj.bias\n",
      "random_encoder.layers.2.self_attn.out_proj.weight\n",
      "random_encoder.layers.2.self_attn.out_proj.bias\n",
      "random_encoder.layers.2.self_attn_layer_norm.weight\n",
      "random_encoder.layers.2.self_attn_layer_norm.bias\n",
      "random_encoder.layers.2.fc1.weight\n",
      "random_encoder.layers.2.fc1.bias\n",
      "random_encoder.layers.2.fc2.weight\n",
      "random_encoder.layers.2.fc2.bias\n",
      "random_encoder.layers.2.final_layer_norm.weight\n",
      "random_encoder.layers.2.final_layer_norm.bias\n",
      "random_encoder.layers.3.self_attn.k_proj.weight\n",
      "random_encoder.layers.3.self_attn.k_proj.bias\n",
      "random_encoder.layers.3.self_attn.v_proj.weight\n",
      "random_encoder.layers.3.self_attn.v_proj.bias\n",
      "random_encoder.layers.3.self_attn.q_proj.weight\n",
      "random_encoder.layers.3.self_attn.q_proj.bias\n",
      "random_encoder.layers.3.self_attn.out_proj.weight\n",
      "random_encoder.layers.3.self_attn.out_proj.bias\n",
      "random_encoder.layers.3.self_attn_layer_norm.weight\n",
      "random_encoder.layers.3.self_attn_layer_norm.bias\n",
      "random_encoder.layers.3.fc1.weight\n",
      "random_encoder.layers.3.fc1.bias\n",
      "random_encoder.layers.3.fc2.weight\n",
      "random_encoder.layers.3.fc2.bias\n",
      "random_encoder.layers.3.final_layer_norm.weight\n",
      "random_encoder.layers.3.final_layer_norm.bias\n",
      "random_encoder.layers.4.self_attn.k_proj.weight\n",
      "random_encoder.layers.4.self_attn.k_proj.bias\n",
      "random_encoder.layers.4.self_attn.v_proj.weight\n",
      "random_encoder.layers.4.self_attn.v_proj.bias\n",
      "random_encoder.layers.4.self_attn.q_proj.weight\n",
      "random_encoder.layers.4.self_attn.q_proj.bias\n",
      "random_encoder.layers.4.self_attn.out_proj.weight\n",
      "random_encoder.layers.4.self_attn.out_proj.bias\n",
      "random_encoder.layers.4.self_attn_layer_norm.weight\n",
      "random_encoder.layers.4.self_attn_layer_norm.bias\n",
      "random_encoder.layers.4.fc1.weight\n",
      "random_encoder.layers.4.fc1.bias\n",
      "random_encoder.layers.4.fc2.weight\n",
      "random_encoder.layers.4.fc2.bias\n",
      "random_encoder.layers.4.final_layer_norm.weight\n",
      "random_encoder.layers.4.final_layer_norm.bias\n",
      "random_encoder.layers.5.self_attn.k_proj.weight\n",
      "random_encoder.layers.5.self_attn.k_proj.bias\n",
      "random_encoder.layers.5.self_attn.v_proj.weight\n",
      "random_encoder.layers.5.self_attn.v_proj.bias\n",
      "random_encoder.layers.5.self_attn.q_proj.weight\n",
      "random_encoder.layers.5.self_attn.q_proj.bias\n",
      "random_encoder.layers.5.self_attn.out_proj.weight\n",
      "random_encoder.layers.5.self_attn.out_proj.bias\n",
      "random_encoder.layers.5.self_attn_layer_norm.weight\n",
      "random_encoder.layers.5.self_attn_layer_norm.bias\n",
      "random_encoder.layers.5.fc1.weight\n",
      "random_encoder.layers.5.fc1.bias\n",
      "random_encoder.layers.5.fc2.weight\n",
      "random_encoder.layers.5.fc2.bias\n",
      "random_encoder.layers.5.final_layer_norm.weight\n",
      "random_encoder.layers.5.final_layer_norm.bias\n",
      "random_encoder.layernorm_embedding.weight\n",
      "random_encoder.layernorm_embedding.bias\n",
      "bart_model.encoder.embed_positions.weight\n",
      "bart_model.encoder.layers.0.self_attn.k_proj.weight\n",
      "bart_model.encoder.layers.0.self_attn.k_proj.bias\n",
      "bart_model.encoder.layers.0.self_attn.v_proj.weight\n",
      "bart_model.encoder.layers.0.self_attn.v_proj.bias\n",
      "bart_model.encoder.layers.0.self_attn.q_proj.weight\n",
      "bart_model.encoder.layers.0.self_attn.q_proj.bias\n",
      "bart_model.encoder.layers.0.self_attn.out_proj.weight\n",
      "bart_model.encoder.layers.0.self_attn.out_proj.bias\n",
      "FineTuneBartWithRandomEncoder(\n",
      "  (inputs_embeds): Embedding(25000, 768)\n",
      "  (decoder_inputs_embeds): Embedding(30000, 768)\n",
      "  (random_encoder): BartEncoder(\n",
      "    (embed_tokens): Embedding(30000, 768, padding_idx=2)\n",
      "    (embed_positions): BartLearnedPositionalEmbedding(102, 768)\n",
      "    (layers): ModuleList(\n",
      "      (0-5): 6 x BartEncoderLayer(\n",
      "        (self_attn): BartSdpaAttention(\n",
      "          (k_proj): Linear(in_features=768, out_features=768, bias=True)\n",
      "          (v_proj): Linear(in_features=768, out_features=768, bias=True)\n",
      "          (q_proj): Linear(in_features=768, out_features=768, bias=True)\n",
      "          (out_proj): Linear(in_features=768, out_features=768, bias=True)\n",
      "        )\n",
      "        (self_attn_layer_norm): LayerNorm((768,), eps=1e-05, elementwise_affine=True)\n",
      "        (activation_fn): GELUActivation()\n",
      "        (fc1): Linear(in_features=768, out_features=3072, bias=True)\n",
      "        (fc2): Linear(in_features=3072, out_features=768, bias=True)\n",
      "        (final_layer_norm): LayerNorm((768,), eps=1e-05, elementwise_affine=True)\n",
      "      )\n",
      "    )\n",
      "    (layernorm_embedding): LayerNorm((768,), eps=1e-05, elementwise_affine=True)\n",
      "  )\n",
      "  (bart_model): BartModel(\n",
      "    (shared): Embedding(30000, 768, padding_idx=2)\n",
      "    (encoder): BartEncoder(\n",
      "      (embed_tokens): Embedding(30000, 768, padding_idx=2)\n",
      "      (embed_positions): BartLearnedPositionalEmbedding(102, 768)\n",
      "      (layers): ModuleList(\n",
      "        (0-5): 6 x BartEncoderLayer(\n",
      "          (self_attn): BartSdpaAttention(\n",
      "            (k_proj): Linear(in_features=768, out_features=768, bias=True)\n",
      "            (v_proj): Linear(in_features=768, out_features=768, bias=True)\n",
      "            (q_proj): Linear(in_features=768, out_features=768, bias=True)\n",
      "            (out_proj): Linear(in_features=768, out_features=768, bias=True)\n",
      "          )\n",
      "          (self_attn_layer_norm): LayerNorm((768,), eps=1e-05, elementwise_affine=True)\n",
      "          (activation_fn): GELUActivation()\n",
      "          (fc1): Linear(in_features=768, out_features=3072, bias=True)\n",
      "          (fc2): Linear(in_features=3072, out_features=768, bias=True)\n",
      "          (final_layer_norm): LayerNorm((768,), eps=1e-05, elementwise_affine=True)\n",
      "        )\n",
      "      )\n",
      "      (layernorm_embedding): LayerNorm((768,), eps=1e-05, elementwise_affine=True)\n",
      "    )\n",
      "    (decoder): BartDecoder(\n",
      "      (embed_tokens): Embedding(30000, 768, padding_idx=2)\n",
      "      (embed_positions): BartLearnedPositionalEmbedding(102, 768)\n",
      "      (layers): ModuleList(\n",
      "        (0-5): 6 x BartDecoderLayer(\n",
      "          (self_attn): BartSdpaAttention(\n",
      "            (k_proj): Linear(in_features=768, out_features=768, bias=True)\n",
      "            (v_proj): Linear(in_features=768, out_features=768, bias=True)\n",
      "            (q_proj): Linear(in_features=768, out_features=768, bias=True)\n",
      "            (out_proj): Linear(in_features=768, out_features=768, bias=True)\n",
      "          )\n",
      "          (activation_fn): GELUActivation()\n",
      "          (self_attn_layer_norm): LayerNorm((768,), eps=1e-05, elementwise_affine=True)\n",
      "          (encoder_attn): BartSdpaAttention(\n",
      "            (k_proj): Linear(in_features=768, out_features=768, bias=True)\n",
      "            (v_proj): Linear(in_features=768, out_features=768, bias=True)\n",
      "            (q_proj): Linear(in_features=768, out_features=768, bias=True)\n",
      "            (out_proj): Linear(in_features=768, out_features=768, bias=True)\n",
      "          )\n",
      "          (encoder_attn_layer_norm): LayerNorm((768,), eps=1e-05, elementwise_affine=True)\n",
      "          (fc1): Linear(in_features=768, out_features=3072, bias=True)\n",
      "          (fc2): Linear(in_features=3072, out_features=768, bias=True)\n",
      "          (final_layer_norm): LayerNorm((768,), eps=1e-05, elementwise_affine=True)\n",
      "        )\n",
      "      )\n",
      "      (layernorm_embedding): LayerNorm((768,), eps=1e-05, elementwise_affine=True)\n",
      "    )\n",
      "  )\n",
      "  (out): Linear(in_features=768, out_features=30000, bias=True)\n",
      ")\n",
      "/kaggle/input/8-dataset/tokenizer/tokenizer_src.json\n",
      "/kaggle/input/1m-mask-vi-and-vi-ds-wordlevel/tokenizer/tokenizer_tgt.json\n",
      "Read tokenizer successfully\n",
      "Vocab size src:  25000\n",
      "Vocab size tgt:  30000\n",
      "====================================\n",
      "Read dataset successfully\n",
      "Length train dataset:  225000\n",
      "Length val dataset:  25000\n",
      "Length test dataset:  3131\n",
      "====================================\n",
      "Get dataloader successfully\n",
      "No model to preload, start training from scratch\n",
      "/kaggle/input/8-dataset/tokenizer/tokenizer_src.json\n",
      "/kaggle/input/1m-mask-vi-and-vi-ds-wordlevel/tokenizer/tokenizer_tgt.json\n",
      "Read tokenizer successfully\n",
      "Vocab size src:  25000\n",
      "Vocab size tgt:  30000\n",
      "====================================\n",
      "Read dataset successfully\n",
      "Length train dataset:  225000\n",
      "Length val dataset:  25000\n",
      "Length test dataset:  3131\n",
      "====================================\n",
      "Get dataloader successfully\n"
     ]
    },
    {
     "name": "stderr",
     "output_type": "stream",
     "text": [
      "Trainning: 100%|██████████| 7032/7032 [1:04:09<00:00,  1.83it/s, loss=0.197, global_step=0000007031]\n"
     ]
    },
    {
     "name": "stdout",
     "output_type": "stream",
     "text": [
      "/kaggle/input/8-dataset/tokenizer/tokenizer_src.json\n",
      "/kaggle/input/1m-mask-vi-and-vi-ds-wordlevel/tokenizer/tokenizer_tgt.json\n",
      "Read tokenizer successfully\n",
      "Vocab size src:  25000\n",
      "Vocab size tgt:  30000\n",
      "====================================\n",
      "Read dataset successfully\n",
      "Length train dataset:  225000\n",
      "Length val dataset:  25000\n",
      "Length test dataset:  3131\n",
      "====================================\n",
      "Get dataloader successfully\n"
     ]
    },
    {
     "name": "stderr",
     "output_type": "stream",
     "text": [
      "Trainning:  42%|████▏     | 2967/7032 [27:22<37:30,  1.81it/s, loss=0.231, global_step=0000009999]\n"
     ]
    },
    {
     "name": "stdout",
     "output_type": "stream",
     "text": [
      "Saved model at /kaggle/working/model/model_0000010000.pt\n",
      "Saved config at /kaggle/working/model/config_0000010000.json\n"
     ]
    },
    {
     "data": {
      "image/png": "[encoded data removed]",
      "text/plain": [
       "<Figure size 640x480 with 1 Axes>"
      ]
     },
     "metadata": {},
     "output_type": "display_data"
    },
    {
     "data": {
      "image/png": "[encoded data removed]",
      "text/plain": [
       "<Figure size 640x480 with 1 Axes>"
      ]
     },
     "metadata": {},
     "output_type": "display_data"
    },
    {
     "data": {
      "image/png": "[encoded data removed]",
      "text/plain": [
       "<Figure size 640x480 with 1 Axes>"
      ]
     },
     "metadata": {},
     "output_type": "display_data"
    },
    {
     "data": {
      "image/png": "[encoded data removed]",
      "text/plain": [
       "<Figure size 640x480 with 1 Axes>"
      ]
     },
     "metadata": {},
     "output_type": "display_data"
    }
   ],
   "source": [
    "train.train(cf)"
   ]
  },
  {
   "cell_type": "code",
   "execution_count": 7,
   "id": "e7a3699f",
   "metadata": {
    "execution": {
     "iopub.execute_input": "2024-05-27T04:22:32.675655Z",
     "iopub.status.busy": "2024-05-27T04:22:32.674642Z",
     "iopub.status.idle": "2024-05-27T04:27:46.981629Z",
     "shell.execute_reply": "2024-05-27T04:27:46.980586Z"
    },
    "papermill": {
     "duration": 316.006216,
     "end_time": "2024-05-27T04:27:46.983629",
     "exception": false,
     "start_time": "2024-05-27T04:22:30.977413",
     "status": "completed"
    },
    "tags": []
   },
   "outputs": [
    {
     "name": "stdout",
     "output_type": "stream",
     "text": [
      "Created:\n",
      "/kaggle/working/model\n",
      "/kaggle/working/log\n",
      "/kaggle/working/log/log_files\n",
      "====================================\n",
      "/kaggle/input/8-dataset/tokenizer/tokenizer_src.json\n",
      "/kaggle/input/1m-mask-vi-and-vi-ds-wordlevel/tokenizer/tokenizer_tgt.json\n",
      "Read tokenizer successfully\n",
      "Vocab size src:  25000\n",
      "Vocab size tgt:  30000\n",
      "====================================\n",
      "FineTuneBartWithRandomEncoder(\n",
      "  (inputs_embeds): Embedding(25000, 768)\n",
      "  (decoder_inputs_embeds): Embedding(30000, 768)\n",
      "  (random_encoder): BartEncoder(\n",
      "    (embed_tokens): Embedding(30000, 768, padding_idx=2)\n",
      "    (embed_positions): BartLearnedPositionalEmbedding(102, 768)\n",
      "    (layers): ModuleList(\n",
      "      (0-5): 6 x BartEncoderLayer(\n",
      "        (self_attn): BartSdpaAttention(\n",
      "          (k_proj): Linear(in_features=768, out_features=768, bias=True)\n",
      "          (v_proj): Linear(in_features=768, out_features=768, bias=True)\n",
      "          (q_proj): Linear(in_features=768, out_features=768, bias=True)\n",
      "          (out_proj): Linear(in_features=768, out_features=768, bias=True)\n",
      "        )\n",
      "        (self_attn_layer_norm): LayerNorm((768,), eps=1e-05, elementwise_affine=True)\n",
      "        (activation_fn): GELUActivation()\n",
      "        (fc1): Linear(in_features=768, out_features=3072, bias=True)\n",
      "        (fc2): Linear(in_features=3072, out_features=768, bias=True)\n",
      "        (final_layer_norm): LayerNorm((768,), eps=1e-05, elementwise_affine=True)\n",
      "      )\n",
      "    )\n",
      "    (layernorm_embedding): LayerNorm((768,), eps=1e-05, elementwise_affine=True)\n",
      "  )\n",
      "  (bart_model): BartModel(\n",
      "    (shared): Embedding(30000, 768, padding_idx=2)\n",
      "    (encoder): BartEncoder(\n",
      "      (embed_tokens): Embedding(30000, 768, padding_idx=2)\n",
      "      (embed_positions): BartLearnedPositionalEmbedding(102, 768)\n",
      "      (layers): ModuleList(\n",
      "        (0-5): 6 x BartEncoderLayer(\n",
      "          (self_attn): BartSdpaAttention(\n",
      "            (k_proj): Linear(in_features=768, out_features=768, bias=True)\n",
      "            (v_proj): Linear(in_features=768, out_features=768, bias=True)\n",
      "            (q_proj): Linear(in_features=768, out_features=768, bias=True)\n",
      "            (out_proj): Linear(in_features=768, out_features=768, bias=True)\n",
      "          )\n",
      "          (self_attn_layer_norm): LayerNorm((768,), eps=1e-05, elementwise_affine=True)\n",
      "          (activation_fn): GELUActivation()\n",
      "          (fc1): Linear(in_features=768, out_features=3072, bias=True)\n",
      "          (fc2): Linear(in_features=3072, out_features=768, bias=True)\n",
      "          (final_layer_norm): LayerNorm((768,), eps=1e-05, elementwise_affine=True)\n",
      "        )\n",
      "      )\n",
      "      (layernorm_embedding): LayerNorm((768,), eps=1e-05, elementwise_affine=True)\n",
      "    )\n",
      "    (decoder): BartDecoder(\n",
      "      (embed_tokens): Embedding(30000, 768, padding_idx=2)\n",
      "      (embed_positions): BartLearnedPositionalEmbedding(102, 768)\n",
      "      (layers): ModuleList(\n",
      "        (0-5): 6 x BartDecoderLayer(\n",
      "          (self_attn): BartSdpaAttention(\n",
      "            (k_proj): Linear(in_features=768, out_features=768, bias=True)\n",
      "            (v_proj): Linear(in_features=768, out_features=768, bias=True)\n",
      "            (q_proj): Linear(in_features=768, out_features=768, bias=True)\n",
      "            (out_proj): Linear(in_features=768, out_features=768, bias=True)\n",
      "          )\n",
      "          (activation_fn): GELUActivation()\n",
      "          (self_attn_layer_norm): LayerNorm((768,), eps=1e-05, elementwise_affine=True)\n",
      "          (encoder_attn): BartSdpaAttention(\n",
      "            (k_proj): Linear(in_features=768, out_features=768, bias=True)\n",
      "            (v_proj): Linear(in_features=768, out_features=768, bias=True)\n",
      "            (q_proj): Linear(in_features=768, out_features=768, bias=True)\n",
      "            (out_proj): Linear(in_features=768, out_features=768, bias=True)\n",
      "          )\n",
      "          (encoder_attn_layer_norm): LayerNorm((768,), eps=1e-05, elementwise_affine=True)\n",
      "          (fc1): Linear(in_features=768, out_features=3072, bias=True)\n",
      "          (fc2): Linear(in_features=3072, out_features=768, bias=True)\n",
      "          (final_layer_norm): LayerNorm((768,), eps=1e-05, elementwise_affine=True)\n",
      "        )\n",
      "      )\n",
      "      (layernorm_embedding): LayerNorm((768,), eps=1e-05, elementwise_affine=True)\n",
      "    )\n",
      "  )\n",
      "  (out): Linear(in_features=768, out_features=30000, bias=True)\n",
      ")\n",
      "/kaggle/input/8-dataset/tokenizer/tokenizer_src.json\n",
      "/kaggle/input/1m-mask-vi-and-vi-ds-wordlevel/tokenizer/tokenizer_tgt.json\n",
      "Read tokenizer successfully\n",
      "Vocab size src:  25000\n",
      "Vocab size tgt:  30000\n",
      "====================================\n",
      "Read dataset successfully\n",
      "Length train dataset:  225000\n",
      "Length val dataset:  25000\n",
      "Length test dataset:  10\n",
      "====================================\n",
      "Get dataloader successfully\n",
      "Loaded model from /kaggle/working/model/model_0000010000.pt\n",
      "/kaggle/input/8-dataset/tokenizer/tokenizer_src.json\n",
      "/kaggle/input/1m-mask-vi-and-vi-ds-wordlevel/tokenizer/tokenizer_tgt.json\n",
      "Read tokenizer successfully\n",
      "Vocab size src:  25000\n",
      "Vocab size tgt:  30000\n",
      "====================================\n",
      "Read dataset successfully\n",
      "Length train dataset:  225000\n",
      "Length val dataset:  25000\n",
      "Length test dataset:  10\n",
      "====================================\n",
      "Get dataloader successfully\n"
     ]
    },
    {
     "name": "stderr",
     "output_type": "stream",
     "text": [
      "Trainning:   7%|▋         | 499/7032 [04:32<59:30,  1.83it/s, loss=0.312, global_step=0000010499]\n"
     ]
    },
    {
     "name": "stdout",
     "output_type": "stream",
     "text": [
      "Saved model at /kaggle/working/model/model_0000010500.pt\n",
      "Saved config at /kaggle/working/model/config_0000010500.json\n"
     ]
    },
    {
     "data": {
      "image/png": "[encoded data removed]",
      "text/plain": [
       "<Figure size 640x480 with 1 Axes>"
      ]
     },
     "metadata": {},
     "output_type": "display_data"
    },
    {
     "data": {
      "image/png": "[encoded data removed]",
      "text/plain": [
       "<Figure size 640x480 with 1 Axes>"
      ]
     },
     "metadata": {},
     "output_type": "display_data"
    },
    {
     "data": {
      "image/png": "[encoded data removed]",
      "text/plain": [
       "<Figure size 640x480 with 1 Axes>"
      ]
     },
     "metadata": {},
     "output_type": "display_data"
    },
    {
     "name": "stdout",
     "output_type": "stream",
     "text": [
      "x and y must have same first dimension, but have shapes (10500,) and (500,)\n",
      "/kaggle/input/8-dataset/tokenizer/tokenizer_src.json\n",
      "/kaggle/input/1m-mask-vi-and-vi-ds-wordlevel/tokenizer/tokenizer_tgt.json\n",
      "Read tokenizer successfully\n",
      "Vocab size src:  25000\n",
      "Vocab size tgt:  30000\n",
      "====================================\n",
      "/kaggle/input/8-dataset/tokenizer/tokenizer_src.json\n",
      "/kaggle/input/1m-mask-vi-and-vi-ds-wordlevel/tokenizer/tokenizer_tgt.json\n",
      "Read tokenizer successfully\n",
      "Vocab size src:  25000\n",
      "Vocab size tgt:  30000\n",
      "====================================\n",
      "Read dataset successfully\n",
      "Length train dataset:  225000\n",
      "Length val dataset:  25000\n",
      "Length test dataset:  10\n",
      "====================================\n",
      "Get dataloader successfully\n",
      "FineTuneBartWithRandomEncoder(\n",
      "  (inputs_embeds): Embedding(25000, 768)\n",
      "  (decoder_inputs_embeds): Embedding(30000, 768)\n",
      "  (random_encoder): BartEncoder(\n",
      "    (embed_tokens): Embedding(30000, 768, padding_idx=2)\n",
      "    (embed_positions): BartLearnedPositionalEmbedding(102, 768)\n",
      "    (layers): ModuleList(\n",
      "      (0-5): 6 x BartEncoderLayer(\n",
      "        (self_attn): BartSdpaAttention(\n",
      "          (k_proj): Linear(in_features=768, out_features=768, bias=True)\n",
      "          (v_proj): Linear(in_features=768, out_features=768, bias=True)\n",
      "          (q_proj): Linear(in_features=768, out_features=768, bias=True)\n",
      "          (out_proj): Linear(in_features=768, out_features=768, bias=True)\n",
      "        )\n",
      "        (self_attn_layer_norm): LayerNorm((768,), eps=1e-05, elementwise_affine=True)\n",
      "        (activation_fn): GELUActivation()\n",
      "        (fc1): Linear(in_features=768, out_features=3072, bias=True)\n",
      "        (fc2): Linear(in_features=3072, out_features=768, bias=True)\n",
      "        (final_layer_norm): LayerNorm((768,), eps=1e-05, elementwise_affine=True)\n",
      "      )\n",
      "    )\n",
      "    (layernorm_embedding): LayerNorm((768,), eps=1e-05, elementwise_affine=True)\n",
      "  )\n",
      "  (bart_model): BartModel(\n",
      "    (shared): Embedding(30000, 768, padding_idx=2)\n",
      "    (encoder): BartEncoder(\n",
      "      (embed_tokens): Embedding(30000, 768, padding_idx=2)\n",
      "      (embed_positions): BartLearnedPositionalEmbedding(102, 768)\n",
      "      (layers): ModuleList(\n",
      "        (0-5): 6 x BartEncoderLayer(\n",
      "          (self_attn): BartSdpaAttention(\n",
      "            (k_proj): Linear(in_features=768, out_features=768, bias=True)\n",
      "            (v_proj): Linear(in_features=768, out_features=768, bias=True)\n",
      "            (q_proj): Linear(in_features=768, out_features=768, bias=True)\n",
      "            (out_proj): Linear(in_features=768, out_features=768, bias=True)\n",
      "          )\n",
      "          (self_attn_layer_norm): LayerNorm((768,), eps=1e-05, elementwise_affine=True)\n",
      "          (activation_fn): GELUActivation()\n",
      "          (fc1): Linear(in_features=768, out_features=3072, bias=True)\n",
      "          (fc2): Linear(in_features=3072, out_features=768, bias=True)\n",
      "          (final_layer_norm): LayerNorm((768,), eps=1e-05, elementwise_affine=True)\n",
      "        )\n",
      "      )\n",
      "      (layernorm_embedding): LayerNorm((768,), eps=1e-05, elementwise_affine=True)\n",
      "    )\n",
      "    (decoder): BartDecoder(\n",
      "      (embed_tokens): Embedding(30000, 768, padding_idx=2)\n",
      "      (embed_positions): BartLearnedPositionalEmbedding(102, 768)\n",
      "      (layers): ModuleList(\n",
      "        (0-5): 6 x BartDecoderLayer(\n",
      "          (self_attn): BartSdpaAttention(\n",
      "            (k_proj): Linear(in_features=768, out_features=768, bias=True)\n",
      "            (v_proj): Linear(in_features=768, out_features=768, bias=True)\n",
      "            (q_proj): Linear(in_features=768, out_features=768, bias=True)\n",
      "            (out_proj): Linear(in_features=768, out_features=768, bias=True)\n",
      "          )\n",
      "          (activation_fn): GELUActivation()\n",
      "          (self_attn_layer_norm): LayerNorm((768,), eps=1e-05, elementwise_affine=True)\n",
      "          (encoder_attn): BartSdpaAttention(\n",
      "            (k_proj): Linear(in_features=768, out_features=768, bias=True)\n",
      "            (v_proj): Linear(in_features=768, out_features=768, bias=True)\n",
      "            (q_proj): Linear(in_features=768, out_features=768, bias=True)\n",
      "            (out_proj): Linear(in_features=768, out_features=768, bias=True)\n",
      "          )\n",
      "          (encoder_attn_layer_norm): LayerNorm((768,), eps=1e-05, elementwise_affine=True)\n",
      "          (fc1): Linear(in_features=768, out_features=3072, bias=True)\n",
      "          (fc2): Linear(in_features=3072, out_features=768, bias=True)\n",
      "          (final_layer_norm): LayerNorm((768,), eps=1e-05, elementwise_affine=True)\n",
      "        )\n",
      "      )\n",
      "      (layernorm_embedding): LayerNorm((768,), eps=1e-05, elementwise_affine=True)\n",
      "    )\n",
      "  )\n",
      "  (out): Linear(in_features=768, out_features=30000, bias=True)\n",
      ")\n",
      "/kaggle/input/8-dataset/tokenizer/tokenizer_src.json\n",
      "/kaggle/input/1m-mask-vi-and-vi-ds-wordlevel/tokenizer/tokenizer_tgt.json\n",
      "Read tokenizer successfully\n",
      "Vocab size src:  25000\n",
      "Vocab size tgt:  30000\n",
      "====================================\n"
     ]
    },
    {
     "name": "stderr",
     "output_type": "stream",
     "text": [
      "Testing model...:   0%|          | 0/10 [00:00<?, ?it/s]"
     ]
    },
    {
     "name": "stdout",
     "output_type": "stream",
     "text": [
      "\n",
      "    SOURCE: cái tật sạo không bỏ .\n",
      "    TARGET: cái tật xạo không bỏ .\n",
      " PREDICTED: hoàn không bỏ . . . không . . . . . .\n",
      "BLEU OF SENTENCE 1\n",
      "BLEU_1: 0.15384617447853088\n",
      "BLEU_2: 0.0\n",
      "BLEU_3: 0.0\n",
      "BLEU_4: 0.0\n"
     ]
    },
    {
     "name": "stderr",
     "output_type": "stream",
     "text": [
      "Testing model...:  10%|█         | 1/10 [00:01<00:09,  1.01s/it]"
     ]
    },
    {
     "name": "stdout",
     "output_type": "stream",
     "text": [
      "recall = 0.1666666716337204\n",
      "precision = 0.0555555559694767\n",
      "f_05 = 0.06410256773233414\n",
      "\n",
      "    SOURCE: cái ông lầy nàm thơ .\n",
      "    TARGET: cái ông này làm thơ .\n",
      " PREDICTED: cái ông lấy làm thơ . . . làm thơ ông . ông ông làm\n",
      "BLEU OF SENTENCE 2\n",
      "BLEU_1: 0.3333333134651184\n",
      "BLEU_2: 0.26726123690605164\n",
      "BLEU_3: 0.17645859718322754\n",
      "BLEU_4: 0.0\n"
     ]
    },
    {
     "name": "stderr",
     "output_type": "stream",
     "text": [
      "Testing model...:  20%|██        | 2/10 [00:01<00:04,  1.71it/s]"
     ]
    },
    {
     "name": "stdout",
     "output_type": "stream",
     "text": [
      "recall = 0.8333333730697632\n",
      "precision = 0.8333333730697632\n",
      "f_05 = 0.8333333730697632\n",
      "\n",
      "    SOURCE: sài lu không ăn thua gì .\n",
      "    TARGET: xài lu không ăn thua gì .\n",
      " PREDICTED: lũ không không thua mỹ . . . . mỹ . . không .\n",
      "BLEU OF SENTENCE 3\n",
      "BLEU_1: 0.2142857015132904\n",
      "BLEU_2: 0.0\n",
      "BLEU_3: 0.0\n",
      "BLEU_4: 0.0\n"
     ]
    },
    {
     "name": "stderr",
     "output_type": "stream",
     "text": [
      "Testing model...:  30%|███       | 3/10 [00:01<00:03,  2.23it/s]"
     ]
    },
    {
     "name": "stdout",
     "output_type": "stream",
     "text": [
      "recall = 0.2857142984867096\n",
      "precision = 0.1428571492433548\n",
      "f_05 = 0.1587301641702652\n",
      "\n",
      "    SOURCE: người hiểu xẽ nhìn ra .\n",
      "    TARGET: người hiểu sẽ nhìn ra .\n",
      " PREDICTED: người hiểu sẽ nhìn ra . ra sẽ nhìn nhìn nhìn ra ra sẽ . ra nhìn\n",
      "BLEU OF SENTENCE 4\n",
      "BLEU_1: 0.3529411852359772\n",
      "BLEU_2: 0.3321056067943573\n",
      "BLEU_3: 0.3086789846420288\n",
      "BLEU_4: 0.28175950050354004\n"
     ]
    },
    {
     "name": "stderr",
     "output_type": "stream",
     "text": [
      "Testing model...:  40%|████      | 4/10 [00:01<00:02,  2.54it/s]"
     ]
    },
    {
     "name": "stdout",
     "output_type": "stream",
     "text": [
      "recall = 1.0\n",
      "precision = 1.0\n",
      "f_05 = 1.0\n",
      "\n",
      "    SOURCE: sử sự không còn gì để nói .\n",
      "    TARGET: xử sự không còn gì để nói .\n",
      " PREDICTED: sự sự không còn gì để nói . nói sự nói không nói sự không nói sự\n",
      "BLEU OF SENTENCE 5\n",
      "BLEU_1: 0.4117647111415863\n",
      "BLEU_2: 0.39295265078544617\n",
      "BLEU_3: 0.37198007106781006\n",
      "BLEU_4: 0.34823527932167053\n"
     ]
    },
    {
     "name": "stderr",
     "output_type": "stream",
     "text": [
      "Testing model...:  50%|█████     | 5/10 [00:02<00:01,  2.75it/s]"
     ]
    },
    {
     "name": "stdout",
     "output_type": "stream",
     "text": [
      "recall = 0.875\n",
      "precision = 0.8125\n",
      "f_05 = 0.8194444179534912\n"
     ]
    },
    {
     "name": "stderr",
     "output_type": "stream",
     "text": [
      "Testing model...:  60%|██████    | 6/10 [00:03<00:02,  1.83it/s]"
     ]
    },
    {
     "name": "stdout",
     "output_type": "stream",
     "text": [
      "\n",
      "    SOURCE: như vậ mới có nền văn minh .\n",
      "    TARGET: như vậy mới có nền văn minh .\n",
      " PREDICTED: như và mới có có văn văn . văn văn văn có văn văn văn văn văn văn văn văn văn minh . mới . văn văn văn văn văn văn minh . văn . . văn . . văn văn văn . . . . . . . . mới . . . văn . . . . . . . . . . . mới . . . . . . văn văn . văn . . . . . . . . . . . . . . . . . . . . . .\n",
      "BLEU OF SENTENCE 6\n",
      "BLEU_1: 0.060606054961681366\n",
      "BLEU_2: 0.04307304322719574\n",
      "BLEU_3: 0.02674318291246891\n",
      "BLEU_4: 0.0\n",
      "recall = 0.625\n",
      "precision = 0.5\n",
      "f_05 = 0.5138888955116272\n"
     ]
    },
    {
     "name": "stderr",
     "output_type": "stream",
     "text": [
      "Testing model...:  70%|███████   | 7/10 [00:03<00:01,  2.16it/s]"
     ]
    },
    {
     "name": "stdout",
     "output_type": "stream",
     "text": [
      "\n",
      "    SOURCE: lấy cái lu trống lụt .\n",
      "    TARGET: lấy cái lu chống lụt .\n",
      " PREDICTED: lấy cái lũ trống lụt . . lụt . ba . lũ . lũ .\n",
      "BLEU OF SENTENCE 7\n",
      "BLEU_1: 0.2666666805744171\n",
      "BLEU_2: 0.1951800286769867\n",
      "BLEU_3: 0.0\n",
      "BLEU_4: 0.0\n",
      "recall = 0.6666666865348816\n",
      "precision = 0.6666666865348816\n",
      "f_05 = 0.6666666865348816\n"
     ]
    },
    {
     "name": "stderr",
     "output_type": "stream",
     "text": [
      "Testing model...:  80%|████████  | 8/10 [00:03<00:01,  2.00it/s]"
     ]
    },
    {
     "name": "stdout",
     "output_type": "stream",
     "text": [
      "\n",
      "    SOURCE: thỳ mọi biện minh bằng thườ .\n",
      "    TARGET: thì mọi biện minh bằng thừa .\n",
      " PREDICTED: mọi biện biện bằng mọi mọi mọi mọi mọi biện mọi mọi mọi mọi mọi biện mọi mọi . biện mọi mọi biện biện minh bằng mọi mọi mọi mọi mọi mọi biện mọi hành . . mọi . . biện . mọi mọi mọi biện biện mọi mọi\n",
      "BLEU OF SENTENCE 8\n",
      "BLEU_1: 0.10204082727432251\n",
      "BLEU_2: 0.07985958456993103\n",
      "BLEU_3: 0.051386844366788864\n",
      "BLEU_4: 0.0\n",
      "recall = 0.1428571492433548\n",
      "precision = 0.0714285746216774\n",
      "f_05 = 0.0793650820851326\n"
     ]
    },
    {
     "name": "stderr",
     "output_type": "stream",
     "text": [
      "Testing model...:  90%|█████████ | 9/10 [00:04<00:00,  2.31it/s]"
     ]
    },
    {
     "name": "stdout",
     "output_type": "stream",
     "text": [
      "\n",
      "    SOURCE: youtube thấy lời tục tỉu quá .\n",
      "    TARGET: youtube thấy lời tục tĩu quá .\n",
      " PREDICTED: youtube thấy lời tục tiểu quá . lời quá thấy quá . . lời qua\n",
      "BLEU OF SENTENCE 9\n",
      "BLEU_1: 0.4000000059604645\n",
      "BLEU_2: 0.33806172013282776\n",
      "BLEU_3: 0.26003164052963257\n",
      "BLEU_4: 0.19564753770828247\n",
      "recall = 0.8571429252624512\n",
      "precision = 0.8571429252624512\n",
      "f_05 = 0.8571429252624512\n"
     ]
    },
    {
     "name": "stderr",
     "output_type": "stream",
     "text": [
      "Testing model...: 100%|██████████| 10/10 [00:04<00:00,  2.19it/s]"
     ]
    },
    {
     "name": "stdout",
     "output_type": "stream",
     "text": [
      "\n",
      "    SOURCE: nói chuyện nghe rất hòa hã .\n",
      "    TARGET: nói chuyện nghe rất hòa nhã .\n",
      " PREDICTED: nói chuyện nghe rất hòa hà . rất rất rất . rất nghe hạ rất chuyện rất rất\n",
      "BLEU OF SENTENCE 10\n",
      "BLEU_1: 0.3333333134651184\n",
      "BLEU_2: 0.28005602955818176\n",
      "BLEU_3: 0.24499864876270294\n",
      "BLEU_4: 0.21042990684509277\n",
      "recall = 0.8571429252624512\n",
      "precision = 0.8571429252624512\n",
      "f_05 = 0.8571429252624512\n"
     ]
    },
    {
     "name": "stderr",
     "output_type": "stream",
     "text": [
      "\n"
     ]
    },
    {
     "name": "stdout",
     "output_type": "stream",
     "text": [
      "recall = 0.6323529481887817\n",
      "precision = 0.5661764740943909\n",
      "f_05 = 0.5752257108688354\n",
      "     bleu_1    bleu_2    bleu_3    bleu_4    recall  precision      f_05\n",
      "0  0.183824  0.145081  0.112397  0.087521  0.632353   0.566176  0.575226\n"
     ]
    },
    {
     "data": {
      "image/png": "[encoded data removed]",
      "text/plain": [
       "<Figure size 640x480 with 1 Axes>"
      ]
     },
     "metadata": {},
     "output_type": "display_data"
    }
   ],
   "source": [
    "cf[\"continue_step\"] = True\n",
    "cf[\"step_train\"] = SECOND_STEP\n",
    "cf[\"num_steps\"] += 500\n",
    "cf[\"max_num_test\"] = 10\n",
    "train.train(cf)\n",
    "test.test(cf)"
   ]
  },
  {
   "cell_type": "code",
   "execution_count": 8,
   "id": "bbbb50c1",
   "metadata": {
    "execution": {
     "iopub.execute_input": "2024-05-27T04:27:50.486118Z",
     "iopub.status.busy": "2024-05-27T04:27:50.485756Z",
     "iopub.status.idle": "2024-05-27T04:27:50.490255Z",
     "shell.execute_reply": "2024-05-27T04:27:50.489350Z"
    },
    "papermill": {
     "duration": 1.751837,
     "end_time": "2024-05-27T04:27:50.492182",
     "exception": false,
     "start_time": "2024-05-27T04:27:48.740345",
     "status": "completed"
    },
    "tags": []
   },
   "outputs": [],
   "source": [
    "cf[\"max_num_test\"] = 3131"
   ]
  },
  {
   "cell_type": "code",
   "execution_count": 9,
   "id": "896aeafe",
   "metadata": {
    "execution": {
     "iopub.execute_input": "2024-05-27T04:27:54.075358Z",
     "iopub.status.busy": "2024-05-27T04:27:54.074728Z",
     "iopub.status.idle": "2024-05-27T04:42:30.798222Z",
     "shell.execute_reply": "2024-05-27T04:42:30.796994Z"
    },
    "papermill": {
     "duration": 878.514917,
     "end_time": "2024-05-27T04:42:30.800351",
     "exception": false,
     "start_time": "2024-05-27T04:27:52.285434",
     "status": "completed"
    },
    "tags": []
   },
   "outputs": [
    {
     "name": "stdout",
     "output_type": "stream",
     "text": [
      "/kaggle/input/8-dataset/tokenizer/tokenizer_src.json\n",
      "/kaggle/input/1m-mask-vi-and-vi-ds-wordlevel/tokenizer/tokenizer_tgt.json\n",
      "Read tokenizer successfully\n",
      "Vocab size src:  25000\n",
      "Vocab size tgt:  30000\n",
      "====================================\n",
      "/kaggle/input/8-dataset/tokenizer/tokenizer_src.json\n",
      "/kaggle/input/1m-mask-vi-and-vi-ds-wordlevel/tokenizer/tokenizer_tgt.json\n",
      "Read tokenizer successfully\n",
      "Vocab size src:  25000\n",
      "Vocab size tgt:  30000\n",
      "====================================\n",
      "Read dataset successfully\n",
      "Length train dataset:  225000\n",
      "Length val dataset:  25000\n",
      "Length test dataset:  3131\n",
      "====================================\n",
      "Get dataloader successfully\n",
      "FineTuneBartWithRandomEncoder(\n",
      "  (inputs_embeds): Embedding(25000, 768)\n",
      "  (decoder_inputs_embeds): Embedding(30000, 768)\n",
      "  (random_encoder): BartEncoder(\n",
      "    (embed_tokens): Embedding(30000, 768, padding_idx=2)\n",
      "    (embed_positions): BartLearnedPositionalEmbedding(102, 768)\n",
      "    (layers): ModuleList(\n",
      "      (0-5): 6 x BartEncoderLayer(\n",
      "        (self_attn): BartSdpaAttention(\n",
      "          (k_proj): Linear(in_features=768, out_features=768, bias=True)\n",
      "          (v_proj): Linear(in_features=768, out_features=768, bias=True)\n",
      "          (q_proj): Linear(in_features=768, out_features=768, bias=True)\n",
      "          (out_proj): Linear(in_features=768, out_features=768, bias=True)\n",
      "        )\n",
      "        (self_attn_layer_norm): LayerNorm((768,), eps=1e-05, elementwise_affine=True)\n",
      "        (activation_fn): GELUActivation()\n",
      "        (fc1): Linear(in_features=768, out_features=3072, bias=True)\n",
      "        (fc2): Linear(in_features=3072, out_features=768, bias=True)\n",
      "        (final_layer_norm): LayerNorm((768,), eps=1e-05, elementwise_affine=True)\n",
      "      )\n",
      "    )\n",
      "    (layernorm_embedding): LayerNorm((768,), eps=1e-05, elementwise_affine=True)\n",
      "  )\n",
      "  (bart_model): BartModel(\n",
      "    (shared): Embedding(30000, 768, padding_idx=2)\n",
      "    (encoder): BartEncoder(\n",
      "      (embed_tokens): Embedding(30000, 768, padding_idx=2)\n",
      "      (embed_positions): BartLearnedPositionalEmbedding(102, 768)\n",
      "      (layers): ModuleList(\n",
      "        (0-5): 6 x BartEncoderLayer(\n",
      "          (self_attn): BartSdpaAttention(\n",
      "            (k_proj): Linear(in_features=768, out_features=768, bias=True)\n",
      "            (v_proj): Linear(in_features=768, out_features=768, bias=True)\n",
      "            (q_proj): Linear(in_features=768, out_features=768, bias=True)\n",
      "            (out_proj): Linear(in_features=768, out_features=768, bias=True)\n",
      "          )\n",
      "          (self_attn_layer_norm): LayerNorm((768,), eps=1e-05, elementwise_affine=True)\n",
      "          (activation_fn): GELUActivation()\n",
      "          (fc1): Linear(in_features=768, out_features=3072, bias=True)\n",
      "          (fc2): Linear(in_features=3072, out_features=768, bias=True)\n",
      "          (final_layer_norm): LayerNorm((768,), eps=1e-05, elementwise_affine=True)\n",
      "        )\n",
      "      )\n",
      "      (layernorm_embedding): LayerNorm((768,), eps=1e-05, elementwise_affine=True)\n",
      "    )\n",
      "    (decoder): BartDecoder(\n",
      "      (embed_tokens): Embedding(30000, 768, padding_idx=2)\n",
      "      (embed_positions): BartLearnedPositionalEmbedding(102, 768)\n",
      "      (layers): ModuleList(\n",
      "        (0-5): 6 x BartDecoderLayer(\n",
      "          (self_attn): BartSdpaAttention(\n",
      "            (k_proj): Linear(in_features=768, out_features=768, bias=True)\n",
      "            (v_proj): Linear(in_features=768, out_features=768, bias=True)\n",
      "            (q_proj): Linear(in_features=768, out_features=768, bias=True)\n",
      "            (out_proj): Linear(in_features=768, out_features=768, bias=True)\n",
      "          )\n",
      "          (activation_fn): GELUActivation()\n",
      "          (self_attn_layer_norm): LayerNorm((768,), eps=1e-05, elementwise_affine=True)\n",
      "          (encoder_attn): BartSdpaAttention(\n",
      "            (k_proj): Linear(in_features=768, out_features=768, bias=True)\n",
      "            (v_proj): Linear(in_features=768, out_features=768, bias=True)\n",
      "            (q_proj): Linear(in_features=768, out_features=768, bias=True)\n",
      "            (out_proj): Linear(in_features=768, out_features=768, bias=True)\n",
      "          )\n",
      "          (encoder_attn_layer_norm): LayerNorm((768,), eps=1e-05, elementwise_affine=True)\n",
      "          (fc1): Linear(in_features=768, out_features=3072, bias=True)\n",
      "          (fc2): Linear(in_features=3072, out_features=768, bias=True)\n",
      "          (final_layer_norm): LayerNorm((768,), eps=1e-05, elementwise_affine=True)\n",
      "        )\n",
      "      )\n",
      "      (layernorm_embedding): LayerNorm((768,), eps=1e-05, elementwise_affine=True)\n",
      "    )\n",
      "  )\n",
      "  (out): Linear(in_features=768, out_features=30000, bias=True)\n",
      ")\n",
      "/kaggle/input/8-dataset/tokenizer/tokenizer_src.json\n",
      "/kaggle/input/1m-mask-vi-and-vi-ds-wordlevel/tokenizer/tokenizer_tgt.json\n",
      "Read tokenizer successfully\n",
      "Vocab size src:  25000\n",
      "Vocab size tgt:  30000\n",
      "====================================\n"
     ]
    },
    {
     "name": "stderr",
     "output_type": "stream",
     "text": [
      "Testing model...:   5%|▍         | 156/3131 [00:37<09:57,  4.98it/s]"
     ]
    },
    {
     "name": "stdout",
     "output_type": "stream",
     "text": [
      "\n",
      "    SOURCE: cựu tổng thống donna trump .\n",
      "    TARGET: cựu tổng thống donald trump .\n",
      " PREDICTED: cựu tổng thống trump trump . . . trump trump . . . thống .\n",
      "BLEU OF SENTENCE 156\n",
      "BLEU_1: 0.3333333134651184\n",
      "BLEU_2: 0.26726123690605164\n",
      "BLEU_3: 0.17645859718322754\n",
      "BLEU_4: 0.0\n",
      "recall = 0.8333333730697632\n",
      "precision = 0.75\n",
      "f_05 = 0.7592593431472778\n"
     ]
    },
    {
     "name": "stderr",
     "output_type": "stream",
     "text": [
      "Testing model...:  10%|▉         | 312/3131 [01:19<15:58,  2.94it/s]"
     ]
    },
    {
     "name": "stdout",
     "output_type": "stream",
     "text": [
      "\n",
      "    SOURCE: chúng nó đóng kiệt thôi .\n",
      "    TARGET: chúng nó đóng kịch thôi .\n",
      " PREDICTED: chúng nó đóng kiệt thôi . . thôi . . . . . . .\n",
      "BLEU OF SENTENCE 312\n",
      "BLEU_1: 0.3333333134651184\n",
      "BLEU_2: 0.26726123690605164\n",
      "BLEU_3: 0.17645859718322754\n",
      "BLEU_4: 0.0\n",
      "recall = 0.8333333730697632\n",
      "precision = 0.8333333730697632\n",
      "f_05 = 0.8333333730697632\n"
     ]
    },
    {
     "name": "stderr",
     "output_type": "stream",
     "text": [
      "Testing model...:  15%|█▍        | 468/3131 [01:56<09:25,  4.71it/s]"
     ]
    },
    {
     "name": "stdout",
     "output_type": "stream",
     "text": [
      "\n",
      "    SOURCE: cách dớt đế nồi xe tay ga , sài lâu bị mòn .\n",
      "    TARGET: cách vớt đế nồi xe tay ga , xài lâu bị mòn .\n",
      " PREDICTED: cách để để nồi xe tay ga , sài lâu bị mòn . . . . nồi xe tay\n",
      "BLEU OF SENTENCE 468\n",
      "BLEU_1: 0.5263158082962036\n",
      "BLEU_2: 0.452413946390152\n",
      "BLEU_3: 0.3919202387332916\n",
      "BLEU_4: 0.32594820857048035\n",
      "recall = 0.769230842590332\n",
      "precision = 0.769230842590332\n",
      "f_05 = 0.769230842590332\n"
     ]
    },
    {
     "name": "stderr",
     "output_type": "stream",
     "text": [
      "Testing model...:  20%|█▉        | 624/3131 [02:40<09:12,  4.54it/s]"
     ]
    },
    {
     "name": "stdout",
     "output_type": "stream",
     "text": [
      "\n",
      "    SOURCE: chứ x mà đầu tư mỡ cơ sở lắp ráp .\n",
      "    TARGET: chứ x mà đầu tư mở cơ sở lắp ráp .\n",
      " PREDICTED: chứ x mà đầu tư mỡ cơ sở lắp ráp . . cơ . cơ . đầu tư chữ cơ . cơ lắp . . cơ . cơ\n",
      "BLEU OF SENTENCE 624\n",
      "BLEU_1: 0.3571428954601288\n",
      "BLEU_2: 0.32530003786087036\n",
      "BLEU_3: 0.290122926235199\n",
      "BLEU_4: 0.2500152587890625\n",
      "recall = 0.9090909361839294\n",
      "precision = 0.9090909361839294\n",
      "f_05 = 0.9090909361839294\n"
     ]
    },
    {
     "name": "stderr",
     "output_type": "stream",
     "text": [
      "Testing model...:  25%|██▍       | 780/3131 [03:21<08:13,  4.76it/s]"
     ]
    },
    {
     "name": "stdout",
     "output_type": "stream",
     "text": [
      "\n",
      "    SOURCE: không có tính điềm tỉnh .\n",
      "    TARGET: không có tính điềm tĩnh .\n",
      " PREDICTED: không có tính điềm tỉnh . tỉnh . . tỉnh . tỉnh . tỉnh .\n",
      "BLEU OF SENTENCE 780\n",
      "BLEU_1: 0.3333333134651184\n",
      "BLEU_2: 0.26726123690605164\n",
      "BLEU_3: 0.22232390940189362\n",
      "BLEU_4: 0.1739579737186432\n",
      "recall = 0.8333333730697632\n",
      "precision = 0.8333333730697632\n",
      "f_05 = 0.8333333730697632\n"
     ]
    },
    {
     "name": "stderr",
     "output_type": "stream",
     "text": [
      "Testing model...:  30%|██▉       | 936/3131 [03:57<08:43,  4.19it/s]"
     ]
    },
    {
     "name": "stdout",
     "output_type": "stream",
     "text": [
      "\n",
      "    SOURCE: chài đối đáp thơ hay quá xá .\n",
      "    TARGET: chà , đối đáp thơ hay quá xá .\n",
      " PREDICTED: ưu đối đáp thơ hai quá xá . quá xá đối . quá quá quá\n",
      "BLEU OF SENTENCE 936\n",
      "BLEU_1: 0.4000000059604645\n",
      "BLEU_2: 0.33806172013282776\n",
      "BLEU_3: 0.26003164052963257\n",
      "BLEU_4: 0.0\n",
      "recall = 0.0\n",
      "precision = 0.0\n",
      "f_05 = 0.0\n"
     ]
    },
    {
     "name": "stderr",
     "output_type": "stream",
     "text": [
      "Testing model...:  35%|███▍      | 1092/3131 [04:36<06:50,  4.97it/s]"
     ]
    },
    {
     "name": "stdout",
     "output_type": "stream",
     "text": [
      "\n",
      "    SOURCE: họ đi nhận đồ từ thiện đợt rầm hay mùng một .\n",
      "    TARGET: họ đi nhận đồ từ thiện đợt rằm hay mùng một .\n",
      " PREDICTED: họ đi nhận đồ từ thiện đợt rầm hai mùng một . . . . . . từ thiện từ thiện đợt\n",
      "BLEU OF SENTENCE 1092\n",
      "BLEU_1: 0.4545454680919647\n",
      "BLEU_2: 0.41612520813941956\n",
      "BLEU_3: 0.3731268048286438\n",
      "BLEU_4: 0.3233843147754669\n",
      "recall = 0.8333333730697632\n",
      "precision = 0.8333333730697632\n",
      "f_05 = 0.8333333730697632\n"
     ]
    },
    {
     "name": "stderr",
     "output_type": "stream",
     "text": [
      "Testing model...:  40%|███▉      | 1248/3131 [05:19<13:19,  2.36it/s]"
     ]
    },
    {
     "name": "stdout",
     "output_type": "stream",
     "text": [
      "\n",
      "    SOURCE: tác giã phân luận về 2 tiếng chuông quá chỉnh .\n",
      "    TARGET: tác giả phân luận về 2 tiếng chuông quá chỉnh .\n",
      " PREDICTED: tác mục phân luận về 2 tiếng chuông quá chỉnh . . . . . . . . 2\n",
      "BLEU OF SENTENCE 1248\n",
      "BLEU_1: 0.5263158082962036\n",
      "BLEU_2: 0.4836508333683014\n",
      "BLEU_3: 0.4583926796913147\n",
      "BLEU_4: 0.4359493851661682\n",
      "recall = 0.9090908765792847\n",
      "precision = 0.9090908765792847\n",
      "f_05 = 0.9090908765792847\n"
     ]
    },
    {
     "name": "stderr",
     "output_type": "stream",
     "text": [
      "Testing model...:  45%|████▍     | 1404/3131 [06:00<08:14,  3.49it/s]"
     ]
    },
    {
     "name": "stdout",
     "output_type": "stream",
     "text": [
      "\n",
      "    SOURCE: do sên cam nó cọ sát thôi .\n",
      "    TARGET: do sên cam nó cọ xát thôi .\n",
      " PREDICTED: do cam nó có sát thôi . . . sát . nó sát sát . nó có sát sát . thôi . sát nó có sát cơ sát sát . . . . sát sát . . nó có sát . . sát . . . . . . sát\n",
      "BLEU OF SENTENCE 1404\n",
      "BLEU_1: 0.09999999403953552\n",
      "BLEU_2: 0.06388764828443527\n",
      "BLEU_3: 0.0\n",
      "BLEU_4: 0.0\n",
      "recall = 0.25\n",
      "precision = 0.1875\n",
      "f_05 = 0.1944444477558136\n"
     ]
    },
    {
     "name": "stderr",
     "output_type": "stream",
     "text": [
      "Testing model...:  50%|████▉     | 1560/3131 [06:45<06:54,  3.79it/s]"
     ]
    },
    {
     "name": "stdout",
     "output_type": "stream",
     "text": [
      "\n",
      "    SOURCE: không đã kích cá nhân .\n",
      "    TARGET: không đả kích cá nhân .\n",
      " PREDICTED: không đã kích cá nhân . cá cá cá nhân . cá nhân đã cá\n",
      "BLEU OF SENTENCE 1560\n",
      "BLEU_1: 0.3333333134651184\n",
      "BLEU_2: 0.26726123690605164\n",
      "BLEU_3: 0.22232390940189362\n",
      "BLEU_4: 0.1739579737186432\n",
      "recall = 0.8333333730697632\n",
      "precision = 0.8333333730697632\n",
      "f_05 = 0.8333333730697632\n"
     ]
    },
    {
     "name": "stderr",
     "output_type": "stream",
     "text": [
      "Testing model...:  55%|█████▍    | 1716/3131 [07:23<10:20,  2.28it/s]"
     ]
    },
    {
     "name": "stdout",
     "output_type": "stream",
     "text": [
      "\n",
      "    SOURCE: cháu tôi bị đụng xe chết mà đòi mỗ tử thi xét nghiệm .\n",
      "    TARGET: cháu tôi bị đụng xe chết mà đòi mổ tử thi xét nghiệm .\n",
      " PREDICTED: cháu tôi bị đúng xe chết mà đòi nỗ tử thi xét nghiệm . xét xét xét xét xe mà . mà . . từ thi xét xét xét chết mà thi xét cử thi xét xét nghiệm xét xét xét nghiệm thi . xét xét xét xét xét thi xét xét nghiệm . . . . nghiệm . . . . nghiệm . . . thi . . . . xét xét nghiệm . . . . . . tư xét nghiệm xét xét xét thi xét nghiệm xét xét xét xét xét . . nghiệm xét nghiệm\n",
      "BLEU OF SENTENCE 1716\n",
      "BLEU_1: 0.12121210992336273\n",
      "BLEU_2: 0.10550698637962341\n",
      "BLEU_3: 0.08830402791500092\n",
      "BLEU_4: 0.0681079849600792\n",
      "recall = 0.8571428656578064\n",
      "precision = 0.8571428656578064\n",
      "f_05 = 0.8571428656578064\n"
     ]
    },
    {
     "name": "stderr",
     "output_type": "stream",
     "text": [
      "Testing model...:  60%|█████▉    | 1872/3131 [08:06<08:14,  2.55it/s]"
     ]
    },
    {
     "name": "stdout",
     "output_type": "stream",
     "text": [
      "\n",
      "    SOURCE: đài của x có khác nhĩ ? .\n",
      "    TARGET: đài của x có khác nhỉ ? .\n",
      " PREDICTED: đài của x có khác nhĩ ? . ? ? của ? ? ? ? ? của khác nhĩ ? ? ? ? của ? khác nhĩ có khác nhĩ . ? ? ? ? ? ? ? ? khác ? ? ? ? ? ? ? . ?\n",
      "BLEU OF SENTENCE 1872\n",
      "BLEU_1: 0.1428571492433548\n",
      "BLEU_2: 0.12198752164840698\n",
      "BLEU_3: 0.09829951077699661\n",
      "BLEU_4: 0.08016440272331238\n",
      "recall = 0.875\n",
      "precision = 0.875\n",
      "f_05 = 0.875\n"
     ]
    },
    {
     "name": "stderr",
     "output_type": "stream",
     "text": [
      "Testing model...:  65%|██████▍   | 2028/3131 [08:47<06:26,  2.85it/s]"
     ]
    },
    {
     "name": "stdout",
     "output_type": "stream",
     "text": [
      "\n",
      "    SOURCE: vẫn giữ được mùi vị đặc chưng của yến .\n",
      "    TARGET: vẫn giữ được mùi vị đặc trưng của yến .\n",
      " PREDICTED: vẫn giữ được mùi vị đặc chung của yến . vị của giữ của vị của mùi vị đặc dụng của cư của giữ . vị vị vị của đặc của giữ của giữ của của của . vị\n",
      "BLEU OF SENTENCE 2028\n",
      "BLEU_1: 0.23076923191547394\n",
      "BLEU_2: 0.20617982745170593\n",
      "BLEU_3: 0.17909638583660126\n",
      "BLEU_4: 0.14791758358478546\n",
      "recall = 0.9000000357627869\n",
      "precision = 0.9000000357627869\n",
      "f_05 = 0.9000000357627869\n"
     ]
    },
    {
     "name": "stderr",
     "output_type": "stream",
     "text": [
      "Testing model...:  70%|██████▉   | 2184/3131 [09:26<04:18,  3.66it/s]"
     ]
    },
    {
     "name": "stdout",
     "output_type": "stream",
     "text": [
      "\n",
      "    SOURCE: bạn đọc hướng dẫn mà vẩn không biết cách dùng có thể nhắn .\n",
      "    TARGET: bạn đọc hướng dẫn mà vẫn không biết cách dùng có thể nhắn .\n",
      " PREDICTED: bạn đọc hướng dẫn mà văn không không cách dùng có có nhắn . . có dẫn . . . có . . hướng . hướng văn . hướng văn . hướng . dẫn . thể dẫn\n",
      "BLEU OF SENTENCE 2184\n",
      "BLEU_1: 0.3243243396282196\n",
      "BLEU_2: 0.2511236071586609\n",
      "BLEU_3: 0.19316227734088898\n",
      "BLEU_4: 0.14349262416362762\n",
      "recall = 0.7857142686843872\n",
      "precision = 0.7142857313156128\n",
      "f_05 = 0.7222222089767456\n"
     ]
    },
    {
     "name": "stderr",
     "output_type": "stream",
     "text": [
      "Testing model...:  75%|███████▍  | 2340/3131 [10:10<03:20,  3.95it/s]"
     ]
    },
    {
     "name": "stdout",
     "output_type": "stream",
     "text": [
      "\n",
      "    SOURCE: được hôm bố chở đi choáy phố .\n",
      "    TARGET: được hôm bố chở đi cháy phố .\n",
      " PREDICTED: được hôm bố chở đi phố . phố . đi bố phố phố phố\n",
      "BLEU OF SENTENCE 2340\n",
      "BLEU_1: 0.5\n",
      "BLEU_2: 0.43852901458740234\n",
      "BLEU_3: 0.3636181354522705\n",
      "BLEU_4: 0.30576902627944946\n",
      "recall = 0.625\n",
      "precision = 0.625\n",
      "f_05 = 0.625\n"
     ]
    },
    {
     "name": "stderr",
     "output_type": "stream",
     "text": [
      "Testing model...:  80%|███████▉  | 2496/3131 [10:53<02:43,  3.87it/s]"
     ]
    },
    {
     "name": "stdout",
     "output_type": "stream",
     "text": [
      "\n",
      "    SOURCE: nếu giải được bài này thì bạn cũm đỉnh đấy .\n",
      "    TARGET: nếu giải được bài này thì bạn cũng đỉnh đấy .\n",
      " PREDICTED: nếu giải được bài này thì bạn đỉnh đấy . . . . bạn\n",
      "BLEU OF SENTENCE 2496\n",
      "BLEU_1: 0.7142857313156128\n",
      "BLEU_2: 0.6629935503005981\n",
      "BLEU_3: 0.6034799814224243\n",
      "BLEU_4: 0.5316967368125916\n",
      "recall = 0.7272727489471436\n",
      "precision = 0.6818182468414307\n",
      "f_05 = 0.6868687868118286\n"
     ]
    },
    {
     "name": "stderr",
     "output_type": "stream",
     "text": [
      "Testing model...:  85%|████████▍ | 2652/3131 [11:38<01:28,  5.39it/s]"
     ]
    },
    {
     "name": "stdout",
     "output_type": "stream",
     "text": [
      "\n",
      "    SOURCE: như trưa từng được ăn .\n",
      "    TARGET: như chưa từng được ăn .\n",
      " PREDICTED: như trưa từng được ăn . được từng được từng trưa từng được từng . được . được được ăn . được ăn từng\n",
      "BLEU OF SENTENCE 2652\n",
      "BLEU_1: 0.2083333283662796\n",
      "BLEU_2: 0.16484512388706207\n",
      "BLEU_3: 0.13518229126930237\n",
      "BLEU_4: 0.10414419323205948\n",
      "recall = 0.8333333730697632\n",
      "precision = 0.8333333730697632\n",
      "f_05 = 0.8333333730697632\n"
     ]
    },
    {
     "name": "stderr",
     "output_type": "stream",
     "text": [
      "Testing model...:  90%|████████▉ | 2808/3131 [12:24<01:44,  3.08it/s]"
     ]
    },
    {
     "name": "stdout",
     "output_type": "stream",
     "text": [
      "\n",
      "    SOURCE: từ một thợ lấp ráp điện đóm , tới kỹ sư hoặc luật sư .\n",
      "    TARGET: từ một thợ lắp ráp điện đóm , tới kỹ sư hoặc luật sư .\n",
      " PREDICTED: từ một thợ lấp ráp điện đón , , kỹ sư hoặc luật sư . . . . điện điện điện đón , điện , điện điện luật , điện , , , điện , điện hoặc luật hoặc luật điện , điện , . . . . .\n",
      "BLEU OF SENTENCE 2808\n",
      "BLEU_1: 0.2448979616165161\n",
      "BLEU_2: 0.2020304948091507\n",
      "BLEU_3: 0.1631430685520172\n",
      "BLEU_4: 0.12972308695316315\n",
      "recall = 0.8000000715255737\n",
      "precision = 0.7666667103767395\n",
      "f_05 = 0.7703704237937927\n"
     ]
    },
    {
     "name": "stderr",
     "output_type": "stream",
     "text": [
      "Testing model...:  95%|█████████▍| 2964/3131 [13:13<01:01,  2.71it/s]"
     ]
    },
    {
     "name": "stdout",
     "output_type": "stream",
     "text": [
      "\n",
      "    SOURCE: khi trở về năm 2007 gặp lại sun được ít hôm thì cả hai cùng phải chết đuổi trong tàu ngầm .\n",
      "    TARGET: khi trở về năm 2007 gặp lại sun được ít hôm thì cả hai cùng phải chết đuối trong tàu ngầm .\n",
      " PREDICTED: khi trở về năm 2007 gặp lại giữ được ít hôm thì cả hai cùng phải chết đuổi trong tàu ngầm . phải được . phải gặp tàu . . . . . được được hôm ít phải hôm thì gặp tàu hai lại . cùng được . về\n",
      "BLEU OF SENTENCE 2964\n",
      "BLEU_1: 0.40816327929496765\n",
      "BLEU_2: 0.3802075982093811\n",
      "BLEU_3: 0.35050204396247864\n",
      "BLEU_4: 0.3185493052005768\n",
      "recall = 0.9090909361839294\n",
      "precision = 0.9090909361839294\n",
      "f_05 = 0.9090909361839294\n"
     ]
    },
    {
     "name": "stderr",
     "output_type": "stream",
     "text": [
      "Testing model...: 100%|█████████▉| 3120/3131 [14:13<00:03,  2.85it/s]"
     ]
    },
    {
     "name": "stdout",
     "output_type": "stream",
     "text": [
      "\n",
      "    SOURCE: đang tín mua xe củ về lm lại nghe xong khỏi mua lun .\n",
      "    TARGET: đang tính mua xe cũ về làm lại nghe xong khỏi mua luôn .\n",
      " PREDICTED: đang tín mua xe củ về lại nghe xong khỏi mua quán . . . . mua . . . .\n",
      "BLEU OF SENTENCE 3120\n",
      "BLEU_1: 0.4761904776096344\n",
      "BLEU_2: 0.34503278136253357\n",
      "BLEU_3: 0.2658863961696625\n",
      "BLEU_4: 0.21377722918987274\n",
      "recall = 0.3571428656578064\n",
      "precision = 0.3214285969734192\n",
      "f_05 = 0.3253968358039856\n"
     ]
    },
    {
     "name": "stderr",
     "output_type": "stream",
     "text": [
      "Testing model...: 100%|██████████| 3131/3131 [14:18<00:00,  3.65it/s]\n"
     ]
    },
    {
     "name": "stdout",
     "output_type": "stream",
     "text": [
      "recall = 0.6745297908782959\n",
      "precision = 0.6768330931663513\n",
      "f_05 = 0.6679832339286804\n",
      "     bleu_1    bleu_2   bleu_3    bleu_4   recall  precision      f_05\n",
      "0  0.244362  0.209291  0.17908  0.153353  0.67453   0.676833  0.667983\n"
     ]
    }
   ],
   "source": [
    "test.test(cf)"
   ]
  }
 ],
 "metadata": {
  "kaggle": {
   "accelerator": "gpu",
   "dataSources": [
    {
     "datasetId": 5091225,
     "sourceId": 8525856,
     "sourceType": "datasetVersion"
    },
    {
     "datasetId": 5091195,
     "sourceId": 8525815,
     "sourceType": "datasetVersion"
    },
    {
     "datasetId": 5089733,
     "sourceId": 8525804,
     "sourceType": "datasetVersion"
    }
   ],
   "dockerImageVersionId": 30699,
   "isGpuEnabled": true,
   "isInternetEnabled": true,
   "language": "python",
   "sourceType": "notebook"
  },
  "kernelspec": {
   "display_name": "Python 3",
   "language": "python",
   "name": "python3"
  },
  "language_info": {
   "codemirror_mode": {
    "name": "ipython",
    "version": 3
   },
   "file_extension": ".py",
   "mimetype": "text/x-python",
   "name": "python",
   "nbconvert_exporter": "python",
   "pygments_lexer": "ipython3",
   "version": "3.10.13"
  },
  "papermill": {
   "default_parameters": {},
   "duration": 6765.406179,
   "end_time": "2024-05-27T04:42:34.541739",
   "environment_variables": {},
   "exception": null,
   "input_path": "__notebook__.ipynb",
   "output_path": "__notebook__.ipynb",
   "parameters": {},
   "start_time": "2024-05-27T02:49:49.135560",
   "version": "2.5.0"
  }
 },
 "nbformat": 4,
 "nbformat_minor": 5
}
