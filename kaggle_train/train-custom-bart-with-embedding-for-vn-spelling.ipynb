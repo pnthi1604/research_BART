{
 "cells": [
  {
   "cell_type": "code",
   "execution_count": 1,
   "id": "2c539798",
   "metadata": {
    "_cell_guid": "b1076dfc-b9ad-4769-8c92-a6c4dae69d19",
    "_uuid": "8f2839f25d086af736a60e9eeb907d3b93b6e0e5",
    "execution": {
     "iopub.execute_input": "2024-05-20T04:19:15.061620Z",
     "iopub.status.busy": "2024-05-20T04:19:15.060965Z",
     "iopub.status.idle": "2024-05-20T04:19:16.589729Z",
     "shell.execute_reply": "2024-05-20T04:19:16.588677Z"
    },
    "papermill": {
     "duration": 1.534725,
     "end_time": "2024-05-20T04:19:16.591954",
     "exception": false,
     "start_time": "2024-05-20T04:19:15.057229",
     "status": "completed"
    },
    "tags": []
   },
   "outputs": [
    {
     "name": "stdout",
     "output_type": "stream",
     "text": [
      "Cloning into 'vn_spelling_correction_bart_model'...\r\n",
      "remote: Enumerating objects: 473, done.\u001b[K\r\n",
      "remote: Counting objects: 100% (100/100), done.\u001b[K\r\n",
      "remote: Compressing objects: 100% (71/71), done.\u001b[K\r\n",
      "remote: Total 473 (delta 55), reused 72 (delta 29), pack-reused 373\u001b[K\r\n",
      "Receiving objects: 100% (473/473), 178.09 KiB | 10.48 MiB/s, done.\r\n",
      "Resolving deltas: 100% (287/287), done.\r\n"
     ]
    }
   ],
   "source": [
    "!git clone https://github.com/pnthi1604/vn_spelling_correction_bart_model"
   ]
  },
  {
   "cell_type": "code",
   "execution_count": 2,
   "id": "bc0f22c9",
   "metadata": {
    "execution": {
     "iopub.execute_input": "2024-05-20T04:19:16.599580Z",
     "iopub.status.busy": "2024-05-20T04:19:16.599272Z",
     "iopub.status.idle": "2024-05-20T04:19:26.699925Z",
     "shell.execute_reply": "2024-05-20T04:19:26.699164Z"
    },
    "papermill": {
     "duration": 10.106877,
     "end_time": "2024-05-20T04:19:26.702166",
     "exception": false,
     "start_time": "2024-05-20T04:19:16.595289",
     "status": "completed"
    },
    "tags": []
   },
   "outputs": [],
   "source": [
    "from vn_spelling_correction_bart_model import train, test, config"
   ]
  },
  {
   "cell_type": "code",
   "execution_count": 3,
   "id": "37e8f571",
   "metadata": {
    "execution": {
     "iopub.execute_input": "2024-05-20T04:19:26.709181Z",
     "iopub.status.busy": "2024-05-20T04:19:26.708742Z",
     "iopub.status.idle": "2024-05-20T04:19:26.767980Z",
     "shell.execute_reply": "2024-05-20T04:19:26.767135Z"
    },
    "papermill": {
     "duration": 0.06481,
     "end_time": "2024-05-20T04:19:26.769937",
     "exception": false,
     "start_time": "2024-05-20T04:19:26.705127",
     "status": "completed"
    },
    "tags": []
   },
   "outputs": [
    {
     "data": {
      "text/plain": [
       "{'base_dir': '/kaggle/working',\n",
       " 'tokenizer_tgt': '/kaggle/input/2-ds-noise-vi-and-vi-word-level-not-share-token/tokenizer/tokenizer_tgt.json',\n",
       " 'tokenizer_src': '/kaggle/input/2-ds-noise-vi-and-vi-word-level-not-share-token/tokenizer/tokenizer_src.json',\n",
       " 'use_tokenizer': 'wordlevel',\n",
       " 'special_tokens': ['<s>', '</s>', '<pad>', '<unk>', '<mask>'],\n",
       " 'vocab_size': 30000,\n",
       " 'min_frequency': 2,\n",
       " 'model_folder': '/kaggle/working/model',\n",
       " 'model_basename': 'model_',\n",
       " 'model_bart_basename': 'bart_model_',\n",
       " 'preload': 'latest',\n",
       " 'data': '/kaggle/working/data',\n",
       " 'log_dir': '/kaggle/working/log',\n",
       " 'log_files': '/kaggle/working/log/log_files',\n",
       " 'loss_train': '/kaggle/working/log/log_files/loss_train.json',\n",
       " 'loss_val': '/kaggle/working/log/log_files/loss_val.json',\n",
       " 'loss_train_step': '/kaggle/working/log/log_files/loss_train_step.json',\n",
       " 'loss_val_step': '/kaggle/working/log/log_files/loss_val_step.json',\n",
       " 'timestep_train': '/kaggle/working/log/log_files/timestep_train.json',\n",
       " 'timestep_val': '/kaggle/working/log/log_files/timestep_val.json',\n",
       " 'timestep_train_and_val': '/kaggle/working/log/log_files/timestep_train_and_val.json',\n",
       " 'lang_src': 'noise_vi',\n",
       " 'lang_tgt': 'vi',\n",
       " 'train_ds': '/kaggle/input/2-ds-noise-vi-and-vi-word-level-not-share-token/train.csv',\n",
       " 'val_ds': None,\n",
       " 'test_ds': '/kaggle/input/2-ds-noise-vi-and-vi-word-level-not-share-token/test.csv',\n",
       " 'corpus': None,\n",
       " 'max_len': 100,\n",
       " 'model_train': 'bart_with_embedding',\n",
       " 'step_train': None,\n",
       " 'pretrain': False,\n",
       " 'continue_step': False,\n",
       " 'batch_train': 32,\n",
       " 'batch_val': 32,\n",
       " 'batch_test': 1,\n",
       " 'num_steps': 15000,\n",
       " 'val_steps': 1500,\n",
       " 'd_model': 768,\n",
       " 'encoder_layers': 6,\n",
       " 'decoder_layers': 6,\n",
       " 'encoder_attention_heads': 12,\n",
       " 'decoder_attention_heads': 12,\n",
       " 'decoder_ffn_dim': 3072,\n",
       " 'encoder_ffn_dim': 3072,\n",
       " 'activation_function': 'gelu',\n",
       " 'dropout': 0.15,\n",
       " 'attention_dropout': 0.1,\n",
       " 'activation_dropout': 0.1,\n",
       " 'classifier_dropout': 0.0,\n",
       " 'max_position_embeddings': 100,\n",
       " 'init_std': 0.02,\n",
       " 'encoder_layerdrop': 0.0,\n",
       " 'decoder_layerdrop': 0.0,\n",
       " 'scale_embedding': False,\n",
       " 'num_beams': 4,\n",
       " 'checkpoint_bart_model': None,\n",
       " 'weight_decay': 0,\n",
       " 'lr': 0.5,\n",
       " 'eps': 1e-09,\n",
       " 'betas': (0.9, 0.98),\n",
       " 'label_smoothing': 0.01,\n",
       " 'warmup_steps': 4000,\n",
       " 'device': 'cuda',\n",
       " 'f_beta': 0.5,\n",
       " 'beams': [2]}"
      ]
     },
     "execution_count": 3,
     "metadata": {},
     "output_type": "execute_result"
    }
   ],
   "source": [
    "cf = config.get_config(\"/kaggle/working\")\n",
    "cf[\"tokenizer_src\"] = \"/kaggle/input/2-ds-noise-vi-and-vi-word-level-not-share-token/tokenizer/tokenizer_src.json\"\n",
    "cf[\"tokenizer_tgt\"] = \"/kaggle/input/2-ds-noise-vi-and-vi-word-level-not-share-token/tokenizer/tokenizer_tgt.json\"\n",
    "cf[\"train_ds\"] = \"/kaggle/input/2-ds-noise-vi-and-vi-word-level-not-share-token/train.csv\"\n",
    "cf[\"test_ds\"] = \"/kaggle/input/2-ds-noise-vi-and-vi-word-level-not-share-token/test.csv\"\n",
    "cf[\"model_train\"] = \"bart_with_embedding\"\n",
    "cf[\"use_tokenizer\"] = \"wordlevel\"\n",
    "cf[\"num_steps\"] = 15000\n",
    "cf[\"val_steps\"] = cf[\"num_steps\"] // 10\n",
    "cf"
   ]
  },
  {
   "cell_type": "code",
   "execution_count": 4,
   "id": "719a62ec",
   "metadata": {
    "execution": {
     "iopub.execute_input": "2024-05-20T04:19:26.776811Z",
     "iopub.status.busy": "2024-05-20T04:19:26.776556Z",
     "iopub.status.idle": "2024-05-20T05:47:05.325097Z",
     "shell.execute_reply": "2024-05-20T05:47:05.324175Z"
    },
    "papermill": {
     "duration": 5258.554878,
     "end_time": "2024-05-20T05:47:05.327771",
     "exception": false,
     "start_time": "2024-05-20T04:19:26.772893",
     "status": "completed"
    },
    "tags": []
   },
   "outputs": [
    {
     "name": "stdout",
     "output_type": "stream",
     "text": [
      "Created:\n",
      "/kaggle/working/model\n",
      "/kaggle/working/log\n",
      "/kaggle/working/log/log_files\n",
      "====================================\n",
      "/kaggle/input/2-ds-noise-vi-and-vi-word-level-not-share-token/tokenizer/tokenizer_src.json\n",
      "/kaggle/input/2-ds-noise-vi-and-vi-word-level-not-share-token/tokenizer/tokenizer_tgt.json\n",
      "Read tokenizer successfully\n",
      "Check tokenizer src\n",
      "25000\n",
      "Check tokenizer tgt\n",
      "14873\n",
      "====================================\n",
      "Check BART model with embedding\n",
      "CustomBartModelWithEmbedding(\n",
      "  (inputs_embeds): Embedding(25000, 768)\n",
      "  (decoder_inputs_embeds): Embedding(14873, 768)\n",
      "  (bart_model): BartModel(\n",
      "    (shared): Embedding(14873, 768, padding_idx=2)\n",
      "    (encoder): BartEncoder(\n",
      "      (embed_tokens): Embedding(14873, 768, padding_idx=2)\n",
      "      (embed_positions): BartLearnedPositionalEmbedding(102, 768)\n",
      "      (layers): ModuleList(\n",
      "        (0-5): 6 x BartEncoderLayer(\n",
      "          (self_attn): BartSdpaAttention(\n",
      "            (k_proj): Linear(in_features=768, out_features=768, bias=True)\n",
      "            (v_proj): Linear(in_features=768, out_features=768, bias=True)\n",
      "            (q_proj): Linear(in_features=768, out_features=768, bias=True)\n",
      "            (out_proj): Linear(in_features=768, out_features=768, bias=True)\n",
      "          )\n",
      "          (self_attn_layer_norm): LayerNorm((768,), eps=1e-05, elementwise_affine=True)\n",
      "          (activation_fn): GELUActivation()\n",
      "          (fc1): Linear(in_features=768, out_features=3072, bias=True)\n",
      "          (fc2): Linear(in_features=3072, out_features=768, bias=True)\n",
      "          (final_layer_norm): LayerNorm((768,), eps=1e-05, elementwise_affine=True)\n",
      "        )\n",
      "      )\n",
      "      (layernorm_embedding): LayerNorm((768,), eps=1e-05, elementwise_affine=True)\n",
      "    )\n",
      "    (decoder): BartDecoder(\n",
      "      (embed_tokens): Embedding(14873, 768, padding_idx=2)\n",
      "      (embed_positions): BartLearnedPositionalEmbedding(102, 768)\n",
      "      (layers): ModuleList(\n",
      "        (0-5): 6 x BartDecoderLayer(\n",
      "          (self_attn): BartSdpaAttention(\n",
      "            (k_proj): Linear(in_features=768, out_features=768, bias=True)\n",
      "            (v_proj): Linear(in_features=768, out_features=768, bias=True)\n",
      "            (q_proj): Linear(in_features=768, out_features=768, bias=True)\n",
      "            (out_proj): Linear(in_features=768, out_features=768, bias=True)\n",
      "          )\n",
      "          (activation_fn): GELUActivation()\n",
      "          (self_attn_layer_norm): LayerNorm((768,), eps=1e-05, elementwise_affine=True)\n",
      "          (encoder_attn): BartSdpaAttention(\n",
      "            (k_proj): Linear(in_features=768, out_features=768, bias=True)\n",
      "            (v_proj): Linear(in_features=768, out_features=768, bias=True)\n",
      "            (q_proj): Linear(in_features=768, out_features=768, bias=True)\n",
      "            (out_proj): Linear(in_features=768, out_features=768, bias=True)\n",
      "          )\n",
      "          (encoder_attn_layer_norm): LayerNorm((768,), eps=1e-05, elementwise_affine=True)\n",
      "          (fc1): Linear(in_features=768, out_features=3072, bias=True)\n",
      "          (fc2): Linear(in_features=3072, out_features=768, bias=True)\n",
      "          (final_layer_norm): LayerNorm((768,), eps=1e-05, elementwise_affine=True)\n",
      "        )\n",
      "      )\n",
      "      (layernorm_embedding): LayerNorm((768,), eps=1e-05, elementwise_affine=True)\n",
      "    )\n",
      "  )\n",
      "  (out): Linear(in_features=768, out_features=14873, bias=True)\n",
      ")\n",
      "====================================================\n",
      "/kaggle/input/2-ds-noise-vi-and-vi-word-level-not-share-token/tokenizer/tokenizer_src.json\n",
      "/kaggle/input/2-ds-noise-vi-and-vi-word-level-not-share-token/tokenizer/tokenizer_tgt.json\n",
      "Read tokenizer successfully\n",
      "Check tokenizer src\n",
      "25000\n",
      "Check tokenizer tgt\n",
      "14873\n",
      "====================================\n",
      "Read dataset successfully\n",
      "Train dataset\n",
      "                                            noise_vi  \\\n",
      "0  vì , đây không phải la nột danh sách nhạc hoặc...   \n",
      "1  chúng ta không thể nuôi cấy đủ số lượng tế bào...   \n",
      "2  trên đùờng tới sân bay , nếu bạn cầm chiếc vé ...   \n",
      "3  nhưng sự thực nà chúng ta biết rất mhiều về nh...   \n",
      "4  nhung điều thú vị dề cuốn thánh kinh guttenber...   \n",
      "\n",
      "                                                  vi  \n",
      "0  vì vậy , đây không phải là một danh sách nhạc ...  \n",
      "1  chúng ta không thể nuôi cấy đủ số lượng tế bào...  \n",
      "2  trên đường tới sân bay , nếu bạn cầm chiếc vé ...  \n",
      "3  nhưng sự thực là chúng ta biết rất nhiều về nh...  \n",
      "4  nhưng điều thú vị về cuốn thánh kinh guttenber...  \n",
      "Val dataset\n",
      "                                            noise_vi  \\\n",
      "0  that ra , tôi chụa cho các bạn sem , nhưng đây...   \n",
      "1  vấn đề với mật độ vú chính lằ nó thật sự là co...   \n",
      "2  còn đâv là một chiếc ghế ká nhiều chuyện và dà...   \n",
      "3  đã xuất hiện những xác nhận yề sự hăm doạ ở nh...   \n",
      "4  trong thực tế , nó có thể là thứ rất nhiều bậc...   \n",
      "\n",
      "                                                  vi  \n",
      "0  thật ra , tôi chưa cho các bạn xem , nhưng đây...  \n",
      "1  vấn đề với mật độ vú chính là nó thật sự là co...  \n",
      "2  còn đây là một chiếc ghế khá nhiều chuyện và d...  \n",
      "3  đã xuất hiện những xác nhận về sự hăm doạ ở nh...  \n",
      "4  trong thực tế , nó có thể là thứ rất nhiều bậc...  \n",
      "Test dataset\n",
      "                    noise_vi                        vi\n",
      "0    cái tật sạo không bỏ    cái tật xạo không bỏ\n",
      "1           chen nhau đặc vé          chen nhau đặt vé\n",
      "2        cái ông lầy nàm thơ       cái ông này làm thơ\n",
      "3  sài lu không ăn thua gì  xài lu không ăn thua gì\n",
      "4      người hiểu xẽ nhìn ra     người hiểu sẽ nhìn ra\n",
      "====================================\n",
      "Get dataloader successfully\n",
      "No model to preload, start training from scratch\n",
      "/kaggle/input/2-ds-noise-vi-and-vi-word-level-not-share-token/tokenizer/tokenizer_src.json\n",
      "/kaggle/input/2-ds-noise-vi-and-vi-word-level-not-share-token/tokenizer/tokenizer_tgt.json\n",
      "Read tokenizer successfully\n",
      "Check tokenizer src\n",
      "25000\n",
      "Check tokenizer tgt\n",
      "14873\n",
      "====================================\n",
      "Read dataset successfully\n",
      "Train dataset\n",
      "                                            noise_vi  \\\n",
      "0  vì , đây không phải la nột danh sách nhạc hoặc...   \n",
      "1  chúng ta không thể nuôi cấy đủ số lượng tế bào...   \n",
      "2  trên đùờng tới sân bay , nếu bạn cầm chiếc vé ...   \n",
      "3  nhưng sự thực nà chúng ta biết rất mhiều về nh...   \n",
      "4  nhung điều thú vị dề cuốn thánh kinh guttenber...   \n",
      "\n",
      "                                                  vi  \n",
      "0  vì vậy , đây không phải là một danh sách nhạc ...  \n",
      "1  chúng ta không thể nuôi cấy đủ số lượng tế bào...  \n",
      "2  trên đường tới sân bay , nếu bạn cầm chiếc vé ...  \n",
      "3  nhưng sự thực là chúng ta biết rất nhiều về nh...  \n",
      "4  nhưng điều thú vị về cuốn thánh kinh guttenber...  \n",
      "Val dataset\n",
      "                                            noise_vi  \\\n",
      "0  that ra , tôi chụa cho các bạn sem , nhưng đây...   \n",
      "1  vấn đề với mật độ vú chính lằ nó thật sự là co...   \n",
      "2  còn đâv là một chiếc ghế ká nhiều chuyện và dà...   \n",
      "3  đã xuất hiện những xác nhận yề sự hăm doạ ở nh...   \n",
      "4  trong thực tế , nó có thể là thứ rất nhiều bậc...   \n",
      "\n",
      "                                                  vi  \n",
      "0  thật ra , tôi chưa cho các bạn xem , nhưng đây...  \n",
      "1  vấn đề với mật độ vú chính là nó thật sự là co...  \n",
      "2  còn đây là một chiếc ghế khá nhiều chuyện và d...  \n",
      "3  đã xuất hiện những xác nhận về sự hăm doạ ở nh...  \n",
      "4  trong thực tế , nó có thể là thứ rất nhiều bậc...  \n",
      "Test dataset\n",
      "                    noise_vi                        vi\n",
      "0    cái tật sạo không bỏ    cái tật xạo không bỏ\n",
      "1           chen nhau đặc vé          chen nhau đặt vé\n",
      "2        cái ông lầy nàm thơ       cái ông này làm thơ\n",
      "3  sài lu không ăn thua gì  xài lu không ăn thua gì\n",
      "4      người hiểu xẽ nhìn ra     người hiểu sẽ nhìn ra\n",
      "====================================\n",
      "Get dataloader successfully\n"
     ]
    },
    {
     "name": "stderr",
     "output_type": "stream",
     "text": [
      "Trainning:  24%|██▍       | 1499/6257 [07:34<24:01,  3.30it/s, loss=1.645, global_step=0000001499]\n",
      "Validating: 100%|██████████| 696/696 [01:09<00:00, 10.07it/s, loss=2.792, global_step=0000001500]\n"
     ]
    },
    {
     "name": "stdout",
     "output_type": "stream",
     "text": [
      "/kaggle/input/2-ds-noise-vi-and-vi-word-level-not-share-token/tokenizer/tokenizer_src.json\n",
      "/kaggle/input/2-ds-noise-vi-and-vi-word-level-not-share-token/tokenizer/tokenizer_tgt.json\n",
      "Read tokenizer successfully\n",
      "Check tokenizer src\n",
      "25000\n",
      "Check tokenizer tgt\n",
      "14873\n",
      "====================================\n",
      "Read dataset successfully\n",
      "Train dataset\n",
      "                                            noise_vi  \\\n",
      "0  vì , đây không phải la nột danh sách nhạc hoặc...   \n",
      "1  chúng ta không thể nuôi cấy đủ số lượng tế bào...   \n",
      "2  trên đùờng tới sân bay , nếu bạn cầm chiếc vé ...   \n",
      "3  nhưng sự thực nà chúng ta biết rất mhiều về nh...   \n",
      "4  nhung điều thú vị dề cuốn thánh kinh guttenber...   \n",
      "\n",
      "                                                  vi  \n",
      "0  vì vậy , đây không phải là một danh sách nhạc ...  \n",
      "1  chúng ta không thể nuôi cấy đủ số lượng tế bào...  \n",
      "2  trên đường tới sân bay , nếu bạn cầm chiếc vé ...  \n",
      "3  nhưng sự thực là chúng ta biết rất nhiều về nh...  \n",
      "4  nhưng điều thú vị về cuốn thánh kinh guttenber...  \n",
      "Val dataset\n",
      "                                            noise_vi  \\\n",
      "0  that ra , tôi chụa cho các bạn sem , nhưng đây...   \n",
      "1  vấn đề với mật độ vú chính lằ nó thật sự là co...   \n",
      "2  còn đâv là một chiếc ghế ká nhiều chuyện và dà...   \n",
      "3  đã xuất hiện những xác nhận yề sự hăm doạ ở nh...   \n",
      "4  trong thực tế , nó có thể là thứ rất nhiều bậc...   \n",
      "\n",
      "                                                  vi  \n",
      "0  thật ra , tôi chưa cho các bạn xem , nhưng đây...  \n",
      "1  vấn đề với mật độ vú chính là nó thật sự là co...  \n",
      "2  còn đây là một chiếc ghế khá nhiều chuyện và d...  \n",
      "3  đã xuất hiện những xác nhận về sự hăm doạ ở nh...  \n",
      "4  trong thực tế , nó có thể là thứ rất nhiều bậc...  \n",
      "Test dataset\n",
      "                    noise_vi                        vi\n",
      "0    cái tật sạo không bỏ    cái tật xạo không bỏ\n",
      "1           chen nhau đặc vé          chen nhau đặt vé\n",
      "2        cái ông lầy nàm thơ       cái ông này làm thơ\n",
      "3  sài lu không ăn thua gì  xài lu không ăn thua gì\n",
      "4      người hiểu xẽ nhìn ra     người hiểu sẽ nhìn ra\n",
      "====================================\n",
      "Get dataloader successfully\n"
     ]
    },
    {
     "name": "stderr",
     "output_type": "stream",
     "text": [
      "Trainning:  24%|██▍       | 1499/6257 [07:36<24:08,  3.28it/s, loss=0.705, global_step=0000002999]\n",
      "Validating: 100%|██████████| 696/696 [01:09<00:00, 10.04it/s, loss=1.633, global_step=0000003000]\n"
     ]
    },
    {
     "name": "stdout",
     "output_type": "stream",
     "text": [
      "/kaggle/input/2-ds-noise-vi-and-vi-word-level-not-share-token/tokenizer/tokenizer_src.json\n",
      "/kaggle/input/2-ds-noise-vi-and-vi-word-level-not-share-token/tokenizer/tokenizer_tgt.json\n",
      "Read tokenizer successfully\n",
      "Check tokenizer src\n",
      "25000\n",
      "Check tokenizer tgt\n",
      "14873\n",
      "====================================\n",
      "Read dataset successfully\n",
      "Train dataset\n",
      "                                            noise_vi  \\\n",
      "0  vì , đây không phải la nột danh sách nhạc hoặc...   \n",
      "1  chúng ta không thể nuôi cấy đủ số lượng tế bào...   \n",
      "2  trên đùờng tới sân bay , nếu bạn cầm chiếc vé ...   \n",
      "3  nhưng sự thực nà chúng ta biết rất mhiều về nh...   \n",
      "4  nhung điều thú vị dề cuốn thánh kinh guttenber...   \n",
      "\n",
      "                                                  vi  \n",
      "0  vì vậy , đây không phải là một danh sách nhạc ...  \n",
      "1  chúng ta không thể nuôi cấy đủ số lượng tế bào...  \n",
      "2  trên đường tới sân bay , nếu bạn cầm chiếc vé ...  \n",
      "3  nhưng sự thực là chúng ta biết rất nhiều về nh...  \n",
      "4  nhưng điều thú vị về cuốn thánh kinh guttenber...  \n",
      "Val dataset\n",
      "                                            noise_vi  \\\n",
      "0  that ra , tôi chụa cho các bạn sem , nhưng đây...   \n",
      "1  vấn đề với mật độ vú chính lằ nó thật sự là co...   \n",
      "2  còn đâv là một chiếc ghế ká nhiều chuyện và dà...   \n",
      "3  đã xuất hiện những xác nhận yề sự hăm doạ ở nh...   \n",
      "4  trong thực tế , nó có thể là thứ rất nhiều bậc...   \n",
      "\n",
      "                                                  vi  \n",
      "0  thật ra , tôi chưa cho các bạn xem , nhưng đây...  \n",
      "1  vấn đề với mật độ vú chính là nó thật sự là co...  \n",
      "2  còn đây là một chiếc ghế khá nhiều chuyện và d...  \n",
      "3  đã xuất hiện những xác nhận về sự hăm doạ ở nh...  \n",
      "4  trong thực tế , nó có thể là thứ rất nhiều bậc...  \n",
      "Test dataset\n",
      "                    noise_vi                        vi\n",
      "0    cái tật sạo không bỏ    cái tật xạo không bỏ\n",
      "1           chen nhau đặc vé          chen nhau đặt vé\n",
      "2        cái ông lầy nàm thơ       cái ông này làm thơ\n",
      "3  sài lu không ăn thua gì  xài lu không ăn thua gì\n",
      "4      người hiểu xẽ nhìn ra     người hiểu sẽ nhìn ra\n",
      "====================================\n",
      "Get dataloader successfully\n"
     ]
    },
    {
     "name": "stderr",
     "output_type": "stream",
     "text": [
      "Trainning:  24%|██▍       | 1499/6257 [07:29<23:48,  3.33it/s, loss=0.737, global_step=0000004499]\n",
      "Validating: 100%|██████████| 696/696 [01:09<00:00, 10.01it/s, loss=0.684, global_step=0000004500]\n"
     ]
    },
    {
     "name": "stdout",
     "output_type": "stream",
     "text": [
      "/kaggle/input/2-ds-noise-vi-and-vi-word-level-not-share-token/tokenizer/tokenizer_src.json\n",
      "/kaggle/input/2-ds-noise-vi-and-vi-word-level-not-share-token/tokenizer/tokenizer_tgt.json\n",
      "Read tokenizer successfully\n",
      "Check tokenizer src\n",
      "25000\n",
      "Check tokenizer tgt\n",
      "14873\n",
      "====================================\n",
      "Read dataset successfully\n",
      "Train dataset\n",
      "                                            noise_vi  \\\n",
      "0  vì , đây không phải la nột danh sách nhạc hoặc...   \n",
      "1  chúng ta không thể nuôi cấy đủ số lượng tế bào...   \n",
      "2  trên đùờng tới sân bay , nếu bạn cầm chiếc vé ...   \n",
      "3  nhưng sự thực nà chúng ta biết rất mhiều về nh...   \n",
      "4  nhung điều thú vị dề cuốn thánh kinh guttenber...   \n",
      "\n",
      "                                                  vi  \n",
      "0  vì vậy , đây không phải là một danh sách nhạc ...  \n",
      "1  chúng ta không thể nuôi cấy đủ số lượng tế bào...  \n",
      "2  trên đường tới sân bay , nếu bạn cầm chiếc vé ...  \n",
      "3  nhưng sự thực là chúng ta biết rất nhiều về nh...  \n",
      "4  nhưng điều thú vị về cuốn thánh kinh guttenber...  \n",
      "Val dataset\n",
      "                                            noise_vi  \\\n",
      "0  that ra , tôi chụa cho các bạn sem , nhưng đây...   \n",
      "1  vấn đề với mật độ vú chính lằ nó thật sự là co...   \n",
      "2  còn đâv là một chiếc ghế ká nhiều chuyện và dà...   \n",
      "3  đã xuất hiện những xác nhận yề sự hăm doạ ở nh...   \n",
      "4  trong thực tế , nó có thể là thứ rất nhiều bậc...   \n",
      "\n",
      "                                                  vi  \n",
      "0  thật ra , tôi chưa cho các bạn xem , nhưng đây...  \n",
      "1  vấn đề với mật độ vú chính là nó thật sự là co...  \n",
      "2  còn đây là một chiếc ghế khá nhiều chuyện và d...  \n",
      "3  đã xuất hiện những xác nhận về sự hăm doạ ở nh...  \n",
      "4  trong thực tế , nó có thể là thứ rất nhiều bậc...  \n",
      "Test dataset\n",
      "                    noise_vi                        vi\n",
      "0    cái tật sạo không bỏ    cái tật xạo không bỏ\n",
      "1           chen nhau đặc vé          chen nhau đặt vé\n",
      "2        cái ông lầy nàm thơ       cái ông này làm thơ\n",
      "3  sài lu không ăn thua gì  xài lu không ăn thua gì\n",
      "4      người hiểu xẽ nhìn ra     người hiểu sẽ nhìn ra\n",
      "====================================\n",
      "Get dataloader successfully\n"
     ]
    },
    {
     "name": "stderr",
     "output_type": "stream",
     "text": [
      "Trainning:  24%|██▍       | 1499/6257 [07:33<23:59,  3.31it/s, loss=0.726, global_step=0000005999]\n",
      "Validating: 100%|██████████| 696/696 [01:09<00:00,  9.95it/s, loss=0.680, global_step=0000006000]\n"
     ]
    },
    {
     "name": "stdout",
     "output_type": "stream",
     "text": [
      "/kaggle/input/2-ds-noise-vi-and-vi-word-level-not-share-token/tokenizer/tokenizer_src.json\n",
      "/kaggle/input/2-ds-noise-vi-and-vi-word-level-not-share-token/tokenizer/tokenizer_tgt.json\n",
      "Read tokenizer successfully\n",
      "Check tokenizer src\n",
      "25000\n",
      "Check tokenizer tgt\n",
      "14873\n",
      "====================================\n",
      "Read dataset successfully\n",
      "Train dataset\n",
      "                                            noise_vi  \\\n",
      "0  vì , đây không phải la nột danh sách nhạc hoặc...   \n",
      "1  chúng ta không thể nuôi cấy đủ số lượng tế bào...   \n",
      "2  trên đùờng tới sân bay , nếu bạn cầm chiếc vé ...   \n",
      "3  nhưng sự thực nà chúng ta biết rất mhiều về nh...   \n",
      "4  nhung điều thú vị dề cuốn thánh kinh guttenber...   \n",
      "\n",
      "                                                  vi  \n",
      "0  vì vậy , đây không phải là một danh sách nhạc ...  \n",
      "1  chúng ta không thể nuôi cấy đủ số lượng tế bào...  \n",
      "2  trên đường tới sân bay , nếu bạn cầm chiếc vé ...  \n",
      "3  nhưng sự thực là chúng ta biết rất nhiều về nh...  \n",
      "4  nhưng điều thú vị về cuốn thánh kinh guttenber...  \n",
      "Val dataset\n",
      "                                            noise_vi  \\\n",
      "0  that ra , tôi chụa cho các bạn sem , nhưng đây...   \n",
      "1  vấn đề với mật độ vú chính lằ nó thật sự là co...   \n",
      "2  còn đâv là một chiếc ghế ká nhiều chuyện và dà...   \n",
      "3  đã xuất hiện những xác nhận yề sự hăm doạ ở nh...   \n",
      "4  trong thực tế , nó có thể là thứ rất nhiều bậc...   \n",
      "\n",
      "                                                  vi  \n",
      "0  thật ra , tôi chưa cho các bạn xem , nhưng đây...  \n",
      "1  vấn đề với mật độ vú chính là nó thật sự là co...  \n",
      "2  còn đây là một chiếc ghế khá nhiều chuyện và d...  \n",
      "3  đã xuất hiện những xác nhận về sự hăm doạ ở nh...  \n",
      "4  trong thực tế , nó có thể là thứ rất nhiều bậc...  \n",
      "Test dataset\n",
      "                    noise_vi                        vi\n",
      "0    cái tật sạo không bỏ    cái tật xạo không bỏ\n",
      "1           chen nhau đặc vé          chen nhau đặt vé\n",
      "2        cái ông lầy nàm thơ       cái ông này làm thơ\n",
      "3  sài lu không ăn thua gì  xài lu không ăn thua gì\n",
      "4      người hiểu xẽ nhìn ra     người hiểu sẽ nhìn ra\n",
      "====================================\n",
      "Get dataloader successfully\n"
     ]
    },
    {
     "name": "stderr",
     "output_type": "stream",
     "text": [
      "Trainning:  24%|██▍       | 1499/6257 [07:32<23:55,  3.31it/s, loss=0.425, global_step=0000007499]\n",
      "Validating: 100%|██████████| 696/696 [01:09<00:00,  9.97it/s, loss=0.603, global_step=0000007500]\n"
     ]
    },
    {
     "name": "stdout",
     "output_type": "stream",
     "text": [
      "/kaggle/input/2-ds-noise-vi-and-vi-word-level-not-share-token/tokenizer/tokenizer_src.json\n",
      "/kaggle/input/2-ds-noise-vi-and-vi-word-level-not-share-token/tokenizer/tokenizer_tgt.json\n",
      "Read tokenizer successfully\n",
      "Check tokenizer src\n",
      "25000\n",
      "Check tokenizer tgt\n",
      "14873\n",
      "====================================\n",
      "Read dataset successfully\n",
      "Train dataset\n",
      "                                            noise_vi  \\\n",
      "0  vì , đây không phải la nột danh sách nhạc hoặc...   \n",
      "1  chúng ta không thể nuôi cấy đủ số lượng tế bào...   \n",
      "2  trên đùờng tới sân bay , nếu bạn cầm chiếc vé ...   \n",
      "3  nhưng sự thực nà chúng ta biết rất mhiều về nh...   \n",
      "4  nhung điều thú vị dề cuốn thánh kinh guttenber...   \n",
      "\n",
      "                                                  vi  \n",
      "0  vì vậy , đây không phải là một danh sách nhạc ...  \n",
      "1  chúng ta không thể nuôi cấy đủ số lượng tế bào...  \n",
      "2  trên đường tới sân bay , nếu bạn cầm chiếc vé ...  \n",
      "3  nhưng sự thực là chúng ta biết rất nhiều về nh...  \n",
      "4  nhưng điều thú vị về cuốn thánh kinh guttenber...  \n",
      "Val dataset\n",
      "                                            noise_vi  \\\n",
      "0  that ra , tôi chụa cho các bạn sem , nhưng đây...   \n",
      "1  vấn đề với mật độ vú chính lằ nó thật sự là co...   \n",
      "2  còn đâv là một chiếc ghế ká nhiều chuyện và dà...   \n",
      "3  đã xuất hiện những xác nhận yề sự hăm doạ ở nh...   \n",
      "4  trong thực tế , nó có thể là thứ rất nhiều bậc...   \n",
      "\n",
      "                                                  vi  \n",
      "0  thật ra , tôi chưa cho các bạn xem , nhưng đây...  \n",
      "1  vấn đề với mật độ vú chính là nó thật sự là co...  \n",
      "2  còn đây là một chiếc ghế khá nhiều chuyện và d...  \n",
      "3  đã xuất hiện những xác nhận về sự hăm doạ ở nh...  \n",
      "4  trong thực tế , nó có thể là thứ rất nhiều bậc...  \n",
      "Test dataset\n",
      "                    noise_vi                        vi\n",
      "0    cái tật sạo không bỏ    cái tật xạo không bỏ\n",
      "1           chen nhau đặc vé          chen nhau đặt vé\n",
      "2        cái ông lầy nàm thơ       cái ông này làm thơ\n",
      "3  sài lu không ăn thua gì  xài lu không ăn thua gì\n",
      "4      người hiểu xẽ nhìn ra     người hiểu sẽ nhìn ra\n",
      "====================================\n",
      "Get dataloader successfully\n"
     ]
    },
    {
     "name": "stderr",
     "output_type": "stream",
     "text": [
      "Trainning:  24%|██▍       | 1499/6257 [07:36<24:09,  3.28it/s, loss=0.516, global_step=0000008999]\n",
      "Validating: 100%|██████████| 696/696 [01:09<00:00,  9.96it/s, loss=0.653, global_step=0000009000]\n"
     ]
    },
    {
     "name": "stdout",
     "output_type": "stream",
     "text": [
      "/kaggle/input/2-ds-noise-vi-and-vi-word-level-not-share-token/tokenizer/tokenizer_src.json\n",
      "/kaggle/input/2-ds-noise-vi-and-vi-word-level-not-share-token/tokenizer/tokenizer_tgt.json\n",
      "Read tokenizer successfully\n",
      "Check tokenizer src\n",
      "25000\n",
      "Check tokenizer tgt\n",
      "14873\n",
      "====================================\n",
      "Read dataset successfully\n",
      "Train dataset\n",
      "                                            noise_vi  \\\n",
      "0  vì , đây không phải la nột danh sách nhạc hoặc...   \n",
      "1  chúng ta không thể nuôi cấy đủ số lượng tế bào...   \n",
      "2  trên đùờng tới sân bay , nếu bạn cầm chiếc vé ...   \n",
      "3  nhưng sự thực nà chúng ta biết rất mhiều về nh...   \n",
      "4  nhung điều thú vị dề cuốn thánh kinh guttenber...   \n",
      "\n",
      "                                                  vi  \n",
      "0  vì vậy , đây không phải là một danh sách nhạc ...  \n",
      "1  chúng ta không thể nuôi cấy đủ số lượng tế bào...  \n",
      "2  trên đường tới sân bay , nếu bạn cầm chiếc vé ...  \n",
      "3  nhưng sự thực là chúng ta biết rất nhiều về nh...  \n",
      "4  nhưng điều thú vị về cuốn thánh kinh guttenber...  \n",
      "Val dataset\n",
      "                                            noise_vi  \\\n",
      "0  that ra , tôi chụa cho các bạn sem , nhưng đây...   \n",
      "1  vấn đề với mật độ vú chính lằ nó thật sự là co...   \n",
      "2  còn đâv là một chiếc ghế ká nhiều chuyện và dà...   \n",
      "3  đã xuất hiện những xác nhận yề sự hăm doạ ở nh...   \n",
      "4  trong thực tế , nó có thể là thứ rất nhiều bậc...   \n",
      "\n",
      "                                                  vi  \n",
      "0  thật ra , tôi chưa cho các bạn xem , nhưng đây...  \n",
      "1  vấn đề với mật độ vú chính là nó thật sự là co...  \n",
      "2  còn đây là một chiếc ghế khá nhiều chuyện và d...  \n",
      "3  đã xuất hiện những xác nhận về sự hăm doạ ở nh...  \n",
      "4  trong thực tế , nó có thể là thứ rất nhiều bậc...  \n",
      "Test dataset\n",
      "                    noise_vi                        vi\n",
      "0    cái tật sạo không bỏ    cái tật xạo không bỏ\n",
      "1           chen nhau đặc vé          chen nhau đặt vé\n",
      "2        cái ông lầy nàm thơ       cái ông này làm thơ\n",
      "3  sài lu không ăn thua gì  xài lu không ăn thua gì\n",
      "4      người hiểu xẽ nhìn ra     người hiểu sẽ nhìn ra\n",
      "====================================\n",
      "Get dataloader successfully\n"
     ]
    },
    {
     "name": "stderr",
     "output_type": "stream",
     "text": [
      "Trainning:  24%|██▍       | 1499/6257 [07:31<23:54,  3.32it/s, loss=0.324, global_step=0000010499]\n",
      "Validating: 100%|██████████| 696/696 [01:09<00:00,  9.97it/s, loss=0.503, global_step=0000010500]\n"
     ]
    },
    {
     "name": "stdout",
     "output_type": "stream",
     "text": [
      "/kaggle/input/2-ds-noise-vi-and-vi-word-level-not-share-token/tokenizer/tokenizer_src.json\n",
      "/kaggle/input/2-ds-noise-vi-and-vi-word-level-not-share-token/tokenizer/tokenizer_tgt.json\n",
      "Read tokenizer successfully\n",
      "Check tokenizer src\n",
      "25000\n",
      "Check tokenizer tgt\n",
      "14873\n",
      "====================================\n",
      "Read dataset successfully\n",
      "Train dataset\n",
      "                                            noise_vi  \\\n",
      "0  vì , đây không phải la nột danh sách nhạc hoặc...   \n",
      "1  chúng ta không thể nuôi cấy đủ số lượng tế bào...   \n",
      "2  trên đùờng tới sân bay , nếu bạn cầm chiếc vé ...   \n",
      "3  nhưng sự thực nà chúng ta biết rất mhiều về nh...   \n",
      "4  nhung điều thú vị dề cuốn thánh kinh guttenber...   \n",
      "\n",
      "                                                  vi  \n",
      "0  vì vậy , đây không phải là một danh sách nhạc ...  \n",
      "1  chúng ta không thể nuôi cấy đủ số lượng tế bào...  \n",
      "2  trên đường tới sân bay , nếu bạn cầm chiếc vé ...  \n",
      "3  nhưng sự thực là chúng ta biết rất nhiều về nh...  \n",
      "4  nhưng điều thú vị về cuốn thánh kinh guttenber...  \n",
      "Val dataset\n",
      "                                            noise_vi  \\\n",
      "0  that ra , tôi chụa cho các bạn sem , nhưng đây...   \n",
      "1  vấn đề với mật độ vú chính lằ nó thật sự là co...   \n",
      "2  còn đâv là một chiếc ghế ká nhiều chuyện và dà...   \n",
      "3  đã xuất hiện những xác nhận yề sự hăm doạ ở nh...   \n",
      "4  trong thực tế , nó có thể là thứ rất nhiều bậc...   \n",
      "\n",
      "                                                  vi  \n",
      "0  thật ra , tôi chưa cho các bạn xem , nhưng đây...  \n",
      "1  vấn đề với mật độ vú chính là nó thật sự là co...  \n",
      "2  còn đây là một chiếc ghế khá nhiều chuyện và d...  \n",
      "3  đã xuất hiện những xác nhận về sự hăm doạ ở nh...  \n",
      "4  trong thực tế , nó có thể là thứ rất nhiều bậc...  \n",
      "Test dataset\n",
      "                    noise_vi                        vi\n",
      "0    cái tật sạo không bỏ    cái tật xạo không bỏ\n",
      "1           chen nhau đặc vé          chen nhau đặt vé\n",
      "2        cái ông lầy nàm thơ       cái ông này làm thơ\n",
      "3  sài lu không ăn thua gì  xài lu không ăn thua gì\n",
      "4      người hiểu xẽ nhìn ra     người hiểu sẽ nhìn ra\n",
      "====================================\n",
      "Get dataloader successfully\n"
     ]
    },
    {
     "name": "stderr",
     "output_type": "stream",
     "text": [
      "Trainning:  24%|██▍       | 1499/6257 [07:33<23:59,  3.31it/s, loss=0.421, global_step=0000011999]\n",
      "Validating: 100%|██████████| 696/696 [01:09<00:00,  9.99it/s, loss=0.436, global_step=0000012000]\n"
     ]
    },
    {
     "name": "stdout",
     "output_type": "stream",
     "text": [
      "/kaggle/input/2-ds-noise-vi-and-vi-word-level-not-share-token/tokenizer/tokenizer_src.json\n",
      "/kaggle/input/2-ds-noise-vi-and-vi-word-level-not-share-token/tokenizer/tokenizer_tgt.json\n",
      "Read tokenizer successfully\n",
      "Check tokenizer src\n",
      "25000\n",
      "Check tokenizer tgt\n",
      "14873\n",
      "====================================\n",
      "Read dataset successfully\n",
      "Train dataset\n",
      "                                            noise_vi  \\\n",
      "0  vì , đây không phải la nột danh sách nhạc hoặc...   \n",
      "1  chúng ta không thể nuôi cấy đủ số lượng tế bào...   \n",
      "2  trên đùờng tới sân bay , nếu bạn cầm chiếc vé ...   \n",
      "3  nhưng sự thực nà chúng ta biết rất mhiều về nh...   \n",
      "4  nhung điều thú vị dề cuốn thánh kinh guttenber...   \n",
      "\n",
      "                                                  vi  \n",
      "0  vì vậy , đây không phải là một danh sách nhạc ...  \n",
      "1  chúng ta không thể nuôi cấy đủ số lượng tế bào...  \n",
      "2  trên đường tới sân bay , nếu bạn cầm chiếc vé ...  \n",
      "3  nhưng sự thực là chúng ta biết rất nhiều về nh...  \n",
      "4  nhưng điều thú vị về cuốn thánh kinh guttenber...  \n",
      "Val dataset\n",
      "                                            noise_vi  \\\n",
      "0  that ra , tôi chụa cho các bạn sem , nhưng đây...   \n",
      "1  vấn đề với mật độ vú chính lằ nó thật sự là co...   \n",
      "2  còn đâv là một chiếc ghế ká nhiều chuyện và dà...   \n",
      "3  đã xuất hiện những xác nhận yề sự hăm doạ ở nh...   \n",
      "4  trong thực tế , nó có thể là thứ rất nhiều bậc...   \n",
      "\n",
      "                                                  vi  \n",
      "0  thật ra , tôi chưa cho các bạn xem , nhưng đây...  \n",
      "1  vấn đề với mật độ vú chính là nó thật sự là co...  \n",
      "2  còn đây là một chiếc ghế khá nhiều chuyện và d...  \n",
      "3  đã xuất hiện những xác nhận về sự hăm doạ ở nh...  \n",
      "4  trong thực tế , nó có thể là thứ rất nhiều bậc...  \n",
      "Test dataset\n",
      "                    noise_vi                        vi\n",
      "0    cái tật sạo không bỏ    cái tật xạo không bỏ\n",
      "1           chen nhau đặc vé          chen nhau đặt vé\n",
      "2        cái ông lầy nàm thơ       cái ông này làm thơ\n",
      "3  sài lu không ăn thua gì  xài lu không ăn thua gì\n",
      "4      người hiểu xẽ nhìn ra     người hiểu sẽ nhìn ra\n",
      "====================================\n",
      "Get dataloader successfully\n"
     ]
    },
    {
     "name": "stderr",
     "output_type": "stream",
     "text": [
      "Trainning:  24%|██▍       | 1499/6257 [07:33<24:00,  3.30it/s, loss=0.399, global_step=0000013499]\n",
      "Validating: 100%|██████████| 696/696 [01:09<00:00,  9.98it/s, loss=0.553, global_step=0000013500]\n"
     ]
    },
    {
     "name": "stdout",
     "output_type": "stream",
     "text": [
      "/kaggle/input/2-ds-noise-vi-and-vi-word-level-not-share-token/tokenizer/tokenizer_src.json\n",
      "/kaggle/input/2-ds-noise-vi-and-vi-word-level-not-share-token/tokenizer/tokenizer_tgt.json\n",
      "Read tokenizer successfully\n",
      "Check tokenizer src\n",
      "25000\n",
      "Check tokenizer tgt\n",
      "14873\n",
      "====================================\n",
      "Read dataset successfully\n",
      "Train dataset\n",
      "                                            noise_vi  \\\n",
      "0  vì , đây không phải la nột danh sách nhạc hoặc...   \n",
      "1  chúng ta không thể nuôi cấy đủ số lượng tế bào...   \n",
      "2  trên đùờng tới sân bay , nếu bạn cầm chiếc vé ...   \n",
      "3  nhưng sự thực nà chúng ta biết rất mhiều về nh...   \n",
      "4  nhung điều thú vị dề cuốn thánh kinh guttenber...   \n",
      "\n",
      "                                                  vi  \n",
      "0  vì vậy , đây không phải là một danh sách nhạc ...  \n",
      "1  chúng ta không thể nuôi cấy đủ số lượng tế bào...  \n",
      "2  trên đường tới sân bay , nếu bạn cầm chiếc vé ...  \n",
      "3  nhưng sự thực là chúng ta biết rất nhiều về nh...  \n",
      "4  nhưng điều thú vị về cuốn thánh kinh guttenber...  \n",
      "Val dataset\n",
      "                                            noise_vi  \\\n",
      "0  that ra , tôi chụa cho các bạn sem , nhưng đây...   \n",
      "1  vấn đề với mật độ vú chính lằ nó thật sự là co...   \n",
      "2  còn đâv là một chiếc ghế ká nhiều chuyện và dà...   \n",
      "3  đã xuất hiện những xác nhận yề sự hăm doạ ở nh...   \n",
      "4  trong thực tế , nó có thể là thứ rất nhiều bậc...   \n",
      "\n",
      "                                                  vi  \n",
      "0  thật ra , tôi chưa cho các bạn xem , nhưng đây...  \n",
      "1  vấn đề với mật độ vú chính là nó thật sự là co...  \n",
      "2  còn đây là một chiếc ghế khá nhiều chuyện và d...  \n",
      "3  đã xuất hiện những xác nhận về sự hăm doạ ở nh...  \n",
      "4  trong thực tế , nó có thể là thứ rất nhiều bậc...  \n",
      "Test dataset\n",
      "                    noise_vi                        vi\n",
      "0    cái tật sạo không bỏ    cái tật xạo không bỏ\n",
      "1           chen nhau đặc vé          chen nhau đặt vé\n",
      "2        cái ông lầy nàm thơ       cái ông này làm thơ\n",
      "3  sài lu không ăn thua gì  xài lu không ăn thua gì\n",
      "4      người hiểu xẽ nhìn ra     người hiểu sẽ nhìn ra\n",
      "====================================\n",
      "Get dataloader successfully\n"
     ]
    },
    {
     "name": "stderr",
     "output_type": "stream",
     "text": [
      "Trainning:  24%|██▍       | 1499/6257 [07:33<23:58,  3.31it/s, loss=0.403, global_step=0000014999]\n",
      "Validating: 100%|██████████| 696/696 [01:09<00:00,  9.99it/s, loss=0.460, global_step=0000015000]\n"
     ]
    },
    {
     "name": "stdout",
     "output_type": "stream",
     "text": [
      "Saved model at /kaggle/working/model/model_0000015000.pt\n",
      "Saved config at /kaggle/working/model/config_0000015000.json\n"
     ]
    },
    {
     "data": {
      "image/png": "[encoded data removed]",
      "text/plain": [
       "<Figure size 640x480 with 1 Axes>"
      ]
     },
     "metadata": {},
     "output_type": "display_data"
    },
    {
     "data": {
      "image/png": "[encoded data removed]",
      "text/plain": [
       "<Figure size 640x480 with 1 Axes>"
      ]
     },
     "metadata": {},
     "output_type": "display_data"
    },
    {
     "data": {
      "image/png": "[encoded data removed]",
      "text/plain": [
       "<Figure size 640x480 with 1 Axes>"
      ]
     },
     "metadata": {},
     "output_type": "display_data"
    }
   ],
   "source": [
    "train.train(cf)"
   ]
  },
  {
   "cell_type": "code",
   "execution_count": 5,
   "id": "68ab68a9",
   "metadata": {
    "execution": {
     "iopub.execute_input": "2024-05-20T05:47:12.187792Z",
     "iopub.status.busy": "2024-05-20T05:47:12.187042Z",
     "iopub.status.idle": "2024-05-20T05:54:37.351719Z",
     "shell.execute_reply": "2024-05-20T05:54:37.350623Z"
    },
    "papermill": {
     "duration": 448.68169,
     "end_time": "2024-05-20T05:54:37.353705",
     "exception": false,
     "start_time": "2024-05-20T05:47:08.672015",
     "status": "completed"
    },
    "tags": []
   },
   "outputs": [
    {
     "name": "stdout",
     "output_type": "stream",
     "text": [
      "/kaggle/input/2-ds-noise-vi-and-vi-word-level-not-share-token/tokenizer/tokenizer_src.json\n",
      "/kaggle/input/2-ds-noise-vi-and-vi-word-level-not-share-token/tokenizer/tokenizer_tgt.json\n",
      "Read tokenizer successfully\n",
      "Check tokenizer src\n",
      "25000\n",
      "Check tokenizer tgt\n",
      "14873\n",
      "====================================\n",
      "/kaggle/input/2-ds-noise-vi-and-vi-word-level-not-share-token/tokenizer/tokenizer_src.json\n",
      "/kaggle/input/2-ds-noise-vi-and-vi-word-level-not-share-token/tokenizer/tokenizer_tgt.json\n",
      "Read tokenizer successfully\n",
      "Check tokenizer src\n",
      "25000\n",
      "Check tokenizer tgt\n",
      "14873\n",
      "====================================\n",
      "Read dataset successfully\n",
      "Train dataset\n",
      "                                            noise_vi  \\\n",
      "0  vì , đây không phải la nột danh sách nhạc hoặc...   \n",
      "1  chúng ta không thể nuôi cấy đủ số lượng tế bào...   \n",
      "2  trên đùờng tới sân bay , nếu bạn cầm chiếc vé ...   \n",
      "3  nhưng sự thực nà chúng ta biết rất mhiều về nh...   \n",
      "4  nhung điều thú vị dề cuốn thánh kinh guttenber...   \n",
      "\n",
      "                                                  vi  \n",
      "0  vì vậy , đây không phải là một danh sách nhạc ...  \n",
      "1  chúng ta không thể nuôi cấy đủ số lượng tế bào...  \n",
      "2  trên đường tới sân bay , nếu bạn cầm chiếc vé ...  \n",
      "3  nhưng sự thực là chúng ta biết rất nhiều về nh...  \n",
      "4  nhưng điều thú vị về cuốn thánh kinh guttenber...  \n",
      "Val dataset\n",
      "                                            noise_vi  \\\n",
      "0  that ra , tôi chụa cho các bạn sem , nhưng đây...   \n",
      "1  vấn đề với mật độ vú chính lằ nó thật sự là co...   \n",
      "2  còn đâv là một chiếc ghế ká nhiều chuyện và dà...   \n",
      "3  đã xuất hiện những xác nhận yề sự hăm doạ ở nh...   \n",
      "4  trong thực tế , nó có thể là thứ rất nhiều bậc...   \n",
      "\n",
      "                                                  vi  \n",
      "0  thật ra , tôi chưa cho các bạn xem , nhưng đây...  \n",
      "1  vấn đề với mật độ vú chính là nó thật sự là co...  \n",
      "2  còn đây là một chiếc ghế khá nhiều chuyện và d...  \n",
      "3  đã xuất hiện những xác nhận về sự hăm doạ ở nh...  \n",
      "4  trong thực tế , nó có thể là thứ rất nhiều bậc...  \n",
      "Test dataset\n",
      "                    noise_vi                        vi\n",
      "0    cái tật sạo không bỏ    cái tật xạo không bỏ\n",
      "1           chen nhau đặc vé          chen nhau đặt vé\n",
      "2        cái ông lầy nàm thơ       cái ông này làm thơ\n",
      "3  sài lu không ăn thua gì  xài lu không ăn thua gì\n",
      "4      người hiểu xẽ nhìn ra     người hiểu sẽ nhìn ra\n",
      "====================================\n",
      "Get dataloader successfully\n",
      "Check BART model with embedding\n",
      "CustomBartModelWithEmbedding(\n",
      "  (inputs_embeds): Embedding(25000, 768)\n",
      "  (decoder_inputs_embeds): Embedding(14873, 768)\n",
      "  (bart_model): BartModel(\n",
      "    (shared): Embedding(14873, 768, padding_idx=2)\n",
      "    (encoder): BartEncoder(\n",
      "      (embed_tokens): Embedding(14873, 768, padding_idx=2)\n",
      "      (embed_positions): BartLearnedPositionalEmbedding(102, 768)\n",
      "      (layers): ModuleList(\n",
      "        (0-5): 6 x BartEncoderLayer(\n",
      "          (self_attn): BartSdpaAttention(\n",
      "            (k_proj): Linear(in_features=768, out_features=768, bias=True)\n",
      "            (v_proj): Linear(in_features=768, out_features=768, bias=True)\n",
      "            (q_proj): Linear(in_features=768, out_features=768, bias=True)\n",
      "            (out_proj): Linear(in_features=768, out_features=768, bias=True)\n",
      "          )\n",
      "          (self_attn_layer_norm): LayerNorm((768,), eps=1e-05, elementwise_affine=True)\n",
      "          (activation_fn): GELUActivation()\n",
      "          (fc1): Linear(in_features=768, out_features=3072, bias=True)\n",
      "          (fc2): Linear(in_features=3072, out_features=768, bias=True)\n",
      "          (final_layer_norm): LayerNorm((768,), eps=1e-05, elementwise_affine=True)\n",
      "        )\n",
      "      )\n",
      "      (layernorm_embedding): LayerNorm((768,), eps=1e-05, elementwise_affine=True)\n",
      "    )\n",
      "    (decoder): BartDecoder(\n",
      "      (embed_tokens): Embedding(14873, 768, padding_idx=2)\n",
      "      (embed_positions): BartLearnedPositionalEmbedding(102, 768)\n",
      "      (layers): ModuleList(\n",
      "        (0-5): 6 x BartDecoderLayer(\n",
      "          (self_attn): BartSdpaAttention(\n",
      "            (k_proj): Linear(in_features=768, out_features=768, bias=True)\n",
      "            (v_proj): Linear(in_features=768, out_features=768, bias=True)\n",
      "            (q_proj): Linear(in_features=768, out_features=768, bias=True)\n",
      "            (out_proj): Linear(in_features=768, out_features=768, bias=True)\n",
      "          )\n",
      "          (activation_fn): GELUActivation()\n",
      "          (self_attn_layer_norm): LayerNorm((768,), eps=1e-05, elementwise_affine=True)\n",
      "          (encoder_attn): BartSdpaAttention(\n",
      "            (k_proj): Linear(in_features=768, out_features=768, bias=True)\n",
      "            (v_proj): Linear(in_features=768, out_features=768, bias=True)\n",
      "            (q_proj): Linear(in_features=768, out_features=768, bias=True)\n",
      "            (out_proj): Linear(in_features=768, out_features=768, bias=True)\n",
      "          )\n",
      "          (encoder_attn_layer_norm): LayerNorm((768,), eps=1e-05, elementwise_affine=True)\n",
      "          (fc1): Linear(in_features=768, out_features=3072, bias=True)\n",
      "          (fc2): Linear(in_features=3072, out_features=768, bias=True)\n",
      "          (final_layer_norm): LayerNorm((768,), eps=1e-05, elementwise_affine=True)\n",
      "        )\n",
      "      )\n",
      "      (layernorm_embedding): LayerNorm((768,), eps=1e-05, elementwise_affine=True)\n",
      "    )\n",
      "  )\n",
      "  (out): Linear(in_features=768, out_features=14873, bias=True)\n",
      ")\n",
      "====================================================\n",
      "Length val_dataloader:  3217\n",
      "/kaggle/input/2-ds-noise-vi-and-vi-word-level-not-share-token/tokenizer/tokenizer_src.json\n",
      "/kaggle/input/2-ds-noise-vi-and-vi-word-level-not-share-token/tokenizer/tokenizer_tgt.json\n",
      "Read tokenizer successfully\n",
      "Check tokenizer src\n",
      "25000\n",
      "Check tokenizer tgt\n",
      "14873\n",
      "====================================\n",
      "Vocab size:  14873\n"
     ]
    },
    {
     "name": "stderr",
     "output_type": "stream",
     "text": [
      "Testing model...:   5%|▍         | 159/3217 [00:14<04:36, 11.08it/s]"
     ]
    },
    {
     "name": "stdout",
     "output_type": "stream",
     "text": [
      "\n",
      "    SOURCE: sức mạnh đânh thắng kẻ xâm lược\n",
      "    TARGET: sức mạnh đánh thắng kẻ xâm lược\n",
      " PREDICTED: sức mạnh thắng thắng kẻ xâm lược\n",
      "TOKENS TARGET: [['sức', 'mạnh', 'đánh', 'thắng', 'kẻ', 'xâm', 'lược']]\n",
      "TOKENS PREDICTED: ['sức', 'mạnh', 'thắng', 'thắng', 'kẻ', 'xâm', 'lược']\n",
      "BLEU OF SENTENCE 160\n",
      "BLEU_1: 0.8571428656578064\n",
      "BLEU_2: 0.7559289932250977\n",
      "BLEU_3: 0.6114214062690735\n",
      "BLEU_4: 0.488923043012619\n",
      "label_ids = tensor([ 325,  344,  416,  928,  640, 1416, 1190], device='cuda:0')\n",
      "pred_ids = tensor([ 325,  344,  928,  928,  640, 1416, 1190], device='cuda:0')\n"
     ]
    },
    {
     "name": "stderr",
     "output_type": "stream",
     "text": [
      "Testing model...:   5%|▌         | 161/3217 [00:15<06:34,  7.75it/s]"
     ]
    },
    {
     "name": "stdout",
     "output_type": "stream",
     "text": [
      "recall = 0.8571429252624512\n",
      "precision = 0.7857142686843872\n",
      "f_05 = 0.7936508655548096\n"
     ]
    },
    {
     "name": "stderr",
     "output_type": "stream",
     "text": [
      "Testing model...:  10%|▉         | 319/3217 [00:29<04:04, 11.84it/s]"
     ]
    },
    {
     "name": "stdout",
     "output_type": "stream",
     "text": [
      "\n",
      "    SOURCE: ngài xẻ đầu tư xản suất mái bai , tầu dũ chụ\n",
      "    TARGET: ngài sẽ đầu tư sản xuất máy bay , tàu vũ trụ\n",
      " PREDICTED: ngài xẻ đầu tư sản xuất máy bay , kết vũ trụ\n",
      "TOKENS TARGET: [['ngài', 'sẽ', 'đầu', 'tư', 'sản', 'xuất', 'máy', 'bay', ',', 'tàu', 'vũ', 'trụ']]\n",
      "TOKENS PREDICTED: ['ngài', 'xẻ', 'đầu', 'tư', 'sản', 'xuất', 'máy', 'bay', ',', 'kết', 'vũ', 'trụ']\n",
      "BLEU OF SENTENCE 320\n",
      "BLEU_1: 0.8333333134651184\n",
      "BLEU_2: 0.7282190918922424\n",
      "BLEU_3: 0.6424382328987122\n",
      "BLEU_4: 0.585905909538269\n",
      "label_ids = tensor([1151,   37,   65,  376,  304,  293,  177,  443,    6,  802,  464,  563],\n",
      "       device='cuda:0')\n",
      "pred_ids = tensor([1151, 3018,   65,  376,  304,  293,  177,  443,    6,  164,  464,  563],\n",
      "       device='cuda:0')\n",
      "recall = 0.8333333730697632\n",
      "precision = 0.8333333730697632\n",
      "f_05 = 0.8333333730697632\n"
     ]
    },
    {
     "name": "stderr",
     "output_type": "stream",
     "text": [
      "Testing model...:  15%|█▍        | 481/3217 [00:47<06:37,  6.88it/s]"
     ]
    },
    {
     "name": "stdout",
     "output_type": "stream",
     "text": [
      "\n",
      "    SOURCE: thì trường có bán nên mình cũng ko có chế\n",
      "    TARGET: thị trường có bán nên mình cũng không có chế\n",
      " PREDICTED: thì trường có bán nên mình cũng ko có chế\n",
      "TOKENS TARGET: [['thị', 'trường', 'có', 'bán', 'nên', 'mình', 'cũng', 'không', 'có', 'chế']]\n",
      "TOKENS PREDICTED: ['thì', 'trường', 'có', 'bán', 'nên', 'mình', 'cũng', 'ko', 'có', 'chế']\n",
      "BLEU OF SENTENCE 480\n",
      "BLEU_1: 0.800000011920929\n",
      "BLEU_2: 0.730296790599823\n",
      "BLEU_3: 0.6436595916748047\n",
      "BLEU_4: 0.5814307332038879\n",
      "label_ids = tensor([414, 165,  10, 625,  85,  90,  81,  15,  10, 387], device='cuda:0')\n",
      "pred_ids = tensor([ 115,  165,   10,  625,   85,   90,   81, 1240,   10,  387],\n",
      "       device='cuda:0')\n",
      "recall = 0.800000011920929\n",
      "precision = 0.800000011920929\n",
      "f_05 = 0.800000011920929\n"
     ]
    },
    {
     "name": "stderr",
     "output_type": "stream",
     "text": [
      "Testing model...:  20%|█▉        | 641/3217 [01:09<05:52,  7.31it/s]"
     ]
    },
    {
     "name": "stdout",
     "output_type": "stream",
     "text": [
      "\n",
      "    SOURCE: mấy pác lanh quá . chắc cũng một đống người thích cỗ đặt gạch\n",
      "    TARGET: mấy bác lanh quá . chắc cũng một đống người thích cổ đặt gạch\n",
      " PREDICTED: mấy phác lạnh quá . chắc cũng một đống người thích có đặt gạch\n",
      "TOKENS TARGET: [['mấy', 'bác', 'lanh', 'quá', '.', 'chắc', 'cũng', 'một', 'đống', 'người', 'thích', 'cổ', 'đặt', 'gạch']]\n",
      "TOKENS PREDICTED: ['mấy', 'phác', 'lạnh', 'quá', '.', 'chắc', 'cũng', 'một', 'đống', 'người', 'thích', 'có', 'đặt', 'gạch']\n",
      "BLEU OF SENTENCE 640\n",
      "BLEU_1: 0.7857142686843872\n",
      "BLEU_2: 0.6953535079956055\n",
      "BLEU_3: 0.6229603886604309\n",
      "BLEU_4: 0.5757575631141663\n",
      "label_ids = tensor([ 901,  622, 3032,  207,    5,  413,   81,   11, 1230,   19,  198,  762,\n",
      "         303, 2174], device='cuda:0')\n",
      "pred_ids = tensor([ 901, 1925,  953,  207,    5,  413,   81,   11, 1230,   19,  198,   10,\n",
      "         303, 2174], device='cuda:0')\n",
      "recall = 0.7857142686843872\n",
      "precision = 0.7857142686843872\n",
      "f_05 = 0.7857142686843872\n"
     ]
    },
    {
     "name": "stderr",
     "output_type": "stream",
     "text": [
      "Testing model...:  25%|██▍       | 801/3217 [01:32<07:23,  5.45it/s]"
     ]
    },
    {
     "name": "stdout",
     "output_type": "stream",
     "text": [
      "\n",
      "    SOURCE: sao những lời nói khí nghe cứ xuất phát từ x nghe phát ói\n",
      "    TARGET: sao những lời nói khi nghe cứ xuất phát từ x nghe phát ói\n",
      " PREDICTED: sao những lời nói khi nghe cứ xuất phát từ x nghe phát triển\n",
      "TOKENS TARGET: [['sao', 'những', 'lời', 'nói', 'khi', 'nghe', 'cứ', 'xuất', 'phát', 'từ', 'x', 'nghe', 'phát', 'ói']]\n",
      "TOKENS PREDICTED: ['sao', 'những', 'lời', 'nói', 'khi', 'nghe', 'cứ', 'xuất', 'phát', 'từ', 'x', 'nghe', 'phát', 'triển']\n",
      "BLEU OF SENTENCE 800\n",
      "BLEU_1: 0.9285714030265808\n",
      "BLEU_2: 0.9258201122283936\n",
      "BLEU_3: 0.9227588176727295\n",
      "BLEU_4: 0.9193227291107178\n",
      "label_ids = tensor([ 132,   13,  273,   45,   42,  255,  313,  293,  151,   57, 1158,  255,\n",
      "         151, 9184], device='cuda:0')\n",
      "pred_ids = tensor([ 132,   13,  273,   45,   42,  255,  313,  293,  151,   57, 1158,  255,\n",
      "         151,  249], device='cuda:0')\n",
      "recall = 0.9285714626312256\n",
      "precision = 0.9285714626312256\n",
      "f_05 = 0.9285714626312256\n"
     ]
    },
    {
     "name": "stderr",
     "output_type": "stream",
     "text": [
      "Testing model...:  30%|██▉       | 960/3217 [01:50<04:56,  7.61it/s]"
     ]
    },
    {
     "name": "stdout",
     "output_type": "stream",
     "text": [
      "\n",
      "    SOURCE: còn gặp ông sài nhớt nhật của xe bãi từ 94 đến 2000 mới thay\n",
      "    TARGET: còn gặp ông xài nhớt nhật của xe bãi từ 94 đến 2000 mới thay\n",
      " PREDICTED: còn gặp ông sai miệng nhật của xe bãi từ 94 đến 2000 mới thay\n",
      "TOKENS TARGET: [['còn', 'gặp', 'ông', 'xài', 'nhớt', 'nhật', 'của', 'xe', 'bãi', 'từ', '94', 'đến', '2000', 'mới', 'thay']]\n",
      "TOKENS PREDICTED: ['còn', 'gặp', 'ông', 'sai', 'miệng', 'nhật', 'của', 'xe', 'bãi', 'từ', '94', 'đến', '2000', 'mới', 'thay']\n",
      "BLEU OF SENTENCE 960\n",
      "BLEU_1: 0.8666666746139526\n",
      "BLEU_2: 0.8251983523368835\n",
      "BLEU_3: 0.7782849669456482\n",
      "BLEU_4: 0.7241577506065369\n",
      "label_ids = tensor([ 116,  432,  106, 2599, 8708,  856,   14,  299, 1326,   57, 3374,   47,\n",
      "        1581,  156,  147], device='cuda:0')\n",
      "pred_ids = tensor([ 116,  432,  106,  516, 1378,  856,   14,  299, 1326,   57, 3374,   47,\n",
      "        1581,  156,  147], device='cuda:0')\n",
      "recall = 0.8666667938232422\n",
      "precision = 0.8666667938232422\n",
      "f_05 = 0.8666667938232422\n"
     ]
    },
    {
     "name": "stderr",
     "output_type": "stream",
     "text": [
      "Testing model...:  35%|███▍      | 1121/3217 [02:12<04:47,  7.29it/s]"
     ]
    },
    {
     "name": "stdout",
     "output_type": "stream",
     "text": [
      "\n",
      "    SOURCE: dở 12 cửa ngục trong vườn dú sữa\n",
      "    TARGET: dỡ 12 cửa ngục trong vườn vú sữa\n",
      " PREDICTED: do 12 cửa ngục trong vườn dù sữa\n",
      "TOKENS TARGET: [['dỡ', '12', 'cửa', 'ngục', 'trong', 'vườn', 'vú', 'sữa']]\n",
      "TOKENS PREDICTED: ['do', '12', 'cửa', 'ngục', 'trong', 'vườn', 'dù', 'sữa']\n",
      "BLEU OF SENTENCE 1120\n",
      "BLEU_1: 0.75\n",
      "BLEU_2: 0.6546536684036255\n",
      "BLEU_3: 0.5984084606170654\n",
      "BLEU_4: 0.5410822629928589\n",
      "label_ids = tensor([2364, 1009,  609, 2382,   20, 1353, 1203, 1572], device='cuda:0')\n",
      "pred_ids = tensor([ 184, 1009,  609, 2382,   20, 1353,  403, 1572], device='cuda:0')\n",
      "recall = 0.75\n",
      "precision = 0.75\n",
      "f_05 = 0.75\n"
     ]
    },
    {
     "name": "stderr",
     "output_type": "stream",
     "text": [
      "Testing model...:  40%|███▉      | 1281/3217 [02:32<05:39,  5.70it/s]"
     ]
    },
    {
     "name": "stdout",
     "output_type": "stream",
     "text": [
      "\n",
      "    SOURCE: nói xây mấy trăm căn nhà mà không xây căn nhà mẩu thì bán cho ai\n",
      "    TARGET: nói xây mấy trăm căn nhà mà không xây căn nhà mẫu thì bán cho ai\n",
      " PREDICTED: xây xây thu trăm căn phòng không không xây căn phòng để xây dựng cho ai\n",
      "TOKENS TARGET: [['<unk>', 'xây', '<unk>', 'trăm', 'căn', '<unk>', '<unk>', 'không', 'xây', 'căn', '<unk>', 'mẫu', '<unk>', '<unk>', 'cho', 'ai']]\n",
      "TOKENS PREDICTED: ['xây', 'xây', 'thu', 'trăm', 'căn', 'phòng', 'không', 'không', 'xây', 'căn', 'phòng', 'để', 'xây', 'dựng', 'cho', 'ai']\n",
      "BLEU OF SENTENCE 1280\n",
      "BLEU_1: 0.5\n",
      "BLEU_2: 0.3651483654975891\n",
      "BLEU_3: 0.21196797490119934\n",
      "BLEU_4: 0.0\n",
      "label_ids = tensor([  3, 366,   3, 498, 530,   3,   3,  15, 366, 530,   3, 552,   3,   3,\n",
      "         29, 182], device='cuda:0')\n",
      "pred_ids = tensor([366, 366, 371, 498, 530, 285,  15,  15, 366, 530, 285,  34, 366, 374,\n",
      "         29, 182], device='cuda:0')\n",
      "recall = 0.5\n",
      "precision = 0.40625\n",
      "f_05 = 0.4166666567325592\n"
     ]
    },
    {
     "name": "stderr",
     "output_type": "stream",
     "text": [
      "Testing model...:  45%|████▍     | 1440/3217 [02:54<03:15,  9.11it/s]"
     ]
    },
    {
     "name": "stdout",
     "output_type": "stream",
     "text": [
      "\n",
      "    SOURCE: xe nào chạy võ lớp cũng mòn ko điều đâu\n",
      "    TARGET: xe nào chạy vỏ lốp cũng mòn không đều đâu\n",
      " PREDICTED: xe nào chạy vỡ lớp cũng mòn ko điều đâu\n",
      "TOKENS TARGET: [['xe', 'nào', 'chạy', 'vỏ', 'lốp', 'cũng', 'mòn', 'không', 'đều', 'đâu']]\n",
      "TOKENS PREDICTED: ['xe', 'nào', 'chạy', 'vỡ', 'lớp', 'cũng', 'mòn', 'ko', 'điều', 'đâu']\n",
      "BLEU OF SENTENCE 1440\n",
      "BLEU_1: 0.6000000238418579\n",
      "BLEU_2: 0.4472135901451111\n",
      "BLEU_3: 0.2924017906188965\n",
      "BLEU_4: 0.0\n",
      "label_ids = tensor([ 299,   71,  569, 1131, 4136,   81, 1864,   15,  208,  368],\n",
      "       device='cuda:0')\n",
      "pred_ids = tensor([ 299,   71,  569, 1036,  566,   81, 1864, 1240,   33,  368],\n",
      "       device='cuda:0')\n",
      "recall = 0.6000000238418579\n",
      "precision = 0.6000000238418579\n",
      "f_05 = 0.6000000238418579\n"
     ]
    },
    {
     "name": "stderr",
     "output_type": "stream",
     "text": [
      "Testing model...:  50%|████▉     | 1601/3217 [03:14<03:28,  7.74it/s]"
     ]
    },
    {
     "name": "stdout",
     "output_type": "stream",
     "text": [
      "\n",
      "    SOURCE: đả trốn đi vươt biên gần chục lần\n",
      "    TARGET: đã trốn đi vượt biên gần chục lần\n",
      " PREDICTED: đã trốn đi khắp biên gần chục lần\n",
      "TOKENS TARGET: [['đã', 'trốn', 'đi', 'vượt', 'biên', 'gần', 'chục', 'lần']]\n",
      "TOKENS PREDICTED: ['đã', 'trốn', 'đi', 'khắp', 'biên', 'gần', 'chục', 'lần']\n",
      "BLEU OF SENTENCE 1600\n",
      "BLEU_1: 0.875\n",
      "BLEU_2: 0.7905694246292114\n",
      "BLEU_3: 0.6786044239997864\n",
      "BLEU_4: 0.5\n",
      "label_ids = tensor([  25, 1478,   79,  698, 1108,  311, 1747,  211], device='cuda:0')\n",
      "pred_ids = tensor([  25, 1478,   79,  583, 1108,  311, 1747,  211], device='cuda:0')\n",
      "recall = 0.875\n",
      "precision = 0.875\n",
      "f_05 = 0.875\n"
     ]
    },
    {
     "name": "stderr",
     "output_type": "stream",
     "text": [
      "Testing model...:  55%|█████▍    | 1761/3217 [03:34<04:01,  6.04it/s]"
     ]
    },
    {
     "name": "stdout",
     "output_type": "stream",
     "text": [
      "\n",
      "    SOURCE: bửa nay anh phát biểu ý nghĩa ghê\n",
      "    TARGET: bữa nay anh phát biểu ý nghĩa ghê\n",
      " PREDICTED: ngày nay anh phát biểu ý nghĩa ghê\n",
      "TOKENS TARGET: [['bữa', 'nay', 'anh', 'phát', 'biểu', 'ý', 'nghĩa', 'ghê']]\n",
      "TOKENS PREDICTED: ['ngày', 'nay', 'anh', 'phát', 'biểu', 'ý', 'nghĩa', 'ghê']\n",
      "BLEU OF SENTENCE 1760\n",
      "BLEU_1: 0.875\n",
      "BLEU_2: 0.8660253882408142\n",
      "BLEU_3: 0.8549879789352417\n",
      "BLEU_4: 0.8408964276313782\n",
      "label_ids = tensor([1053,  213,   98,  151,  480,  112,  220, 2107], device='cuda:0')\n",
      "pred_ids = tensor([ 130,  213,   98,  151,  480,  112,  220, 2107], device='cuda:0')\n",
      "recall = 0.875\n",
      "precision = 0.875\n",
      "f_05 = 0.875\n"
     ]
    },
    {
     "name": "stderr",
     "output_type": "stream",
     "text": [
      "Testing model...:  60%|█████▉    | 1920/3217 [03:54<02:37,  8.24it/s]"
     ]
    },
    {
     "name": "stdout",
     "output_type": "stream",
     "text": [
      "\n",
      "    SOURCE: a em siu tầm thì múc nhé\n",
      "    TARGET: anh em sưu tầm thì múc nhé\n",
      " PREDICTED: a em siêu tầm thì mức nhé\n",
      "TOKENS TARGET: [['anh', 'em', 'sưu', 'tầm', 'thì', 'múc', 'nhé']]\n",
      "TOKENS PREDICTED: ['a', 'em', 'siêu', 'tầm', 'thì', 'mức', 'nhé']\n",
      "BLEU OF SENTENCE 1920\n",
      "BLEU_1: 0.5714285969734192\n",
      "BLEU_2: 0.30860671401023865\n",
      "BLEU_3: 0.0\n",
      "BLEU_4: 0.0\n",
      "label_ids = tensor([  98,  268, 1665,  699,  115, 4423, 1106], device='cuda:0')\n",
      "pred_ids = tensor([1254,  268,  849,  699,  115,  418, 1106], device='cuda:0')\n",
      "recall = 0.5714285969734192\n",
      "precision = 0.5714285969734192\n",
      "f_05 = 0.5714285969734192\n"
     ]
    },
    {
     "name": "stderr",
     "output_type": "stream",
     "text": [
      "Testing model...:  65%|██████▍   | 2080/3217 [04:13<01:56,  9.76it/s]"
     ]
    },
    {
     "name": "stdout",
     "output_type": "stream",
     "text": [
      "\n",
      "    SOURCE: đưa râu muống vượt đại dương\n",
      "    TARGET: đưa rau muống vượt đại dương\n",
      " PREDICTED: đưa râu râu vượt đại dương\n",
      "TOKENS TARGET: [['đưa', 'rau', 'muống', 'vượt', 'đại', 'dương']]\n",
      "TOKENS PREDICTED: ['đưa', 'râu', 'râu', 'vượt', 'đại', 'dương']\n",
      "BLEU OF SENTENCE 2080\n",
      "BLEU_1: 0.6666666865348816\n",
      "BLEU_2: 0.5163977742195129\n",
      "BLEU_3: 0.40548014640808105\n",
      "BLEU_4: 0.0\n",
      "label_ids = tensor([  235,  1591, 12974,   698,   237,   718], device='cuda:0')\n",
      "pred_ids = tensor([ 235, 2375, 2375,  698,  237,  718], device='cuda:0')\n",
      "recall = 0.6666666865348816\n",
      "precision = 0.6666666865348816\n",
      "f_05 = 0.6666666865348816\n"
     ]
    },
    {
     "name": "stderr",
     "output_type": "stream",
     "text": [
      "Testing model...:  70%|██████▉   | 2240/3217 [04:33<02:08,  7.60it/s]"
     ]
    },
    {
     "name": "stdout",
     "output_type": "stream",
     "text": [
      "\n",
      "    SOURCE: thật là tài tình kiệt suất\n",
      "    TARGET: thật là tài tình kiệt xuất\n",
      " PREDICTED: thật là tài tình kiệt xuất\n",
      "TOKENS TARGET: [['thật', 'là', 'tài', 'tình', 'kiệt', 'xuất']]\n",
      "TOKENS PREDICTED: ['thật', 'là', 'tài', 'tình', 'kiệt', 'xuất']\n",
      "BLEU OF SENTENCE 2240\n",
      "BLEU_1: 1.0\n",
      "BLEU_2: 1.0\n",
      "BLEU_3: 1.0\n",
      "BLEU_4: 1.0\n",
      "label_ids = tensor([ 110,    9,  352,  277, 1817,  293], device='cuda:0')\n",
      "pred_ids = tensor([ 110,    9,  352,  277, 1817,  293], device='cuda:0')\n",
      "recall = 1.0\n",
      "precision = 1.0\n",
      "f_05 = 1.0\n"
     ]
    },
    {
     "name": "stderr",
     "output_type": "stream",
     "text": [
      "Testing model...:  75%|███████▍  | 2400/3217 [04:54<02:38,  5.16it/s]"
     ]
    },
    {
     "name": "stdout",
     "output_type": "stream",
     "text": [
      "\n",
      "    SOURCE: tôi thích nhất nữ cảnh sát phát lên bộ đồ mào sanh với bộ mào vàng như thế đẹp nhất\n",
      "    TARGET: tôi thích nhất nữ cảnh sát khoác lên bộ đồ màu xanh với bộ màu vàng như thế đẹp nhất\n",
      " PREDICTED: tôi thích nhất ngữ cảnh sát phát lên bộ đồ nào sang với bộ nào vàng như thế đẹp nhất\n",
      "TOKENS TARGET: [['tôi', 'thích', 'nhất', 'nữ', 'cảnh', 'sát', 'khoác', 'lên', 'bộ', 'đồ', 'màu', 'xanh', 'với', 'bộ', 'màu', 'vàng', 'như', 'thế', 'đẹp', 'nhất']]\n",
      "TOKENS PREDICTED: ['tôi', 'thích', 'nhất', 'ngữ', 'cảnh', 'sát', 'phát', 'lên', 'bộ', 'đồ', 'nào', 'sang', 'với', 'bộ', 'nào', 'vàng', 'như', 'thế', 'đẹp', 'nhất']\n",
      "BLEU OF SENTENCE 2400\n",
      "BLEU_1: 0.75\n",
      "BLEU_2: 0.6282808780670166\n",
      "BLEU_3: 0.47863197326660156\n",
      "BLEU_4: 0.3370129466056824\n",
      "label_ids = tensor([   8,  198,   92,  276,  458,  475, 2671,  136,  137,  347,  392,  656,\n",
      "          27,  137,  392, 1024,   38,   40,  460,   92], device='cuda:0')\n",
      "pred_ids = tensor([   8,  198,   92,  484,  458,  475,  151,  136,  137,  347,   71,  734,\n",
      "          27,  137,   71, 1024,   38,   40,  460,   92], device='cuda:0')\n",
      "recall = 0.75\n",
      "precision = 0.75\n",
      "f_05 = 0.75\n"
     ]
    },
    {
     "name": "stderr",
     "output_type": "stream",
     "text": [
      "Testing model...:  80%|███████▉  | 2561/3217 [05:18<01:47,  6.08it/s]"
     ]
    },
    {
     "name": "stdout",
     "output_type": "stream",
     "text": [
      "\n",
      "    SOURCE: đấy là cái cớ để sai thải nhân viên cắt giảm biên chế thôi\n",
      "    TARGET: đấy là cái cớ để sa thải nhân viên cắt giảm biên chế thôi\n",
      " PREDICTED: đấy là cái cớ để sai thải nhân viên cắt giảm biên chế thôi\n",
      "TOKENS TARGET: [['đấy', 'là', 'cái', 'cớ', 'để', 'sa', 'thải', 'nhân', 'viên', 'cắt', 'giảm', 'biên', 'chế', 'thôi']]\n",
      "TOKENS PREDICTED: ['đấy', 'là', 'cái', 'cớ', 'để', 'sai', 'thải', 'nhân', 'viên', 'cắt', 'giảm', 'biên', 'chế', 'thôi']\n",
      "BLEU OF SENTENCE 2560\n",
      "BLEU_1: 0.9285714030265808\n",
      "BLEU_2: 0.8864052891731262\n",
      "BLEU_3: 0.8383820652961731\n",
      "BLEU_4: 0.7825422883033752\n",
      "label_ids = tensor([ 337,    9,   66, 2638,   34, 1414,  908,  138,  232,  775,  481, 1108,\n",
      "         387,  488], device='cuda:0')\n",
      "pred_ids = tensor([ 337,    9,   66, 2638,   34,  516,  908,  138,  232,  775,  481, 1108,\n",
      "         387,  488], device='cuda:0')\n",
      "recall = 0.9285714626312256\n",
      "precision = 0.9285714626312256\n",
      "f_05 = 0.9285714626312256\n"
     ]
    },
    {
     "name": "stderr",
     "output_type": "stream",
     "text": [
      "Testing model...:  85%|████████▍ | 2722/3217 [05:43<00:49,  9.90it/s]"
     ]
    },
    {
     "name": "stdout",
     "output_type": "stream",
     "text": [
      "\n",
      "    SOURCE: đi buôn de chai , đồng lát\n",
      "    TARGET: đi buôn ve chai , đồng nát\n",
      " PREDICTED: đi buôn để chai , đồng lát\n",
      "TOKENS TARGET: [['đi', 'buôn', 've', 'chai', ',', 'đồng', 'nát']]\n",
      "TOKENS PREDICTED: ['đi', 'buôn', 'để', 'chai', ',', 'đồng', 'lát']\n",
      "BLEU OF SENTENCE 2720\n",
      "BLEU_1: 0.7142857313156128\n",
      "BLEU_2: 0.5976142883300781\n",
      "BLEU_3: 0.41491323709487915\n",
      "BLEU_4: 0.0\n",
      "label_ids = tensor([  79, 1631, 2987, 1431,    6,  202, 1905], device='cuda:0')\n",
      "pred_ids = tensor([  79, 1631,   34, 1431,    6,  202, 1676], device='cuda:0')\n",
      "recall = 0.7142857313156128\n",
      "precision = 0.7142857313156128\n",
      "f_05 = 0.7142857313156128\n"
     ]
    },
    {
     "name": "stderr",
     "output_type": "stream",
     "text": [
      "Testing model...:  90%|████████▉ | 2880/3217 [06:09<01:08,  4.90it/s]"
     ]
    },
    {
     "name": "stdout",
     "output_type": "stream",
     "text": [
      "\n",
      "    SOURCE: em cũng còn thắt mắc là kiểm định chất lượng giáo dục ai được hưởng lợi nhiều nhất ạ\n",
      "    TARGET: em cũng còn thắc mắc là kiểm định chất lượng giáo dục ai được hưởng lợi nhiều nhất ạ\n",
      " PREDICTED: em cũng còn thắt mắc là kiểm định chất lượng giáo dục ai được hưởng lợi nhiều nhất ạ\n",
      "TOKENS TARGET: [['em', 'cũng', 'còn', 'thắc', 'mắc', 'là', 'kiểm', 'định', 'chất', 'lượng', 'giáo', 'dục', 'ai', 'được', 'hưởng', 'lợi', 'nhiều', 'nhất', 'ạ']]\n",
      "TOKENS PREDICTED: ['em', 'cũng', 'còn', 'thắt', 'mắc', 'là', 'kiểm', 'định', 'chất', 'lượng', 'giáo', 'dục', 'ai', 'được', 'hưởng', 'lợi', 'nhiều', 'nhất', 'ạ']\n",
      "BLEU OF SENTENCE 2880\n",
      "BLEU_1: 0.9473684430122375\n",
      "BLEU_2: 0.9176629781723022\n",
      "BLEU_3: 0.8851464986801147\n",
      "BLEU_4: 0.8492326736450195\n",
      "label_ids = tensor([ 268,   81,  116, 1813,  779,    9,  473,  157,  262,  204,  264,  495,\n",
      "         182,   24,  467,  483,   61,   92, 1337], device='cuda:0')\n",
      "pred_ids = tensor([ 268,   81,  116, 2069,  779,    9,  473,  157,  262,  204,  264,  495,\n",
      "         182,   24,  467,  483,   61,   92, 1337], device='cuda:0')\n",
      "recall = 0.9473684430122375\n",
      "precision = 0.9473684430122375\n",
      "f_05 = 0.9473684430122375\n"
     ]
    },
    {
     "name": "stderr",
     "output_type": "stream",
     "text": [
      "Testing model...:  95%|█████████▍| 3041/3217 [06:37<00:28,  6.28it/s]"
     ]
    },
    {
     "name": "stdout",
     "output_type": "stream",
     "text": [
      "\n",
      "    SOURCE: thây luôn thằng đánh máy\n",
      "    TARGET: thay luôn thằng đánh máy\n",
      " PREDICTED: bệnh luôn thằng đánh máy\n",
      "TOKENS TARGET: [['thay', 'luôn', 'thằng', 'đánh', 'máy']]\n",
      "TOKENS PREDICTED: ['bệnh', 'luôn', 'thằng', 'đánh', 'máy']\n",
      "BLEU OF SENTENCE 3040\n",
      "BLEU_1: 0.800000011920929\n",
      "BLEU_2: 0.7745966911315918\n",
      "BLEU_3: 0.736806333065033\n",
      "BLEU_4: 0.6687402725219727\n",
      "label_ids = tensor([ 147,  345, 1819,  416,  177], device='cuda:0')\n",
      "pred_ids = tensor([ 218,  345, 1819,  416,  177], device='cuda:0')\n",
      "recall = 0.800000011920929\n",
      "precision = 0.800000011920929\n",
      "f_05 = 0.800000011920929\n"
     ]
    },
    {
     "name": "stderr",
     "output_type": "stream",
     "text": [
      "Testing model...:  99%|█████████▉| 3200/3217 [07:11<00:02,  6.24it/s]"
     ]
    },
    {
     "name": "stdout",
     "output_type": "stream",
     "text": [
      "\n",
      "    SOURCE: đi viện gây tê song lắn chứ lắn kiểu này đau kinh khủng\n",
      "    TARGET: đi viện gây tê xong nắn , chứ nắn kiểu này đau kinh khủng\n",
      " PREDICTED: đi viện gây tê sống lắm chứ lắm kiểu này đau kinh khủng\n",
      "TOKENS TARGET: [['đi', 'viện', 'gây', 'tê', 'xong', 'nắn', ',', 'chứ', 'nắn', 'kiểu', 'này', 'đau', 'kinh', 'khủng']]\n",
      "TOKENS PREDICTED: ['đi', 'viện', 'gây', 'tê', 'sống', 'lắm', 'chứ', 'lắm', 'kiểu', 'này', 'đau', 'kinh', 'khủng']\n",
      "BLEU OF SENTENCE 3200\n",
      "BLEU_1: 0.7122777655383002\n",
      "BLEU_2: 0.6202681013389307\n",
      "BLEU_3: 0.5450583681061274\n",
      "BLEU_4: 0.4605329858668774\n",
      "label_ids = tensor([  79,  629,  455, 1944, 1334, 3966,    6,  631, 3966,  590,   23,  659,\n",
      "         179,  647], device='cuda:0')\n",
      "pred_ids = tensor([  79,  629,  455, 1944,  107,  835,  631,  835,  590,   23,  659,  179,\n",
      "         647,    2], device='cuda:0')\n",
      "recall = 0.2857142984867096\n",
      "precision = 0.2857142984867096\n",
      "f_05 = 0.2857142984867096\n"
     ]
    },
    {
     "name": "stderr",
     "output_type": "stream",
     "text": [
      "Testing model...: 100%|██████████| 3217/3217 [07:15<00:00,  7.39it/s]\n"
     ]
    },
    {
     "name": "stdout",
     "output_type": "stream",
     "text": [
      "recall = 0.7477636337280273\n",
      "precision = 0.7613744735717773\n",
      "f_05 = 0.7475772500038147\n",
      "     bleu_1    bleu_2    bleu_3    bleu_4    recall  precision      f_05\n",
      "0  0.804133  0.727422  0.659897  0.600729  0.747764   0.761374  0.747577\n"
     ]
    }
   ],
   "source": [
    "test.test(cf)"
   ]
  }
 ],
 "metadata": {
  "kaggle": {
   "accelerator": "gpu",
   "dataSources": [
    {
     "datasetId": 5041882,
     "sourceId": 8458722,
     "sourceType": "datasetVersion"
    }
   ],
   "dockerImageVersionId": 30699,
   "isGpuEnabled": true,
   "isInternetEnabled": true,
   "language": "python",
   "sourceType": "notebook"
  },
  "kernelspec": {
   "display_name": "Python 3",
   "language": "python",
   "name": "python3"
  },
  "language_info": {
   "codemirror_mode": {
    "name": "ipython",
    "version": 3
   },
   "file_extension": ".py",
   "mimetype": "text/x-python",
   "name": "python",
   "nbconvert_exporter": "python",
   "pygments_lexer": "ipython3",
   "version": "3.10.13"
  },
  "papermill": {
   "default_parameters": {},
   "duration": 5731.290971,
   "end_time": "2024-05-20T05:54:43.578461",
   "environment_variables": {},
   "exception": null,
   "input_path": "__notebook__.ipynb",
   "output_path": "__notebook__.ipynb",
   "parameters": {},
   "start_time": "2024-05-20T04:19:12.287490",
   "version": "2.5.0"
  }
 },
 "nbformat": 4,
 "nbformat_minor": 5
}
